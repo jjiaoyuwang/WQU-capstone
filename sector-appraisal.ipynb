{
 "cells": [
  {
   "cell_type": "markdown",
   "id": "e63b2716-2d6b-4e2c-97cb-34ab871b1a5f",
   "metadata": {},
   "source": [
    "# 1 Import packages and define useful functions"
   ]
  },
  {
   "cell_type": "code",
   "execution_count": 12,
   "id": "d07d7c86-9084-4a69-b76c-8837cdf69c7f",
   "metadata": {
    "tags": []
   },
   "outputs": [],
   "source": [
    "import pandas as pd\n",
    "import numpy as np\n",
    "from scipy import signal\n",
    "import statsmodels.api as sm\n",
    "from sklearn.preprocessing import StandardScaler\n",
    "import matplotlib.pyplot as plt"
   ]
  },
  {
   "cell_type": "code",
   "execution_count": 4,
   "id": "c41c2069-0050-406a-a828-cb55ac7a863f",
   "metadata": {
    "tags": []
   },
   "outputs": [],
   "source": [
    "def get_shortest_array(a,b):\n",
    "    '''\n",
    "    input - a,b arrays (pandas.values) arrays\n",
    "    output - returns length of shortest array using first index of np.shape\n",
    "    '''\n",
    "    \n",
    "    len_a = np.shape(a)[0]\n",
    "    len_b = np.shape(b)[0]\n",
    "    \n",
    "    return min(len_a,len_b)"
   ]
  },
  {
   "cell_type": "code",
   "execution_count": 5,
   "id": "2cefd16c-9e9d-4208-b293-8d476c47d931",
   "metadata": {
    "tags": []
   },
   "outputs": [],
   "source": [
    "def plot_cor(x, y, window, filename, x_name, y_name):\n",
    "    '''\n",
    "    x (df) - first time series\n",
    "    y (df) - second time series\n",
    "    window (int) - period length\n",
    "    filename - output filename as .png\n",
    "    x_name - first time series name (for title)\n",
    "    y_name - second time series name (for title)\n",
    "    Note that x and y don't have to be the same length. the 'get_shortest_array' function will be used to automatically trim the time series\n",
    "    '''\n",
    "    shortest_time_series_len = get_shortest_array(x,y)\n",
    "    plt.plot(x.iloc[:shortest_time_series_len].rolling(window).corr(y.iloc[:shortest_time_series_len]).fillna(method='bfill'));\n",
    "    \n",
    "    # rotate x-axis labels so date labels all fit in properly\n",
    "    plt.xticks(rotation=90);\n",
    "    plt.title('20-day rolling correlation between '+str(x_name)+ ' and '+str(y_name))\n",
    "    plt.savefig(str(filename),dpi=600)\n"
   ]
  },
  {
   "cell_type": "markdown",
   "id": "5515e6d6-18e9-484b-889b-6f05df1660e2",
   "metadata": {},
   "source": [
    "# 2 Import data: HK sector indices and Hang Seng"
   ]
  },
  {
   "cell_type": "code",
   "execution_count": 6,
   "id": "dac79fd0-f64e-4022-a14a-4f543e55a99a",
   "metadata": {
    "tags": []
   },
   "outputs": [],
   "source": [
    "HK50 = pd.read_csv('data/HS/HK50.csv', index_col=0, parse_dates=True, infer_datetime_format=True, thousands=',')\n",
    "HSCC = pd.read_csv('data/HS/HSCC.csv', index_col=0, parse_dates=True, infer_datetime_format=True, thousands=',')\n",
    "HSCE = pd.read_csv('data/HS/HSCE.csv', index_col=0, parse_dates=True, infer_datetime_format=True, thousands=',')\n",
    "HSCIC = pd.read_csv('data/HS/HSCIC.csv', index_col=0, parse_dates=True, infer_datetime_format=True, thousands=',')\n",
    "HSCICD = pd.read_csv('data/HS/HSCICD.csv', index_col=0, parse_dates=True, infer_datetime_format=True, thousands=',')\n",
    "HSCICS = pd.read_csv('data/HS/HSCICS.csv', index_col=0, parse_dates=True, infer_datetime_format=True, thousands=',')\n",
    "HSCIE = pd.read_csv('data/HS/HSCIE.csv', index_col=0, parse_dates=True, infer_datetime_format=True, thousands=',')\n",
    "HSCIF = pd.read_csv('data/HS/HSCIF.csv', index_col=0, parse_dates=True, infer_datetime_format=True, thousands=',')\n",
    "HSCIH = pd.read_csv('data/HS/HSCIH.csv', index_col=0, parse_dates=True, infer_datetime_format=True, thousands=',')\n",
    "HSCIIG = pd.read_csv('data/HS/HSCIIG.csv', index_col=0, parse_dates=True, infer_datetime_format=True, thousands=',')\n",
    "HSCIIT = pd.read_csv('data/HS/HSCIIT.csv', index_col=0, parse_dates=True, infer_datetime_format=True, thousands=',')\n",
    "HSCIM = pd.read_csv('data/HS/HSCIM.csv', index_col=0, parse_dates=True, infer_datetime_format=True, thousands=',')\n",
    "HSCIPC = pd.read_csv('data/HS/HSCIPC.csv', index_col=0, parse_dates=True, infer_datetime_format=True, thousands=',')\n",
    "HSCIT = pd.read_csv('data/HS/HSCIT.csv', index_col=0, parse_dates=True, infer_datetime_format=True, thousands=',')\n",
    "HSCIU = pd.read_csv('data/HS/HSCIU.csv', index_col=0, parse_dates=True, infer_datetime_format=True, thousands=',')"
   ]
  },
  {
   "cell_type": "markdown",
   "id": "c384ca29-add0-41ec-b0d4-4f2d366160bf",
   "metadata": {},
   "source": [
    "Preprocess this data. Create a dataframe containing HSI, first put the above into a dictionary for easy iteration"
   ]
  },
  {
   "cell_type": "code",
   "execution_count": 7,
   "id": "bba11925-ea46-43e3-9a98-75147f9f64ae",
   "metadata": {
    "tags": []
   },
   "outputs": [],
   "source": [
    "HSI_dict = {\"HSCC\": HSCC,\n",
    "            \"HSCE\": HSCE,\n",
    "            \"HSCIC\": HSCIC,\n",
    "            \"HSCICD\": HSCICD,\n",
    "            \"HSCICS\": HSCICS,\n",
    "            \"HSCIE\": HSCIE,\n",
    "            \"HSCIE\": HSCIE,\n",
    "            \"HSCIF\": HSCIF,\n",
    "            \"HSCIH\": HSCIH,\n",
    "            \"HSCIIG\": HSCIIG,\n",
    "            \"HSCIIT\": HSCIIT,\n",
    "            \"HSCIM\": HSCIM,\n",
    "            \"HSCIPC\": HSCIPC,\n",
    "            \"HSCIT\": HSCIT,\n",
    "            \"HSCIU\": HSCIU}\n",
    "\n",
    "HSI_df = pd.DataFrame()\n",
    "\n",
    "for ind in HSI_dict.keys():\n",
    "    HSI_df = pd.concat([HSI_df, HSI_dict[ind]['Price']], axis=1)\n",
    "    \n",
    "HSI_df.columns = HSI_dict.keys()"
   ]
  },
  {
   "cell_type": "markdown",
   "id": "81f5e83d-aa1c-409e-b556-5a703492a130",
   "metadata": {},
   "source": [
    "Calculate log returns. Convert dataframe index to datetime format (otherwise sklearn can run into issues)."
   ]
  },
  {
   "cell_type": "code",
   "execution_count": 8,
   "id": "67577092-15b3-46d7-914a-853e3c22dac3",
   "metadata": {
    "tags": []
   },
   "outputs": [],
   "source": [
    "HSI_returns_df =  np.log(HSI_df.dropna()) - np.log(HSI_df.dropna().shift(-1))\n",
    "HK50['Return'] = np.log(HK50['Price']) - np.log(HK50['Price'].shift(-1))\n",
    "HK50 = HK50.dropna()\n",
    "\n",
    "HSI_returns_df.index = pd.to_datetime(HSI_returns_df.index)"
   ]
  },
  {
   "cell_type": "markdown",
   "id": "d347deca-136e-4e58-a932-290baa764695",
   "metadata": {},
   "source": [
    "# 3 Descriptive statistics for Hong Sector indices"
   ]
  },
  {
   "cell_type": "code",
   "execution_count": 9,
   "id": "109fb222-3a2e-42b1-8059-6e3166ea105d",
   "metadata": {
    "tags": []
   },
   "outputs": [
    {
     "name": "stdout",
     "output_type": "stream",
     "text": [
      "The mean, standard dev and count of HK50 returns are: 0.00273% 1.27972% 2829\n"
     ]
    }
   ],
   "source": [
    "HK50_mean = str(round(HK50['Return'].mean()*100.,5))+'%'\n",
    "HK50_sdev = str(round(HK50['Return'].std()*100.,5))+'%'\n",
    "HK50_count = HK50['Return'].size\n",
    "\n",
    "# print\n",
    "print(\"The mean, standard dev and count of HK50 returns are: \"+str(HK50_mean)+' '+str(HK50_sdev)+' '+str(HK50_count))"
   ]
  },
  {
   "cell_type": "code",
   "execution_count": 10,
   "id": "46ab3feb-7755-4727-b3cf-2508543bcfeb",
   "metadata": {
    "tags": []
   },
   "outputs": [
    {
     "name": "stdout",
     "output_type": "stream",
     "text": [
      "The mean, standard dev and count of HSCC returns are: -0.00867% 1.51073% 831\n",
      "The mean, standard dev and count of HSCE returns are: -0.04452% 1.75764% 831\n",
      "The mean, standard dev and count of HSCIC returns are: -0.03606% 1.46476% 831\n",
      "The mean, standard dev and count of HSCICD returns are: 0.01509% 2.05191% 831\n",
      "The mean, standard dev and count of HSCICS returns are: -0.00733% 1.56298% 831\n",
      "The mean, standard dev and count of HSCIE returns are: 0.0057% 1.93187% 831\n",
      "The mean, standard dev and count of HSCIF returns are: -0.01107% 1.38513% 831\n",
      "The mean, standard dev and count of HSCIH returns are: -0.00482% 2.57401% 831\n",
      "The mean, standard dev and count of HSCIIG returns are: -0.00198% 1.8395% 831\n",
      "The mean, standard dev and count of HSCIIT returns are: 0.01012% 2.73956% 831\n",
      "The mean, standard dev and count of HSCIM returns are: 0.05045% 2.34094% 831\n",
      "The mean, standard dev and count of HSCIPC returns are: -0.05771% 1.71762% 831\n",
      "The mean, standard dev and count of HSCIT returns are: -0.02795% 1.37676% 831\n",
      "The mean, standard dev and count of HSCIU returns are: -0.02634% 1.18185% 831\n"
     ]
    }
   ],
   "source": [
    "# to import into libreoffice calc, ctrl-shift-v then paste unformatted. Convert text-to-columns. This then goes into the report. \n",
    "\n",
    "for elem in HSI_returns_df.keys():\n",
    "    mean = str(round(HSI_returns_df[elem].mean()*100.,5))+'%'\n",
    "    sdev = str(round(HSI_returns_df[elem].std()*100.,5))+'%'\n",
    "    count = HSI_returns_df[elem].size\n",
    "    print(\"The mean, standard dev and count of \"+str(elem)+\" returns are: \"+str(mean)+' '+str(sdev)+' '+str(count))"
   ]
  },
  {
   "cell_type": "markdown",
   "id": "00596f1b-c527-4885-a627-a8339f045025",
   "metadata": {},
   "source": [
    "## 3.1 HK50 vs sector index correlation "
   ]
  },
  {
   "cell_type": "code",
   "execution_count": 11,
   "id": "79b762be-eb04-442a-9937-37866dd26435",
   "metadata": {
    "tags": []
   },
   "outputs": [],
   "source": [
    "HSI_returns_df.keys()\n",
    "\n",
    "for elem in HSI_returns_df.keys():\n",
    "    filename = \"HK50_\"+str(elem)+\"_20corr.png\"\n",
    "    x_name = \"HK50\"\n",
    "    y_name = str(elem)\n",
    "    plot_cor(HK50['Return'], HSI_returns_df[elem], 20, filename, x_name, y_name)\n",
    "    plt.close()\n"
   ]
  },
  {
   "cell_type": "markdown",
   "id": "edfdb64d-59f0-47b2-930f-de9981414c9e",
   "metadata": {},
   "source": [
    "# 4 Linear regression"
   ]
  },
  {
   "cell_type": "markdown",
   "id": "835efb17-c1fe-4490-bce0-e8b017052e9c",
   "metadata": {},
   "source": [
    "Inspect the data"
   ]
  },
  {
   "cell_type": "code",
   "execution_count": 31,
   "id": "ee921d0a-ab7e-4859-b018-bc1da015ccd2",
   "metadata": {
    "tags": []
   },
   "outputs": [
    {
     "data": {
      "text/html": [
       "<div>\n",
       "<style scoped>\n",
       "    .dataframe tbody tr th:only-of-type {\n",
       "        vertical-align: middle;\n",
       "    }\n",
       "\n",
       "    .dataframe tbody tr th {\n",
       "        vertical-align: top;\n",
       "    }\n",
       "\n",
       "    .dataframe thead th {\n",
       "        text-align: right;\n",
       "    }\n",
       "</style>\n",
       "<table border=\"1\" class=\"dataframe\">\n",
       "  <thead>\n",
       "    <tr style=\"text-align: right;\">\n",
       "      <th></th>\n",
       "      <th>HSCC</th>\n",
       "      <th>HSCE</th>\n",
       "      <th>HSCIC</th>\n",
       "      <th>HSCICD</th>\n",
       "      <th>HSCICS</th>\n",
       "      <th>HSCIE</th>\n",
       "      <th>HSCIF</th>\n",
       "      <th>HSCIH</th>\n",
       "      <th>HSCIIG</th>\n",
       "      <th>HSCIIT</th>\n",
       "      <th>HSCIM</th>\n",
       "      <th>HSCIPC</th>\n",
       "      <th>HSCIT</th>\n",
       "      <th>HSCIU</th>\n",
       "    </tr>\n",
       "  </thead>\n",
       "  <tbody>\n",
       "    <tr>\n",
       "      <th>2023-02-08</th>\n",
       "      <td>0.010649</td>\n",
       "      <td>-0.005958</td>\n",
       "      <td>0.014369</td>\n",
       "      <td>0.000062</td>\n",
       "      <td>-0.000140</td>\n",
       "      <td>0.007876</td>\n",
       "      <td>0.008265</td>\n",
       "      <td>-0.001266</td>\n",
       "      <td>0.001760</td>\n",
       "      <td>-0.014428</td>\n",
       "      <td>0.002442</td>\n",
       "      <td>0.006548</td>\n",
       "      <td>-0.003446</td>\n",
       "      <td>0.011128</td>\n",
       "    </tr>\n",
       "    <tr>\n",
       "      <th>2023-02-07</th>\n",
       "      <td>0.003958</td>\n",
       "      <td>0.005947</td>\n",
       "      <td>-0.003749</td>\n",
       "      <td>0.000337</td>\n",
       "      <td>-0.002919</td>\n",
       "      <td>0.012551</td>\n",
       "      <td>0.002230</td>\n",
       "      <td>0.007524</td>\n",
       "      <td>-0.001950</td>\n",
       "      <td>0.009034</td>\n",
       "      <td>0.007440</td>\n",
       "      <td>0.001699</td>\n",
       "      <td>-0.003116</td>\n",
       "      <td>0.001278</td>\n",
       "    </tr>\n",
       "    <tr>\n",
       "      <th>2023-02-06</th>\n",
       "      <td>-0.013832</td>\n",
       "      <td>-0.027121</td>\n",
       "      <td>-0.012363</td>\n",
       "      <td>-0.030311</td>\n",
       "      <td>-0.016533</td>\n",
       "      <td>-0.009576</td>\n",
       "      <td>-0.008704</td>\n",
       "      <td>-0.048956</td>\n",
       "      <td>-0.033097</td>\n",
       "      <td>-0.030508</td>\n",
       "      <td>-0.039940</td>\n",
       "      <td>-0.025736</td>\n",
       "      <td>-0.004875</td>\n",
       "      <td>-0.008257</td>\n",
       "    </tr>\n",
       "    <tr>\n",
       "      <th>2023-02-03</th>\n",
       "      <td>-0.013061</td>\n",
       "      <td>-0.015950</td>\n",
       "      <td>-0.017748</td>\n",
       "      <td>-0.010060</td>\n",
       "      <td>-0.013519</td>\n",
       "      <td>-0.023865</td>\n",
       "      <td>-0.016143</td>\n",
       "      <td>-0.015145</td>\n",
       "      <td>-0.013414</td>\n",
       "      <td>-0.009747</td>\n",
       "      <td>-0.021555</td>\n",
       "      <td>-0.008346</td>\n",
       "      <td>-0.000883</td>\n",
       "      <td>-0.007083</td>\n",
       "    </tr>\n",
       "    <tr>\n",
       "      <th>2023-02-02</th>\n",
       "      <td>-0.009237</td>\n",
       "      <td>-0.007249</td>\n",
       "      <td>-0.011150</td>\n",
       "      <td>-0.006160</td>\n",
       "      <td>0.001774</td>\n",
       "      <td>-0.002007</td>\n",
       "      <td>-0.006936</td>\n",
       "      <td>0.015662</td>\n",
       "      <td>-0.007124</td>\n",
       "      <td>-0.005774</td>\n",
       "      <td>-0.009322</td>\n",
       "      <td>-0.008289</td>\n",
       "      <td>0.000835</td>\n",
       "      <td>0.000679</td>\n",
       "    </tr>\n",
       "    <tr>\n",
       "      <th>...</th>\n",
       "      <td>...</td>\n",
       "      <td>...</td>\n",
       "      <td>...</td>\n",
       "      <td>...</td>\n",
       "      <td>...</td>\n",
       "      <td>...</td>\n",
       "      <td>...</td>\n",
       "      <td>...</td>\n",
       "      <td>...</td>\n",
       "      <td>...</td>\n",
       "      <td>...</td>\n",
       "      <td>...</td>\n",
       "      <td>...</td>\n",
       "      <td>...</td>\n",
       "    </tr>\n",
       "    <tr>\n",
       "      <th>2019-09-17</th>\n",
       "      <td>-0.010373</td>\n",
       "      <td>-0.011915</td>\n",
       "      <td>-0.004734</td>\n",
       "      <td>-0.016643</td>\n",
       "      <td>-0.011244</td>\n",
       "      <td>-0.005095</td>\n",
       "      <td>-0.015320</td>\n",
       "      <td>-0.008885</td>\n",
       "      <td>-0.012190</td>\n",
       "      <td>-0.010805</td>\n",
       "      <td>-0.023708</td>\n",
       "      <td>-0.010862</td>\n",
       "      <td>-0.013217</td>\n",
       "      <td>-0.002892</td>\n",
       "    </tr>\n",
       "    <tr>\n",
       "      <th>2019-09-16</th>\n",
       "      <td>0.005239</td>\n",
       "      <td>-0.005583</td>\n",
       "      <td>-0.013457</td>\n",
       "      <td>-0.014020</td>\n",
       "      <td>-0.004171</td>\n",
       "      <td>0.036987</td>\n",
       "      <td>-0.010595</td>\n",
       "      <td>-0.005186</td>\n",
       "      <td>-0.004240</td>\n",
       "      <td>-0.008641</td>\n",
       "      <td>0.000300</td>\n",
       "      <td>-0.011050</td>\n",
       "      <td>-0.005887</td>\n",
       "      <td>-0.004659</td>\n",
       "    </tr>\n",
       "    <tr>\n",
       "      <th>2019-09-13</th>\n",
       "      <td>0.007474</td>\n",
       "      <td>0.008964</td>\n",
       "      <td>0.001008</td>\n",
       "      <td>0.019108</td>\n",
       "      <td>0.008152</td>\n",
       "      <td>0.006495</td>\n",
       "      <td>0.011142</td>\n",
       "      <td>0.007242</td>\n",
       "      <td>0.013390</td>\n",
       "      <td>0.004335</td>\n",
       "      <td>0.017621</td>\n",
       "      <td>0.013484</td>\n",
       "      <td>0.003505</td>\n",
       "      <td>0.008194</td>\n",
       "    </tr>\n",
       "    <tr>\n",
       "      <th>2019-09-12</th>\n",
       "      <td>0.000133</td>\n",
       "      <td>0.002586</td>\n",
       "      <td>-0.000803</td>\n",
       "      <td>0.007008</td>\n",
       "      <td>0.009571</td>\n",
       "      <td>-0.017801</td>\n",
       "      <td>-0.004690</td>\n",
       "      <td>0.010091</td>\n",
       "      <td>0.008404</td>\n",
       "      <td>0.011164</td>\n",
       "      <td>0.002103</td>\n",
       "      <td>0.000022</td>\n",
       "      <td>0.002105</td>\n",
       "      <td>0.004331</td>\n",
       "    </tr>\n",
       "    <tr>\n",
       "      <th>2019-09-11</th>\n",
       "      <td>0.008655</td>\n",
       "      <td>0.015421</td>\n",
       "      <td>0.016617</td>\n",
       "      <td>0.004320</td>\n",
       "      <td>0.004949</td>\n",
       "      <td>0.015119</td>\n",
       "      <td>0.021204</td>\n",
       "      <td>-0.017092</td>\n",
       "      <td>0.005237</td>\n",
       "      <td>0.013645</td>\n",
       "      <td>0.021033</td>\n",
       "      <td>0.016869</td>\n",
       "      <td>0.008893</td>\n",
       "      <td>0.008951</td>\n",
       "    </tr>\n",
       "  </tbody>\n",
       "</table>\n",
       "<p>830 rows × 14 columns</p>\n",
       "</div>"
      ],
      "text/plain": [
       "                HSCC      HSCE     HSCIC    HSCICD    HSCICS     HSCIE  \\\n",
       "2023-02-08  0.010649 -0.005958  0.014369  0.000062 -0.000140  0.007876   \n",
       "2023-02-07  0.003958  0.005947 -0.003749  0.000337 -0.002919  0.012551   \n",
       "2023-02-06 -0.013832 -0.027121 -0.012363 -0.030311 -0.016533 -0.009576   \n",
       "2023-02-03 -0.013061 -0.015950 -0.017748 -0.010060 -0.013519 -0.023865   \n",
       "2023-02-02 -0.009237 -0.007249 -0.011150 -0.006160  0.001774 -0.002007   \n",
       "...              ...       ...       ...       ...       ...       ...   \n",
       "2019-09-17 -0.010373 -0.011915 -0.004734 -0.016643 -0.011244 -0.005095   \n",
       "2019-09-16  0.005239 -0.005583 -0.013457 -0.014020 -0.004171  0.036987   \n",
       "2019-09-13  0.007474  0.008964  0.001008  0.019108  0.008152  0.006495   \n",
       "2019-09-12  0.000133  0.002586 -0.000803  0.007008  0.009571 -0.017801   \n",
       "2019-09-11  0.008655  0.015421  0.016617  0.004320  0.004949  0.015119   \n",
       "\n",
       "               HSCIF     HSCIH    HSCIIG    HSCIIT     HSCIM    HSCIPC  \\\n",
       "2023-02-08  0.008265 -0.001266  0.001760 -0.014428  0.002442  0.006548   \n",
       "2023-02-07  0.002230  0.007524 -0.001950  0.009034  0.007440  0.001699   \n",
       "2023-02-06 -0.008704 -0.048956 -0.033097 -0.030508 -0.039940 -0.025736   \n",
       "2023-02-03 -0.016143 -0.015145 -0.013414 -0.009747 -0.021555 -0.008346   \n",
       "2023-02-02 -0.006936  0.015662 -0.007124 -0.005774 -0.009322 -0.008289   \n",
       "...              ...       ...       ...       ...       ...       ...   \n",
       "2019-09-17 -0.015320 -0.008885 -0.012190 -0.010805 -0.023708 -0.010862   \n",
       "2019-09-16 -0.010595 -0.005186 -0.004240 -0.008641  0.000300 -0.011050   \n",
       "2019-09-13  0.011142  0.007242  0.013390  0.004335  0.017621  0.013484   \n",
       "2019-09-12 -0.004690  0.010091  0.008404  0.011164  0.002103  0.000022   \n",
       "2019-09-11  0.021204 -0.017092  0.005237  0.013645  0.021033  0.016869   \n",
       "\n",
       "               HSCIT     HSCIU  \n",
       "2023-02-08 -0.003446  0.011128  \n",
       "2023-02-07 -0.003116  0.001278  \n",
       "2023-02-06 -0.004875 -0.008257  \n",
       "2023-02-03 -0.000883 -0.007083  \n",
       "2023-02-02  0.000835  0.000679  \n",
       "...              ...       ...  \n",
       "2019-09-17 -0.013217 -0.002892  \n",
       "2019-09-16 -0.005887 -0.004659  \n",
       "2019-09-13  0.003505  0.008194  \n",
       "2019-09-12  0.002105  0.004331  \n",
       "2019-09-11  0.008893  0.008951  \n",
       "\n",
       "[830 rows x 14 columns]"
      ]
     },
     "execution_count": 31,
     "metadata": {},
     "output_type": "execute_result"
    }
   ],
   "source": [
    "HSI_returns_df.dropna()"
   ]
  },
  {
   "cell_type": "markdown",
   "id": "5d6849ba-4139-43e0-aaa3-1d4be8034378",
   "metadata": {},
   "source": [
    "Linear regression. X - sector index. Y - HK50. No lag."
   ]
  },
  {
   "cell_type": "code",
   "execution_count": 32,
   "id": "594ae397-a53f-4d79-9f90-29377274f8f9",
   "metadata": {
    "tags": []
   },
   "outputs": [],
   "source": [
    "# old method using ffill which introduces look-ahead bias. \n",
    "\n",
    "sector_models_OLS_coinc = {}\n",
    "\n",
    "for elem in HSI_returns_df:\n",
    "    X = HSI_returns_df[elem][\"2019-09-10\":\"2023-02-08\"].fillna(method='ffill')\n",
    "    y = HK50['Return'][\"2019-09-10\":\"2023-02-08\"].fillna(method='ffill')\n",
    "    y = y.reindex(X.index)\n",
    "    \n",
    "    X = sm.add_constant(X)\n",
    "    X = StandardScaler().fit_transform(X)\n",
    "    sector_models_OLS_coinc[elem] = sm.OLS(y, X).fit() "
   ]
  },
  {
   "cell_type": "code",
   "execution_count": 41,
   "id": "523e1f4c-108d-4a42-8bf5-a33f7b0e0990",
   "metadata": {
    "tags": []
   },
   "outputs": [],
   "source": [
    "# new method using dropna to avoid look-ahead bias\n",
    "\n",
    "sector_models_OLS_coinc = {}\n",
    "\n",
    "for elem in HSI_returns_df:\n",
    "    X = HSI_returns_df[elem][\"2019-09-10\":\"2023-02-08\"].dropna()\n",
    "    y = HK50['Return'][\"2019-09-10\":\"2023-02-08\"].dropna()\n",
    "    y = y.reindex(X.index)\n",
    "    \n",
    "    X = sm.add_constant(X)\n",
    "    X = StandardScaler().fit_transform(X)\n",
    "    sector_models_OLS_coinc[elem] = sm.OLS(y, X).fit() "
   ]
  },
  {
   "cell_type": "markdown",
   "id": "733acce3-dcca-4781-bc33-9997be05760b",
   "metadata": {},
   "source": [
    "## 4.1 Sector indices are assumed to lead the Hang Seng index"
   ]
  },
  {
   "cell_type": "code",
   "execution_count": null,
   "id": "e3b042ba-c400-4b89-a6ba-a568e9d40577",
   "metadata": {},
   "outputs": [],
   "source": [
    "# leading indicator variables and date ranges\n",
    "#HSI_returns_df.shift(5).dropna() # 5 days. Dates [\"2019-09-10\":\"2023-02-01\"]\n",
    "#HSI_returns_df.shift(20).dropna() # 20 days. Dates [\"2019-09-10\":\"2023-01-06\"]\n",
    "#HSI_returns_df.shift(60).dropna() # 60 days. Dates [\"2019-09-10\":\"2022-11-08\"]"
   ]
  },
  {
   "cell_type": "code",
   "execution_count": 79,
   "id": "f209d0be-16e7-45c4-8b58-519d295eac4c",
   "metadata": {
    "tags": []
   },
   "outputs": [],
   "source": [
    "# sector indices leads the Hang Seng by 5 days. \n",
    "\n",
    "sector_models_OLS_X5R = {}\n",
    "\n",
    "for elem in HSI_returns_df:\n",
    "    X = HSI_returns_df[elem].shift(5)[\"2019-09-10\":\"2023-02-01\"].dropna()\n",
    "    y = HK50['Return'][\"2019-09-10\":\"2023-02-01\"].dropna()\n",
    "    y = y.reindex(X.index)\n",
    "    \n",
    "    X = sm.add_constant(X)\n",
    "    X = StandardScaler().fit_transform(X)\n",
    "    sector_models_OLS_X5R[elem] = sm.OLS(y, X).fit() "
   ]
  },
  {
   "cell_type": "code",
   "execution_count": 80,
   "id": "bf64ec53-c1ad-48dc-af82-46c92a369bef",
   "metadata": {
    "tags": []
   },
   "outputs": [],
   "source": [
    "# sector indices leads the Hang Seng by 20 days. \n",
    "\n",
    "sector_models_OLS_X20R = {}\n",
    "\n",
    "for elem in HSI_returns_df:\n",
    "    X = HSI_returns_df[elem].shift(20)[\"2019-09-10\":\"2023-01-06\"].dropna()\n",
    "    y = HK50['Return'][\"2019-09-10\":\"2023-01-06\"].dropna()\n",
    "    y = y.reindex(X.index)\n",
    "    \n",
    "    X = sm.add_constant(X)\n",
    "    X = StandardScaler().fit_transform(X)\n",
    "    sector_models_OLS_X20R[elem] = sm.OLS(y, X).fit() "
   ]
  },
  {
   "cell_type": "code",
   "execution_count": 81,
   "id": "90e9d9db-21e4-4a2c-be01-f5bb24013a73",
   "metadata": {
    "tags": []
   },
   "outputs": [],
   "source": [
    "# sector indices leads the Hang Seng by 60 days. \n",
    "\n",
    "sector_models_OLS_X60R = {}\n",
    "\n",
    "for elem in HSI_returns_df:\n",
    "    X = HSI_returns_df[elem].shift(60)[\"2019-09-10\":\"2022-11-08\"].dropna()\n",
    "    y = HK50['Return'][\"2019-09-10\":\"2022-11-08\"].dropna()\n",
    "    y = y.reindex(X.index)\n",
    "    \n",
    "    X = sm.add_constant(X)\n",
    "    X = StandardScaler().fit_transform(X)\n",
    "    sector_models_OLS_X60R[elem] = sm.OLS(y, X).fit() "
   ]
  },
  {
   "cell_type": "markdown",
   "id": "29ce1b91-8f91-4bfd-951b-deac8b687e01",
   "metadata": {},
   "source": [
    "## 4.2 Sector indices are assumed to lag the Hang Seng index"
   ]
  },
  {
   "cell_type": "code",
   "execution_count": 34,
   "id": "e9e00441-68a8-451a-a3d7-550fee99b7ac",
   "metadata": {
    "tags": []
   },
   "outputs": [],
   "source": [
    "# lagging indicator variables and date ranges\n",
    "#HSI_returns_df.shift(-5).dropna() # 5 days. Dates [\"2019-09-18\":\"2023-02-08\"]\n",
    "#HSI_returns_df.shift(-20).dropna() # 20 days. Dates [\"2019-10-11\":\"2023-02-08\"]\n",
    "#HSI_returns_df.shift(-60).dropna() # 60 days. Dates [\"2019-12-06\":\"2023-02-08\"]"
   ]
  },
  {
   "cell_type": "code",
   "execution_count": 82,
   "id": "1a8e5234-7a5b-4a63-87ca-114f7aeed504",
   "metadata": {
    "tags": []
   },
   "outputs": [],
   "source": [
    "# sector indices lags the Hang Seng by 5 days. \n",
    "\n",
    "sector_models_OLS_X5F = {}\n",
    "\n",
    "for elem in HSI_returns_df:\n",
    "    X = HSI_returns_df[elem].shift(-5)[\"2019-09-18\":\"2023-02-08\"].dropna()\n",
    "    y = HK50['Return'][\"2019-09-18\":\"2023-02-08\"].dropna()\n",
    "    y = y.reindex(X.index)\n",
    "    \n",
    "    X = sm.add_constant(X)\n",
    "    X = StandardScaler().fit_transform(X)\n",
    "    sector_models_OLS_X5F[elem] = sm.OLS(y, X).fit() "
   ]
  },
  {
   "cell_type": "code",
   "execution_count": 83,
   "id": "442a2b8d-9954-4b5f-aa51-afc473e06284",
   "metadata": {
    "tags": []
   },
   "outputs": [],
   "source": [
    "# sector indices lags the Hang Seng by 20 days. \n",
    "\n",
    "sector_models_OLS_X20F = {}\n",
    "\n",
    "for elem in HSI_returns_df:\n",
    "    X = HSI_returns_df[elem].shift(-20)[\"2019-10-11\":\"2023-02-08\"].dropna()\n",
    "    y = HK50['Return'][\"2019-10-11\":\"2023-02-08\"].dropna()\n",
    "    y = y.reindex(X.index)\n",
    "    \n",
    "    X = sm.add_constant(X)\n",
    "    X = StandardScaler().fit_transform(X)\n",
    "    sector_models_OLS_X20F[elem] = sm.OLS(y, X).fit() "
   ]
  },
  {
   "cell_type": "code",
   "execution_count": 84,
   "id": "e2397d27-f9da-434c-8750-5c440ee0aa3e",
   "metadata": {
    "tags": []
   },
   "outputs": [],
   "source": [
    "# sector indices lags the Hang Seng by 60 days. \n",
    "\n",
    "sector_models_OLS_X60F = {}\n",
    "\n",
    "for elem in HSI_returns_df:\n",
    "    X = HSI_returns_df[elem].shift(-60)[\"2019-12-06\":\"2023-02-08\"].dropna()\n",
    "    y = HK50['Return'][\"2019-12-06\":\"2023-02-08\"].dropna()\n",
    "    y = y.reindex(X.index)\n",
    "    \n",
    "    X = sm.add_constant(X)\n",
    "    X = StandardScaler().fit_transform(X)\n",
    "    sector_models_OLS_X60F[elem] = sm.OLS(y, X).fit() "
   ]
  },
  {
   "cell_type": "markdown",
   "id": "7ea55a56-1278-438b-9f9d-8c62f48cf231",
   "metadata": {},
   "source": [
    "# 5 Results"
   ]
  },
  {
   "cell_type": "code",
   "execution_count": 85,
   "id": "cd8fe433-616a-468a-9a18-92b7a3eb93b2",
   "metadata": {
    "tags": []
   },
   "outputs": [
    {
     "name": "stdout",
     "output_type": "stream",
     "text": [
      "Exo variable: HSCC. AIC: -5501.85862729232\n",
      "Exo variable: HSCE. AIC: -6985.486560787861\n",
      "Exo variable: HSCIC. AIC: -5086.995422214389\n",
      "Exo variable: HSCICD. AIC: -5796.449748781751\n",
      "Exo variable: HSCICS. AIC: -5333.82092524561\n",
      "Exo variable: HSCIE. AIC: -4891.309350743385\n",
      "Exo variable: HSCIF. AIC: -5712.907784415331\n",
      "Exo variable: HSCIH. AIC: -5193.568316418795\n",
      "Exo variable: HSCIIG. AIC: -5405.134202123646\n",
      "Exo variable: HSCIIT. AIC: -5630.142894615218\n",
      "Exo variable: HSCIM. AIC: -5040.984149832473\n",
      "Exo variable: HSCIPC. AIC: -5341.760008663215\n",
      "Exo variable: HSCIT. AIC: -4856.581792373936\n",
      "Exo variable: HSCIU. AIC: -5002.735463603107\n"
     ]
    }
   ],
   "source": [
    "for elem in sector_models_OLS_coinc.keys():\n",
    "    print('Exo variable: '+str(elem)+'. AIC: '+str(sector_models_OLS_coinc[elem].aic))    "
   ]
  },
  {
   "cell_type": "code",
   "execution_count": 86,
   "id": "2a206d29-aefa-4d34-9743-061b5d4b9d65",
   "metadata": {
    "tags": []
   },
   "outputs": [
    {
     "name": "stdout",
     "output_type": "stream",
     "text": [
      "Exo variable (index leads +5): HSCC. AIC: -4525.042754115662\n",
      "Exo variable (index leads +5): HSCE. AIC: -4523.556725260432\n",
      "Exo variable (index leads +5): HSCIC. AIC: -4526.842629981678\n",
      "Exo variable (index leads +5): HSCICD. AIC: -4523.959093033912\n",
      "Exo variable (index leads +5): HSCICS. AIC: -4523.250641438294\n",
      "Exo variable (index leads +5): HSCIE. AIC: -4524.431630594039\n",
      "Exo variable (index leads +5): HSCIF. AIC: -4523.817050604147\n",
      "Exo variable (index leads +5): HSCIH. AIC: -4525.764979127087\n",
      "Exo variable (index leads +5): HSCIIG. AIC: -4523.454412125082\n",
      "Exo variable (index leads +5): HSCIIT. AIC: -4523.216293978901\n",
      "Exo variable (index leads +5): HSCIM. AIC: -4526.071541701122\n",
      "Exo variable (index leads +5): HSCIPC. AIC: -4524.3262489942945\n",
      "Exo variable (index leads +5): HSCIT. AIC: -4524.329919552522\n",
      "Exo variable (index leads +5): HSCIU. AIC: -4527.98844808069\n"
     ]
    }
   ],
   "source": [
    "for elem in sector_models_OLS_X5R.keys():\n",
    "    print('Exo variable (index leads +5): '+str(elem)+'. AIC: '+str(sector_models_OLS_X5R[elem].aic))    "
   ]
  },
  {
   "cell_type": "code",
   "execution_count": 87,
   "id": "07f54ee6-e7f8-4e90-a4ad-47fd0ab81b94",
   "metadata": {
    "tags": []
   },
   "outputs": [
    {
     "name": "stdout",
     "output_type": "stream",
     "text": [
      "Exo variable (index leads +20): HSCC. AIC: -4436.446092136544\n",
      "Exo variable (index leads +20): HSCE. AIC: -4436.417662473644\n",
      "Exo variable (index leads +20): HSCIC. AIC: -4436.440838487722\n",
      "Exo variable (index leads +20): HSCICD. AIC: -4436.172862907842\n",
      "Exo variable (index leads +20): HSCICS. AIC: -4436.996058355863\n",
      "Exo variable (index leads +20): HSCIE. AIC: -4436.213510272333\n",
      "Exo variable (index leads +20): HSCIF. AIC: -4436.124406574287\n",
      "Exo variable (index leads +20): HSCIH. AIC: -4436.899780622229\n",
      "Exo variable (index leads +20): HSCIIG. AIC: -4436.152311590283\n",
      "Exo variable (index leads +20): HSCIIT. AIC: -4436.151587062181\n",
      "Exo variable (index leads +20): HSCIM. AIC: -4436.295473833491\n",
      "Exo variable (index leads +20): HSCIPC. AIC: -4438.16312731162\n",
      "Exo variable (index leads +20): HSCIT. AIC: -4436.1420257578875\n",
      "Exo variable (index leads +20): HSCIU. AIC: -4436.544287177024\n"
     ]
    }
   ],
   "source": [
    "for elem in sector_models_OLS_X20R.keys():\n",
    "    print('Exo variable (index leads +20): '+str(elem)+'. AIC: '+str(sector_models_OLS_X20R[elem].aic))    "
   ]
  },
  {
   "cell_type": "code",
   "execution_count": 88,
   "id": "3a780a86-77ef-41d4-ba5a-7eb6daf3e2ac",
   "metadata": {
    "tags": []
   },
   "outputs": [
    {
     "name": "stdout",
     "output_type": "stream",
     "text": [
      "Exo variable (index leads +60): HSCC. AIC: -4261.266732640457\n",
      "Exo variable (index leads +60): HSCE. AIC: -4261.219750645516\n",
      "Exo variable (index leads +60): HSCIC. AIC: -4261.766863587083\n",
      "Exo variable (index leads +60): HSCICD. AIC: -4261.2980623043495\n",
      "Exo variable (index leads +60): HSCICS. AIC: -4261.21993872725\n",
      "Exo variable (index leads +60): HSCIE. AIC: -4267.845832058545\n",
      "Exo variable (index leads +60): HSCIF. AIC: -4261.507530252111\n",
      "Exo variable (index leads +60): HSCIH. AIC: -4261.106585596372\n",
      "Exo variable (index leads +60): HSCIIG. AIC: -4261.643518168417\n",
      "Exo variable (index leads +60): HSCIIT. AIC: -4261.1761691333995\n",
      "Exo variable (index leads +60): HSCIM. AIC: -4264.514847998013\n",
      "Exo variable (index leads +60): HSCIPC. AIC: -4261.217342737595\n",
      "Exo variable (index leads +60): HSCIT. AIC: -4261.22591859336\n",
      "Exo variable (index leads +60): HSCIU. AIC: -4261.103311241484\n"
     ]
    }
   ],
   "source": [
    "for elem in sector_models_OLS_X60R.keys():\n",
    "    print('Exo variable (index leads +60): '+str(elem)+'. AIC: '+str(sector_models_OLS_X60R[elem].aic))    "
   ]
  },
  {
   "cell_type": "code",
   "execution_count": 89,
   "id": "1759aaf5-18bf-4558-924a-214de2dcd9d4",
   "metadata": {
    "tags": []
   },
   "outputs": [
    {
     "name": "stdout",
     "output_type": "stream",
     "text": [
      "Exo variable (index lags +5): HSCC. AIC: -4516.674916221706\n",
      "Exo variable (index lags +5): HSCE. AIC: -4516.977312717524\n",
      "Exo variable (index lags +5): HSCIC. AIC: -4517.667921517605\n",
      "Exo variable (index lags +5): HSCICD. AIC: -4516.73126165697\n",
      "Exo variable (index lags +5): HSCICS. AIC: -4516.765595122374\n",
      "Exo variable (index lags +5): HSCIE. AIC: -4516.698997061835\n",
      "Exo variable (index lags +5): HSCIF. AIC: -4517.999317530225\n",
      "Exo variable (index lags +5): HSCIH. AIC: -4518.198223993762\n",
      "Exo variable (index lags +5): HSCIIG. AIC: -4516.701013641834\n",
      "Exo variable (index lags +5): HSCIIT. AIC: -4517.842717203826\n",
      "Exo variable (index lags +5): HSCIM. AIC: -4518.665304191885\n",
      "Exo variable (index lags +5): HSCIPC. AIC: -4517.006393891611\n",
      "Exo variable (index lags +5): HSCIT. AIC: -4516.674903484768\n",
      "Exo variable (index lags +5): HSCIU. AIC: -4517.071126872671\n"
     ]
    }
   ],
   "source": [
    "for elem in sector_models_OLS_X5F.keys():\n",
    "    print('Exo variable (index lags +5): '+str(elem)+'. AIC: '+str(sector_models_OLS_X5F[elem].aic))    "
   ]
  },
  {
   "cell_type": "code",
   "execution_count": 90,
   "id": "aca47dc2-9410-47eb-bca6-c4fad9ab5470",
   "metadata": {
    "tags": []
   },
   "outputs": [
    {
     "name": "stdout",
     "output_type": "stream",
     "text": [
      "Exo variable (index lags +20): HSCC. AIC: -4422.136062207921\n",
      "Exo variable (index lags +20): HSCE. AIC: -4422.744499046782\n",
      "Exo variable (index lags +20): HSCIC. AIC: -4422.146692819026\n",
      "Exo variable (index lags +20): HSCICD. AIC: -4422.537616312783\n",
      "Exo variable (index lags +20): HSCICS. AIC: -4422.597362808753\n",
      "Exo variable (index lags +20): HSCIE. AIC: -4423.091308519577\n",
      "Exo variable (index lags +20): HSCIF. AIC: -4422.131160654355\n",
      "Exo variable (index lags +20): HSCIH. AIC: -4422.445621139576\n",
      "Exo variable (index lags +20): HSCIIG. AIC: -4423.019679804093\n",
      "Exo variable (index lags +20): HSCIIT. AIC: -4422.760048605236\n",
      "Exo variable (index lags +20): HSCIM. AIC: -4422.730918136125\n",
      "Exo variable (index lags +20): HSCIPC. AIC: -4422.1649804973395\n",
      "Exo variable (index lags +20): HSCIT. AIC: -4428.990373405466\n",
      "Exo variable (index lags +20): HSCIU. AIC: -4422.364626237678\n"
     ]
    }
   ],
   "source": [
    "for elem in sector_models_OLS_X20F.keys():\n",
    "    print('Exo variable (index lags +20): '+str(elem)+'. AIC: '+str(sector_models_OLS_X20F[elem].aic))    "
   ]
  },
  {
   "cell_type": "code",
   "execution_count": 91,
   "id": "c83b73af-5bfe-437e-a0fe-93849cc21c47",
   "metadata": {
    "tags": []
   },
   "outputs": [
    {
     "name": "stdout",
     "output_type": "stream",
     "text": [
      "Exo variable (index lags +60): HSCC. AIC: -4181.469039401449\n",
      "Exo variable (index lags +60): HSCE. AIC: -4181.276006200806\n",
      "Exo variable (index lags +60): HSCIC. AIC: -4181.335363445103\n",
      "Exo variable (index lags +60): HSCICD. AIC: -4181.397395560902\n",
      "Exo variable (index lags +60): HSCICS. AIC: -4181.223995555003\n",
      "Exo variable (index lags +60): HSCIE. AIC: -4181.814709344999\n",
      "Exo variable (index lags +60): HSCIF. AIC: -4182.268475069295\n",
      "Exo variable (index lags +60): HSCIH. AIC: -4181.629234079855\n",
      "Exo variable (index lags +60): HSCIIG. AIC: -4181.306004167194\n",
      "Exo variable (index lags +60): HSCIIT. AIC: -4181.150650228314\n",
      "Exo variable (index lags +60): HSCIM. AIC: -4181.150325408664\n",
      "Exo variable (index lags +60): HSCIPC. AIC: -4181.132170441839\n",
      "Exo variable (index lags +60): HSCIT. AIC: -4182.77925575201\n",
      "Exo variable (index lags +60): HSCIU. AIC: -4183.695376568108\n"
     ]
    }
   ],
   "source": [
    "for elem in sector_models_OLS_X60F.keys():\n",
    "    print('Exo variable (index lags +60): '+str(elem)+'. AIC: '+str(sector_models_OLS_X60F[elem].aic))    "
   ]
  }
 ],
 "metadata": {
  "kernelspec": {
   "display_name": "Python 3 (ipykernel)",
   "language": "python",
   "name": "python3"
  },
  "language_info": {
   "codemirror_mode": {
    "name": "ipython",
    "version": 3
   },
   "file_extension": ".py",
   "mimetype": "text/x-python",
   "name": "python",
   "nbconvert_exporter": "python",
   "pygments_lexer": "ipython3",
   "version": "3.10.0"
  }
 },
 "nbformat": 4,
 "nbformat_minor": 5
}

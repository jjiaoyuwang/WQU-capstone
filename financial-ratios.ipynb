{
 "cells": [
  {
   "cell_type": "markdown",
   "id": "95d61de2-7db0-4d16-b376-f49493d96a78",
   "metadata": {},
   "source": [
    "# 1 Import packages and define useful functions"
   ]
  },
  {
   "cell_type": "code",
   "execution_count": 188,
   "id": "a090a7c9-f894-4df5-84b5-8c85e429a4a5",
   "metadata": {
    "tags": []
   },
   "outputs": [],
   "source": [
    "import pandas as pd\n",
    "import numpy as np\n",
    "from scipy import signal\n",
    "import statsmodels.api as sm\n",
    "\n",
    "import plotly.express as px\n",
    "import matplotlib.pyplot as plt\n",
    "import yfinance as yf\n",
    "\n",
    "from sklearn.model_selection import train_test_split\n",
    "from sklearn.preprocessing import StandardScaler\n",
    "from sklearn.decomposition import PCA\n",
    "from sklearn.discriminant_analysis import LinearDiscriminantAnalysis as LDA"
   ]
  },
  {
   "cell_type": "code",
   "execution_count": 287,
   "id": "5c3a21e1-9090-42bb-8355-9de1c994cb64",
   "metadata": {
    "tags": []
   },
   "outputs": [],
   "source": [
    "def convert_placeholder_text_to_num(text):\n",
    "    '''\n",
    "    Parsing helper script. In a lot of investing.com data e.g.6.1 M is used to indicate 6.1 million. This script converts the string \n",
    "    into float for machine learning to be carried out. \n",
    "    '''\n",
    "    result = text\n",
    "    try:\n",
    "        if text[-1] == 'M':\n",
    "            result = float(text[:-2]) * 10**6\n",
    "        elif text[-1] == 'B':\n",
    "            result = float(text[:-2]) * 10**9\n",
    "        elif text[-1] == 'K':\n",
    "            result = float(text[:-2]) * 10**3\n",
    "        elif text[-1] == '-':\n",
    "            result = np.nan\n",
    "        elif text[-1] == 'nan':\n",
    "            result = np.nan\n",
    "        elif text[-1] == 'NA':\n",
    "            result = np.nan\n",
    "        elif text[-1] == 'x':\n",
    "            result = float(text[:-1])\n",
    "        elif text[-1] == '%':\n",
    "            result = text.replace(\",\",\"\")\n",
    "            result = float(result[:-1])*0.01\n",
    "    except Exception as e:\n",
    "        print(e)\n",
    "       \n",
    "    return result"
   ]
  },
  {
   "cell_type": "code",
   "execution_count": null,
   "id": "8457e612-8736-4cc5-b069-61a8a00ed774",
   "metadata": {
    "tags": []
   },
   "outputs": [],
   "source": [
    "def get_historical_yfinance(ticker):\n",
    "    '''\n",
    "    From ticker string in dataframes above, download historical data (5Y), skip if it's not present\n",
    "    '''\n",
    "    \n",
    "    try:\n",
    "        ticker = f'{ticker:04}'+'.HK' # convert ticker to yfinace form\n",
    "        asset = yf.Ticker(ticker)\n",
    "        hist = asset.history(period=\"3Y\")\n",
    "    except error as e:\n",
    "        print(e)\n",
    "        print(str(ticker))\n",
    "        print('\\n')\n",
    "        \n",
    "    return hist\n",
    "\n",
    "# old code to download historical price data (doesn't work)\n",
    "#historical_price_data = {}\n",
    "\n",
    "#for elem in test_merge.Ticker:\n",
    "#    historical_price_data[elem] = get_historical_yfinance(elem)"
   ]
  },
  {
   "cell_type": "markdown",
   "id": "0c3c1c48-856c-4e42-adfd-04365e30f1be",
   "metadata": {},
   "source": [
    "### Download library of historical stock data for available tickers"
   ]
  },
  {
   "cell_type": "code",
   "execution_count": 8,
   "id": "1646ba86-57a4-4580-97b0-725c53c8b079",
   "metadata": {
    "tags": []
   },
   "outputs": [],
   "source": [
    "test = yf.Ticker(\"0199.HK\")\n",
    "hist = test.history(period=\"5Y\")\n",
    "\n",
    "EV['EV'].iloc[0][:-2]\n",
    "f'{EV.index[0]:04}'+'.HK'"
   ]
  },
  {
   "cell_type": "code",
   "execution_count": 29,
   "id": "79b75856-8d7d-4bb3-9882-f9a354873dd8",
   "metadata": {
    "tags": []
   },
   "outputs": [
    {
     "data": {
      "text/plain": [
       "'48.338'"
      ]
     },
     "execution_count": 29,
     "metadata": {},
     "output_type": "execute_result"
    }
   ],
   "source": [
    "EV['EV'].iloc[0][:-2]"
   ]
  },
  {
   "cell_type": "code",
   "execution_count": 19,
   "id": "ecbe2849-f66c-4271-b6de-07595cf1a610",
   "metadata": {
    "tags": []
   },
   "outputs": [
    {
     "data": {
      "text/plain": [
       "'0199.HK'"
      ]
     },
     "execution_count": 19,
     "metadata": {},
     "output_type": "execute_result"
    }
   ],
   "source": [
    "f'{EV.index[0]:04}'+'.HK'"
   ]
  },
  {
   "cell_type": "code",
   "execution_count": 31,
   "id": "2a780907-9187-4e87-916b-7d871d49c7b4",
   "metadata": {
    "tags": []
   },
   "outputs": [
    {
     "data": {
      "text/plain": [
       "48338000.0"
      ]
     },
     "execution_count": 31,
     "metadata": {},
     "output_type": "execute_result"
    }
   ],
   "source": [
    "float(EV['EV'].iloc[0][:-2])*10**6"
   ]
  },
  {
   "cell_type": "markdown",
   "id": "7c12b8a3-ae5a-4e22-8540-52601d465a25",
   "metadata": {},
   "source": [
    "# 2 Import datasets"
   ]
  },
  {
   "cell_type": "markdown",
   "id": "5b9a1eb7-22aa-409f-a9a3-be55255e6297",
   "metadata": {},
   "source": [
    "## 2.1 Financial ratios"
   ]
  },
  {
   "cell_type": "code",
   "execution_count": 180,
   "id": "3f5205ee-ff67-497d-aacb-d016466e9e2b",
   "metadata": {
    "tags": []
   },
   "outputs": [],
   "source": [
    "# import datasets\n",
    "\n",
    "EV = pd.read_csv('data/raw_unprocessed/processed_raw/processed_out/EV.csv', index_col=0, parse_dates=True, infer_datetime_format=True, thousands=',')\n",
    "fcf = pd.read_csv('data/raw_unprocessed/processed_raw/processed_out/fcf.csv', index_col=0, parse_dates=True, infer_datetime_format=True, thousands=',')\n",
    "ebitda = pd.read_csv('data/raw_unprocessed/processed_raw/processed_out/ebitda.csv', index_col=0, parse_dates=True, infer_datetime_format=True, thousands=',')\n",
    "revenue = pd.read_csv('data/raw_unprocessed/processed_raw/processed_out/revenue.csv', index_col=0, parse_dates=True, infer_datetime_format=True, thousands=',')\n",
    "roe = pd.read_csv('data/raw_unprocessed/processed_raw/processed_out/roe.csv', index_col=0, parse_dates=True, infer_datetime_format=True, thousands=',')\n",
    "gross_profit_margin = pd.read_csv('data/raw_unprocessed/processed_raw/processed_out/gross-profit-margin.csv', index_col=0, parse_dates=True, infer_datetime_format=True, thousands=',')\n",
    "quick_ratio = pd.read_csv('data/raw_unprocessed/processed_raw/processed_out/quick-ratio.csv', index_col=0, parse_dates=True, infer_datetime_format=True, thousands=',')\n",
    "debt_to_equity = pd.read_csv('data/raw_unprocessed/processed_raw/processed_out/debt-to-equity.csv', index_col=0, parse_dates=True, infer_datetime_format=True, thousands=',')\n",
    "\n",
    "# remove duplicates\n",
    "EV = EV.drop_duplicates()\n",
    "fcf = fcf.drop_duplicates()\n",
    "ebitda = ebitda.drop_duplicates()\n",
    "revenue = revenue.drop_duplicates()\n",
    "roe = roe.drop_duplicates()\n",
    "gross_profit_margin = gross_profit_margin.drop_duplicates()\n",
    "quick_ratio = quick_ratio.drop_duplicates()\n",
    "debt_to_equity = debt_to_equity.drop_duplicates()\n",
    "\n",
    "# set up for merging dataframes\n",
    "EV = EV.reset_index()\n",
    "fcf = fcf.reset_index()\n",
    "ebitda = ebitda.reset_index()\n",
    "revenue = revenue.reset_index()\n",
    "roe = roe.reset_index()\n",
    "gross_profit_margin = gross_profit_margin.reset_index()\n",
    "quick_ratio = quick_ratio.reset_index()\n",
    "debt_to_equity = debt_to_equity.reset_index()\n",
    "\n",
    "EV = EV.astype(str)\n",
    "fcf = fcf.astype(str)\n",
    "ebitda = ebitda.astype(str)\n",
    "revenue = revenue.astype(str)\n",
    "roe = roe.astype(str)\n",
    "gross_profit_margin = gross_profit_margin.astype(str)\n",
    "quick_ratio = quick_ratio.astype(str)\n",
    "debt_to_equity = debt_to_equity.astype(str)"
   ]
  },
  {
   "cell_type": "code",
   "execution_count": 42,
   "id": "63d31680-d7cb-4f72-887c-4917bf58e657",
   "metadata": {
    "tags": []
   },
   "outputs": [
    {
     "data": {
      "text/html": [
       "<div>\n",
       "<style scoped>\n",
       "    .dataframe tbody tr th:only-of-type {\n",
       "        vertical-align: middle;\n",
       "    }\n",
       "\n",
       "    .dataframe tbody tr th {\n",
       "        vertical-align: top;\n",
       "    }\n",
       "\n",
       "    .dataframe thead th {\n",
       "        text-align: right;\n",
       "    }\n",
       "</style>\n",
       "<table border=\"1\" class=\"dataframe\">\n",
       "  <thead>\n",
       "    <tr style=\"text-align: right;\">\n",
       "      <th></th>\n",
       "      <th>Ticker</th>\n",
       "      <th>Name</th>\n",
       "      <th>Sector</th>\n",
       "      <th>Industry</th>\n",
       "      <th>Industry Group</th>\n",
       "      <th>Market Cap</th>\n",
       "      <th>Last Reported Fiscal Year</th>\n",
       "      <th>EV</th>\n",
       "      <th>EV FQ-1</th>\n",
       "      <th>EV FQ-2</th>\n",
       "      <th>EV FQ-3</th>\n",
       "      <th>EV FQ-4</th>\n",
       "      <th>EV FQ-5</th>\n",
       "      <th>EV FQ-6</th>\n",
       "      <th>EV FQ-7</th>\n",
       "      <th>EV FQ-8</th>\n",
       "      <th>EV FQ-9</th>\n",
       "      <th>EV FQ-10</th>\n",
       "      <th>EV FQ-11</th>\n",
       "      <th>EV FQ-12</th>\n",
       "    </tr>\n",
       "  </thead>\n",
       "  <tbody>\n",
       "    <tr>\n",
       "      <th>199</th>\n",
       "      <td>1908</td>\n",
       "      <td>C&amp;D International Investment Group Limited</td>\n",
       "      <td>Real Estate</td>\n",
       "      <td>Real Estate Management &amp; Development</td>\n",
       "      <td>Real Estate</td>\n",
       "      <td>5.823 B</td>\n",
       "      <td>2022</td>\n",
       "      <td>17.505 B</td>\n",
       "      <td>11.87 B</td>\n",
       "      <td>11.428 B</td>\n",
       "      <td>11.735 B</td>\n",
       "      <td>8.037 B</td>\n",
       "      <td>7.9 B</td>\n",
       "      <td>8.621 B</td>\n",
       "      <td>9.052 B</td>\n",
       "      <td>7.737 B</td>\n",
       "      <td>7.373 B</td>\n",
       "      <td>4.653 B</td>\n",
       "      <td>5.08 B</td>\n",
       "      <td>5.125 B</td>\n",
       "    </tr>\n",
       "  </tbody>\n",
       "</table>\n",
       "</div>"
      ],
      "text/plain": [
       "    Ticker                                        Name       Sector  \\\n",
       "199   1908  C&D International Investment Group Limited  Real Estate   \n",
       "\n",
       "                                 Industry Industry Group Market Cap  \\\n",
       "199  Real Estate Management & Development    Real Estate    5.823 B   \n",
       "\n",
       "    Last Reported Fiscal Year        EV  EV FQ-1   EV FQ-2   EV FQ-3  EV FQ-4  \\\n",
       "199                      2022  17.505 B  11.87 B  11.428 B  11.735 B  8.037 B   \n",
       "\n",
       "    EV FQ-5  EV FQ-6  EV FQ-7  EV FQ-8  EV FQ-9 EV FQ-10 EV FQ-11 EV FQ-12  \n",
       "199   7.9 B  8.621 B  9.052 B  7.737 B  7.373 B  4.653 B   5.08 B  5.125 B  "
      ]
     },
     "execution_count": 42,
     "metadata": {},
     "output_type": "execute_result"
    }
   ],
   "source": [
    "# indexing according to ticker\n",
    "\n",
    "EV.loc[[199]]"
   ]
  },
  {
   "cell_type": "code",
   "execution_count": 43,
   "id": "ad06103b-973f-4c4a-8e58-90e14504b046",
   "metadata": {
    "tags": []
   },
   "outputs": [
    {
     "data": {
      "text/html": [
       "<div>\n",
       "<style scoped>\n",
       "    .dataframe tbody tr th:only-of-type {\n",
       "        vertical-align: middle;\n",
       "    }\n",
       "\n",
       "    .dataframe tbody tr th {\n",
       "        vertical-align: top;\n",
       "    }\n",
       "\n",
       "    .dataframe thead th {\n",
       "        text-align: right;\n",
       "    }\n",
       "</style>\n",
       "<table border=\"1\" class=\"dataframe\">\n",
       "  <thead>\n",
       "    <tr style=\"text-align: right;\">\n",
       "      <th></th>\n",
       "      <th>Market Cap</th>\n",
       "      <th>EV</th>\n",
       "    </tr>\n",
       "  </thead>\n",
       "  <tbody>\n",
       "    <tr>\n",
       "      <th>0</th>\n",
       "      <td>122.1 M</td>\n",
       "      <td>48.338 M</td>\n",
       "    </tr>\n",
       "    <tr>\n",
       "      <th>1</th>\n",
       "      <td>383.2 M</td>\n",
       "      <td>365.2 M</td>\n",
       "    </tr>\n",
       "    <tr>\n",
       "      <th>2</th>\n",
       "      <td>11.009 B</td>\n",
       "      <td>3.163 B</td>\n",
       "    </tr>\n",
       "    <tr>\n",
       "      <th>3</th>\n",
       "      <td>246.4 M</td>\n",
       "      <td>147.6 M</td>\n",
       "    </tr>\n",
       "    <tr>\n",
       "      <th>4</th>\n",
       "      <td>205 M</td>\n",
       "      <td>-</td>\n",
       "    </tr>\n",
       "    <tr>\n",
       "      <th>...</th>\n",
       "      <td>...</td>\n",
       "      <td>...</td>\n",
       "    </tr>\n",
       "    <tr>\n",
       "      <th>256</th>\n",
       "      <td>6.832 B</td>\n",
       "      <td>6.506 B</td>\n",
       "    </tr>\n",
       "    <tr>\n",
       "      <th>257</th>\n",
       "      <td>4.703 B</td>\n",
       "      <td>4.748 B</td>\n",
       "    </tr>\n",
       "    <tr>\n",
       "      <th>258</th>\n",
       "      <td>251.7 M</td>\n",
       "      <td>1.436 B</td>\n",
       "    </tr>\n",
       "    <tr>\n",
       "      <th>259</th>\n",
       "      <td>136.3 M</td>\n",
       "      <td>1.467 B</td>\n",
       "    </tr>\n",
       "    <tr>\n",
       "      <th>260</th>\n",
       "      <td>602.7 M</td>\n",
       "      <td>584.8 M</td>\n",
       "    </tr>\n",
       "  </tbody>\n",
       "</table>\n",
       "<p>261 rows × 2 columns</p>\n",
       "</div>"
      ],
      "text/plain": [
       "    Market Cap        EV\n",
       "0      122.1 M  48.338 M\n",
       "1      383.2 M   365.2 M\n",
       "2     11.009 B   3.163 B\n",
       "3      246.4 M   147.6 M\n",
       "4        205 M         -\n",
       "..         ...       ...\n",
       "256    6.832 B   6.506 B\n",
       "257    4.703 B   4.748 B\n",
       "258    251.7 M   1.436 B\n",
       "259    136.3 M   1.467 B\n",
       "260    602.7 M   584.8 M\n",
       "\n",
       "[261 rows x 2 columns]"
      ]
     },
     "execution_count": 43,
     "metadata": {},
     "output_type": "execute_result"
    }
   ],
   "source": [
    "# indexing by column\n",
    "\n",
    "EV[[\"Market Cap\",\"EV\"]]"
   ]
  },
  {
   "cell_type": "code",
   "execution_count": 181,
   "id": "f0d846da-aa65-45c2-9bf4-704b5f8bda44",
   "metadata": {
    "tags": []
   },
   "outputs": [],
   "source": [
    "# merge dataframes into one big one\n",
    "\n",
    "dataframes = [fcf,ebitda,revenue,roe,gross_profit_margin,quick_ratio,debt_to_equity]\n",
    "test_merge = EV\n",
    "\n",
    "for elem in dataframes:\n",
    "    test_merge = pd.merge(test_merge, elem, how = 'outer',\n",
    "                      left_on=['Ticker','Name','Sector','Industry','Industry Group','Market Cap','Last Reported Fiscal Year'],\n",
    "                      right_on=['Ticker','Name','Sector','Industry','Industry Group','Market Cap','Last Reported Fiscal Year'])\n",
    "    \n",
    "    \n",
    "    \n",
    "#test_merge = pd.merge(EV.reset_index(), fcf.reset_index(), how = 'inner',\n",
    "                      #left_on=['Ticker','Name','Sector','Industry','Industry Group','Market Cap','Last Reported Fiscal Year'],\n",
    "                      #right_on=['Ticker','Name','Sector','Industry','Industry Group','Market Cap','Last Reported Fiscal Year'])"
   ]
  },
  {
   "cell_type": "code",
   "execution_count": 41,
   "id": "498f26fb-4cdc-4532-8d41-ddca7ba48279",
   "metadata": {
    "tags": []
   },
   "outputs": [],
   "source": [
    "# dataset for ML all sectors\n",
    "# test_merge.dropna().to_csv('test.csv')"
   ]
  },
  {
   "cell_type": "markdown",
   "id": "7643cfbe-a951-4be0-93f9-50f9d87fafb5",
   "metadata": {
    "tags": []
   },
   "source": [
    "## 2.2 Download historical prices"
   ]
  },
  {
   "cell_type": "code",
   "execution_count": 245,
   "id": "ab93d09a-5c33-4167-af2e-5c39ec9a06f8",
   "metadata": {
    "tags": []
   },
   "outputs": [],
   "source": [
    "ticker_string = ''\n",
    "\n",
    "for elem in test_merge.Ticker:\n",
    "    ticker_string = ticker_string + f'{elem:04}'+'.HK '\n",
    "\n",
    "ticker_string = ticker_string[:-1] # drop the last white space character"
   ]
  },
  {
   "cell_type": "code",
   "execution_count": 234,
   "id": "c23de3fa-a5c7-4077-9422-ac651a1891e3",
   "metadata": {
    "tags": []
   },
   "outputs": [
    {
     "name": "stdout",
     "output_type": "stream",
     "text": [
      "[*********************100%***********************]  867 of 867 completed\n",
      "\n",
      "237 Failed downloads:\n",
      "- 5510.HK: Period '5y' is invalid, must be one of ['1d', '5d']\n",
      "- 2590.HK: No data found, symbol may be delisted\n",
      "- 3980.HK: No data found for this date range, symbol may be delisted\n",
      "- 5200.HK: Period '5y' is invalid, must be one of ['1d', '5d']\n",
      "- 6940.HK: No data found, symbol may be delisted\n",
      "- 6070.HK: No data found, symbol may be delisted\n",
      "- 6720.HK: No data found, symbol may be delisted\n",
      "- 8750.HK: No data found, symbol may be delisted\n",
      "- 4970.HK: No data found, symbol may be delisted\n",
      "- 8680.HK: No data found, symbol may be delisted\n",
      "- 2240.HK: No data found for this date range, symbol may be delisted\n",
      "- 7530.HK: No data found, symbol may be delisted\n",
      "- 3710.HK: No data found for this date range, symbol may be delisted\n",
      "- 3270.HK: No data found, symbol may be delisted\n",
      "- 1350.HK: No data found, symbol may be delisted\n",
      "- 4930.HK: No data found, symbol may be delisted\n",
      "- 8000.HK: No data found, symbol may be delisted\n",
      "- 1370_OLD.HK: No data found, symbol may be delisted\n",
      "- 4500.HK: No data found for this date range, symbol may be delisted\n",
      "- 2410.HK: No data found, symbol may be delisted\n",
      "- 9730.HK: No data found, symbol may be delisted\n",
      "- 7190.HK: No data found, symbol may be delisted\n",
      "- 6040.HK: No data found, symbol may be delisted\n",
      "- 7430.HK: No data found, symbol may be delisted\n",
      "- 8960.HK: No data found, symbol may be delisted\n",
      "- 5790.HK: Period '5y' is invalid, must be one of ['1d', '5d']\n",
      "- 1700.HK: No data found, symbol may be delisted\n",
      "- 3200.HK: No data found, symbol may be delisted\n",
      "- 7160.HK: No data found, symbol may be delisted\n",
      "- 6620.HK: No data found, symbol may be delisted\n",
      "- 6800.HK: No data found, symbol may be delisted\n",
      "- 3840.HK: No data found for this date range, symbol may be delisted\n",
      "- 2220.HK: No data found, symbol may be delisted\n",
      "- 4190.HK: No data found for this date range, symbol may be delisted\n",
      "- 5050.HK: Period '5y' is invalid, must be one of ['1d', '5d']\n",
      "- 8600.HK: No data found, symbol may be delisted\n",
      "- 3000.HK: No data found for this date range, symbol may be delisted\n",
      "- 2770.HK: No data found, symbol may be delisted\n",
      "- 2900.HK: No data found, symbol may be delisted\n",
      "- 8820.HK: No data found, symbol may be delisted\n",
      "- 6970.HK: No data found, symbol may be delisted\n",
      "- 9310.HK: No data found, symbol may be delisted\n",
      "- 5760.HK: Period '5y' is invalid, must be one of ['1d', '5d']\n",
      "- 5380.HK: Period '5y' is invalid, must be one of ['1d', '5d']\n",
      "- 4380.HK: No data found, symbol may be delisted\n",
      "- 9920.HK: No data found for this date range, symbol may be delisted\n",
      "- 8180.HK: No data found for this date range, symbol may be delisted\n",
      "- 5110.HK: Period '5y' is invalid, must be one of ['1d', '5d']\n",
      "- 7090.HK: No data found, symbol may be delisted\n",
      "- 3570.HK: No data found for this date range, symbol may be delisted\n",
      "- 4860.HK: No data found, symbol may be delisted\n",
      "- 3630.HK: No data found for this date range, symbol may be delisted\n",
      "- 2950.HK: No data found, symbol may be delisted\n",
      "- 2570.HK: No data found, symbol may be delisted\n",
      "- 5350.HK: Period '5y' is invalid, must be one of ['1d', '5d']\n",
      "- 9340.HK: No data found for this date range, symbol may be delisted\n",
      "- 1510.HK: No data found for this date range, symbol may be delisted\n",
      "- 3410.HK: No data found, symbol may be delisted\n",
      "- 5300.HK: Period '5y' is invalid, must be one of ['1d', '5d']\n",
      "- 9980.HK: No data found for this date range, symbol may be delisted\n",
      "- 5680.HK: Period '5y' is invalid, must be one of ['1d', '5d']\n",
      "- 9680.HK: No data found for this date range, symbol may be delisted\n",
      "- 8670.HK: No data found, symbol may be delisted\n",
      "- 1990.HK: No data found, symbol may be delisted\n",
      "- 9000.HK: No data found, symbol may be delisted\n",
      "- 4400.HK: Period '5y' is invalid, must be one of ['1d', '5d']\n",
      "- 9160.HK: No data found, symbol may be delisted\n",
      "- 7970.HK: No data found, symbol may be delisted\n",
      "- 2720.HK: No data found, symbol may be delisted\n",
      "- 6350.HK: No data found, symbol may be delisted\n",
      "- 7720.HK: No data found, symbol may be delisted\n",
      "- 6000.HK: Period '5y' is invalid, must be one of ['1d', '5d']\n",
      "- 7330.HK: No data found, symbol may be delisted\n",
      "- 5280.HK: Period '5y' is invalid, must be one of ['1d', '5d']\n",
      "- 7280.HK: No data found, symbol may be delisted\n",
      "- 4200.HK: No data found, symbol may be delisted\n",
      "- 8630.HK: No data found, symbol may be delisted\n",
      "- 6260.HK: No data found, symbol may be delisted\n",
      "- 7080.HK: No data found, symbol may be delisted\n",
      "- 5460.HK: No data found, symbol may be delisted\n",
      "- 2300.HK: No data found, symbol may be delisted\n",
      "- 9750.HK: No data found for this date range, symbol may be delisted\n",
      "- 3340.HK: No data found, symbol may be delisted\n",
      "- 7770.HK: No data found, symbol may be delisted\n",
      "- 9380.HK: No data found for this date range, symbol may be delisted\n",
      "- 6870.HK: No data found, symbol may be delisted\n",
      "- 7750.HK: No data found, symbol may be delisted\n",
      "- 8740.HK: No data found, symbol may be delisted\n",
      "- 5060.HK: Period '5y' is invalid, must be one of ['1d', '5d']\n",
      "- 5000.HK: Period '5y' is invalid, must be one of ['1d', '5d']\n",
      "- 5520.HK: Period '5y' is invalid, must be one of ['1d', '5d']\n",
      "- 5860.HK: Period '5y' is invalid, must be one of ['1d', '5d']\n",
      "- 7260.HK: No data found, symbol may be delisted\n",
      "- 1840.HK: No data found, symbol may be delisted\n",
      "- 4510.HK: No data found for this date range, symbol may be delisted\n",
      "- 3150.HK: No data found, symbol may be delisted\n",
      "- 6580.HK: No data found, symbol may be delisted\n",
      "- 2670.HK: No data found, symbol may be delisted\n",
      "- 7990.HK: No data found, symbol may be delisted\n",
      "- 6650.HK: No data found, symbol may be delisted\n",
      "- 6950.HK: No data found, symbol may be delisted\n",
      "- 5220.HK: Period '5y' is invalid, must be one of ['1d', '5d']\n",
      "- 6360.HK: No data found, symbol may be delisted\n",
      "- 2850.HK: No data found, symbol may be delisted\n",
      "- 4670.HK: No data found for this date range, symbol may be delisted\n",
      "- 3290.HK: No data found, symbol may be delisted\n",
      "- 8840.HK: No data found, symbol may be delisted\n",
      "- 9700.HK: No data found, symbol may be delisted\n",
      "- 2560.HK: No data found, symbol may be delisted\n",
      "- 3230.HK: No data found, symbol may be delisted\n",
      "- 3760.HK: No data found for this date range, symbol may be delisted\n",
      "- 9950.HK: No data found for this date range, symbol may be delisted\n",
      "- 3310.HK: No data found, symbol may be delisted\n",
      "- 4100.HK: No data found, symbol may be delisted\n",
      "- 9510.HK: No data found, symbol may be delisted\n",
      "- 6200.HK: No data found, symbol may be delisted\n",
      "- 2930.HK: No data found, symbol may be delisted\n",
      "- 5250.HK: Period '5y' is invalid, must be one of ['1d', '5d']\n",
      "- 9390.HK: No data found for this date range, symbol may be delisted\n",
      "- 8530.HK: No data found, symbol may be delisted\n",
      "- 6560.HK: No data found, symbol may be delisted\n",
      "- 2470.HK: No data found, symbol may be delisted\n",
      "- 6400.HK: No data found, symbol may be delisted\n",
      "- 5800.HK: Period '5y' is invalid, must be one of ['1d', '5d']\n",
      "- 2790.HK: No data found, symbol may be delisted\n",
      "- 7620.HK: No data found, symbol may be delisted\n",
      "- 2510.HK: No data found, symbol may be delisted\n",
      "- 8780.HK: No data found, symbol may be delisted\n",
      "- 8950.HK: No data found, symbol may be delisted\n",
      "- 7760.HK: No data found, symbol may be delisted\n",
      "- 4160.HK: No data found for this date range, symbol may be delisted\n",
      "- 5420.HK: Period '5y' is invalid, must be one of ['1d', '5d']\n",
      "- 7100.HK: No data found, symbol may be delisted\n",
      "- 9760.HK: No data found, symbol may be delisted\n",
      "- 3820.HK: No data found for this date range, symbol may be delisted\n",
      "- 8900.HK: No data found, symbol may be delisted\n",
      "- 4000.HK: No data found, symbol may be delisted\n",
      "- 4120.HK: No data found, symbol may be delisted\n",
      "- 3350.HK: No data found, symbol may be delisted\n",
      "- 7980.HK: No data found, symbol may be delisted\n",
      "- 3460.HK: No data found, symbol may be delisted\n",
      "- 5100.HK: Period '5y' is invalid, must be one of ['1d', '5d']\n",
      "- 3470.HK: No data found, symbol may be delisted\n",
      "- 8800.HK: No data found, symbol may be delisted\n",
      "- 5330.HK: Period '5y' is invalid, must be one of ['1d', '5d']\n",
      "- 5980.HK: Period '5y' is invalid, must be one of ['1d', '5d']\n",
      "- 2860.HK: No data found, symbol may be delisted\n",
      "- 9660.HK: No data found for this date range, symbol may be delisted\n",
      "- 3930.HK: No data found for this date range, symbol may be delisted\n",
      "- 9850.HK: No data found for this date range, symbol may be delisted\n",
      "- 3550.HK: No data found for this date range, symbol may be delisted\n",
      "- 4310.HK: No data found for this date range, symbol may be delisted\n",
      "- 2730.HK: No data found, symbol may be delisted\n",
      "- 5470.HK: No data found, symbol may be delisted\n",
      "- 9300.HK: No data found, symbol may be delisted\n",
      "- 7880.HK: No data found, symbol may be delisted\n",
      "- 8610.HK: No data found, symbol may be delisted\n",
      "- 5900.HK: Period '5y' is invalid, must be one of ['1d', '5d']\n",
      "- 5630.HK: Period '5y' is invalid, must be one of ['1d', '5d']\n",
      "- 6910.HK: No data found, symbol may be delisted\n",
      "- 4390.HK: No data found, symbol may be delisted\n",
      "- 3210.HK: No data found, symbol may be delisted\n",
      "- 4680.HK: No data found for this date range, symbol may be delisted\n",
      "- 2580.HK: No data found, symbol may be delisted\n",
      "- 6590.HK: No data found, symbol may be delisted\n",
      "- 8570.HK: Period '5y' is invalid, must be one of ['1d', '5d']\n",
      "- 3670.HK: No data found for this date range, symbol may be delisted\n",
      "- 3540.HK: No data found for this date range, symbol may be delisted\n",
      "- 9500.HK: No data found, symbol may be delisted\n",
      "- 9930.HK: No data found for this date range, symbol may be delisted\n",
      "- 9890.HK: No data found, symbol may be delisted\n",
      "- 4110.HK: No data found for this date range, symbol may be delisted\n",
      "- 8980.HK: No data found, symbol may be delisted\n",
      "- 9520.HK: No data found, symbol may be delisted\n",
      "- 5170.HK: No data found, symbol may be delisted\n",
      "- 3450.HK: No data found, symbol may be delisted\n",
      "- 3370.HK: No data found, symbol may be delisted\n",
      "- 7460.HK: No data found, symbol may be delisted\n",
      "- 6930.HK: No data found, symbol may be delisted\n",
      "- 3910.HK: No data found for this date range, symbol may be delisted\n",
      "- 3730.HK: No data found for this date range, symbol may be delisted\n",
      "- 9910.HK: No data found, symbol may be delisted\n",
      "- 2890.HK: No data found, symbol may be delisted\n",
      "- 6550.HK: No data found, symbol may be delisted\n",
      "- 3220.HK: No data found, symbol may be delisted\n",
      "- 5580.HK: Period '5y' is invalid, must be one of ['1d', '5d']\n",
      "- 8090.HK: No data found, symbol may be delisted\n",
      "- 2550.HK: No data found for this date range, symbol may be delisted\n",
      "- 6170.HK: No data found, symbol may be delisted\n",
      "- 5730.HK: Period '5y' is invalid, must be one of ['1d', '5d']\n",
      "- 7690.HK: No data found, symbol may be delisted\n",
      "- 5480.HK: No data found, symbol may be delisted\n",
      "- 5700.HK: Period '5y' is invalid, must be one of ['1d', '5d']\n",
      "- 8550.HK: No data found, symbol may be delisted\n",
      "- 7110.HK: No data found, symbol may be delisted\n",
      "- 5120.HK: Period '5y' is invalid, must be one of ['1d', '5d']\n",
      "- 4740.HK: No data found for this date range, symbol may be delisted\n",
      "- 6500.HK: No data found, symbol may be delisted\n",
      "- 6780.HK: No data found, symbol may be delisted\n",
      "- 6180.HK: No data found, symbol may be delisted\n",
      "- 6980.HK: No data found, symbol may be delisted\n",
      "- 8390.HK: No data found for this date range, symbol may be delisted\n",
      "- 1390.HK: No data found, symbol may be delisted\n",
      "- 3740.HK: No data found for this date range, symbol may be delisted\n",
      "- 5920.HK: Period '5y' is invalid, must be one of ['1d', '5d']\n",
      "- 3920.HK: No data found for this date range, symbol may be delisted\n",
      "- 4890.HK: No data found, symbol may be delisted\n",
      "- 7570.HK: No data found, symbol may be delisted\n",
      "- 7540.HK: No data found, symbol may be delisted\n",
      "- 8110.HK: No data found for this date range, symbol may be delisted\n",
      "- 7520.HK: No data found, symbol may be delisted\n",
      "- 1590.HK: No data found, symbol may be delisted\n",
      "- 3500.HK: No data found, symbol may be delisted\n",
      "- 8190.HK: No data found, symbol may be delisted\n",
      "- 5810.HK: Period '5y' is invalid, must be one of ['1d', '5d']\n",
      "- 8380.HK: No data found for this date range, symbol may be delisted\n",
      "- 2070.HK: No data found, symbol may be delisted\n",
      "- 7800.HK: No data found, symbol may be delisted\n",
      "- 4800.HK: No data found, symbol may be delisted\n",
      "- 3880.HK: No data found for this date range, symbol may be delisted\n",
      "- 5880.HK: Period '5y' is invalid, must be one of ['1d', '5d']\n",
      "- 5310.HK: Period '5y' is invalid, must be one of ['1d', '5d']\n",
      "- 4080.HK: No data found, symbol may be delisted\n",
      "- 5540.HK: Period '5y' is invalid, must be one of ['1d', '5d']\n",
      "- 3260.HK: No data found, symbol may be delisted\n",
      "- 1770.HK: No data found, symbol may be delisted\n",
      "- 6120.HK: No data found, symbol may be delisted\n",
      "- 6770.HK: No data found, symbol may be delisted\n",
      "- 5600.HK: Period '5y' is invalid, must be one of ['1d', '5d']\n",
      "- 9780.HK: No data found for this date range, symbol may be delisted\n",
      "- 4710.HK: No data found for this date range, symbol may be delisted\n",
      "- 6220.HK: No data found, symbol may be delisted\n",
      "- 8870.HK: No data found, symbol may be delisted\n",
      "- 9800.HK: No data found, symbol may be delisted\n",
      "- 3400.HK: No data found, symbol may be delisted\n",
      "- 8830.HK: No data found, symbol may be delisted\n",
      "- 7370.HK: No data found, symbol may be delisted\n"
     ]
    }
   ],
   "source": [
    "test_assets = yf.download(tickers = ticker_string,  # list of tickers\n",
    "            period = \"5y\",         # time period\n",
    "            interval = \"1mo\",       # trading interval\n",
    "            ignore_tz = True,      # ignore timezone when aligning data from different exchanges?\n",
    "            prepost = False)       # download pre/post market hours data?"
   ]
  },
  {
   "cell_type": "code",
   "execution_count": 244,
   "id": "6eec81e3-8d76-413b-b35f-f0a6c8be4989",
   "metadata": {
    "tags": []
   },
   "outputs": [],
   "source": [
    "asset_prices = test_assets['Adj Close'].dropna(axis=1)"
   ]
  },
  {
   "cell_type": "code",
   "execution_count": 286,
   "id": "f7cb74ee-67fb-418a-b1bf-d5cefaa5d2d7",
   "metadata": {
    "tags": []
   },
   "outputs": [
    {
     "data": {
      "text/html": [
       "<div>\n",
       "<style scoped>\n",
       "    .dataframe tbody tr th:only-of-type {\n",
       "        vertical-align: middle;\n",
       "    }\n",
       "\n",
       "    .dataframe tbody tr th {\n",
       "        vertical-align: top;\n",
       "    }\n",
       "\n",
       "    .dataframe thead th {\n",
       "        text-align: right;\n",
       "    }\n",
       "</style>\n",
       "<table border=\"1\" class=\"dataframe\">\n",
       "  <thead>\n",
       "    <tr style=\"text-align: right;\">\n",
       "      <th></th>\n",
       "      <th>Ticker</th>\n",
       "      <th>Name</th>\n",
       "      <th>Sector</th>\n",
       "      <th>Industry</th>\n",
       "      <th>Industry Group</th>\n",
       "      <th>Market Cap</th>\n",
       "      <th>Last Reported Fiscal Year</th>\n",
       "      <th>EV</th>\n",
       "      <th>EV FQ-1</th>\n",
       "      <th>EV FQ-2</th>\n",
       "      <th>...</th>\n",
       "      <th>Debt / Equity FQ-3</th>\n",
       "      <th>Debt / Equity FQ-4</th>\n",
       "      <th>Debt / Equity FQ-5</th>\n",
       "      <th>Debt / Equity FQ-6</th>\n",
       "      <th>Debt / Equity FQ-7</th>\n",
       "      <th>Debt / Equity FQ-8</th>\n",
       "      <th>Debt / Equity FQ-9</th>\n",
       "      <th>Debt / Equity FQ-10</th>\n",
       "      <th>Debt / Equity FQ-11</th>\n",
       "      <th>Debt / Equity FQ-12</th>\n",
       "    </tr>\n",
       "  </thead>\n",
       "  <tbody>\n",
       "    <tr>\n",
       "      <th>0</th>\n",
       "      <td>199</td>\n",
       "      <td>ITC Properties Group Limited</td>\n",
       "      <td>Real Estate</td>\n",
       "      <td>Real Estate Management &amp; Development</td>\n",
       "      <td>Real Estate</td>\n",
       "      <td>122.1 M</td>\n",
       "      <td>2023</td>\n",
       "      <td>48.338 M</td>\n",
       "      <td>75.623 M</td>\n",
       "      <td>101 M</td>\n",
       "      <td>...</td>\n",
       "      <td>51.5%</td>\n",
       "      <td>89.9%</td>\n",
       "      <td>89.9%</td>\n",
       "      <td>77.3%</td>\n",
       "      <td>77.3%</td>\n",
       "      <td>83.6%</td>\n",
       "      <td>83.6%</td>\n",
       "      <td>83.9%</td>\n",
       "      <td>83.9%</td>\n",
       "      <td>84.7%</td>\n",
       "    </tr>\n",
       "    <tr>\n",
       "      <th>1</th>\n",
       "      <td>2322</td>\n",
       "      <td>Hong Kong ChaoShang Group Limited</td>\n",
       "      <td>Industrials</td>\n",
       "      <td>Trading Companies &amp; Distributors</td>\n",
       "      <td>Capital Goods</td>\n",
       "      <td>383.2 M</td>\n",
       "      <td>2023</td>\n",
       "      <td>365.2 M</td>\n",
       "      <td>438.8 M</td>\n",
       "      <td>409.7 M</td>\n",
       "      <td>...</td>\n",
       "      <td>1.5%</td>\n",
       "      <td>0.7%</td>\n",
       "      <td>0.7%</td>\n",
       "      <td>2.1%</td>\n",
       "      <td>2.1%</td>\n",
       "      <td>2.8%</td>\n",
       "      <td>2.8%</td>\n",
       "      <td>3.7%</td>\n",
       "      <td>3.7%</td>\n",
       "      <td>4.4%</td>\n",
       "    </tr>\n",
       "    <tr>\n",
       "      <th>2</th>\n",
       "      <td>83</td>\n",
       "      <td>Sino Land Company Limited</td>\n",
       "      <td>Real Estate</td>\n",
       "      <td>Real Estate Management &amp; Development</td>\n",
       "      <td>Real Estate</td>\n",
       "      <td>11.009 B</td>\n",
       "      <td>2023</td>\n",
       "      <td>3.163 B</td>\n",
       "      <td>2.236 B</td>\n",
       "      <td>3.878 B</td>\n",
       "      <td>...</td>\n",
       "      <td>NaN</td>\n",
       "      <td>NaN</td>\n",
       "      <td>NaN</td>\n",
       "      <td>NaN</td>\n",
       "      <td>NaN</td>\n",
       "      <td>NaN</td>\n",
       "      <td>NaN</td>\n",
       "      <td>NaN</td>\n",
       "      <td>NaN</td>\n",
       "      <td>NaN</td>\n",
       "    </tr>\n",
       "    <tr>\n",
       "      <th>3</th>\n",
       "      <td>321</td>\n",
       "      <td>Texwinca Holdings Limited</td>\n",
       "      <td>Consumer Discretionary</td>\n",
       "      <td>Textiles, Apparel &amp; Luxury Goods</td>\n",
       "      <td>Consumer Durables &amp; Apparel</td>\n",
       "      <td>246.4 M</td>\n",
       "      <td>2023</td>\n",
       "      <td>147.6 M</td>\n",
       "      <td>178.7 M</td>\n",
       "      <td>173.3 M</td>\n",
       "      <td>...</td>\n",
       "      <td>NaN</td>\n",
       "      <td>NaN</td>\n",
       "      <td>NaN</td>\n",
       "      <td>NaN</td>\n",
       "      <td>NaN</td>\n",
       "      <td>NaN</td>\n",
       "      <td>NaN</td>\n",
       "      <td>NaN</td>\n",
       "      <td>NaN</td>\n",
       "      <td>NaN</td>\n",
       "    </tr>\n",
       "    <tr>\n",
       "      <th>4</th>\n",
       "      <td>335</td>\n",
       "      <td>Upbest Group Limited</td>\n",
       "      <td>Financials</td>\n",
       "      <td>Consumer Finance</td>\n",
       "      <td>Diversified Financials</td>\n",
       "      <td>205 M</td>\n",
       "      <td>2023</td>\n",
       "      <td>-</td>\n",
       "      <td>nan</td>\n",
       "      <td>nan</td>\n",
       "      <td>...</td>\n",
       "      <td>8.6%</td>\n",
       "      <td>9.4%</td>\n",
       "      <td>9.4%</td>\n",
       "      <td>9.9%</td>\n",
       "      <td>9.9%</td>\n",
       "      <td>10.4%</td>\n",
       "      <td>10.4%</td>\n",
       "      <td>10.8%</td>\n",
       "      <td>10.8%</td>\n",
       "      <td>11.2%</td>\n",
       "    </tr>\n",
       "    <tr>\n",
       "      <th>...</th>\n",
       "      <td>...</td>\n",
       "      <td>...</td>\n",
       "      <td>...</td>\n",
       "      <td>...</td>\n",
       "      <td>...</td>\n",
       "      <td>...</td>\n",
       "      <td>...</td>\n",
       "      <td>...</td>\n",
       "      <td>...</td>\n",
       "      <td>...</td>\n",
       "      <td>...</td>\n",
       "      <td>...</td>\n",
       "      <td>...</td>\n",
       "      <td>...</td>\n",
       "      <td>...</td>\n",
       "      <td>...</td>\n",
       "      <td>...</td>\n",
       "      <td>...</td>\n",
       "      <td>...</td>\n",
       "      <td>...</td>\n",
       "      <td>...</td>\n",
       "    </tr>\n",
       "    <tr>\n",
       "      <th>915</th>\n",
       "      <td>1057</td>\n",
       "      <td>Zhejiang Shibao Company Limited</td>\n",
       "      <td>Consumer Discretionary</td>\n",
       "      <td>Auto Components</td>\n",
       "      <td>Automobiles &amp; Components</td>\n",
       "      <td>658.2 M</td>\n",
       "      <td>2022</td>\n",
       "      <td>NaN</td>\n",
       "      <td>NaN</td>\n",
       "      <td>NaN</td>\n",
       "      <td>...</td>\n",
       "      <td>11.8%</td>\n",
       "      <td>12.5%</td>\n",
       "      <td>8.1%</td>\n",
       "      <td>8.3%</td>\n",
       "      <td>7.8%</td>\n",
       "      <td>8.0%</td>\n",
       "      <td>8.0%</td>\n",
       "      <td>10.2%</td>\n",
       "      <td>12.2%</td>\n",
       "      <td>11.7%</td>\n",
       "    </tr>\n",
       "    <tr>\n",
       "      <th>916</th>\n",
       "      <td>1127</td>\n",
       "      <td>Lion Rock Group Limited</td>\n",
       "      <td>Industrials</td>\n",
       "      <td>Commercial Services &amp; Supplies</td>\n",
       "      <td>Commercial &amp; Professional Services</td>\n",
       "      <td>108.9 M</td>\n",
       "      <td>2022</td>\n",
       "      <td>NaN</td>\n",
       "      <td>NaN</td>\n",
       "      <td>NaN</td>\n",
       "      <td>...</td>\n",
       "      <td>27.3%</td>\n",
       "      <td>27.0%</td>\n",
       "      <td>27.0%</td>\n",
       "      <td>25.3%</td>\n",
       "      <td>25.3%</td>\n",
       "      <td>31.0%</td>\n",
       "      <td>31.0%</td>\n",
       "      <td>28.9%</td>\n",
       "      <td>28.9%</td>\n",
       "      <td>34.5%</td>\n",
       "    </tr>\n",
       "    <tr>\n",
       "      <th>917</th>\n",
       "      <td>1263</td>\n",
       "      <td>PC Partner Group Limited</td>\n",
       "      <td>Information Technology</td>\n",
       "      <td>Technology Hardware, Storage &amp; Peripherals</td>\n",
       "      <td>Technology Hardware &amp; Equipment</td>\n",
       "      <td>286.6 M</td>\n",
       "      <td>2022</td>\n",
       "      <td>NaN</td>\n",
       "      <td>NaN</td>\n",
       "      <td>NaN</td>\n",
       "      <td>...</td>\n",
       "      <td>31.5%</td>\n",
       "      <td>26.7%</td>\n",
       "      <td>26.7%</td>\n",
       "      <td>46.6%</td>\n",
       "      <td>46.6%</td>\n",
       "      <td>109.9%</td>\n",
       "      <td>109.9%</td>\n",
       "      <td>163.9%</td>\n",
       "      <td>163.9%</td>\n",
       "      <td>185.7%</td>\n",
       "    </tr>\n",
       "    <tr>\n",
       "      <th>918</th>\n",
       "      <td>592</td>\n",
       "      <td>Bossini International Holdings Limited</td>\n",
       "      <td>Consumer Discretionary</td>\n",
       "      <td>Specialty Retail</td>\n",
       "      <td>Retailing</td>\n",
       "      <td>179.4 M</td>\n",
       "      <td>2022</td>\n",
       "      <td>NaN</td>\n",
       "      <td>NaN</td>\n",
       "      <td>NaN</td>\n",
       "      <td>...</td>\n",
       "      <td>40.5%</td>\n",
       "      <td>155.5%</td>\n",
       "      <td>155.5%</td>\n",
       "      <td>123.2%</td>\n",
       "      <td>123.2%</td>\n",
       "      <td>73.2%</td>\n",
       "      <td>73.2%</td>\n",
       "      <td>4.3%</td>\n",
       "      <td>4.3%</td>\n",
       "      <td>2.8%</td>\n",
       "    </tr>\n",
       "    <tr>\n",
       "      <th>919</th>\n",
       "      <td>2066</td>\n",
       "      <td>Shengjing Bank Co., Ltd.</td>\n",
       "      <td>Financials</td>\n",
       "      <td>Banks</td>\n",
       "      <td>Banks</td>\n",
       "      <td>6.724 B</td>\n",
       "      <td>2022</td>\n",
       "      <td>NaN</td>\n",
       "      <td>NaN</td>\n",
       "      <td>NaN</td>\n",
       "      <td>...</td>\n",
       "      <td>127.4%</td>\n",
       "      <td>126.6%</td>\n",
       "      <td>126.6%</td>\n",
       "      <td>142.6%</td>\n",
       "      <td>142.6%</td>\n",
       "      <td>181.3%</td>\n",
       "      <td>181.3%</td>\n",
       "      <td>227.2%</td>\n",
       "      <td>227.2%</td>\n",
       "      <td>198.3%</td>\n",
       "    </tr>\n",
       "  </tbody>\n",
       "</table>\n",
       "<p>920 rows × 111 columns</p>\n",
       "</div>"
      ],
      "text/plain": [
       "    Ticker                                    Name                  Sector  \\\n",
       "0      199            ITC Properties Group Limited             Real Estate   \n",
       "1     2322       Hong Kong ChaoShang Group Limited             Industrials   \n",
       "2       83               Sino Land Company Limited             Real Estate   \n",
       "3      321               Texwinca Holdings Limited  Consumer Discretionary   \n",
       "4      335                    Upbest Group Limited              Financials   \n",
       "..     ...                                     ...                     ...   \n",
       "915   1057         Zhejiang Shibao Company Limited  Consumer Discretionary   \n",
       "916   1127                 Lion Rock Group Limited             Industrials   \n",
       "917   1263                PC Partner Group Limited  Information Technology   \n",
       "918    592  Bossini International Holdings Limited  Consumer Discretionary   \n",
       "919   2066                Shengjing Bank Co., Ltd.              Financials   \n",
       "\n",
       "                                       Industry  \\\n",
       "0          Real Estate Management & Development   \n",
       "1              Trading Companies & Distributors   \n",
       "2          Real Estate Management & Development   \n",
       "3              Textiles, Apparel & Luxury Goods   \n",
       "4                              Consumer Finance   \n",
       "..                                          ...   \n",
       "915                             Auto Components   \n",
       "916              Commercial Services & Supplies   \n",
       "917  Technology Hardware, Storage & Peripherals   \n",
       "918                            Specialty Retail   \n",
       "919                                       Banks   \n",
       "\n",
       "                         Industry Group Market Cap Last Reported Fiscal Year  \\\n",
       "0                           Real Estate    122.1 M                      2023   \n",
       "1                         Capital Goods    383.2 M                      2023   \n",
       "2                           Real Estate   11.009 B                      2023   \n",
       "3           Consumer Durables & Apparel    246.4 M                      2023   \n",
       "4                Diversified Financials      205 M                      2023   \n",
       "..                                  ...        ...                       ...   \n",
       "915            Automobiles & Components    658.2 M                      2022   \n",
       "916  Commercial & Professional Services    108.9 M                      2022   \n",
       "917     Technology Hardware & Equipment    286.6 M                      2022   \n",
       "918                           Retailing    179.4 M                      2022   \n",
       "919                               Banks    6.724 B                      2022   \n",
       "\n",
       "           EV   EV FQ-1  EV FQ-2  ... Debt / Equity FQ-3 Debt / Equity FQ-4  \\\n",
       "0    48.338 M  75.623 M    101 M  ...              51.5%              89.9%   \n",
       "1     365.2 M   438.8 M  409.7 M  ...               1.5%               0.7%   \n",
       "2     3.163 B   2.236 B  3.878 B  ...                NaN                NaN   \n",
       "3     147.6 M   178.7 M  173.3 M  ...                NaN                NaN   \n",
       "4           -       nan      nan  ...               8.6%               9.4%   \n",
       "..        ...       ...      ...  ...                ...                ...   \n",
       "915       NaN       NaN      NaN  ...              11.8%              12.5%   \n",
       "916       NaN       NaN      NaN  ...              27.3%              27.0%   \n",
       "917       NaN       NaN      NaN  ...              31.5%              26.7%   \n",
       "918       NaN       NaN      NaN  ...              40.5%             155.5%   \n",
       "919       NaN       NaN      NaN  ...             127.4%             126.6%   \n",
       "\n",
       "    Debt / Equity FQ-5 Debt / Equity FQ-6 Debt / Equity FQ-7  \\\n",
       "0                89.9%              77.3%              77.3%   \n",
       "1                 0.7%               2.1%               2.1%   \n",
       "2                  NaN                NaN                NaN   \n",
       "3                  NaN                NaN                NaN   \n",
       "4                 9.4%               9.9%               9.9%   \n",
       "..                 ...                ...                ...   \n",
       "915               8.1%               8.3%               7.8%   \n",
       "916              27.0%              25.3%              25.3%   \n",
       "917              26.7%              46.6%              46.6%   \n",
       "918             155.5%             123.2%             123.2%   \n",
       "919             126.6%             142.6%             142.6%   \n",
       "\n",
       "    Debt / Equity FQ-8 Debt / Equity FQ-9 Debt / Equity FQ-10  \\\n",
       "0                83.6%              83.6%               83.9%   \n",
       "1                 2.8%               2.8%                3.7%   \n",
       "2                  NaN                NaN                 NaN   \n",
       "3                  NaN                NaN                 NaN   \n",
       "4                10.4%              10.4%               10.8%   \n",
       "..                 ...                ...                 ...   \n",
       "915               8.0%               8.0%               10.2%   \n",
       "916              31.0%              31.0%               28.9%   \n",
       "917             109.9%             109.9%              163.9%   \n",
       "918              73.2%              73.2%                4.3%   \n",
       "919             181.3%             181.3%              227.2%   \n",
       "\n",
       "    Debt / Equity FQ-11 Debt / Equity FQ-12  \n",
       "0                 83.9%               84.7%  \n",
       "1                  3.7%                4.4%  \n",
       "2                   NaN                 NaN  \n",
       "3                   NaN                 NaN  \n",
       "4                 10.8%               11.2%  \n",
       "..                  ...                 ...  \n",
       "915               12.2%               11.7%  \n",
       "916               28.9%               34.5%  \n",
       "917              163.9%              185.7%  \n",
       "918                4.3%                2.8%  \n",
       "919              227.2%              198.3%  \n",
       "\n",
       "[920 rows x 111 columns]"
      ]
     },
     "execution_count": 286,
     "metadata": {},
     "output_type": "execute_result"
    }
   ],
   "source": [
    "test_merge"
   ]
  },
  {
   "cell_type": "code",
   "execution_count": 288,
   "id": "0a226425-f790-4d75-a6e4-bf5822953dc5",
   "metadata": {
    "tags": []
   },
   "outputs": [
    {
     "name": "stdout",
     "output_type": "stream",
     "text": [
      "could not convert string to float: ''\n",
      "could not convert string to float: ''\n",
      "could not convert string to float: ''\n",
      "could not convert string to float: ''\n",
      "could not convert string to float: ''\n",
      "could not convert string to float: ''\n"
     ]
    }
   ],
   "source": [
    "ML_data = test_merge.dropna().applymap(convert_placeholder_text_to_num).dropna()"
   ]
  },
  {
   "cell_type": "code",
   "execution_count": 289,
   "id": "207bc532-2be5-410d-97b8-f24de5d46291",
   "metadata": {
    "tags": []
   },
   "outputs": [
    {
     "data": {
      "text/html": [
       "<div>\n",
       "<style scoped>\n",
       "    .dataframe tbody tr th:only-of-type {\n",
       "        vertical-align: middle;\n",
       "    }\n",
       "\n",
       "    .dataframe tbody tr th {\n",
       "        vertical-align: top;\n",
       "    }\n",
       "\n",
       "    .dataframe thead th {\n",
       "        text-align: right;\n",
       "    }\n",
       "</style>\n",
       "<table border=\"1\" class=\"dataframe\">\n",
       "  <thead>\n",
       "    <tr style=\"text-align: right;\">\n",
       "      <th></th>\n",
       "      <th>Ticker</th>\n",
       "      <th>Name</th>\n",
       "      <th>Sector</th>\n",
       "      <th>Industry</th>\n",
       "      <th>Industry Group</th>\n",
       "      <th>Market Cap</th>\n",
       "      <th>Last Reported Fiscal Year</th>\n",
       "      <th>EV</th>\n",
       "      <th>EV FQ-1</th>\n",
       "      <th>EV FQ-2</th>\n",
       "      <th>...</th>\n",
       "      <th>Debt / Equity FQ-3</th>\n",
       "      <th>Debt / Equity FQ-4</th>\n",
       "      <th>Debt / Equity FQ-5</th>\n",
       "      <th>Debt / Equity FQ-6</th>\n",
       "      <th>Debt / Equity FQ-7</th>\n",
       "      <th>Debt / Equity FQ-8</th>\n",
       "      <th>Debt / Equity FQ-9</th>\n",
       "      <th>Debt / Equity FQ-10</th>\n",
       "      <th>Debt / Equity FQ-11</th>\n",
       "      <th>Debt / Equity FQ-12</th>\n",
       "    </tr>\n",
       "  </thead>\n",
       "  <tbody>\n",
       "    <tr>\n",
       "      <th>0</th>\n",
       "      <td>199</td>\n",
       "      <td>ITC Properties Group Limited</td>\n",
       "      <td>Real Estate</td>\n",
       "      <td>Real Estate Management &amp; Development</td>\n",
       "      <td>Real Estate</td>\n",
       "      <td>1.221000e+08</td>\n",
       "      <td>2023</td>\n",
       "      <td>4.833800e+07</td>\n",
       "      <td>75623000.0</td>\n",
       "      <td>101000000.0</td>\n",
       "      <td>...</td>\n",
       "      <td>0.515</td>\n",
       "      <td>0.899</td>\n",
       "      <td>0.899</td>\n",
       "      <td>0.773</td>\n",
       "      <td>0.773</td>\n",
       "      <td>0.836</td>\n",
       "      <td>0.836</td>\n",
       "      <td>0.839</td>\n",
       "      <td>0.839</td>\n",
       "      <td>0.847</td>\n",
       "    </tr>\n",
       "    <tr>\n",
       "      <th>1</th>\n",
       "      <td>2322</td>\n",
       "      <td>Hong Kong ChaoShang Group Limited</td>\n",
       "      <td>Industrials</td>\n",
       "      <td>Trading Companies &amp; Distributors</td>\n",
       "      <td>Capital Goods</td>\n",
       "      <td>3.832000e+08</td>\n",
       "      <td>2023</td>\n",
       "      <td>3.652000e+08</td>\n",
       "      <td>438800000.0</td>\n",
       "      <td>409700000.0</td>\n",
       "      <td>...</td>\n",
       "      <td>0.015</td>\n",
       "      <td>0.007</td>\n",
       "      <td>0.007</td>\n",
       "      <td>0.021</td>\n",
       "      <td>0.021</td>\n",
       "      <td>0.028</td>\n",
       "      <td>0.028</td>\n",
       "      <td>0.037</td>\n",
       "      <td>0.037</td>\n",
       "      <td>0.044</td>\n",
       "    </tr>\n",
       "    <tr>\n",
       "      <th>5</th>\n",
       "      <td>179</td>\n",
       "      <td>Johnson Electric Holdings Limited</td>\n",
       "      <td>Consumer Discretionary</td>\n",
       "      <td>Auto Components</td>\n",
       "      <td>Automobiles &amp; Components</td>\n",
       "      <td>1.056000e+09</td>\n",
       "      <td>2023</td>\n",
       "      <td>1.265000e+09</td>\n",
       "      <td>1435000000.0</td>\n",
       "      <td>1384000000.0</td>\n",
       "      <td>...</td>\n",
       "      <td>0.256</td>\n",
       "      <td>0.28</td>\n",
       "      <td>0.28</td>\n",
       "      <td>0.213</td>\n",
       "      <td>0.213</td>\n",
       "      <td>0.247</td>\n",
       "      <td>0.247</td>\n",
       "      <td>0.26</td>\n",
       "      <td>0.26</td>\n",
       "      <td>0.224</td>\n",
       "    </tr>\n",
       "    <tr>\n",
       "      <th>9</th>\n",
       "      <td>989</td>\n",
       "      <td>Hua Yin International Holdings Limited</td>\n",
       "      <td>Real Estate</td>\n",
       "      <td>Real Estate Management &amp; Development</td>\n",
       "      <td>Real Estate</td>\n",
       "      <td>3.854000e+08</td>\n",
       "      <td>2023</td>\n",
       "      <td>5.113000e+08</td>\n",
       "      <td>592700000.0</td>\n",
       "      <td>537900000.0</td>\n",
       "      <td>...</td>\n",
       "      <td>-4.184</td>\n",
       "      <td>-4.0</td>\n",
       "      <td>-4.0</td>\n",
       "      <td>-3.746</td>\n",
       "      <td>-3.746</td>\n",
       "      <td>-1.337</td>\n",
       "      <td>-1.337</td>\n",
       "      <td>-1.472</td>\n",
       "      <td>-1.472</td>\n",
       "      <td>1.822</td>\n",
       "    </tr>\n",
       "    <tr>\n",
       "      <th>10</th>\n",
       "      <td>105</td>\n",
       "      <td>Associated International Hotels Limited</td>\n",
       "      <td>Real Estate</td>\n",
       "      <td>Real Estate Management &amp; Development</td>\n",
       "      <td>Real Estate</td>\n",
       "      <td>4.297000e+08</td>\n",
       "      <td>2023</td>\n",
       "      <td>3.898000e+08</td>\n",
       "      <td>496900000.0</td>\n",
       "      <td>536100000.0</td>\n",
       "      <td>...</td>\n",
       "      <td>0.021</td>\n",
       "      <td>0.02</td>\n",
       "      <td>0.02</td>\n",
       "      <td>0.019</td>\n",
       "      <td>0.019</td>\n",
       "      <td>0.017</td>\n",
       "      <td>0.017</td>\n",
       "      <td>0.016</td>\n",
       "      <td>0.016</td>\n",
       "      <td>0.015</td>\n",
       "    </tr>\n",
       "    <tr>\n",
       "      <th>12</th>\n",
       "      <td>25</td>\n",
       "      <td>Chevalier International Holdings Limited</td>\n",
       "      <td>Industrials</td>\n",
       "      <td>Industrial Conglomerates</td>\n",
       "      <td>Capital Goods</td>\n",
       "      <td>2.712000e+08</td>\n",
       "      <td>2023</td>\n",
       "      <td>1.794000e+08</td>\n",
       "      <td>234600000.0</td>\n",
       "      <td>169600000.0</td>\n",
       "      <td>...</td>\n",
       "      <td>0.413</td>\n",
       "      <td>0.414</td>\n",
       "      <td>0.414</td>\n",
       "      <td>0.381</td>\n",
       "      <td>0.381</td>\n",
       "      <td>0.38</td>\n",
       "      <td>0.38</td>\n",
       "      <td>0.397</td>\n",
       "      <td>0.397</td>\n",
       "      <td>0.407</td>\n",
       "    </tr>\n",
       "    <tr>\n",
       "      <th>13</th>\n",
       "      <td>1023</td>\n",
       "      <td>Sitoy Group Holdings Limited</td>\n",
       "      <td>Consumer Discretionary</td>\n",
       "      <td>Textiles, Apparel &amp; Luxury Goods</td>\n",
       "      <td>Consumer Durables &amp; Apparel</td>\n",
       "      <td>1.076000e+08</td>\n",
       "      <td>2023</td>\n",
       "      <td>7.340200e+07</td>\n",
       "      <td>34269000.0</td>\n",
       "      <td>28945000.0</td>\n",
       "      <td>...</td>\n",
       "      <td>0.062</td>\n",
       "      <td>0.081</td>\n",
       "      <td>0.081</td>\n",
       "      <td>0.121</td>\n",
       "      <td>0.121</td>\n",
       "      <td>0.128</td>\n",
       "      <td>0.128</td>\n",
       "      <td>0.186</td>\n",
       "      <td>0.186</td>\n",
       "      <td>0.149</td>\n",
       "    </tr>\n",
       "    <tr>\n",
       "      <th>18</th>\n",
       "      <td>1468</td>\n",
       "      <td>Kingkey Financial International (Holdings) Lim...</td>\n",
       "      <td>Financials</td>\n",
       "      <td>Capital Markets</td>\n",
       "      <td>Diversified Financials</td>\n",
       "      <td>1.554000e+09</td>\n",
       "      <td>2023</td>\n",
       "      <td>1.582000e+09</td>\n",
       "      <td>500100000.0</td>\n",
       "      <td>502800000.0</td>\n",
       "      <td>...</td>\n",
       "      <td>0.336</td>\n",
       "      <td>0.325</td>\n",
       "      <td>0.325</td>\n",
       "      <td>0.637</td>\n",
       "      <td>0.637</td>\n",
       "      <td>0.494</td>\n",
       "      <td>0.494</td>\n",
       "      <td>0.404</td>\n",
       "      <td>0.404</td>\n",
       "      <td>0.263</td>\n",
       "    </tr>\n",
       "    <tr>\n",
       "      <th>20</th>\n",
       "      <td>1243</td>\n",
       "      <td>Wang On Properties Limited</td>\n",
       "      <td>Real Estate</td>\n",
       "      <td>Real Estate Management &amp; Development</td>\n",
       "      <td>Real Estate</td>\n",
       "      <td>1.104000e+08</td>\n",
       "      <td>2023</td>\n",
       "      <td>1.594000e+08</td>\n",
       "      <td>242000000.0</td>\n",
       "      <td>327800000.0</td>\n",
       "      <td>...</td>\n",
       "      <td>0.886</td>\n",
       "      <td>1.015</td>\n",
       "      <td>1.015</td>\n",
       "      <td>0.98</td>\n",
       "      <td>0.98</td>\n",
       "      <td>0.941</td>\n",
       "      <td>0.941</td>\n",
       "      <td>0.767</td>\n",
       "      <td>0.767</td>\n",
       "      <td>0.807</td>\n",
       "    </tr>\n",
       "    <tr>\n",
       "      <th>25</th>\n",
       "      <td>1373</td>\n",
       "      <td>International Housewares Retail Company Limited</td>\n",
       "      <td>Consumer Discretionary</td>\n",
       "      <td>Specialty Retail</td>\n",
       "      <td>Retailing</td>\n",
       "      <td>2.586000e+08</td>\n",
       "      <td>2023</td>\n",
       "      <td>2.516000e+08</td>\n",
       "      <td>273000000.0</td>\n",
       "      <td>244100000.0</td>\n",
       "      <td>...</td>\n",
       "      <td>0.604</td>\n",
       "      <td>0.595</td>\n",
       "      <td>0.595</td>\n",
       "      <td>0.624</td>\n",
       "      <td>0.624</td>\n",
       "      <td>0.583</td>\n",
       "      <td>0.583</td>\n",
       "      <td>0.685</td>\n",
       "      <td>0.685</td>\n",
       "      <td>0.768</td>\n",
       "    </tr>\n",
       "    <tr>\n",
       "      <th>28</th>\n",
       "      <td>711</td>\n",
       "      <td>Asia Allied Infrastructure Holdings Limited</td>\n",
       "      <td>Industrials</td>\n",
       "      <td>Construction &amp; Engineering</td>\n",
       "      <td>Capital Goods</td>\n",
       "      <td>1.182000e+08</td>\n",
       "      <td>2023</td>\n",
       "      <td>3.034000e+08</td>\n",
       "      <td>286800000.0</td>\n",
       "      <td>292900000.0</td>\n",
       "      <td>...</td>\n",
       "      <td>1.322</td>\n",
       "      <td>1.252</td>\n",
       "      <td>1.252</td>\n",
       "      <td>1.43</td>\n",
       "      <td>1.43</td>\n",
       "      <td>1.095</td>\n",
       "      <td>1.095</td>\n",
       "      <td>1.185</td>\n",
       "      <td>1.185</td>\n",
       "      <td>1.202</td>\n",
       "    </tr>\n",
       "    <tr>\n",
       "      <th>30</th>\n",
       "      <td>938</td>\n",
       "      <td>Man Sang International Limited</td>\n",
       "      <td>Real Estate</td>\n",
       "      <td>Real Estate Management &amp; Development</td>\n",
       "      <td>Real Estate</td>\n",
       "      <td>1.377000e+08</td>\n",
       "      <td>2023</td>\n",
       "      <td>4.801000e+08</td>\n",
       "      <td>487200000.0</td>\n",
       "      <td>488300000.0</td>\n",
       "      <td>...</td>\n",
       "      <td>14.718</td>\n",
       "      <td>69.297</td>\n",
       "      <td>69.297</td>\n",
       "      <td>15.689</td>\n",
       "      <td>15.689</td>\n",
       "      <td>6.153</td>\n",
       "      <td>6.153</td>\n",
       "      <td>9.844</td>\n",
       "      <td>9.844</td>\n",
       "      <td>4.087</td>\n",
       "    </tr>\n",
       "    <tr>\n",
       "      <th>33</th>\n",
       "      <td>160</td>\n",
       "      <td>Hon Kwok Land Investment Company, Limited</td>\n",
       "      <td>Real Estate</td>\n",
       "      <td>Real Estate Management &amp; Development</td>\n",
       "      <td>Real Estate</td>\n",
       "      <td>1.946000e+08</td>\n",
       "      <td>2023</td>\n",
       "      <td>6.074000e+08</td>\n",
       "      <td>641700000.0</td>\n",
       "      <td>655200000.0</td>\n",
       "      <td>...</td>\n",
       "      <td>0.454</td>\n",
       "      <td>0.451</td>\n",
       "      <td>0.451</td>\n",
       "      <td>0.478</td>\n",
       "      <td>0.478</td>\n",
       "      <td>0.503</td>\n",
       "      <td>0.503</td>\n",
       "      <td>0.52</td>\n",
       "      <td>0.52</td>\n",
       "      <td>0.434</td>\n",
       "    </tr>\n",
       "    <tr>\n",
       "      <th>34</th>\n",
       "      <td>985</td>\n",
       "      <td>CST Group Limited</td>\n",
       "      <td>Financials</td>\n",
       "      <td>Capital Markets</td>\n",
       "      <td>Diversified Financials</td>\n",
       "      <td>1.078000e+08</td>\n",
       "      <td>2023</td>\n",
       "      <td>2.867000e+08</td>\n",
       "      <td>333700000.0</td>\n",
       "      <td>254600000.0</td>\n",
       "      <td>...</td>\n",
       "      <td>1.602</td>\n",
       "      <td>1.603</td>\n",
       "      <td>1.603</td>\n",
       "      <td>0.647</td>\n",
       "      <td>0.647</td>\n",
       "      <td>0.999</td>\n",
       "      <td>0.999</td>\n",
       "      <td>1.248</td>\n",
       "      <td>1.248</td>\n",
       "      <td>0.771</td>\n",
       "    </tr>\n",
       "    <tr>\n",
       "      <th>36</th>\n",
       "      <td>1726</td>\n",
       "      <td>HKE Holdings Limited</td>\n",
       "      <td>Industrials</td>\n",
       "      <td>Construction &amp; Engineering</td>\n",
       "      <td>Capital Goods</td>\n",
       "      <td>1.792000e+08</td>\n",
       "      <td>2023</td>\n",
       "      <td>1.706000e+08</td>\n",
       "      <td>51882000.0</td>\n",
       "      <td>68859000.0</td>\n",
       "      <td>...</td>\n",
       "      <td>0.048</td>\n",
       "      <td>0.038</td>\n",
       "      <td>0.038</td>\n",
       "      <td>0.0</td>\n",
       "      <td>0.0</td>\n",
       "      <td>0.001</td>\n",
       "      <td>0.001</td>\n",
       "      <td>0.002</td>\n",
       "      <td>0.002</td>\n",
       "      <td>0.002</td>\n",
       "    </tr>\n",
       "    <tr>\n",
       "      <th>47</th>\n",
       "      <td>213</td>\n",
       "      <td>National Electronics Holdings Limited</td>\n",
       "      <td>Consumer Discretionary</td>\n",
       "      <td>Textiles, Apparel &amp; Luxury Goods</td>\n",
       "      <td>Consumer Durables &amp; Apparel</td>\n",
       "      <td>1.113000e+08</td>\n",
       "      <td>2023</td>\n",
       "      <td>4.968000e+08</td>\n",
       "      <td>478800000.0</td>\n",
       "      <td>446000000.0</td>\n",
       "      <td>...</td>\n",
       "      <td>1.797</td>\n",
       "      <td>1.711</td>\n",
       "      <td>1.711</td>\n",
       "      <td>1.62</td>\n",
       "      <td>1.62</td>\n",
       "      <td>1.851</td>\n",
       "      <td>1.851</td>\n",
       "      <td>1.692</td>\n",
       "      <td>1.692</td>\n",
       "      <td>1.655</td>\n",
       "    </tr>\n",
       "    <tr>\n",
       "      <th>48</th>\n",
       "      <td>26</td>\n",
       "      <td>China Motor Bus Company, Limited</td>\n",
       "      <td>Real Estate</td>\n",
       "      <td>Real Estate Management &amp; Development</td>\n",
       "      <td>Real Estate</td>\n",
       "      <td>4.415000e+08</td>\n",
       "      <td>2023</td>\n",
       "      <td>3.616000e+08</td>\n",
       "      <td>421900000.0</td>\n",
       "      <td>429100000.0</td>\n",
       "      <td>...</td>\n",
       "      <td>0.000</td>\n",
       "      <td>0.0</td>\n",
       "      <td>0.0</td>\n",
       "      <td>0.0</td>\n",
       "      <td>0.0</td>\n",
       "      <td>0.0</td>\n",
       "      <td>0.0</td>\n",
       "      <td>0.0</td>\n",
       "      <td>0.0</td>\n",
       "      <td>0.0</td>\n",
       "    </tr>\n",
       "    <tr>\n",
       "      <th>49</th>\n",
       "      <td>129</td>\n",
       "      <td>Asia Standard International Group Limited</td>\n",
       "      <td>Real Estate</td>\n",
       "      <td>Real Estate Management &amp; Development</td>\n",
       "      <td>Real Estate</td>\n",
       "      <td>1.076000e+08</td>\n",
       "      <td>2023</td>\n",
       "      <td>1.091000e+09</td>\n",
       "      <td>830500000.0</td>\n",
       "      <td>825700000.0</td>\n",
       "      <td>...</td>\n",
       "      <td>1.085</td>\n",
       "      <td>1.071</td>\n",
       "      <td>1.071</td>\n",
       "      <td>0.801</td>\n",
       "      <td>0.801</td>\n",
       "      <td>0.868</td>\n",
       "      <td>0.868</td>\n",
       "      <td>1.008</td>\n",
       "      <td>1.008</td>\n",
       "      <td>0.808</td>\n",
       "    </tr>\n",
       "    <tr>\n",
       "      <th>55</th>\n",
       "      <td>391</td>\n",
       "      <td>Mei Ah Entertainment Group Limited</td>\n",
       "      <td>Communication Services</td>\n",
       "      <td>Entertainment</td>\n",
       "      <td>Media</td>\n",
       "      <td>2.000000e+08</td>\n",
       "      <td>2023</td>\n",
       "      <td>2.270000e+08</td>\n",
       "      <td>98554000.0</td>\n",
       "      <td>101000000.0</td>\n",
       "      <td>...</td>\n",
       "      <td>0.716</td>\n",
       "      <td>0.669</td>\n",
       "      <td>0.669</td>\n",
       "      <td>0.654</td>\n",
       "      <td>0.654</td>\n",
       "      <td>0.618</td>\n",
       "      <td>0.618</td>\n",
       "      <td>0.549</td>\n",
       "      <td>0.549</td>\n",
       "      <td>0.454</td>\n",
       "    </tr>\n",
       "    <tr>\n",
       "      <th>56</th>\n",
       "      <td>992</td>\n",
       "      <td>Lenovo Group Limited</td>\n",
       "      <td>Information Technology</td>\n",
       "      <td>Technology Hardware, Storage &amp; Peripherals</td>\n",
       "      <td>Technology Hardware &amp; Equipment</td>\n",
       "      <td>1.358100e+10</td>\n",
       "      <td>2023</td>\n",
       "      <td>1.260100e+10</td>\n",
       "      <td>7690000000.0</td>\n",
       "      <td>10457000000.0</td>\n",
       "      <td>...</td>\n",
       "      <td>0.862</td>\n",
       "      <td>1.128</td>\n",
       "      <td>1.313</td>\n",
       "      <td>1.352</td>\n",
       "      <td>1.599</td>\n",
       "      <td>1.598</td>\n",
       "      <td>1.914</td>\n",
       "      <td>2.047</td>\n",
       "      <td>2.179</td>\n",
       "      <td>1.97</td>\n",
       "    </tr>\n",
       "    <tr>\n",
       "      <th>57</th>\n",
       "      <td>1140</td>\n",
       "      <td>Wealthking Investments Limited</td>\n",
       "      <td>Financials</td>\n",
       "      <td>Capital Markets</td>\n",
       "      <td>Diversified Financials</td>\n",
       "      <td>4.959000e+08</td>\n",
       "      <td>2023</td>\n",
       "      <td>2.332700e+07</td>\n",
       "      <td>397300000.0</td>\n",
       "      <td>5587000.0</td>\n",
       "      <td>...</td>\n",
       "      <td>0.339</td>\n",
       "      <td>0.09</td>\n",
       "      <td>0.09</td>\n",
       "      <td>0.128</td>\n",
       "      <td>0.128</td>\n",
       "      <td>0.075</td>\n",
       "      <td>0.075</td>\n",
       "      <td>0.143</td>\n",
       "      <td>0.143</td>\n",
       "      <td>0.081</td>\n",
       "    </tr>\n",
       "    <tr>\n",
       "      <th>62</th>\n",
       "      <td>113</td>\n",
       "      <td>Dickson Concepts (International) Limited</td>\n",
       "      <td>Consumer Discretionary</td>\n",
       "      <td>Specialty Retail</td>\n",
       "      <td>Retailing</td>\n",
       "      <td>2.019000e+08</td>\n",
       "      <td>2023</td>\n",
       "      <td>2.713200e+07</td>\n",
       "      <td>23157000.0</td>\n",
       "      <td>-8014000.0</td>\n",
       "      <td>...</td>\n",
       "      <td>0.593</td>\n",
       "      <td>0.616</td>\n",
       "      <td>0.616</td>\n",
       "      <td>0.505</td>\n",
       "      <td>0.505</td>\n",
       "      <td>0.628</td>\n",
       "      <td>0.628</td>\n",
       "      <td>0.711</td>\n",
       "      <td>0.711</td>\n",
       "      <td>0.669</td>\n",
       "    </tr>\n",
       "    <tr>\n",
       "      <th>67</th>\n",
       "      <td>53</td>\n",
       "      <td>Guoco Group Limited</td>\n",
       "      <td>Industrials</td>\n",
       "      <td>Industrial Conglomerates</td>\n",
       "      <td>Capital Goods</td>\n",
       "      <td>2.850000e+09</td>\n",
       "      <td>2023</td>\n",
       "      <td>5.431000e+09</td>\n",
       "      <td>5814000000.0</td>\n",
       "      <td>6326000000.0</td>\n",
       "      <td>...</td>\n",
       "      <td>0.791</td>\n",
       "      <td>0.854</td>\n",
       "      <td>0.854</td>\n",
       "      <td>0.768</td>\n",
       "      <td>0.768</td>\n",
       "      <td>0.798</td>\n",
       "      <td>0.798</td>\n",
       "      <td>0.812</td>\n",
       "      <td>0.812</td>\n",
       "      <td>0.81</td>\n",
       "    </tr>\n",
       "    <tr>\n",
       "      <th>68</th>\n",
       "      <td>677</td>\n",
       "      <td>Golden Resources Development International Lim...</td>\n",
       "      <td>Consumer Staples</td>\n",
       "      <td>Food &amp; Staples Retailing</td>\n",
       "      <td>Food &amp; Staples Retailing</td>\n",
       "      <td>2.789000e+08</td>\n",
       "      <td>2023</td>\n",
       "      <td>2.363000e+08</td>\n",
       "      <td>69293000.0</td>\n",
       "      <td>57182000.0</td>\n",
       "      <td>...</td>\n",
       "      <td>0.325</td>\n",
       "      <td>0.336</td>\n",
       "      <td>0.336</td>\n",
       "      <td>0.25</td>\n",
       "      <td>0.25</td>\n",
       "      <td>0.231</td>\n",
       "      <td>0.231</td>\n",
       "      <td>0.258</td>\n",
       "      <td>0.258</td>\n",
       "      <td>0.252</td>\n",
       "    </tr>\n",
       "    <tr>\n",
       "      <th>72</th>\n",
       "      <td>147</td>\n",
       "      <td>International Business Settlement Holdings Lim...</td>\n",
       "      <td>Real Estate</td>\n",
       "      <td>Real Estate Management &amp; Development</td>\n",
       "      <td>Real Estate</td>\n",
       "      <td>1.812000e+08</td>\n",
       "      <td>2023</td>\n",
       "      <td>2.614000e+08</td>\n",
       "      <td>353500000.0</td>\n",
       "      <td>418900000.0</td>\n",
       "      <td>...</td>\n",
       "      <td>1.386</td>\n",
       "      <td>1.154</td>\n",
       "      <td>1.154</td>\n",
       "      <td>1.145</td>\n",
       "      <td>1.145</td>\n",
       "      <td>0.849</td>\n",
       "      <td>0.849</td>\n",
       "      <td>0.792</td>\n",
       "      <td>0.792</td>\n",
       "      <td>0.609</td>\n",
       "    </tr>\n",
       "    <tr>\n",
       "      <th>75</th>\n",
       "      <td>57</td>\n",
       "      <td>Chen Hsong Holdings Limited</td>\n",
       "      <td>Industrials</td>\n",
       "      <td>Machinery</td>\n",
       "      <td>Capital Goods</td>\n",
       "      <td>1.470000e+08</td>\n",
       "      <td>2023</td>\n",
       "      <td>5.872400e+07</td>\n",
       "      <td>85161000.0</td>\n",
       "      <td>66503000.0</td>\n",
       "      <td>...</td>\n",
       "      <td>0.009</td>\n",
       "      <td>0.008</td>\n",
       "      <td>0.008</td>\n",
       "      <td>0.024</td>\n",
       "      <td>0.024</td>\n",
       "      <td>0.036</td>\n",
       "      <td>0.036</td>\n",
       "      <td>0.038</td>\n",
       "      <td>0.038</td>\n",
       "      <td>0.03</td>\n",
       "    </tr>\n",
       "    <tr>\n",
       "      <th>77</th>\n",
       "      <td>259</td>\n",
       "      <td>Yeebo (International Holdings) Limited</td>\n",
       "      <td>Information Technology</td>\n",
       "      <td>Electronic Equipment, Instruments &amp; Components</td>\n",
       "      <td>Technology Hardware &amp; Equipment</td>\n",
       "      <td>3.626000e+08</td>\n",
       "      <td>2023</td>\n",
       "      <td>1.041000e+08</td>\n",
       "      <td>168900000.0</td>\n",
       "      <td>63953000.0</td>\n",
       "      <td>...</td>\n",
       "      <td>0.008</td>\n",
       "      <td>0.008</td>\n",
       "      <td>0.008</td>\n",
       "      <td>0.007</td>\n",
       "      <td>0.007</td>\n",
       "      <td>0.006</td>\n",
       "      <td>0.006</td>\n",
       "      <td>0.008</td>\n",
       "      <td>0.008</td>\n",
       "      <td>0.006</td>\n",
       "    </tr>\n",
       "    <tr>\n",
       "      <th>78</th>\n",
       "      <td>411</td>\n",
       "      <td>Lam Soon (Hong Kong) Limited</td>\n",
       "      <td>Consumer Staples</td>\n",
       "      <td>Food Products</td>\n",
       "      <td>Food, Beverage &amp; Tobacco</td>\n",
       "      <td>2.945000e+08</td>\n",
       "      <td>2023</td>\n",
       "      <td>1.044000e+08</td>\n",
       "      <td>86176000.0</td>\n",
       "      <td>130200000.0</td>\n",
       "      <td>...</td>\n",
       "      <td>0.001</td>\n",
       "      <td>0.002</td>\n",
       "      <td>0.002</td>\n",
       "      <td>0.002</td>\n",
       "      <td>0.002</td>\n",
       "      <td>0.003</td>\n",
       "      <td>0.003</td>\n",
       "      <td>0.002</td>\n",
       "      <td>0.002</td>\n",
       "      <td>0.002</td>\n",
       "    </tr>\n",
       "    <tr>\n",
       "      <th>85</th>\n",
       "      <td>306</td>\n",
       "      <td>Kwoon Chung Bus Holdings Limited</td>\n",
       "      <td>Industrials</td>\n",
       "      <td>Road &amp; Rail</td>\n",
       "      <td>Transportation</td>\n",
       "      <td>1.391000e+08</td>\n",
       "      <td>2023</td>\n",
       "      <td>3.117000e+08</td>\n",
       "      <td>325500000.0</td>\n",
       "      <td>294900000.0</td>\n",
       "      <td>...</td>\n",
       "      <td>0.946</td>\n",
       "      <td>0.949</td>\n",
       "      <td>0.949</td>\n",
       "      <td>0.892</td>\n",
       "      <td>0.892</td>\n",
       "      <td>0.956</td>\n",
       "      <td>0.956</td>\n",
       "      <td>0.922</td>\n",
       "      <td>0.922</td>\n",
       "      <td>0.932</td>\n",
       "    </tr>\n",
       "    <tr>\n",
       "      <th>86</th>\n",
       "      <td>931</td>\n",
       "      <td>China LNG Group Limited</td>\n",
       "      <td>Energy</td>\n",
       "      <td>Oil, Gas &amp; Consumable Fuels</td>\n",
       "      <td>Energy</td>\n",
       "      <td>2.696000e+08</td>\n",
       "      <td>2023</td>\n",
       "      <td>3.381000e+08</td>\n",
       "      <td>358600000.0</td>\n",
       "      <td>312400000.0</td>\n",
       "      <td>...</td>\n",
       "      <td>2.871</td>\n",
       "      <td>154.241</td>\n",
       "      <td>154.241</td>\n",
       "      <td>6.742</td>\n",
       "      <td>6.742</td>\n",
       "      <td>5.801</td>\n",
       "      <td>5.801</td>\n",
       "      <td>4.288</td>\n",
       "      <td>4.288</td>\n",
       "      <td>1.902</td>\n",
       "    </tr>\n",
       "    <tr>\n",
       "      <th>87</th>\n",
       "      <td>163</td>\n",
       "      <td>Emperor International Holdings Limited</td>\n",
       "      <td>Real Estate</td>\n",
       "      <td>Real Estate Management &amp; Development</td>\n",
       "      <td>Real Estate</td>\n",
       "      <td>3.139000e+08</td>\n",
       "      <td>2023</td>\n",
       "      <td>2.983000e+09</td>\n",
       "      <td>3148000000.0</td>\n",
       "      <td>3337000000.0</td>\n",
       "      <td>...</td>\n",
       "      <td>0.850</td>\n",
       "      <td>0.894</td>\n",
       "      <td>0.894</td>\n",
       "      <td>1.009</td>\n",
       "      <td>1.009</td>\n",
       "      <td>1.045</td>\n",
       "      <td>1.045</td>\n",
       "      <td>0.997</td>\n",
       "      <td>0.997</td>\n",
       "      <td>0.82</td>\n",
       "    </tr>\n",
       "    <tr>\n",
       "      <th>90</th>\n",
       "      <td>18</td>\n",
       "      <td>Oriental Enterprise Holdings Limited</td>\n",
       "      <td>Communication Services</td>\n",
       "      <td>Media</td>\n",
       "      <td>Media</td>\n",
       "      <td>1.833000e+08</td>\n",
       "      <td>2023</td>\n",
       "      <td>9.251300e+07</td>\n",
       "      <td>138200000.0</td>\n",
       "      <td>129800000.0</td>\n",
       "      <td>...</td>\n",
       "      <td>0.004</td>\n",
       "      <td>0.004</td>\n",
       "      <td>0.004</td>\n",
       "      <td>0.004</td>\n",
       "      <td>0.004</td>\n",
       "      <td>0.004</td>\n",
       "      <td>0.004</td>\n",
       "      <td>0.003</td>\n",
       "      <td>0.003</td>\n",
       "      <td>0.004</td>\n",
       "    </tr>\n",
       "    <tr>\n",
       "      <th>96</th>\n",
       "      <td>1499</td>\n",
       "      <td>OKG Technology Holdings Limited</td>\n",
       "      <td>Industrials</td>\n",
       "      <td>Construction &amp; Engineering</td>\n",
       "      <td>Capital Goods</td>\n",
       "      <td>2.429000e+08</td>\n",
       "      <td>2023</td>\n",
       "      <td>3.072000e+08</td>\n",
       "      <td>174400000.0</td>\n",
       "      <td>142600000.0</td>\n",
       "      <td>...</td>\n",
       "      <td>3.682</td>\n",
       "      <td>0.547</td>\n",
       "      <td>0.547</td>\n",
       "      <td>0.687</td>\n",
       "      <td>0.687</td>\n",
       "      <td>0.587</td>\n",
       "      <td>0.587</td>\n",
       "      <td>0.59</td>\n",
       "      <td>0.59</td>\n",
       "      <td>0.621</td>\n",
       "    </tr>\n",
       "    <tr>\n",
       "      <th>105</th>\n",
       "      <td>374</td>\n",
       "      <td>Four Seas Mercantile Holdings Limited</td>\n",
       "      <td>Consumer Staples</td>\n",
       "      <td>Food Products</td>\n",
       "      <td>Food, Beverage &amp; Tobacco</td>\n",
       "      <td>1.302000e+08</td>\n",
       "      <td>2023</td>\n",
       "      <td>1.835000e+08</td>\n",
       "      <td>198800000.0</td>\n",
       "      <td>216100000.0</td>\n",
       "      <td>...</td>\n",
       "      <td>0.990</td>\n",
       "      <td>1.112</td>\n",
       "      <td>1.112</td>\n",
       "      <td>1.088</td>\n",
       "      <td>1.088</td>\n",
       "      <td>1.341</td>\n",
       "      <td>1.341</td>\n",
       "      <td>0.914</td>\n",
       "      <td>0.914</td>\n",
       "      <td>0.874</td>\n",
       "    </tr>\n",
       "    <tr>\n",
       "      <th>107</th>\n",
       "      <td>9913</td>\n",
       "      <td>Chi Kan Holdings Limited</td>\n",
       "      <td>Industrials</td>\n",
       "      <td>Construction &amp; Engineering</td>\n",
       "      <td>Capital Goods</td>\n",
       "      <td>2.701000e+08</td>\n",
       "      <td>2023</td>\n",
       "      <td>2.521000e+08</td>\n",
       "      <td>301400000.0</td>\n",
       "      <td>365900000.0</td>\n",
       "      <td>...</td>\n",
       "      <td>0.042</td>\n",
       "      <td>0.031</td>\n",
       "      <td>0.031</td>\n",
       "      <td>0.03</td>\n",
       "      <td>0.03</td>\n",
       "      <td>0.003</td>\n",
       "      <td>0.003</td>\n",
       "      <td>0.006</td>\n",
       "      <td>0.006</td>\n",
       "      <td>nan</td>\n",
       "    </tr>\n",
       "    <tr>\n",
       "      <th>109</th>\n",
       "      <td>1942</td>\n",
       "      <td>MOG Holdings Limited</td>\n",
       "      <td>Consumer Discretionary</td>\n",
       "      <td>Specialty Retail</td>\n",
       "      <td>Retailing</td>\n",
       "      <td>1.543000e+09</td>\n",
       "      <td>2023</td>\n",
       "      <td>1.474000e+09</td>\n",
       "      <td>90555000.0</td>\n",
       "      <td>53108000.0</td>\n",
       "      <td>...</td>\n",
       "      <td>0.139</td>\n",
       "      <td>0.153</td>\n",
       "      <td>0.153</td>\n",
       "      <td>0.17</td>\n",
       "      <td>0.17</td>\n",
       "      <td>0.168</td>\n",
       "      <td>0.168</td>\n",
       "      <td>0.338</td>\n",
       "      <td>0.338</td>\n",
       "      <td>0.375</td>\n",
       "    </tr>\n",
       "    <tr>\n",
       "      <th>110</th>\n",
       "      <td>1283</td>\n",
       "      <td>Accel Group Holdings Limited</td>\n",
       "      <td>Industrials</td>\n",
       "      <td>Construction &amp; Engineering</td>\n",
       "      <td>Capital Goods</td>\n",
       "      <td>1.294000e+08</td>\n",
       "      <td>2023</td>\n",
       "      <td>1.212000e+08</td>\n",
       "      <td>151200000.0</td>\n",
       "      <td>136300000.0</td>\n",
       "      <td>...</td>\n",
       "      <td>0.049</td>\n",
       "      <td>0.033</td>\n",
       "      <td>0.033</td>\n",
       "      <td>0.055</td>\n",
       "      <td>0.055</td>\n",
       "      <td>0.017</td>\n",
       "      <td>0.017</td>\n",
       "      <td>0.011</td>\n",
       "      <td>0.011</td>\n",
       "      <td>0.076</td>\n",
       "    </tr>\n",
       "  </tbody>\n",
       "</table>\n",
       "<p>37 rows × 111 columns</p>\n",
       "</div>"
      ],
      "text/plain": [
       "    Ticker                                               Name  \\\n",
       "0      199                       ITC Properties Group Limited   \n",
       "1     2322                  Hong Kong ChaoShang Group Limited   \n",
       "5      179                  Johnson Electric Holdings Limited   \n",
       "9      989             Hua Yin International Holdings Limited   \n",
       "10     105            Associated International Hotels Limited   \n",
       "12      25           Chevalier International Holdings Limited   \n",
       "13    1023                       Sitoy Group Holdings Limited   \n",
       "18    1468  Kingkey Financial International (Holdings) Lim...   \n",
       "20    1243                         Wang On Properties Limited   \n",
       "25    1373    International Housewares Retail Company Limited   \n",
       "28     711        Asia Allied Infrastructure Holdings Limited   \n",
       "30     938                     Man Sang International Limited   \n",
       "33     160          Hon Kwok Land Investment Company, Limited   \n",
       "34     985                                  CST Group Limited   \n",
       "36    1726                               HKE Holdings Limited   \n",
       "47     213              National Electronics Holdings Limited   \n",
       "48      26                   China Motor Bus Company, Limited   \n",
       "49     129          Asia Standard International Group Limited   \n",
       "55     391                 Mei Ah Entertainment Group Limited   \n",
       "56     992                               Lenovo Group Limited   \n",
       "57    1140                     Wealthking Investments Limited   \n",
       "62     113           Dickson Concepts (International) Limited   \n",
       "67      53                                Guoco Group Limited   \n",
       "68     677  Golden Resources Development International Lim...   \n",
       "72     147  International Business Settlement Holdings Lim...   \n",
       "75      57                        Chen Hsong Holdings Limited   \n",
       "77     259             Yeebo (International Holdings) Limited   \n",
       "78     411                       Lam Soon (Hong Kong) Limited   \n",
       "85     306                   Kwoon Chung Bus Holdings Limited   \n",
       "86     931                            China LNG Group Limited   \n",
       "87     163             Emperor International Holdings Limited   \n",
       "90      18               Oriental Enterprise Holdings Limited   \n",
       "96    1499                    OKG Technology Holdings Limited   \n",
       "105    374              Four Seas Mercantile Holdings Limited   \n",
       "107   9913                           Chi Kan Holdings Limited   \n",
       "109   1942                               MOG Holdings Limited   \n",
       "110   1283                       Accel Group Holdings Limited   \n",
       "\n",
       "                     Sector                                        Industry  \\\n",
       "0               Real Estate            Real Estate Management & Development   \n",
       "1               Industrials                Trading Companies & Distributors   \n",
       "5    Consumer Discretionary                                 Auto Components   \n",
       "9               Real Estate            Real Estate Management & Development   \n",
       "10              Real Estate            Real Estate Management & Development   \n",
       "12              Industrials                        Industrial Conglomerates   \n",
       "13   Consumer Discretionary                Textiles, Apparel & Luxury Goods   \n",
       "18               Financials                                 Capital Markets   \n",
       "20              Real Estate            Real Estate Management & Development   \n",
       "25   Consumer Discretionary                                Specialty Retail   \n",
       "28              Industrials                      Construction & Engineering   \n",
       "30              Real Estate            Real Estate Management & Development   \n",
       "33              Real Estate            Real Estate Management & Development   \n",
       "34               Financials                                 Capital Markets   \n",
       "36              Industrials                      Construction & Engineering   \n",
       "47   Consumer Discretionary                Textiles, Apparel & Luxury Goods   \n",
       "48              Real Estate            Real Estate Management & Development   \n",
       "49              Real Estate            Real Estate Management & Development   \n",
       "55   Communication Services                                   Entertainment   \n",
       "56   Information Technology      Technology Hardware, Storage & Peripherals   \n",
       "57               Financials                                 Capital Markets   \n",
       "62   Consumer Discretionary                                Specialty Retail   \n",
       "67              Industrials                        Industrial Conglomerates   \n",
       "68         Consumer Staples                        Food & Staples Retailing   \n",
       "72              Real Estate            Real Estate Management & Development   \n",
       "75              Industrials                                       Machinery   \n",
       "77   Information Technology  Electronic Equipment, Instruments & Components   \n",
       "78         Consumer Staples                                   Food Products   \n",
       "85              Industrials                                     Road & Rail   \n",
       "86                   Energy                     Oil, Gas & Consumable Fuels   \n",
       "87              Real Estate            Real Estate Management & Development   \n",
       "90   Communication Services                                           Media   \n",
       "96              Industrials                      Construction & Engineering   \n",
       "105        Consumer Staples                                   Food Products   \n",
       "107             Industrials                      Construction & Engineering   \n",
       "109  Consumer Discretionary                                Specialty Retail   \n",
       "110             Industrials                      Construction & Engineering   \n",
       "\n",
       "                      Industry Group    Market Cap Last Reported Fiscal Year  \\\n",
       "0                        Real Estate  1.221000e+08                      2023   \n",
       "1                      Capital Goods  3.832000e+08                      2023   \n",
       "5           Automobiles & Components  1.056000e+09                      2023   \n",
       "9                        Real Estate  3.854000e+08                      2023   \n",
       "10                       Real Estate  4.297000e+08                      2023   \n",
       "12                     Capital Goods  2.712000e+08                      2023   \n",
       "13       Consumer Durables & Apparel  1.076000e+08                      2023   \n",
       "18            Diversified Financials  1.554000e+09                      2023   \n",
       "20                       Real Estate  1.104000e+08                      2023   \n",
       "25                         Retailing  2.586000e+08                      2023   \n",
       "28                     Capital Goods  1.182000e+08                      2023   \n",
       "30                       Real Estate  1.377000e+08                      2023   \n",
       "33                       Real Estate  1.946000e+08                      2023   \n",
       "34            Diversified Financials  1.078000e+08                      2023   \n",
       "36                     Capital Goods  1.792000e+08                      2023   \n",
       "47       Consumer Durables & Apparel  1.113000e+08                      2023   \n",
       "48                       Real Estate  4.415000e+08                      2023   \n",
       "49                       Real Estate  1.076000e+08                      2023   \n",
       "55                             Media  2.000000e+08                      2023   \n",
       "56   Technology Hardware & Equipment  1.358100e+10                      2023   \n",
       "57            Diversified Financials  4.959000e+08                      2023   \n",
       "62                         Retailing  2.019000e+08                      2023   \n",
       "67                     Capital Goods  2.850000e+09                      2023   \n",
       "68          Food & Staples Retailing  2.789000e+08                      2023   \n",
       "72                       Real Estate  1.812000e+08                      2023   \n",
       "75                     Capital Goods  1.470000e+08                      2023   \n",
       "77   Technology Hardware & Equipment  3.626000e+08                      2023   \n",
       "78          Food, Beverage & Tobacco  2.945000e+08                      2023   \n",
       "85                    Transportation  1.391000e+08                      2023   \n",
       "86                            Energy  2.696000e+08                      2023   \n",
       "87                       Real Estate  3.139000e+08                      2023   \n",
       "90                             Media  1.833000e+08                      2023   \n",
       "96                     Capital Goods  2.429000e+08                      2023   \n",
       "105         Food, Beverage & Tobacco  1.302000e+08                      2023   \n",
       "107                    Capital Goods  2.701000e+08                      2023   \n",
       "109                        Retailing  1.543000e+09                      2023   \n",
       "110                    Capital Goods  1.294000e+08                      2023   \n",
       "\n",
       "               EV       EV FQ-1        EV FQ-2  ... Debt / Equity FQ-3  \\\n",
       "0    4.833800e+07    75623000.0    101000000.0  ...              0.515   \n",
       "1    3.652000e+08   438800000.0    409700000.0  ...              0.015   \n",
       "5    1.265000e+09  1435000000.0   1384000000.0  ...              0.256   \n",
       "9    5.113000e+08   592700000.0    537900000.0  ...             -4.184   \n",
       "10   3.898000e+08   496900000.0    536100000.0  ...              0.021   \n",
       "12   1.794000e+08   234600000.0    169600000.0  ...              0.413   \n",
       "13   7.340200e+07    34269000.0     28945000.0  ...              0.062   \n",
       "18   1.582000e+09   500100000.0    502800000.0  ...              0.336   \n",
       "20   1.594000e+08   242000000.0    327800000.0  ...              0.886   \n",
       "25   2.516000e+08   273000000.0    244100000.0  ...              0.604   \n",
       "28   3.034000e+08   286800000.0    292900000.0  ...              1.322   \n",
       "30   4.801000e+08   487200000.0    488300000.0  ...             14.718   \n",
       "33   6.074000e+08   641700000.0    655200000.0  ...              0.454   \n",
       "34   2.867000e+08   333700000.0    254600000.0  ...              1.602   \n",
       "36   1.706000e+08    51882000.0     68859000.0  ...              0.048   \n",
       "47   4.968000e+08   478800000.0    446000000.0  ...              1.797   \n",
       "48   3.616000e+08   421900000.0    429100000.0  ...              0.000   \n",
       "49   1.091000e+09   830500000.0    825700000.0  ...              1.085   \n",
       "55   2.270000e+08    98554000.0    101000000.0  ...              0.716   \n",
       "56   1.260100e+10  7690000000.0  10457000000.0  ...              0.862   \n",
       "57   2.332700e+07   397300000.0      5587000.0  ...              0.339   \n",
       "62   2.713200e+07    23157000.0     -8014000.0  ...              0.593   \n",
       "67   5.431000e+09  5814000000.0   6326000000.0  ...              0.791   \n",
       "68   2.363000e+08    69293000.0     57182000.0  ...              0.325   \n",
       "72   2.614000e+08   353500000.0    418900000.0  ...              1.386   \n",
       "75   5.872400e+07    85161000.0     66503000.0  ...              0.009   \n",
       "77   1.041000e+08   168900000.0     63953000.0  ...              0.008   \n",
       "78   1.044000e+08    86176000.0    130200000.0  ...              0.001   \n",
       "85   3.117000e+08   325500000.0    294900000.0  ...              0.946   \n",
       "86   3.381000e+08   358600000.0    312400000.0  ...              2.871   \n",
       "87   2.983000e+09  3148000000.0   3337000000.0  ...              0.850   \n",
       "90   9.251300e+07   138200000.0    129800000.0  ...              0.004   \n",
       "96   3.072000e+08   174400000.0    142600000.0  ...              3.682   \n",
       "105  1.835000e+08   198800000.0    216100000.0  ...              0.990   \n",
       "107  2.521000e+08   301400000.0    365900000.0  ...              0.042   \n",
       "109  1.474000e+09    90555000.0     53108000.0  ...              0.139   \n",
       "110  1.212000e+08   151200000.0    136300000.0  ...              0.049   \n",
       "\n",
       "    Debt / Equity FQ-4 Debt / Equity FQ-5 Debt / Equity FQ-6  \\\n",
       "0                0.899              0.899              0.773   \n",
       "1                0.007              0.007              0.021   \n",
       "5                 0.28               0.28              0.213   \n",
       "9                 -4.0               -4.0             -3.746   \n",
       "10                0.02               0.02              0.019   \n",
       "12               0.414              0.414              0.381   \n",
       "13               0.081              0.081              0.121   \n",
       "18               0.325              0.325              0.637   \n",
       "20               1.015              1.015               0.98   \n",
       "25               0.595              0.595              0.624   \n",
       "28               1.252              1.252               1.43   \n",
       "30              69.297             69.297             15.689   \n",
       "33               0.451              0.451              0.478   \n",
       "34               1.603              1.603              0.647   \n",
       "36               0.038              0.038                0.0   \n",
       "47               1.711              1.711               1.62   \n",
       "48                 0.0                0.0                0.0   \n",
       "49               1.071              1.071              0.801   \n",
       "55               0.669              0.669              0.654   \n",
       "56               1.128              1.313              1.352   \n",
       "57                0.09               0.09              0.128   \n",
       "62               0.616              0.616              0.505   \n",
       "67               0.854              0.854              0.768   \n",
       "68               0.336              0.336               0.25   \n",
       "72               1.154              1.154              1.145   \n",
       "75               0.008              0.008              0.024   \n",
       "77               0.008              0.008              0.007   \n",
       "78               0.002              0.002              0.002   \n",
       "85               0.949              0.949              0.892   \n",
       "86             154.241            154.241              6.742   \n",
       "87               0.894              0.894              1.009   \n",
       "90               0.004              0.004              0.004   \n",
       "96               0.547              0.547              0.687   \n",
       "105              1.112              1.112              1.088   \n",
       "107              0.031              0.031               0.03   \n",
       "109              0.153              0.153               0.17   \n",
       "110              0.033              0.033              0.055   \n",
       "\n",
       "    Debt / Equity FQ-7 Debt / Equity FQ-8 Debt / Equity FQ-9  \\\n",
       "0                0.773              0.836              0.836   \n",
       "1                0.021              0.028              0.028   \n",
       "5                0.213              0.247              0.247   \n",
       "9               -3.746             -1.337             -1.337   \n",
       "10               0.019              0.017              0.017   \n",
       "12               0.381               0.38               0.38   \n",
       "13               0.121              0.128              0.128   \n",
       "18               0.637              0.494              0.494   \n",
       "20                0.98              0.941              0.941   \n",
       "25               0.624              0.583              0.583   \n",
       "28                1.43              1.095              1.095   \n",
       "30              15.689              6.153              6.153   \n",
       "33               0.478              0.503              0.503   \n",
       "34               0.647              0.999              0.999   \n",
       "36                 0.0              0.001              0.001   \n",
       "47                1.62              1.851              1.851   \n",
       "48                 0.0                0.0                0.0   \n",
       "49               0.801              0.868              0.868   \n",
       "55               0.654              0.618              0.618   \n",
       "56               1.599              1.598              1.914   \n",
       "57               0.128              0.075              0.075   \n",
       "62               0.505              0.628              0.628   \n",
       "67               0.768              0.798              0.798   \n",
       "68                0.25              0.231              0.231   \n",
       "72               1.145              0.849              0.849   \n",
       "75               0.024              0.036              0.036   \n",
       "77               0.007              0.006              0.006   \n",
       "78               0.002              0.003              0.003   \n",
       "85               0.892              0.956              0.956   \n",
       "86               6.742              5.801              5.801   \n",
       "87               1.009              1.045              1.045   \n",
       "90               0.004              0.004              0.004   \n",
       "96               0.687              0.587              0.587   \n",
       "105              1.088              1.341              1.341   \n",
       "107               0.03              0.003              0.003   \n",
       "109               0.17              0.168              0.168   \n",
       "110              0.055              0.017              0.017   \n",
       "\n",
       "    Debt / Equity FQ-10 Debt / Equity FQ-11 Debt / Equity FQ-12  \n",
       "0                 0.839               0.839               0.847  \n",
       "1                 0.037               0.037               0.044  \n",
       "5                  0.26                0.26               0.224  \n",
       "9                -1.472              -1.472               1.822  \n",
       "10                0.016               0.016               0.015  \n",
       "12                0.397               0.397               0.407  \n",
       "13                0.186               0.186               0.149  \n",
       "18                0.404               0.404               0.263  \n",
       "20                0.767               0.767               0.807  \n",
       "25                0.685               0.685               0.768  \n",
       "28                1.185               1.185               1.202  \n",
       "30                9.844               9.844               4.087  \n",
       "33                 0.52                0.52               0.434  \n",
       "34                1.248               1.248               0.771  \n",
       "36                0.002               0.002               0.002  \n",
       "47                1.692               1.692               1.655  \n",
       "48                  0.0                 0.0                 0.0  \n",
       "49                1.008               1.008               0.808  \n",
       "55                0.549               0.549               0.454  \n",
       "56                2.047               2.179                1.97  \n",
       "57                0.143               0.143               0.081  \n",
       "62                0.711               0.711               0.669  \n",
       "67                0.812               0.812                0.81  \n",
       "68                0.258               0.258               0.252  \n",
       "72                0.792               0.792               0.609  \n",
       "75                0.038               0.038                0.03  \n",
       "77                0.008               0.008               0.006  \n",
       "78                0.002               0.002               0.002  \n",
       "85                0.922               0.922               0.932  \n",
       "86                4.288               4.288               1.902  \n",
       "87                0.997               0.997                0.82  \n",
       "90                0.003               0.003               0.004  \n",
       "96                 0.59                0.59               0.621  \n",
       "105               0.914               0.914               0.874  \n",
       "107               0.006               0.006                 nan  \n",
       "109               0.338               0.338               0.375  \n",
       "110               0.011               0.011               0.076  \n",
       "\n",
       "[37 rows x 111 columns]"
      ]
     },
     "execution_count": 289,
     "metadata": {},
     "output_type": "execute_result"
    }
   ],
   "source": [
    "ML_data"
   ]
  },
  {
   "cell_type": "code",
   "execution_count": 290,
   "id": "aa933c0b-b00e-4d83-9d51-de3302553a86",
   "metadata": {
    "tags": []
   },
   "outputs": [],
   "source": [
    "ratio_ticker_list = list(ML_data.Ticker)\n",
    "ratio_ticker_list_new = []\n",
    "\n",
    "for elem in ratio_ticker_list:\n",
    "    ratio_ticker_list_new.append(elem+'.HK')"
   ]
  },
  {
   "cell_type": "code",
   "execution_count": 291,
   "id": "8ef8f800-9416-4cab-aa99-d3b5a8af091e",
   "metadata": {
    "tags": []
   },
   "outputs": [],
   "source": [
    "asset_ticker_list = list(asset_prices.columns)\n",
    "\n",
    "combined_tickers = [value for value in asset_ticker_list if value in ratio_ticker_list_new]"
   ]
  },
  {
   "cell_type": "code",
   "execution_count": 292,
   "id": "76733596-e6e6-458c-9af6-6249f969a795",
   "metadata": {
    "tags": []
   },
   "outputs": [],
   "source": [
    "combined_tickers\n",
    "combined_ticker_int = []\n",
    "\n",
    "for elem in combined_tickers:\n",
    "    combined_ticker_int.append(elem[:-3])"
   ]
  },
  {
   "cell_type": "code",
   "execution_count": 296,
   "id": "b3b75e17-ba63-42b7-9f32-d7ae55256ffe",
   "metadata": {
    "tags": []
   },
   "outputs": [
    {
     "data": {
      "text/html": [
       "<div>\n",
       "<style scoped>\n",
       "    .dataframe tbody tr th:only-of-type {\n",
       "        vertical-align: middle;\n",
       "    }\n",
       "\n",
       "    .dataframe tbody tr th {\n",
       "        vertical-align: top;\n",
       "    }\n",
       "\n",
       "    .dataframe thead th {\n",
       "        text-align: right;\n",
       "    }\n",
       "</style>\n",
       "<table border=\"1\" class=\"dataframe\">\n",
       "  <thead>\n",
       "    <tr style=\"text-align: right;\">\n",
       "      <th></th>\n",
       "      <th>Ticker</th>\n",
       "      <th>Name</th>\n",
       "      <th>Sector</th>\n",
       "      <th>Industry</th>\n",
       "      <th>Industry Group</th>\n",
       "      <th>Market Cap</th>\n",
       "      <th>Last Reported Fiscal Year</th>\n",
       "      <th>EV</th>\n",
       "      <th>EV FQ-1</th>\n",
       "      <th>EV FQ-2</th>\n",
       "      <th>...</th>\n",
       "      <th>Debt / Equity FQ-3</th>\n",
       "      <th>Debt / Equity FQ-4</th>\n",
       "      <th>Debt / Equity FQ-5</th>\n",
       "      <th>Debt / Equity FQ-6</th>\n",
       "      <th>Debt / Equity FQ-7</th>\n",
       "      <th>Debt / Equity FQ-8</th>\n",
       "      <th>Debt / Equity FQ-9</th>\n",
       "      <th>Debt / Equity FQ-10</th>\n",
       "      <th>Debt / Equity FQ-11</th>\n",
       "      <th>Debt / Equity FQ-12</th>\n",
       "    </tr>\n",
       "  </thead>\n",
       "  <tbody>\n",
       "    <tr>\n",
       "      <th>1</th>\n",
       "      <td>2322</td>\n",
       "      <td>Hong Kong ChaoShang Group Limited</td>\n",
       "      <td>Industrials</td>\n",
       "      <td>Trading Companies &amp; Distributors</td>\n",
       "      <td>Capital Goods</td>\n",
       "      <td>3.832000e+08</td>\n",
       "      <td>2023</td>\n",
       "      <td>3.652000e+08</td>\n",
       "      <td>438800000.0</td>\n",
       "      <td>409700000.0</td>\n",
       "      <td>...</td>\n",
       "      <td>0.015</td>\n",
       "      <td>0.007</td>\n",
       "      <td>0.007</td>\n",
       "      <td>0.021</td>\n",
       "      <td>0.021</td>\n",
       "      <td>0.028</td>\n",
       "      <td>0.028</td>\n",
       "      <td>0.037</td>\n",
       "      <td>0.037</td>\n",
       "      <td>0.044</td>\n",
       "    </tr>\n",
       "    <tr>\n",
       "      <th>13</th>\n",
       "      <td>1023</td>\n",
       "      <td>Sitoy Group Holdings Limited</td>\n",
       "      <td>Consumer Discretionary</td>\n",
       "      <td>Textiles, Apparel &amp; Luxury Goods</td>\n",
       "      <td>Consumer Durables &amp; Apparel</td>\n",
       "      <td>1.076000e+08</td>\n",
       "      <td>2023</td>\n",
       "      <td>7.340200e+07</td>\n",
       "      <td>34269000.0</td>\n",
       "      <td>28945000.0</td>\n",
       "      <td>...</td>\n",
       "      <td>0.062</td>\n",
       "      <td>0.081</td>\n",
       "      <td>0.081</td>\n",
       "      <td>0.121</td>\n",
       "      <td>0.121</td>\n",
       "      <td>0.128</td>\n",
       "      <td>0.128</td>\n",
       "      <td>0.186</td>\n",
       "      <td>0.186</td>\n",
       "      <td>0.149</td>\n",
       "    </tr>\n",
       "    <tr>\n",
       "      <th>18</th>\n",
       "      <td>1468</td>\n",
       "      <td>Kingkey Financial International (Holdings) Lim...</td>\n",
       "      <td>Financials</td>\n",
       "      <td>Capital Markets</td>\n",
       "      <td>Diversified Financials</td>\n",
       "      <td>1.554000e+09</td>\n",
       "      <td>2023</td>\n",
       "      <td>1.582000e+09</td>\n",
       "      <td>500100000.0</td>\n",
       "      <td>502800000.0</td>\n",
       "      <td>...</td>\n",
       "      <td>0.336</td>\n",
       "      <td>0.325</td>\n",
       "      <td>0.325</td>\n",
       "      <td>0.637</td>\n",
       "      <td>0.637</td>\n",
       "      <td>0.494</td>\n",
       "      <td>0.494</td>\n",
       "      <td>0.404</td>\n",
       "      <td>0.404</td>\n",
       "      <td>0.263</td>\n",
       "    </tr>\n",
       "    <tr>\n",
       "      <th>20</th>\n",
       "      <td>1243</td>\n",
       "      <td>Wang On Properties Limited</td>\n",
       "      <td>Real Estate</td>\n",
       "      <td>Real Estate Management &amp; Development</td>\n",
       "      <td>Real Estate</td>\n",
       "      <td>1.104000e+08</td>\n",
       "      <td>2023</td>\n",
       "      <td>1.594000e+08</td>\n",
       "      <td>242000000.0</td>\n",
       "      <td>327800000.0</td>\n",
       "      <td>...</td>\n",
       "      <td>0.886</td>\n",
       "      <td>1.015</td>\n",
       "      <td>1.015</td>\n",
       "      <td>0.98</td>\n",
       "      <td>0.98</td>\n",
       "      <td>0.941</td>\n",
       "      <td>0.941</td>\n",
       "      <td>0.767</td>\n",
       "      <td>0.767</td>\n",
       "      <td>0.807</td>\n",
       "    </tr>\n",
       "    <tr>\n",
       "      <th>25</th>\n",
       "      <td>1373</td>\n",
       "      <td>International Housewares Retail Company Limited</td>\n",
       "      <td>Consumer Discretionary</td>\n",
       "      <td>Specialty Retail</td>\n",
       "      <td>Retailing</td>\n",
       "      <td>2.586000e+08</td>\n",
       "      <td>2023</td>\n",
       "      <td>2.516000e+08</td>\n",
       "      <td>273000000.0</td>\n",
       "      <td>244100000.0</td>\n",
       "      <td>...</td>\n",
       "      <td>0.604</td>\n",
       "      <td>0.595</td>\n",
       "      <td>0.595</td>\n",
       "      <td>0.624</td>\n",
       "      <td>0.624</td>\n",
       "      <td>0.583</td>\n",
       "      <td>0.583</td>\n",
       "      <td>0.685</td>\n",
       "      <td>0.685</td>\n",
       "      <td>0.768</td>\n",
       "    </tr>\n",
       "    <tr>\n",
       "      <th>57</th>\n",
       "      <td>1140</td>\n",
       "      <td>Wealthking Investments Limited</td>\n",
       "      <td>Financials</td>\n",
       "      <td>Capital Markets</td>\n",
       "      <td>Diversified Financials</td>\n",
       "      <td>4.959000e+08</td>\n",
       "      <td>2023</td>\n",
       "      <td>2.332700e+07</td>\n",
       "      <td>397300000.0</td>\n",
       "      <td>5587000.0</td>\n",
       "      <td>...</td>\n",
       "      <td>0.339</td>\n",
       "      <td>0.09</td>\n",
       "      <td>0.09</td>\n",
       "      <td>0.128</td>\n",
       "      <td>0.128</td>\n",
       "      <td>0.075</td>\n",
       "      <td>0.075</td>\n",
       "      <td>0.143</td>\n",
       "      <td>0.143</td>\n",
       "      <td>0.081</td>\n",
       "    </tr>\n",
       "    <tr>\n",
       "      <th>96</th>\n",
       "      <td>1499</td>\n",
       "      <td>OKG Technology Holdings Limited</td>\n",
       "      <td>Industrials</td>\n",
       "      <td>Construction &amp; Engineering</td>\n",
       "      <td>Capital Goods</td>\n",
       "      <td>2.429000e+08</td>\n",
       "      <td>2023</td>\n",
       "      <td>3.072000e+08</td>\n",
       "      <td>174400000.0</td>\n",
       "      <td>142600000.0</td>\n",
       "      <td>...</td>\n",
       "      <td>3.682</td>\n",
       "      <td>0.547</td>\n",
       "      <td>0.547</td>\n",
       "      <td>0.687</td>\n",
       "      <td>0.687</td>\n",
       "      <td>0.587</td>\n",
       "      <td>0.587</td>\n",
       "      <td>0.59</td>\n",
       "      <td>0.59</td>\n",
       "      <td>0.621</td>\n",
       "    </tr>\n",
       "  </tbody>\n",
       "</table>\n",
       "<p>7 rows × 111 columns</p>\n",
       "</div>"
      ],
      "text/plain": [
       "   Ticker                                               Name  \\\n",
       "1    2322                  Hong Kong ChaoShang Group Limited   \n",
       "13   1023                       Sitoy Group Holdings Limited   \n",
       "18   1468  Kingkey Financial International (Holdings) Lim...   \n",
       "20   1243                         Wang On Properties Limited   \n",
       "25   1373    International Housewares Retail Company Limited   \n",
       "57   1140                     Wealthking Investments Limited   \n",
       "96   1499                    OKG Technology Holdings Limited   \n",
       "\n",
       "                    Sector                              Industry  \\\n",
       "1              Industrials      Trading Companies & Distributors   \n",
       "13  Consumer Discretionary      Textiles, Apparel & Luxury Goods   \n",
       "18              Financials                       Capital Markets   \n",
       "20             Real Estate  Real Estate Management & Development   \n",
       "25  Consumer Discretionary                      Specialty Retail   \n",
       "57              Financials                       Capital Markets   \n",
       "96             Industrials            Construction & Engineering   \n",
       "\n",
       "                 Industry Group    Market Cap Last Reported Fiscal Year  \\\n",
       "1                 Capital Goods  3.832000e+08                      2023   \n",
       "13  Consumer Durables & Apparel  1.076000e+08                      2023   \n",
       "18       Diversified Financials  1.554000e+09                      2023   \n",
       "20                  Real Estate  1.104000e+08                      2023   \n",
       "25                    Retailing  2.586000e+08                      2023   \n",
       "57       Diversified Financials  4.959000e+08                      2023   \n",
       "96                Capital Goods  2.429000e+08                      2023   \n",
       "\n",
       "              EV      EV FQ-1      EV FQ-2  ... Debt / Equity FQ-3  \\\n",
       "1   3.652000e+08  438800000.0  409700000.0  ...              0.015   \n",
       "13  7.340200e+07   34269000.0   28945000.0  ...              0.062   \n",
       "18  1.582000e+09  500100000.0  502800000.0  ...              0.336   \n",
       "20  1.594000e+08  242000000.0  327800000.0  ...              0.886   \n",
       "25  2.516000e+08  273000000.0  244100000.0  ...              0.604   \n",
       "57  2.332700e+07  397300000.0    5587000.0  ...              0.339   \n",
       "96  3.072000e+08  174400000.0  142600000.0  ...              3.682   \n",
       "\n",
       "   Debt / Equity FQ-4 Debt / Equity FQ-5 Debt / Equity FQ-6  \\\n",
       "1               0.007              0.007              0.021   \n",
       "13              0.081              0.081              0.121   \n",
       "18              0.325              0.325              0.637   \n",
       "20              1.015              1.015               0.98   \n",
       "25              0.595              0.595              0.624   \n",
       "57               0.09               0.09              0.128   \n",
       "96              0.547              0.547              0.687   \n",
       "\n",
       "   Debt / Equity FQ-7 Debt / Equity FQ-8 Debt / Equity FQ-9  \\\n",
       "1               0.021              0.028              0.028   \n",
       "13              0.121              0.128              0.128   \n",
       "18              0.637              0.494              0.494   \n",
       "20               0.98              0.941              0.941   \n",
       "25              0.624              0.583              0.583   \n",
       "57              0.128              0.075              0.075   \n",
       "96              0.687              0.587              0.587   \n",
       "\n",
       "   Debt / Equity FQ-10 Debt / Equity FQ-11 Debt / Equity FQ-12  \n",
       "1                0.037               0.037               0.044  \n",
       "13               0.186               0.186               0.149  \n",
       "18               0.404               0.404               0.263  \n",
       "20               0.767               0.767               0.807  \n",
       "25               0.685               0.685               0.768  \n",
       "57               0.143               0.143               0.081  \n",
       "96                0.59                0.59               0.621  \n",
       "\n",
       "[7 rows x 111 columns]"
      ]
     },
     "execution_count": 296,
     "metadata": {},
     "output_type": "execute_result"
    }
   ],
   "source": [
    "ML_data[ML_data['Ticker'].isin(combined_ticker_int)]"
   ]
  },
  {
   "cell_type": "code",
   "execution_count": 277,
   "id": "402eedd9-3cda-4045-bf66-fd9085c7e37e",
   "metadata": {
    "tags": []
   },
   "outputs": [
    {
     "data": {
      "text/plain": [
       "0       199\n",
       "1      2322\n",
       "2        83\n",
       "3       321\n",
       "4       335\n",
       "       ... \n",
       "915    1057\n",
       "916    1127\n",
       "917    1263\n",
       "918     592\n",
       "919    2066\n",
       "Name: Ticker, Length: 920, dtype: object"
      ]
     },
     "execution_count": 277,
     "metadata": {},
     "output_type": "execute_result"
    }
   ],
   "source": [
    "test_merge['Ticker']"
   ]
  },
  {
   "cell_type": "code",
   "execution_count": 278,
   "id": "e1fec692-4d4b-498f-be6a-bc865a54fa8e",
   "metadata": {
    "tags": []
   },
   "outputs": [
    {
     "data": {
      "text/html": [
       "<div>\n",
       "<style scoped>\n",
       "    .dataframe tbody tr th:only-of-type {\n",
       "        vertical-align: middle;\n",
       "    }\n",
       "\n",
       "    .dataframe tbody tr th {\n",
       "        vertical-align: top;\n",
       "    }\n",
       "\n",
       "    .dataframe thead th {\n",
       "        text-align: right;\n",
       "    }\n",
       "</style>\n",
       "<table border=\"1\" class=\"dataframe\">\n",
       "  <thead>\n",
       "    <tr style=\"text-align: right;\">\n",
       "      <th></th>\n",
       "      <th>1003.HK</th>\n",
       "      <th>1023.HK</th>\n",
       "      <th>1029.HK</th>\n",
       "      <th>1030.HK</th>\n",
       "      <th>1033.HK</th>\n",
       "      <th>1038.HK</th>\n",
       "      <th>1044.HK</th>\n",
       "      <th>1045.HK</th>\n",
       "      <th>1050.HK</th>\n",
       "      <th>1051.HK</th>\n",
       "      <th>...</th>\n",
       "      <th>8053.HK</th>\n",
       "      <th>8095.HK</th>\n",
       "      <th>8137.HK</th>\n",
       "      <th>8227.HK</th>\n",
       "      <th>8279.HK</th>\n",
       "      <th>8299.HK</th>\n",
       "      <th>8328.HK</th>\n",
       "      <th>8365.HK</th>\n",
       "      <th>8395.HK</th>\n",
       "      <th>8446.HK</th>\n",
       "    </tr>\n",
       "    <tr>\n",
       "      <th>Date</th>\n",
       "      <th></th>\n",
       "      <th></th>\n",
       "      <th></th>\n",
       "      <th></th>\n",
       "      <th></th>\n",
       "      <th></th>\n",
       "      <th></th>\n",
       "      <th></th>\n",
       "      <th></th>\n",
       "      <th></th>\n",
       "      <th></th>\n",
       "      <th></th>\n",
       "      <th></th>\n",
       "      <th></th>\n",
       "      <th></th>\n",
       "      <th></th>\n",
       "      <th></th>\n",
       "      <th></th>\n",
       "      <th></th>\n",
       "      <th></th>\n",
       "      <th></th>\n",
       "    </tr>\n",
       "  </thead>\n",
       "  <tbody>\n",
       "    <tr>\n",
       "      <th>2018-03-01</th>\n",
       "      <td>1.90</td>\n",
       "      <td>1.247939</td>\n",
       "      <td>0.170</td>\n",
       "      <td>5.471571</td>\n",
       "      <td>1.18</td>\n",
       "      <td>53.217861</td>\n",
       "      <td>60.656685</td>\n",
       "      <td>2.769410</td>\n",
       "      <td>0.890331</td>\n",
       "      <td>4.379912</td>\n",
       "      <td>...</td>\n",
       "      <td>0.452760</td>\n",
       "      <td>1.36</td>\n",
       "      <td>1.580</td>\n",
       "      <td>6.020</td>\n",
       "      <td>0.930</td>\n",
       "      <td>0.224998</td>\n",
       "      <td>2.005379</td>\n",
       "      <td>0.471491</td>\n",
       "      <td>0.105524</td>\n",
       "      <td>3.12</td>\n",
       "    </tr>\n",
       "    <tr>\n",
       "      <th>2018-04-01</th>\n",
       "      <td>2.00</td>\n",
       "      <td>1.323926</td>\n",
       "      <td>0.168</td>\n",
       "      <td>5.405748</td>\n",
       "      <td>1.16</td>\n",
       "      <td>51.517204</td>\n",
       "      <td>58.403969</td>\n",
       "      <td>2.853796</td>\n",
       "      <td>0.909179</td>\n",
       "      <td>3.899922</td>\n",
       "      <td>...</td>\n",
       "      <td>0.461637</td>\n",
       "      <td>1.35</td>\n",
       "      <td>1.410</td>\n",
       "      <td>5.280</td>\n",
       "      <td>0.860</td>\n",
       "      <td>0.209998</td>\n",
       "      <td>2.130000</td>\n",
       "      <td>0.565790</td>\n",
       "      <td>0.090731</td>\n",
       "      <td>1.98</td>\n",
       "    </tr>\n",
       "    <tr>\n",
       "      <th>2018-05-01</th>\n",
       "      <td>1.97</td>\n",
       "      <td>1.308351</td>\n",
       "      <td>0.148</td>\n",
       "      <td>5.060175</td>\n",
       "      <td>1.27</td>\n",
       "      <td>49.111416</td>\n",
       "      <td>62.325375</td>\n",
       "      <td>2.700366</td>\n",
       "      <td>0.924721</td>\n",
       "      <td>3.959920</td>\n",
       "      <td>...</td>\n",
       "      <td>0.461637</td>\n",
       "      <td>1.22</td>\n",
       "      <td>1.510</td>\n",
       "      <td>4.490</td>\n",
       "      <td>0.920</td>\n",
       "      <td>0.209998</td>\n",
       "      <td>2.190000</td>\n",
       "      <td>0.556360</td>\n",
       "      <td>0.093690</td>\n",
       "      <td>0.59</td>\n",
       "    </tr>\n",
       "    <tr>\n",
       "      <th>2018-06-01</th>\n",
       "      <td>2.00</td>\n",
       "      <td>1.308351</td>\n",
       "      <td>0.134</td>\n",
       "      <td>6.030394</td>\n",
       "      <td>1.05</td>\n",
       "      <td>49.587364</td>\n",
       "      <td>64.259438</td>\n",
       "      <td>2.470221</td>\n",
       "      <td>0.909179</td>\n",
       "      <td>5.339893</td>\n",
       "      <td>...</td>\n",
       "      <td>0.479392</td>\n",
       "      <td>1.03</td>\n",
       "      <td>1.330</td>\n",
       "      <td>4.240</td>\n",
       "      <td>0.800</td>\n",
       "      <td>0.194999</td>\n",
       "      <td>1.930000</td>\n",
       "      <td>0.518640</td>\n",
       "      <td>0.079883</td>\n",
       "      <td>0.65</td>\n",
       "    </tr>\n",
       "    <tr>\n",
       "      <th>2018-07-01</th>\n",
       "      <td>2.09</td>\n",
       "      <td>1.760043</td>\n",
       "      <td>0.137</td>\n",
       "      <td>5.987926</td>\n",
       "      <td>1.07</td>\n",
       "      <td>49.672642</td>\n",
       "      <td>59.450615</td>\n",
       "      <td>2.362296</td>\n",
       "      <td>0.878096</td>\n",
       "      <td>5.579888</td>\n",
       "      <td>...</td>\n",
       "      <td>0.443882</td>\n",
       "      <td>0.92</td>\n",
       "      <td>1.170</td>\n",
       "      <td>3.690</td>\n",
       "      <td>0.730</td>\n",
       "      <td>0.149999</td>\n",
       "      <td>2.000000</td>\n",
       "      <td>0.546930</td>\n",
       "      <td>0.063117</td>\n",
       "      <td>0.20</td>\n",
       "    </tr>\n",
       "    <tr>\n",
       "      <th>...</th>\n",
       "      <td>...</td>\n",
       "      <td>...</td>\n",
       "      <td>...</td>\n",
       "      <td>...</td>\n",
       "      <td>...</td>\n",
       "      <td>...</td>\n",
       "      <td>...</td>\n",
       "      <td>...</td>\n",
       "      <td>...</td>\n",
       "      <td>...</td>\n",
       "      <td>...</td>\n",
       "      <td>...</td>\n",
       "      <td>...</td>\n",
       "      <td>...</td>\n",
       "      <td>...</td>\n",
       "      <td>...</td>\n",
       "      <td>...</td>\n",
       "      <td>...</td>\n",
       "      <td>...</td>\n",
       "      <td>...</td>\n",
       "      <td>...</td>\n",
       "    </tr>\n",
       "    <tr>\n",
       "      <th>2022-11-01</th>\n",
       "      <td>0.90</td>\n",
       "      <td>0.560000</td>\n",
       "      <td>0.119</td>\n",
       "      <td>3.500000</td>\n",
       "      <td>0.54</td>\n",
       "      <td>39.299999</td>\n",
       "      <td>35.950001</td>\n",
       "      <td>2.020000</td>\n",
       "      <td>1.290000</td>\n",
       "      <td>2.170000</td>\n",
       "      <td>...</td>\n",
       "      <td>0.500000</td>\n",
       "      <td>0.49</td>\n",
       "      <td>0.310</td>\n",
       "      <td>0.470</td>\n",
       "      <td>0.248</td>\n",
       "      <td>0.247000</td>\n",
       "      <td>5.030000</td>\n",
       "      <td>0.495000</td>\n",
       "      <td>0.950000</td>\n",
       "      <td>7.52</td>\n",
       "    </tr>\n",
       "    <tr>\n",
       "      <th>2022-12-01</th>\n",
       "      <td>1.10</td>\n",
       "      <td>0.580000</td>\n",
       "      <td>0.133</td>\n",
       "      <td>2.890000</td>\n",
       "      <td>0.51</td>\n",
       "      <td>40.849998</td>\n",
       "      <td>41.450001</td>\n",
       "      <td>2.110000</td>\n",
       "      <td>1.480000</td>\n",
       "      <td>2.170000</td>\n",
       "      <td>...</td>\n",
       "      <td>0.395000</td>\n",
       "      <td>0.56</td>\n",
       "      <td>0.345</td>\n",
       "      <td>0.490</td>\n",
       "      <td>0.248</td>\n",
       "      <td>0.164000</td>\n",
       "      <td>5.170000</td>\n",
       "      <td>0.880000</td>\n",
       "      <td>0.830000</td>\n",
       "      <td>8.80</td>\n",
       "    </tr>\n",
       "    <tr>\n",
       "      <th>2023-01-01</th>\n",
       "      <td>1.21</td>\n",
       "      <td>0.900000</td>\n",
       "      <td>0.130</td>\n",
       "      <td>3.060000</td>\n",
       "      <td>0.61</td>\n",
       "      <td>43.549999</td>\n",
       "      <td>38.500000</td>\n",
       "      <td>2.250000</td>\n",
       "      <td>1.440000</td>\n",
       "      <td>2.410000</td>\n",
       "      <td>...</td>\n",
       "      <td>0.410000</td>\n",
       "      <td>0.60</td>\n",
       "      <td>0.910</td>\n",
       "      <td>0.410</td>\n",
       "      <td>0.280</td>\n",
       "      <td>0.166000</td>\n",
       "      <td>5.100000</td>\n",
       "      <td>0.800000</td>\n",
       "      <td>0.730000</td>\n",
       "      <td>7.94</td>\n",
       "    </tr>\n",
       "    <tr>\n",
       "      <th>2023-02-01</th>\n",
       "      <td>1.15</td>\n",
       "      <td>0.940000</td>\n",
       "      <td>0.119</td>\n",
       "      <td>2.630000</td>\n",
       "      <td>0.62</td>\n",
       "      <td>41.400002</td>\n",
       "      <td>36.099998</td>\n",
       "      <td>2.550000</td>\n",
       "      <td>1.370000</td>\n",
       "      <td>2.190000</td>\n",
       "      <td>...</td>\n",
       "      <td>0.370000</td>\n",
       "      <td>0.67</td>\n",
       "      <td>0.840</td>\n",
       "      <td>0.440</td>\n",
       "      <td>0.265</td>\n",
       "      <td>0.166000</td>\n",
       "      <td>4.880000</td>\n",
       "      <td>1.200000</td>\n",
       "      <td>0.720000</td>\n",
       "      <td>7.73</td>\n",
       "    </tr>\n",
       "    <tr>\n",
       "      <th>2023-03-01</th>\n",
       "      <td>1.11</td>\n",
       "      <td>0.870000</td>\n",
       "      <td>0.103</td>\n",
       "      <td>2.080000</td>\n",
       "      <td>0.60</td>\n",
       "      <td>42.299999</td>\n",
       "      <td>36.450001</td>\n",
       "      <td>2.500000</td>\n",
       "      <td>0.950000</td>\n",
       "      <td>1.900000</td>\n",
       "      <td>...</td>\n",
       "      <td>0.340000</td>\n",
       "      <td>0.60</td>\n",
       "      <td>0.840</td>\n",
       "      <td>0.455</td>\n",
       "      <td>0.244</td>\n",
       "      <td>0.130000</td>\n",
       "      <td>3.770000</td>\n",
       "      <td>1.520000</td>\n",
       "      <td>0.750000</td>\n",
       "      <td>8.00</td>\n",
       "    </tr>\n",
       "  </tbody>\n",
       "</table>\n",
       "<p>61 rows × 373 columns</p>\n",
       "</div>"
      ],
      "text/plain": [
       "            1003.HK   1023.HK  1029.HK   1030.HK  1033.HK    1038.HK  \\\n",
       "Date                                                                   \n",
       "2018-03-01     1.90  1.247939    0.170  5.471571     1.18  53.217861   \n",
       "2018-04-01     2.00  1.323926    0.168  5.405748     1.16  51.517204   \n",
       "2018-05-01     1.97  1.308351    0.148  5.060175     1.27  49.111416   \n",
       "2018-06-01     2.00  1.308351    0.134  6.030394     1.05  49.587364   \n",
       "2018-07-01     2.09  1.760043    0.137  5.987926     1.07  49.672642   \n",
       "...             ...       ...      ...       ...      ...        ...   \n",
       "2022-11-01     0.90  0.560000    0.119  3.500000     0.54  39.299999   \n",
       "2022-12-01     1.10  0.580000    0.133  2.890000     0.51  40.849998   \n",
       "2023-01-01     1.21  0.900000    0.130  3.060000     0.61  43.549999   \n",
       "2023-02-01     1.15  0.940000    0.119  2.630000     0.62  41.400002   \n",
       "2023-03-01     1.11  0.870000    0.103  2.080000     0.60  42.299999   \n",
       "\n",
       "              1044.HK   1045.HK   1050.HK   1051.HK  ...   8053.HK  8095.HK  \\\n",
       "Date                                                 ...                      \n",
       "2018-03-01  60.656685  2.769410  0.890331  4.379912  ...  0.452760     1.36   \n",
       "2018-04-01  58.403969  2.853796  0.909179  3.899922  ...  0.461637     1.35   \n",
       "2018-05-01  62.325375  2.700366  0.924721  3.959920  ...  0.461637     1.22   \n",
       "2018-06-01  64.259438  2.470221  0.909179  5.339893  ...  0.479392     1.03   \n",
       "2018-07-01  59.450615  2.362296  0.878096  5.579888  ...  0.443882     0.92   \n",
       "...               ...       ...       ...       ...  ...       ...      ...   \n",
       "2022-11-01  35.950001  2.020000  1.290000  2.170000  ...  0.500000     0.49   \n",
       "2022-12-01  41.450001  2.110000  1.480000  2.170000  ...  0.395000     0.56   \n",
       "2023-01-01  38.500000  2.250000  1.440000  2.410000  ...  0.410000     0.60   \n",
       "2023-02-01  36.099998  2.550000  1.370000  2.190000  ...  0.370000     0.67   \n",
       "2023-03-01  36.450001  2.500000  0.950000  1.900000  ...  0.340000     0.60   \n",
       "\n",
       "            8137.HK  8227.HK  8279.HK   8299.HK   8328.HK   8365.HK   8395.HK  \\\n",
       "Date                                                                            \n",
       "2018-03-01    1.580    6.020    0.930  0.224998  2.005379  0.471491  0.105524   \n",
       "2018-04-01    1.410    5.280    0.860  0.209998  2.130000  0.565790  0.090731   \n",
       "2018-05-01    1.510    4.490    0.920  0.209998  2.190000  0.556360  0.093690   \n",
       "2018-06-01    1.330    4.240    0.800  0.194999  1.930000  0.518640  0.079883   \n",
       "2018-07-01    1.170    3.690    0.730  0.149999  2.000000  0.546930  0.063117   \n",
       "...             ...      ...      ...       ...       ...       ...       ...   \n",
       "2022-11-01    0.310    0.470    0.248  0.247000  5.030000  0.495000  0.950000   \n",
       "2022-12-01    0.345    0.490    0.248  0.164000  5.170000  0.880000  0.830000   \n",
       "2023-01-01    0.910    0.410    0.280  0.166000  5.100000  0.800000  0.730000   \n",
       "2023-02-01    0.840    0.440    0.265  0.166000  4.880000  1.200000  0.720000   \n",
       "2023-03-01    0.840    0.455    0.244  0.130000  3.770000  1.520000  0.750000   \n",
       "\n",
       "            8446.HK  \n",
       "Date                 \n",
       "2018-03-01     3.12  \n",
       "2018-04-01     1.98  \n",
       "2018-05-01     0.59  \n",
       "2018-06-01     0.65  \n",
       "2018-07-01     0.20  \n",
       "...             ...  \n",
       "2022-11-01     7.52  \n",
       "2022-12-01     8.80  \n",
       "2023-01-01     7.94  \n",
       "2023-02-01     7.73  \n",
       "2023-03-01     8.00  \n",
       "\n",
       "[61 rows x 373 columns]"
      ]
     },
     "execution_count": 278,
     "metadata": {},
     "output_type": "execute_result"
    }
   ],
   "source": [
    "asset_prices[combined_tickers]"
   ]
  },
  {
   "cell_type": "code",
   "execution_count": 263,
   "id": "2d0e1529-01e5-4945-ab18-61cd34bce3e0",
   "metadata": {
    "tags": []
   },
   "outputs": [],
   "source": []
  },
  {
   "cell_type": "code",
   "execution_count": 255,
   "id": "e46bcc1a-7d6f-4cbb-bff5-9bf310c47d1c",
   "metadata": {
    "tags": []
   },
   "outputs": [
    {
     "data": {
      "text/plain": [
       "Index(['1000.HK', '1003.HK', '1010.HK', '1020.HK', '1023.HK', '1029.HK',\n",
       "       '1030.HK', '1033.HK', '1038.HK', '1044.HK',\n",
       "       ...\n",
       "       '8300.HK', '8328.HK', '8360.HK', '8365.HK', '8370.HK', '8395.HK',\n",
       "       '8446.HK', '8460.HK', '8480.HK', '9900.HK'],\n",
       "      dtype='object', length=415)"
      ]
     },
     "execution_count": 255,
     "metadata": {},
     "output_type": "execute_result"
    }
   ],
   "source": [
    "asset_prices.columns"
   ]
  },
  {
   "cell_type": "markdown",
   "id": "8f531a39-db3e-4614-9d6a-b58752dee585",
   "metadata": {},
   "source": [
    "# 3 PCA / LDA analysis"
   ]
  },
  {
   "cell_type": "markdown",
   "id": "77352737-0a27-471f-a0a6-b1405f919c2f",
   "metadata": {},
   "source": [
    "## 3.1 LDA"
   ]
  },
  {
   "cell_type": "code",
   "execution_count": 211,
   "id": "2f2a8771-8adc-4e86-ac03-a05eccdafa24",
   "metadata": {
    "tags": []
   },
   "outputs": [],
   "source": [
    "PCA_LDA_df = test_merge[['Ticker', 'Sector', 'Industry', 'Market Cap', 'EV',\\\n",
    "           'FCF', 'EBITDA', 'Revenue', 'ROE', 'Gross-Profit-Margin',\\\n",
    "            'Quick-Ratio', 'Debt / Equity']]\n",
    "\n",
    "# remove NaNs, replace placeholder text with floats\n",
    "\n",
    "PCA_LDA_df = PCA_LDA_df.dropna().applymap(convert_placeholder_text_to_num).dropna()\n",
    "\n",
    "# set up datasets for LDA \n",
    "\n",
    "#X = dataset.iloc[:, 0:4].values\n",
    "#y = dataset.iloc[:, 4].values\n",
    "\n",
    "X = PCA_LDA_df[['Market Cap', 'EV', 'FCF', 'EBITDA', 'Revenue', 'ROE', 'Gross-Profit-Margin',\\\n",
    "            'Quick-Ratio', 'Debt / Equity']].values\n",
    "y = PCA_LDA_df[['Sector']].values\n",
    "y = y.flatten()\n",
    "\n",
    "# scaler = StandardScaler()\n",
    "# X_lda = scaler.fit_transform(X)\n",
    "\n",
    "\n",
    "X_train, X_test, y_train, y_test = train_test_split(X, y, test_size=0.2, random_state=0)\n",
    "scaler = StandardScaler()\n",
    "X_train = scaler.fit_transform(X_train)\n",
    "X_test = scaler.transform(X_test)\n",
    "\n",
    "lda = LDA(n_components=7)\n",
    "X_train = lda.fit_transform(X_train, y_train)\n",
    "X_test = lda.transform(X_test)"
   ]
  },
  {
   "cell_type": "code",
   "execution_count": 212,
   "id": "afb202f7-cf25-4494-8319-0dce4dc902cc",
   "metadata": {
    "tags": []
   },
   "outputs": [
    {
     "data": {
      "text/plain": [
       "[<matplotlib.lines.Line2D at 0x7f79fa3ccbb0>]"
      ]
     },
     "execution_count": 212,
     "metadata": {},
     "output_type": "execute_result"
    },
    {
     "data": {
      "image/png": "[encoded data removed]",
      "text/plain": [
       "<Figure size 640x480 with 1 Axes>"
      ]
     },
     "metadata": {},
     "output_type": "display_data"
    }
   ],
   "source": [
    "plt.plot(lda.explained_variance_ratio_)"
   ]
  },
  {
   "cell_type": "code",
   "execution_count": null,
   "id": "deecef5b-07d8-4ae0-b523-7121dacd9563",
   "metadata": {},
   "outputs": [],
   "source": [
    "# from https://www.machinelearningplus.com/nlp/topic-modeling-python-sklearn-examples/\n",
    "\n",
    "# Define Search Param\n",
    "search_params = {'n_components': [10, 15, 20, 25, 30], 'learning_decay': [.5, .7, .9]}\n",
    "\n",
    "# Init the Model\n",
    "lda = LatentDirichletAllocation()\n",
    "\n",
    "# Init Grid Search Class\n",
    "model = GridSearchCV(lda, param_grid=search_params)\n",
    "\n",
    "# Do the Grid Search\n",
    "model.fit(data_vectorized)\n",
    "\n",
    "GridSearchCV(cv=None, error_score='raise',\n",
    "       estimator=LatentDirichletAllocation(batch_size=128, doc_topic_prior=None,\n",
    "             evaluate_every=-1, learning_decay=0.7, learning_method=None,\n",
    "             learning_offset=10.0, max_doc_update_iter=100, max_iter=10,\n",
    "             mean_change_tol=0.001, n_components=10, n_jobs=1,\n",
    "             n_topics=None, perp_tol=0.1, random_state=None,\n",
    "             topic_word_prior=None, total_samples=1000000.0, verbose=0),\n",
    "       fit_params=None, iid=True, n_jobs=1,\n",
    "       param_grid={'n_topics': [10, 15, 20, 25, 30], 'learning_decay': [0.5, 0.7, 0.9]},\n",
    "       pre_dispatch='2*n_jobs', refit=True, return_train_score='warn',\n",
    "       scoring=None, verbose=0)\n",
    "\n",
    "\n",
    "# Best Model\n",
    "best_lda_model = model.best_estimator_\n",
    "\n",
    "# Model Parameters\n",
    "print(\"Best Model's Params: \", model.best_params_)\n",
    "\n",
    "# Log Likelihood Score\n",
    "print(\"Best Log Likelihood Score: \", model.best_score_)\n",
    "\n",
    "# Perplexity\n",
    "print(\"Model Perplexity: \", best_lda_model.perplexity(data_vectorized))"
   ]
  },
  {
   "cell_type": "code",
   "execution_count": null,
   "id": "5e52e380-1306-498e-acf9-0bc157ac1a8e",
   "metadata": {},
   "outputs": [],
   "source": []
  },
  {
   "cell_type": "code",
   "execution_count": null,
   "id": "a51e583a-9c1a-49c9-b3ee-ad71bbc35f21",
   "metadata": {},
   "outputs": [],
   "source": [
    "lda = LinearDiscriminantAnalysis(n_components=2)\n",
    "X_r2 = lda.fit(X, y).transform(X)\n",
    "\n",
    "colors = [\"navy\", \"turquoise\", \"darkorange\"]\n",
    "lw = 2\n",
    "\n",
    "for color, i, target_name in zip(colors, [0, 1, 2], target_names):\n",
    "    plt.scatter(\n",
    "        X_r2[y == i, 0], X_r2[y == i, 1], alpha=0.8, color=color, label=target_name\n",
    "    )\n",
    "plt.legend(loc=\"best\", shadow=False, scatterpoints=1)\n",
    "plt.title(\"LDA of IRIS dataset\")"
   ]
  },
  {
   "cell_type": "code",
   "execution_count": 169,
   "id": "43b9b007-d511-4a04-9e62-1e308c0d5dcb",
   "metadata": {
    "tags": []
   },
   "outputs": [],
   "source": [
    "X;"
   ]
  },
  {
   "cell_type": "markdown",
   "id": "527df3d1-b276-4c66-9459-dc3d30a78b77",
   "metadata": {},
   "source": [
    "## 3.2 PCA"
   ]
  },
  {
   "cell_type": "code",
   "execution_count": 183,
   "id": "dd75c5a2-0ce1-49dd-873f-637b85ece030",
   "metadata": {
    "tags": []
   },
   "outputs": [],
   "source": [
    "# taken from https://stackoverflow.com/questions/39216897/plot-pca-loadings-and-loading-in-biplot-in-sklearn-like-rs-autoplot\n",
    "\n",
    "def myplot(score,coeff,labels=None):\n",
    "    xs = score[:,0]\n",
    "    ys = score[:,1]\n",
    "    n = coeff.shape[0]\n",
    "    scalex = 1.0/(xs.max() - xs.min())\n",
    "    scaley = 1.0/(ys.max() - ys.min())\n",
    "    plt.scatter(xs * scalex,ys * scaley)#, c = y)\n",
    "    for i in range(n):\n",
    "        plt.arrow(0, 0, coeff[i,0], coeff[i,1],color = 'r',alpha = 0.5)\n",
    "        if labels is None:\n",
    "            plt.text(coeff[i,0]* 1.15, coeff[i,1] * 1.15, \"Var\"+str(i+1), color = 'g', ha = 'center', va = 'center')\n",
    "        else:\n",
    "            plt.text(coeff[i,0]* 1.15, coeff[i,1] * 1.15, labels[i], color = 'g', ha = 'center', va = 'center')\n",
    "    plt.xlim(-1,1)\n",
    "    plt.ylim(-1,1)\n",
    "    plt.xlabel(\"PC{}\".format(1))\n",
    "    plt.ylabel(\"PC{}\".format(2))\n",
    "    plt.grid()"
   ]
  },
  {
   "cell_type": "code",
   "execution_count": 184,
   "id": "b3c3cf09-8f76-4f60-a91d-d70f425f3a79",
   "metadata": {
    "tags": []
   },
   "outputs": [],
   "source": [
    "scaler = StandardScaler()\n",
    "scaler.fit(X)\n",
    "X_pca=scaler.transform(X)    \n",
    "pca = PCA()\n",
    "X_pca = pca.fit_transform(X_pca)"
   ]
  },
  {
   "cell_type": "code",
   "execution_count": 187,
   "id": "8c632d75-822d-4398-99b9-9ef42e89262d",
   "metadata": {
    "tags": []
   },
   "outputs": [
    {
     "data": {
      "image/png": "[encoded data removed]",
      "text/plain": [
       "<Figure size 640x480 with 1 Axes>"
      ]
     },
     "metadata": {},
     "output_type": "display_data"
    }
   ],
   "source": [
    "myplot(X_pca[:,0:2],np.transpose(pca.components_[0:2, :]))\n",
    "plt.show()"
   ]
  },
  {
   "cell_type": "code",
   "execution_count": 174,
   "id": "72688471-9145-4cd3-81c3-a73ebacae068",
   "metadata": {
    "tags": []
   },
   "outputs": [
    {
     "data": {
      "application/vnd.plotly.v1+json": {
       "config": {
        "plotlyServerURL": "https://plot.ly"
       },
       "data": [
        {
         "diagonal": {
          "visible": false
         },
         "dimensions": [
          {
           "axis": {
            "matches": true
           },
           "label": "PC 1 (54.0%)",
           "values": [
            -0.5330895243706786,
            -0.38502581381367096,
            -0.45284912419493856,
            -0.694355105596043,
            -0.46735838220801273,
            -0.7573152907516894,
            -0.31194724109769006,
            -0.5940538599364495,
            -0.39803719556207345,
            -0.41792759975671007,
            -0.42719560129608225,
            0.2698122764267225
           ]
          },
          {
           "axis": {
            "matches": true
           },
           "label": "PC 2 (22.1%)",
           "values": [
            0.20053747897016033,
            -1.7991402580722766,
            -0.4899887137398215,
            0.08677843495179535,
            -0.49142761532047374,
            8.820159655253407,
            -0.22207682380992871,
            -1.0431244526156074,
            -0.6910058754146279,
            0.5077311304452766,
            -0.21960674162643537,
            0.005910481566829967
           ]
          },
          {
           "axis": {
            "matches": true
           },
           "label": "PC 3 (11.3%)",
           "values": [
            -1.133912511530152,
            0.8771701536108252,
            1.0641288972821117,
            -0.9160186747832466,
            0.670829476465079,
            1.2394092312999023,
            -0.27417128386551876,
            2.6278171316590644,
            0.4224355945864071,
            -1.6873926409455207,
            -0.45876040622522896,
            -0.7403500243579241
           ]
          },
          {
           "axis": {
            "matches": true
           },
           "label": "PC 4 (9.6%)",
           "values": [
            -0.21858125812169935,
            3.3585574245327803,
            0.46105667768456415,
            -0.25112582462403155,
            0.7360274182639218,
            0.998988593253106,
            0.7343819389627045,
            0.39026269943984576,
            1.7314985117185462,
            -1.0941543973002743,
            0.7888581692567657,
            0.35021461565206596
           ]
          },
          {
           "axis": {
            "matches": true
           },
           "label": "PC 5 (1.4%)",
           "values": [
            -0.21298667475748453,
            -0.26417813875569335,
            -0.024849593946576716,
            -0.2975893633951144,
            -0.0019626901352661646,
            0.014987575790070411,
            -0.04508065183308041,
            0.02317060285859041,
            0.17380906310730346,
            -0.09305346958078939,
            -0.14056947889537735,
            0.7778948910979165
           ]
          }
         ],
         "hovertemplate": "color=Real Estate<br>%{xaxis.title.text}=%{x}<br>%{yaxis.title.text}=%{y}<extra></extra>",
         "legendgroup": "Real Estate",
         "marker": {
          "color": "#636efa",
          "symbol": "circle"
         },
         "name": "Real Estate",
         "showlegend": true,
         "type": "splom"
        },
        {
         "diagonal": {
          "visible": false
         },
         "dimensions": [
          {
           "axis": {
            "matches": true
           },
           "label": "PC 1 (54.0%)",
           "values": [
            -0.6147342240260517,
            -0.37352458876901756,
            -0.4617167320350822,
            -0.4362574685825126,
            -0.6154811506579727,
            2.5570893058510396,
            -0.5355429178131466,
            -0.39078096896652137,
            -0.4224369443152929,
            -0.5015008309262198,
            -0.45867779409463194,
            -0.5833603403967244,
            -0.06690457116839213
           ]
          },
          {
           "axis": {
            "matches": true
           },
           "label": "PC 2 (22.1%)",
           "values": [
            -0.4412843089964181,
            0.14431097364427065,
            0.06183189913167552,
            0.07211280331791999,
            -0.13143278038499587,
            -0.18609034818838344,
            -0.06858879690851961,
            0.16722774447113833,
            -0.3501471546643017,
            -0.18627609752806842,
            -0.020543913131608346,
            -0.25970864145753175,
            0.06281346164745007
           ]
          },
          {
           "axis": {
            "matches": true
           },
           "label": "PC 3 (11.3%)",
           "values": [
            2.2867575667056106,
            -0.8828619181257354,
            -0.7606889621412515,
            -0.7912278069693267,
            0.9562974990403792,
            0.1811241925821347,
            0.04764328147949859,
            -0.9238675742151293,
            -0.796342813401189,
            0.5273861973859616,
            -0.40017380276290754,
            0.8506505122361,
            -0.6465593103099563
           ]
          },
          {
           "axis": {
            "matches": true
           },
           "label": "PC 4 (9.6%)",
           "values": [
            -2.3766400850717995,
            -0.27633007733307957,
            -0.3616304283322352,
            -0.6134354928645209,
            -0.709789069360817,
            0.24592538869485545,
            -0.5284162881871692,
            -0.5276453043703571,
            0.5841732633537831,
            -0.8412404864374169,
            -0.23421508037922284,
            -1.1868077135370658,
            -0.3202484677853057
           ]
          },
          {
           "axis": {
            "matches": true
           },
           "label": "PC 5 (1.4%)",
           "values": [
            0.1437517714524824,
            -0.28377372427359754,
            -0.12373656438782586,
            -0.14095919865584475,
            -0.002580277908672129,
            1.815011592051737,
            -0.18506866029372435,
            -0.07370317710110676,
            -0.07714684642318946,
            -0.06648084514295924,
            -0.13868769099743763,
            -0.07379003498344903,
            0.03820430125885999
           ]
          }
         ],
         "hovertemplate": "color=Industrials<br>%{xaxis.title.text}=%{x}<br>%{yaxis.title.text}=%{y}<extra></extra>",
         "legendgroup": "Industrials",
         "marker": {
          "color": "#EF553B",
          "symbol": "circle"
         },
         "name": "Industrials",
         "showlegend": true,
         "type": "splom"
        },
        {
         "diagonal": {
          "visible": false
         },
         "dimensions": [
          {
           "axis": {
            "matches": true
           },
           "label": "PC 1 (54.0%)",
           "values": [
            0.350365063565669,
            -0.49577168974155805,
            -0.34053017722786294,
            -0.42613087287430945,
            -0.43303488341148305,
            -0.1714343499063138,
            0.063990130832384
           ]
          },
          {
           "axis": {
            "matches": true
           },
           "label": "PC 2 (22.1%)",
           "values": [
            0.08035117825981848,
            -0.15480967450056943,
            -0.27158288614080106,
            -0.024685731475311976,
            -0.32192035369651684,
            -1.0628700792031864,
            -0.023987802774089018
           ]
          },
          {
           "axis": {
            "matches": true
           },
           "label": "PC 3 (11.3%)",
           "values": [
            -0.5633663911317984,
            0.08434783704189419,
            -0.24521226008721467,
            -0.912400005644673,
            0.22073102202816264,
            -1.5150704585903054,
            0.18713942050692797
           ]
          },
          {
           "axis": {
            "matches": true
           },
           "label": "PC 4 (9.6%)",
           "values": [
            -0.16618282391802405,
            -0.24719090993611545,
            0.4484691618037335,
            -0.2152640622413921,
            0.21029946664168744,
            -0.2907815047706185,
            -0.45950987062770765
           ]
          },
          {
           "axis": {
            "matches": true
           },
           "label": "PC 5 (1.4%)",
           "values": [
            -0.18439282228756335,
            -0.17858338064476023,
            -0.1482117461102797,
            -0.021545596922127746,
            -0.15961066402504348,
            0.4565815790056724,
            0.31500649538080644
           ]
          }
         ],
         "hovertemplate": "color=Consumer Discretionary<br>%{xaxis.title.text}=%{x}<br>%{yaxis.title.text}=%{y}<extra></extra>",
         "legendgroup": "Consumer Discretionary",
         "marker": {
          "color": "#00cc96",
          "symbol": "circle"
         },
         "name": "Consumer Discretionary",
         "showlegend": true,
         "type": "splom"
        },
        {
         "diagonal": {
          "visible": false
         },
         "dimensions": [
          {
           "axis": {
            "matches": true
           },
           "label": "PC 1 (54.0%)",
           "values": [
            0.11609361902090014,
            -0.3065540426926813,
            -0.5822921019987716
           ]
          },
          {
           "axis": {
            "matches": true
           },
           "label": "PC 2 (22.1%)",
           "values": [
            -0.30593283967081053,
            -0.28504356787366275,
            -0.9118418583704728
           ]
          },
          {
           "axis": {
            "matches": true
           },
           "label": "PC 3 (11.3%)",
           "values": [
            -0.013135630957777238,
            -0.4511537460642201,
            1.8177324042338574
           ]
          },
          {
           "axis": {
            "matches": true
           },
           "label": "PC 4 (9.6%)",
           "values": [
            1.1131140859204123,
            0.8383223681209812,
            0.9372313842864949
           ]
          },
          {
           "axis": {
            "matches": true
           },
           "label": "PC 5 (1.4%)",
           "values": [
            0.2758065551824731,
            -0.039035186083813,
            -0.1426338546727428
           ]
          }
         ],
         "hovertemplate": "color=Financials<br>%{xaxis.title.text}=%{x}<br>%{yaxis.title.text}=%{y}<extra></extra>",
         "legendgroup": "Financials",
         "marker": {
          "color": "#ab63fa",
          "symbol": "circle"
         },
         "name": "Financials",
         "showlegend": true,
         "type": "splom"
        },
        {
         "diagonal": {
          "visible": false
         },
         "dimensions": [
          {
           "axis": {
            "matches": true
           },
           "label": "PC 1 (54.0%)",
           "values": [
            -0.46632136583650097,
            -0.6817670321076704
           ]
          },
          {
           "axis": {
            "matches": true
           },
           "label": "PC 2 (22.1%)",
           "values": [
            -0.20592469817357137,
            -0.6700358615015967
           ]
          },
          {
           "axis": {
            "matches": true
           },
           "label": "PC 3 (11.3%)",
           "values": [
            -0.3809472006800385,
            2.5891016206241706
           ]
          },
          {
           "axis": {
            "matches": true
           },
           "label": "PC 4 (9.6%)",
           "values": [
            1.0088941834425451,
            -1.878714500018662
           ]
          },
          {
           "axis": {
            "matches": true
           },
           "label": "PC 5 (1.4%)",
           "values": [
            -0.14359218901881854,
            0.0350536628971048
           ]
          }
         ],
         "hovertemplate": "color=Communication Services<br>%{xaxis.title.text}=%{x}<br>%{yaxis.title.text}=%{y}<extra></extra>",
         "legendgroup": "Communication Services",
         "marker": {
          "color": "#FFA15A",
          "symbol": "circle"
         },
         "name": "Communication Services",
         "showlegend": true,
         "type": "splom"
        },
        {
         "diagonal": {
          "visible": false
         },
         "dimensions": [
          {
           "axis": {
            "matches": true
           },
           "label": "PC 1 (54.0%)",
           "values": [
            14.081619931683365,
            -0.43199054888333516
           ]
          },
          {
           "axis": {
            "matches": true
           },
           "label": "PC 2 (22.1%)",
           "values": [
            0.22755281163188779,
            -0.001919750295769164
           ]
          },
          {
           "axis": {
            "matches": true
           },
           "label": "PC 3 (11.3%)",
           "values": [
            0.23188285572258874,
            -0.28298911037069824
           ]
          },
          {
           "axis": {
            "matches": true
           },
           "label": "PC 4 (9.6%)",
           "values": [
            -0.15789166107290362,
            -0.5269862963024189
           ]
          },
          {
           "axis": {
            "matches": true
           },
           "label": "PC 5 (1.4%)",
           "values": [
            -0.4389456254618017,
            -0.18314716432466235
           ]
          }
         ],
         "hovertemplate": "color=Information Technology<br>%{xaxis.title.text}=%{x}<br>%{yaxis.title.text}=%{y}<extra></extra>",
         "legendgroup": "Information Technology",
         "marker": {
          "color": "#19d3f3",
          "symbol": "circle"
         },
         "name": "Information Technology",
         "showlegend": true,
         "type": "splom"
        },
        {
         "diagonal": {
          "visible": false
         },
         "dimensions": [
          {
           "axis": {
            "matches": true
           },
           "label": "PC 1 (54.0%)",
           "values": [
            -0.428263334524719,
            -0.45623568486122,
            -0.39211552309850267
           ]
          },
          {
           "axis": {
            "matches": true
           },
           "label": "PC 2 (22.1%)",
           "values": [
            -0.20698366587156564,
            -0.03384241080828336,
            -0.02007939528098624
           ]
          },
          {
           "axis": {
            "matches": true
           },
           "label": "PC 3 (11.3%)",
           "values": [
            0.03293633764616805,
            0.07115700960999273,
            -0.6810851101310414
           ]
          },
          {
           "axis": {
            "matches": true
           },
           "label": "PC 4 (9.6%)",
           "values": [
            0.01199248128370018,
            -0.7243175572492094,
            -0.12829492476315646
           ]
          },
          {
           "axis": {
            "matches": true
           },
           "label": "PC 5 (1.4%)",
           "values": [
            -0.12907997581788294,
            -0.17717348426993001,
            -0.1432977696010359
           ]
          }
         ],
         "hovertemplate": "color=Consumer Staples<br>%{xaxis.title.text}=%{x}<br>%{yaxis.title.text}=%{y}<extra></extra>",
         "legendgroup": "Consumer Staples",
         "marker": {
          "color": "#FF6692",
          "symbol": "circle"
         },
         "name": "Consumer Staples",
         "showlegend": true,
         "type": "splom"
        },
        {
         "diagonal": {
          "visible": false
         },
         "dimensions": [
          {
           "axis": {
            "matches": true
           },
           "label": "PC 1 (54.0%)",
           "values": [
            -0.41321142137016104
           ]
          },
          {
           "axis": {
            "matches": true
           },
           "label": "PC 2 (22.1%)",
           "values": [
            0.8379388675419365
           ]
          },
          {
           "axis": {
            "matches": true
           },
           "label": "PC 3 (11.3%)",
           "values": [
            -1.5226438464816303
           ]
          },
          {
           "axis": {
            "matches": true
           },
           "label": "PC 4 (9.6%)",
           "values": [
            -0.6711445043213443
           ]
          },
          {
           "axis": {
            "matches": true
           },
           "label": "PC 5 (1.4%)",
           "values": [
            0.4196916021665775
           ]
          }
         ],
         "hovertemplate": "color=Energy<br>%{xaxis.title.text}=%{x}<br>%{yaxis.title.text}=%{y}<extra></extra>",
         "legendgroup": "Energy",
         "marker": {
          "color": "#B6E880",
          "symbol": "circle"
         },
         "name": "Energy",
         "showlegend": true,
         "type": "splom"
        },
        {
         "diagonal": {
          "visible": false
         },
         "dimensions": [
          {
           "axis": {
            "matches": true
           },
           "label": "PC 1 (54.0%)",
           "values": [
            -0.5132440285093901
           ]
          },
          {
           "axis": {
            "matches": true
           },
           "label": "PC 2 (22.1%)",
           "values": [
            -0.17335382333737373
           ]
          },
          {
           "axis": {
            "matches": true
           },
           "label": "PC 3 (11.3%)",
           "values": [
            -0.006346751974352184
           ]
          },
          {
           "axis": {
            "matches": true
           },
           "label": "PC 4 (9.6%)",
           "values": [
            0.05827075661405362
           ]
          },
          {
           "axis": {
            "matches": true
           },
           "label": "PC 5 (1.4%)",
           "values": [
            -0.15352315154194404
           ]
          }
         ],
         "hovertemplate": "color=Healthcare<br>%{xaxis.title.text}=%{x}<br>%{yaxis.title.text}=%{y}<extra></extra>",
         "legendgroup": "Healthcare",
         "marker": {
          "color": "#FF97FF",
          "symbol": "circle"
         },
         "name": "Healthcare",
         "showlegend": true,
         "type": "splom"
        }
       ],
       "layout": {
        "autosize": false,
        "dragmode": "select",
        "height": 800,
        "legend": {
         "title": {
          "text": "color"
         },
         "tracegroupgap": 0
        },
        "margin": {
         "t": 60
        },
        "template": {
         "data": {
          "bar": [
           {
            "error_x": {
             "color": "#2a3f5f"
            },
            "error_y": {
             "color": "#2a3f5f"
            },
            "marker": {
             "line": {
              "color": "#E5ECF6",
              "width": 0.5
             },
             "pattern": {
              "fillmode": "overlay",
              "size": 10,
              "solidity": 0.2
             }
            },
            "type": "bar"
           }
          ],
          "barpolar": [
           {
            "marker": {
             "line": {
              "color": "#E5ECF6",
              "width": 0.5
             },
             "pattern": {
              "fillmode": "overlay",
              "size": 10,
              "solidity": 0.2
             }
            },
            "type": "barpolar"
           }
          ],
          "carpet": [
           {
            "aaxis": {
             "endlinecolor": "#2a3f5f",
             "gridcolor": "white",
             "linecolor": "white",
             "minorgridcolor": "white",
             "startlinecolor": "#2a3f5f"
            },
            "baxis": {
             "endlinecolor": "#2a3f5f",
             "gridcolor": "white",
             "linecolor": "white",
             "minorgridcolor": "white",
             "startlinecolor": "#2a3f5f"
            },
            "type": "carpet"
           }
          ],
          "choropleth": [
           {
            "colorbar": {
             "outlinewidth": 0,
             "ticks": ""
            },
            "type": "choropleth"
           }
          ],
          "contour": [
           {
            "colorbar": {
             "outlinewidth": 0,
             "ticks": ""
            },
            "colorscale": [
             [
              0,
              "#0d0887"
             ],
             [
              0.1111111111111111,
              "#46039f"
             ],
             [
              0.2222222222222222,
              "#7201a8"
             ],
             [
              0.3333333333333333,
              "#9c179e"
             ],
             [
              0.4444444444444444,
              "#bd3786"
             ],
             [
              0.5555555555555556,
              "#d8576b"
             ],
             [
              0.6666666666666666,
              "#ed7953"
             ],
             [
              0.7777777777777778,
              "#fb9f3a"
             ],
             [
              0.8888888888888888,
              "#fdca26"
             ],
             [
              1,
              "#f0f921"
             ]
            ],
            "type": "contour"
           }
          ],
          "contourcarpet": [
           {
            "colorbar": {
             "outlinewidth": 0,
             "ticks": ""
            },
            "type": "contourcarpet"
           }
          ],
          "heatmap": [
           {
            "colorbar": {
             "outlinewidth": 0,
             "ticks": ""
            },
            "colorscale": [
             [
              0,
              "#0d0887"
             ],
             [
              0.1111111111111111,
              "#46039f"
             ],
             [
              0.2222222222222222,
              "#7201a8"
             ],
             [
              0.3333333333333333,
              "#9c179e"
             ],
             [
              0.4444444444444444,
              "#bd3786"
             ],
             [
              0.5555555555555556,
              "#d8576b"
             ],
             [
              0.6666666666666666,
              "#ed7953"
             ],
             [
              0.7777777777777778,
              "#fb9f3a"
             ],
             [
              0.8888888888888888,
              "#fdca26"
             ],
             [
              1,
              "#f0f921"
             ]
            ],
            "type": "heatmap"
           }
          ],
          "heatmapgl": [
           {
            "colorbar": {
             "outlinewidth": 0,
             "ticks": ""
            },
            "colorscale": [
             [
              0,
              "#0d0887"
             ],
             [
              0.1111111111111111,
              "#46039f"
             ],
             [
              0.2222222222222222,
              "#7201a8"
             ],
             [
              0.3333333333333333,
              "#9c179e"
             ],
             [
              0.4444444444444444,
              "#bd3786"
             ],
             [
              0.5555555555555556,
              "#d8576b"
             ],
             [
              0.6666666666666666,
              "#ed7953"
             ],
             [
              0.7777777777777778,
              "#fb9f3a"
             ],
             [
              0.8888888888888888,
              "#fdca26"
             ],
             [
              1,
              "#f0f921"
             ]
            ],
            "type": "heatmapgl"
           }
          ],
          "histogram": [
           {
            "marker": {
             "pattern": {
              "fillmode": "overlay",
              "size": 10,
              "solidity": 0.2
             }
            },
            "type": "histogram"
           }
          ],
          "histogram2d": [
           {
            "colorbar": {
             "outlinewidth": 0,
             "ticks": ""
            },
            "colorscale": [
             [
              0,
              "#0d0887"
             ],
             [
              0.1111111111111111,
              "#46039f"
             ],
             [
              0.2222222222222222,
              "#7201a8"
             ],
             [
              0.3333333333333333,
              "#9c179e"
             ],
             [
              0.4444444444444444,
              "#bd3786"
             ],
             [
              0.5555555555555556,
              "#d8576b"
             ],
             [
              0.6666666666666666,
              "#ed7953"
             ],
             [
              0.7777777777777778,
              "#fb9f3a"
             ],
             [
              0.8888888888888888,
              "#fdca26"
             ],
             [
              1,
              "#f0f921"
             ]
            ],
            "type": "histogram2d"
           }
          ],
          "histogram2dcontour": [
           {
            "colorbar": {
             "outlinewidth": 0,
             "ticks": ""
            },
            "colorscale": [
             [
              0,
              "#0d0887"
             ],
             [
              0.1111111111111111,
              "#46039f"
             ],
             [
              0.2222222222222222,
              "#7201a8"
             ],
             [
              0.3333333333333333,
              "#9c179e"
             ],
             [
              0.4444444444444444,
              "#bd3786"
             ],
             [
              0.5555555555555556,
              "#d8576b"
             ],
             [
              0.6666666666666666,
              "#ed7953"
             ],
             [
              0.7777777777777778,
              "#fb9f3a"
             ],
             [
              0.8888888888888888,
              "#fdca26"
             ],
             [
              1,
              "#f0f921"
             ]
            ],
            "type": "histogram2dcontour"
           }
          ],
          "mesh3d": [
           {
            "colorbar": {
             "outlinewidth": 0,
             "ticks": ""
            },
            "type": "mesh3d"
           }
          ],
          "parcoords": [
           {
            "line": {
             "colorbar": {
              "outlinewidth": 0,
              "ticks": ""
             }
            },
            "type": "parcoords"
           }
          ],
          "pie": [
           {
            "automargin": true,
            "type": "pie"
           }
          ],
          "scatter": [
           {
            "fillpattern": {
             "fillmode": "overlay",
             "size": 10,
             "solidity": 0.2
            },
            "type": "scatter"
           }
          ],
          "scatter3d": [
           {
            "line": {
             "colorbar": {
              "outlinewidth": 0,
              "ticks": ""
             }
            },
            "marker": {
             "colorbar": {
              "outlinewidth": 0,
              "ticks": ""
             }
            },
            "type": "scatter3d"
           }
          ],
          "scattercarpet": [
           {
            "marker": {
             "colorbar": {
              "outlinewidth": 0,
              "ticks": ""
             }
            },
            "type": "scattercarpet"
           }
          ],
          "scattergeo": [
           {
            "marker": {
             "colorbar": {
              "outlinewidth": 0,
              "ticks": ""
             }
            },
            "type": "scattergeo"
           }
          ],
          "scattergl": [
           {
            "marker": {
             "colorbar": {
              "outlinewidth": 0,
              "ticks": ""
             }
            },
            "type": "scattergl"
           }
          ],
          "scattermapbox": [
           {
            "marker": {
             "colorbar": {
              "outlinewidth": 0,
              "ticks": ""
             }
            },
            "type": "scattermapbox"
           }
          ],
          "scatterpolar": [
           {
            "marker": {
             "colorbar": {
              "outlinewidth": 0,
              "ticks": ""
             }
            },
            "type": "scatterpolar"
           }
          ],
          "scatterpolargl": [
           {
            "marker": {
             "colorbar": {
              "outlinewidth": 0,
              "ticks": ""
             }
            },
            "type": "scatterpolargl"
           }
          ],
          "scatterternary": [
           {
            "marker": {
             "colorbar": {
              "outlinewidth": 0,
              "ticks": ""
             }
            },
            "type": "scatterternary"
           }
          ],
          "surface": [
           {
            "colorbar": {
             "outlinewidth": 0,
             "ticks": ""
            },
            "colorscale": [
             [
              0,
              "#0d0887"
             ],
             [
              0.1111111111111111,
              "#46039f"
             ],
             [
              0.2222222222222222,
              "#7201a8"
             ],
             [
              0.3333333333333333,
              "#9c179e"
             ],
             [
              0.4444444444444444,
              "#bd3786"
             ],
             [
              0.5555555555555556,
              "#d8576b"
             ],
             [
              0.6666666666666666,
              "#ed7953"
             ],
             [
              0.7777777777777778,
              "#fb9f3a"
             ],
             [
              0.8888888888888888,
              "#fdca26"
             ],
             [
              1,
              "#f0f921"
             ]
            ],
            "type": "surface"
           }
          ],
          "table": [
           {
            "cells": {
             "fill": {
              "color": "#EBF0F8"
             },
             "line": {
              "color": "white"
             }
            },
            "header": {
             "fill": {
              "color": "#C8D4E3"
             },
             "line": {
              "color": "white"
             }
            },
            "type": "table"
           }
          ]
         },
         "layout": {
          "annotationdefaults": {
           "arrowcolor": "#2a3f5f",
           "arrowhead": 0,
           "arrowwidth": 1
          },
          "autotypenumbers": "strict",
          "coloraxis": {
           "colorbar": {
            "outlinewidth": 0,
            "ticks": ""
           }
          },
          "colorscale": {
           "diverging": [
            [
             0,
             "#8e0152"
            ],
            [
             0.1,
             "#c51b7d"
            ],
            [
             0.2,
             "#de77ae"
            ],
            [
             0.3,
             "#f1b6da"
            ],
            [
             0.4,
             "#fde0ef"
            ],
            [
             0.5,
             "#f7f7f7"
            ],
            [
             0.6,
             "#e6f5d0"
            ],
            [
             0.7,
             "#b8e186"
            ],
            [
             0.8,
             "#7fbc41"
            ],
            [
             0.9,
             "#4d9221"
            ],
            [
             1,
             "#276419"
            ]
           ],
           "sequential": [
            [
             0,
             "#0d0887"
            ],
            [
             0.1111111111111111,
             "#46039f"
            ],
            [
             0.2222222222222222,
             "#7201a8"
            ],
            [
             0.3333333333333333,
             "#9c179e"
            ],
            [
             0.4444444444444444,
             "#bd3786"
            ],
            [
             0.5555555555555556,
             "#d8576b"
            ],
            [
             0.6666666666666666,
             "#ed7953"
            ],
            [
             0.7777777777777778,
             "#fb9f3a"
            ],
            [
             0.8888888888888888,
             "#fdca26"
            ],
            [
             1,
             "#f0f921"
            ]
           ],
           "sequentialminus": [
            [
             0,
             "#0d0887"
            ],
            [
             0.1111111111111111,
             "#46039f"
            ],
            [
             0.2222222222222222,
             "#7201a8"
            ],
            [
             0.3333333333333333,
             "#9c179e"
            ],
            [
             0.4444444444444444,
             "#bd3786"
            ],
            [
             0.5555555555555556,
             "#d8576b"
            ],
            [
             0.6666666666666666,
             "#ed7953"
            ],
            [
             0.7777777777777778,
             "#fb9f3a"
            ],
            [
             0.8888888888888888,
             "#fdca26"
            ],
            [
             1,
             "#f0f921"
            ]
           ]
          },
          "colorway": [
           "#636efa",
           "#EF553B",
           "#00cc96",
           "#ab63fa",
           "#FFA15A",
           "#19d3f3",
           "#FF6692",
           "#B6E880",
           "#FF97FF",
           "#FECB52"
          ],
          "font": {
           "color": "#2a3f5f"
          },
          "geo": {
           "bgcolor": "white",
           "lakecolor": "white",
           "landcolor": "#E5ECF6",
           "showlakes": true,
           "showland": true,
           "subunitcolor": "white"
          },
          "hoverlabel": {
           "align": "left"
          },
          "hovermode": "closest",
          "mapbox": {
           "style": "light"
          },
          "paper_bgcolor": "white",
          "plot_bgcolor": "#E5ECF6",
          "polar": {
           "angularaxis": {
            "gridcolor": "white",
            "linecolor": "white",
            "ticks": ""
           },
           "bgcolor": "#E5ECF6",
           "radialaxis": {
            "gridcolor": "white",
            "linecolor": "white",
            "ticks": ""
           }
          },
          "scene": {
           "xaxis": {
            "backgroundcolor": "#E5ECF6",
            "gridcolor": "white",
            "gridwidth": 2,
            "linecolor": "white",
            "showbackground": true,
            "ticks": "",
            "zerolinecolor": "white"
           },
           "yaxis": {
            "backgroundcolor": "#E5ECF6",
            "gridcolor": "white",
            "gridwidth": 2,
            "linecolor": "white",
            "showbackground": true,
            "ticks": "",
            "zerolinecolor": "white"
           },
           "zaxis": {
            "backgroundcolor": "#E5ECF6",
            "gridcolor": "white",
            "gridwidth": 2,
            "linecolor": "white",
            "showbackground": true,
            "ticks": "",
            "zerolinecolor": "white"
           }
          },
          "shapedefaults": {
           "line": {
            "color": "#2a3f5f"
           }
          },
          "ternary": {
           "aaxis": {
            "gridcolor": "white",
            "linecolor": "white",
            "ticks": ""
           },
           "baxis": {
            "gridcolor": "white",
            "linecolor": "white",
            "ticks": ""
           },
           "bgcolor": "#E5ECF6",
           "caxis": {
            "gridcolor": "white",
            "linecolor": "white",
            "ticks": ""
           }
          },
          "title": {
           "x": 0.05
          },
          "xaxis": {
           "automargin": true,
           "gridcolor": "white",
           "linecolor": "white",
           "ticks": "",
           "title": {
            "standoff": 15
           },
           "zerolinecolor": "white",
           "zerolinewidth": 2
          },
          "yaxis": {
           "automargin": true,
           "gridcolor": "white",
           "linecolor": "white",
           "ticks": "",
           "title": {
            "standoff": 15
           },
           "zerolinecolor": "white",
           "zerolinewidth": 2
          }
         }
        },
        "width": 1000,
        "xaxis": {
         "autorange": true,
         "range": [
          -2.1902404907488076,
          15.514545131680483
         ],
         "type": "linear"
        },
        "xaxis2": {
         "autorange": true,
         "range": [
          -2.824595401856815,
          9.845614799037946
         ],
         "type": "linear"
        },
        "xaxis3": {
         "autorange": true,
         "range": [
          -2.1040918672545805,
          3.0445163579681243
         ],
         "type": "linear"
        },
        "xaxis4": {
         "autorange": true,
         "range": [
          -2.930460754498816,
          3.9123780939597967
         ],
         "type": "linear"
        },
        "xaxis5": {
         "autorange": true,
         "range": [
          -0.6565995236881016,
          2.0326654902780366
         ],
         "type": "linear"
        },
        "yaxis": {
         "autorange": true,
         "range": [
          -2.1902404907488076,
          15.514545131680483
         ],
         "type": "linear"
        },
        "yaxis2": {
         "autorange": true,
         "range": [
          -2.824595401856815,
          9.845614799037946
         ],
         "type": "linear"
        },
        "yaxis3": {
         "autorange": true,
         "range": [
          -2.1040918672545805,
          3.0445163579681243
         ],
         "type": "linear"
        },
        "yaxis4": {
         "autorange": true,
         "range": [
          -2.930460754498816,
          3.9123780939597967
         ],
         "type": "linear"
        },
        "yaxis5": {
         "autorange": true,
         "range": [
          -0.6565995236881016,
          2.0326654902780366
         ],
         "type": "linear"
        }
       }
      },
      "image/png": "[encoded data removed]",
      "text/html": [
       "<div>                            <div id=\"d929ed1e-9825-473b-ae13-546dc987b720\" class=\"plotly-graph-div\" style=\"height:800px; width:1000px;\"></div>            <script type=\"text/javascript\">                require([\"plotly\"], function(Plotly) {                    window.PLOTLYENV=window.PLOTLYENV || {};                                    if (document.getElementById(\"d929ed1e-9825-473b-ae13-546dc987b720\")) {                    Plotly.newPlot(                        \"d929ed1e-9825-473b-ae13-546dc987b720\",                        [{\"dimensions\":[{\"axis\":{\"matches\":true},\"label\":\"PC 1 (54.0%)\",\"values\":[-0.5330895243706786,-0.38502581381367096,-0.45284912419493856,-0.694355105596043,-0.46735838220801273,-0.7573152907516894,-0.31194724109769006,-0.5940538599364495,-0.39803719556207345,-0.41792759975671007,-0.42719560129608225,0.2698122764267225]},{\"axis\":{\"matches\":true},\"label\":\"PC 2 (22.1%)\",\"values\":[0.20053747897016033,-1.7991402580722766,-0.4899887137398215,0.08677843495179535,-0.49142761532047374,8.820159655253407,-0.22207682380992871,-1.0431244526156074,-0.6910058754146279,0.5077311304452766,-0.21960674162643537,0.005910481566829967]},{\"axis\":{\"matches\":true},\"label\":\"PC 3 (11.3%)\",\"values\":[-1.133912511530152,0.8771701536108252,1.0641288972821117,-0.9160186747832466,0.670829476465079,1.2394092312999023,-0.27417128386551876,2.6278171316590644,0.4224355945864071,-1.6873926409455207,-0.45876040622522896,-0.7403500243579241]},{\"axis\":{\"matches\":true},\"label\":\"PC 4 (9.6%)\",\"values\":[-0.21858125812169935,3.3585574245327803,0.46105667768456415,-0.25112582462403155,0.7360274182639218,0.998988593253106,0.7343819389627045,0.39026269943984576,1.7314985117185462,-1.0941543973002743,0.7888581692567657,0.35021461565206596]},{\"axis\":{\"matches\":true},\"label\":\"PC 5 (1.4%)\",\"values\":[-0.21298667475748453,-0.26417813875569335,-0.024849593946576716,-0.2975893633951144,-0.0019626901352661646,0.014987575790070411,-0.04508065183308041,0.02317060285859041,0.17380906310730346,-0.09305346958078939,-0.14056947889537735,0.7778948910979165]}],\"hovertemplate\":\"color=Real Estate<br>%{xaxis.title.text}=%{x}<br>%{yaxis.title.text}=%{y}<extra></extra>\",\"legendgroup\":\"Real Estate\",\"marker\":{\"color\":\"#636efa\",\"symbol\":\"circle\"},\"name\":\"Real Estate\",\"showlegend\":true,\"type\":\"splom\",\"diagonal\":{\"visible\":false}},{\"dimensions\":[{\"axis\":{\"matches\":true},\"label\":\"PC 1 (54.0%)\",\"values\":[-0.6147342240260517,-0.37352458876901756,-0.4617167320350822,-0.4362574685825126,-0.6154811506579727,2.5570893058510396,-0.5355429178131466,-0.39078096896652137,-0.4224369443152929,-0.5015008309262198,-0.45867779409463194,-0.5833603403967244,-0.06690457116839213]},{\"axis\":{\"matches\":true},\"label\":\"PC 2 (22.1%)\",\"values\":[-0.4412843089964181,0.14431097364427065,0.06183189913167552,0.07211280331791999,-0.13143278038499587,-0.18609034818838344,-0.06858879690851961,0.16722774447113833,-0.3501471546643017,-0.18627609752806842,-0.020543913131608346,-0.25970864145753175,0.06281346164745007]},{\"axis\":{\"matches\":true},\"label\":\"PC 3 (11.3%)\",\"values\":[2.2867575667056106,-0.8828619181257354,-0.7606889621412515,-0.7912278069693267,0.9562974990403792,0.1811241925821347,0.04764328147949859,-0.9238675742151293,-0.796342813401189,0.5273861973859616,-0.40017380276290754,0.8506505122361,-0.6465593103099563]},{\"axis\":{\"matches\":true},\"label\":\"PC 4 (9.6%)\",\"values\":[-2.3766400850717995,-0.27633007733307957,-0.3616304283322352,-0.6134354928645209,-0.709789069360817,0.24592538869485545,-0.5284162881871692,-0.5276453043703571,0.5841732633537831,-0.8412404864374169,-0.23421508037922284,-1.1868077135370658,-0.3202484677853057]},{\"axis\":{\"matches\":true},\"label\":\"PC 5 (1.4%)\",\"values\":[0.1437517714524824,-0.28377372427359754,-0.12373656438782586,-0.14095919865584475,-0.002580277908672129,1.815011592051737,-0.18506866029372435,-0.07370317710110676,-0.07714684642318946,-0.06648084514295924,-0.13868769099743763,-0.07379003498344903,0.03820430125885999]}],\"hovertemplate\":\"color=Industrials<br>%{xaxis.title.text}=%{x}<br>%{yaxis.title.text}=%{y}<extra></extra>\",\"legendgroup\":\"Industrials\",\"marker\":{\"color\":\"#EF553B\",\"symbol\":\"circle\"},\"name\":\"Industrials\",\"showlegend\":true,\"type\":\"splom\",\"diagonal\":{\"visible\":false}},{\"dimensions\":[{\"axis\":{\"matches\":true},\"label\":\"PC 1 (54.0%)\",\"values\":[0.350365063565669,-0.49577168974155805,-0.34053017722786294,-0.42613087287430945,-0.43303488341148305,-0.1714343499063138,0.063990130832384]},{\"axis\":{\"matches\":true},\"label\":\"PC 2 (22.1%)\",\"values\":[0.08035117825981848,-0.15480967450056943,-0.27158288614080106,-0.024685731475311976,-0.32192035369651684,-1.0628700792031864,-0.023987802774089018]},{\"axis\":{\"matches\":true},\"label\":\"PC 3 (11.3%)\",\"values\":[-0.5633663911317984,0.08434783704189419,-0.24521226008721467,-0.912400005644673,0.22073102202816264,-1.5150704585903054,0.18713942050692797]},{\"axis\":{\"matches\":true},\"label\":\"PC 4 (9.6%)\",\"values\":[-0.16618282391802405,-0.24719090993611545,0.4484691618037335,-0.2152640622413921,0.21029946664168744,-0.2907815047706185,-0.45950987062770765]},{\"axis\":{\"matches\":true},\"label\":\"PC 5 (1.4%)\",\"values\":[-0.18439282228756335,-0.17858338064476023,-0.1482117461102797,-0.021545596922127746,-0.15961066402504348,0.4565815790056724,0.31500649538080644]}],\"hovertemplate\":\"color=Consumer Discretionary<br>%{xaxis.title.text}=%{x}<br>%{yaxis.title.text}=%{y}<extra></extra>\",\"legendgroup\":\"Consumer Discretionary\",\"marker\":{\"color\":\"#00cc96\",\"symbol\":\"circle\"},\"name\":\"Consumer Discretionary\",\"showlegend\":true,\"type\":\"splom\",\"diagonal\":{\"visible\":false}},{\"dimensions\":[{\"axis\":{\"matches\":true},\"label\":\"PC 1 (54.0%)\",\"values\":[0.11609361902090014,-0.3065540426926813,-0.5822921019987716]},{\"axis\":{\"matches\":true},\"label\":\"PC 2 (22.1%)\",\"values\":[-0.30593283967081053,-0.28504356787366275,-0.9118418583704728]},{\"axis\":{\"matches\":true},\"label\":\"PC 3 (11.3%)\",\"values\":[-0.013135630957777238,-0.4511537460642201,1.8177324042338574]},{\"axis\":{\"matches\":true},\"label\":\"PC 4 (9.6%)\",\"values\":[1.1131140859204123,0.8383223681209812,0.9372313842864949]},{\"axis\":{\"matches\":true},\"label\":\"PC 5 (1.4%)\",\"values\":[0.2758065551824731,-0.039035186083813,-0.1426338546727428]}],\"hovertemplate\":\"color=Financials<br>%{xaxis.title.text}=%{x}<br>%{yaxis.title.text}=%{y}<extra></extra>\",\"legendgroup\":\"Financials\",\"marker\":{\"color\":\"#ab63fa\",\"symbol\":\"circle\"},\"name\":\"Financials\",\"showlegend\":true,\"type\":\"splom\",\"diagonal\":{\"visible\":false}},{\"dimensions\":[{\"axis\":{\"matches\":true},\"label\":\"PC 1 (54.0%)\",\"values\":[-0.46632136583650097,-0.6817670321076704]},{\"axis\":{\"matches\":true},\"label\":\"PC 2 (22.1%)\",\"values\":[-0.20592469817357137,-0.6700358615015967]},{\"axis\":{\"matches\":true},\"label\":\"PC 3 (11.3%)\",\"values\":[-0.3809472006800385,2.5891016206241706]},{\"axis\":{\"matches\":true},\"label\":\"PC 4 (9.6%)\",\"values\":[1.0088941834425451,-1.878714500018662]},{\"axis\":{\"matches\":true},\"label\":\"PC 5 (1.4%)\",\"values\":[-0.14359218901881854,0.0350536628971048]}],\"hovertemplate\":\"color=Communication Services<br>%{xaxis.title.text}=%{x}<br>%{yaxis.title.text}=%{y}<extra></extra>\",\"legendgroup\":\"Communication Services\",\"marker\":{\"color\":\"#FFA15A\",\"symbol\":\"circle\"},\"name\":\"Communication Services\",\"showlegend\":true,\"type\":\"splom\",\"diagonal\":{\"visible\":false}},{\"dimensions\":[{\"axis\":{\"matches\":true},\"label\":\"PC 1 (54.0%)\",\"values\":[14.081619931683365,-0.43199054888333516]},{\"axis\":{\"matches\":true},\"label\":\"PC 2 (22.1%)\",\"values\":[0.22755281163188779,-0.001919750295769164]},{\"axis\":{\"matches\":true},\"label\":\"PC 3 (11.3%)\",\"values\":[0.23188285572258874,-0.28298911037069824]},{\"axis\":{\"matches\":true},\"label\":\"PC 4 (9.6%)\",\"values\":[-0.15789166107290362,-0.5269862963024189]},{\"axis\":{\"matches\":true},\"label\":\"PC 5 (1.4%)\",\"values\":[-0.4389456254618017,-0.18314716432466235]}],\"hovertemplate\":\"color=Information Technology<br>%{xaxis.title.text}=%{x}<br>%{yaxis.title.text}=%{y}<extra></extra>\",\"legendgroup\":\"Information Technology\",\"marker\":{\"color\":\"#19d3f3\",\"symbol\":\"circle\"},\"name\":\"Information Technology\",\"showlegend\":true,\"type\":\"splom\",\"diagonal\":{\"visible\":false}},{\"dimensions\":[{\"axis\":{\"matches\":true},\"label\":\"PC 1 (54.0%)\",\"values\":[-0.428263334524719,-0.45623568486122,-0.39211552309850267]},{\"axis\":{\"matches\":true},\"label\":\"PC 2 (22.1%)\",\"values\":[-0.20698366587156564,-0.03384241080828336,-0.02007939528098624]},{\"axis\":{\"matches\":true},\"label\":\"PC 3 (11.3%)\",\"values\":[0.03293633764616805,0.07115700960999273,-0.6810851101310414]},{\"axis\":{\"matches\":true},\"label\":\"PC 4 (9.6%)\",\"values\":[0.01199248128370018,-0.7243175572492094,-0.12829492476315646]},{\"axis\":{\"matches\":true},\"label\":\"PC 5 (1.4%)\",\"values\":[-0.12907997581788294,-0.17717348426993001,-0.1432977696010359]}],\"hovertemplate\":\"color=Consumer Staples<br>%{xaxis.title.text}=%{x}<br>%{yaxis.title.text}=%{y}<extra></extra>\",\"legendgroup\":\"Consumer Staples\",\"marker\":{\"color\":\"#FF6692\",\"symbol\":\"circle\"},\"name\":\"Consumer Staples\",\"showlegend\":true,\"type\":\"splom\",\"diagonal\":{\"visible\":false}},{\"dimensions\":[{\"axis\":{\"matches\":true},\"label\":\"PC 1 (54.0%)\",\"values\":[-0.41321142137016104]},{\"axis\":{\"matches\":true},\"label\":\"PC 2 (22.1%)\",\"values\":[0.8379388675419365]},{\"axis\":{\"matches\":true},\"label\":\"PC 3 (11.3%)\",\"values\":[-1.5226438464816303]},{\"axis\":{\"matches\":true},\"label\":\"PC 4 (9.6%)\",\"values\":[-0.6711445043213443]},{\"axis\":{\"matches\":true},\"label\":\"PC 5 (1.4%)\",\"values\":[0.4196916021665775]}],\"hovertemplate\":\"color=Energy<br>%{xaxis.title.text}=%{x}<br>%{yaxis.title.text}=%{y}<extra></extra>\",\"legendgroup\":\"Energy\",\"marker\":{\"color\":\"#B6E880\",\"symbol\":\"circle\"},\"name\":\"Energy\",\"showlegend\":true,\"type\":\"splom\",\"diagonal\":{\"visible\":false}},{\"dimensions\":[{\"axis\":{\"matches\":true},\"label\":\"PC 1 (54.0%)\",\"values\":[-0.5132440285093901]},{\"axis\":{\"matches\":true},\"label\":\"PC 2 (22.1%)\",\"values\":[-0.17335382333737373]},{\"axis\":{\"matches\":true},\"label\":\"PC 3 (11.3%)\",\"values\":[-0.006346751974352184]},{\"axis\":{\"matches\":true},\"label\":\"PC 4 (9.6%)\",\"values\":[0.05827075661405362]},{\"axis\":{\"matches\":true},\"label\":\"PC 5 (1.4%)\",\"values\":[-0.15352315154194404]}],\"hovertemplate\":\"color=Healthcare<br>%{xaxis.title.text}=%{x}<br>%{yaxis.title.text}=%{y}<extra></extra>\",\"legendgroup\":\"Healthcare\",\"marker\":{\"color\":\"#FF97FF\",\"symbol\":\"circle\"},\"name\":\"Healthcare\",\"showlegend\":true,\"type\":\"splom\",\"diagonal\":{\"visible\":false}}],                        {\"template\":{\"data\":{\"histogram2dcontour\":[{\"type\":\"histogram2dcontour\",\"colorbar\":{\"outlinewidth\":0,\"ticks\":\"\"},\"colorscale\":[[0.0,\"#0d0887\"],[0.1111111111111111,\"#46039f\"],[0.2222222222222222,\"#7201a8\"],[0.3333333333333333,\"#9c179e\"],[0.4444444444444444,\"#bd3786\"],[0.5555555555555556,\"#d8576b\"],[0.6666666666666666,\"#ed7953\"],[0.7777777777777778,\"#fb9f3a\"],[0.8888888888888888,\"#fdca26\"],[1.0,\"#f0f921\"]]}],\"choropleth\":[{\"type\":\"choropleth\",\"colorbar\":{\"outlinewidth\":0,\"ticks\":\"\"}}],\"histogram2d\":[{\"type\":\"histogram2d\",\"colorbar\":{\"outlinewidth\":0,\"ticks\":\"\"},\"colorscale\":[[0.0,\"#0d0887\"],[0.1111111111111111,\"#46039f\"],[0.2222222222222222,\"#7201a8\"],[0.3333333333333333,\"#9c179e\"],[0.4444444444444444,\"#bd3786\"],[0.5555555555555556,\"#d8576b\"],[0.6666666666666666,\"#ed7953\"],[0.7777777777777778,\"#fb9f3a\"],[0.8888888888888888,\"#fdca26\"],[1.0,\"#f0f921\"]]}],\"heatmap\":[{\"type\":\"heatmap\",\"colorbar\":{\"outlinewidth\":0,\"ticks\":\"\"},\"colorscale\":[[0.0,\"#0d0887\"],[0.1111111111111111,\"#46039f\"],[0.2222222222222222,\"#7201a8\"],[0.3333333333333333,\"#9c179e\"],[0.4444444444444444,\"#bd3786\"],[0.5555555555555556,\"#d8576b\"],[0.6666666666666666,\"#ed7953\"],[0.7777777777777778,\"#fb9f3a\"],[0.8888888888888888,\"#fdca26\"],[1.0,\"#f0f921\"]]}],\"heatmapgl\":[{\"type\":\"heatmapgl\",\"colorbar\":{\"outlinewidth\":0,\"ticks\":\"\"},\"colorscale\":[[0.0,\"#0d0887\"],[0.1111111111111111,\"#46039f\"],[0.2222222222222222,\"#7201a8\"],[0.3333333333333333,\"#9c179e\"],[0.4444444444444444,\"#bd3786\"],[0.5555555555555556,\"#d8576b\"],[0.6666666666666666,\"#ed7953\"],[0.7777777777777778,\"#fb9f3a\"],[0.8888888888888888,\"#fdca26\"],[1.0,\"#f0f921\"]]}],\"contourcarpet\":[{\"type\":\"contourcarpet\",\"colorbar\":{\"outlinewidth\":0,\"ticks\":\"\"}}],\"contour\":[{\"type\":\"contour\",\"colorbar\":{\"outlinewidth\":0,\"ticks\":\"\"},\"colorscale\":[[0.0,\"#0d0887\"],[0.1111111111111111,\"#46039f\"],[0.2222222222222222,\"#7201a8\"],[0.3333333333333333,\"#9c179e\"],[0.4444444444444444,\"#bd3786\"],[0.5555555555555556,\"#d8576b\"],[0.6666666666666666,\"#ed7953\"],[0.7777777777777778,\"#fb9f3a\"],[0.8888888888888888,\"#fdca26\"],[1.0,\"#f0f921\"]]}],\"surface\":[{\"type\":\"surface\",\"colorbar\":{\"outlinewidth\":0,\"ticks\":\"\"},\"colorscale\":[[0.0,\"#0d0887\"],[0.1111111111111111,\"#46039f\"],[0.2222222222222222,\"#7201a8\"],[0.3333333333333333,\"#9c179e\"],[0.4444444444444444,\"#bd3786\"],[0.5555555555555556,\"#d8576b\"],[0.6666666666666666,\"#ed7953\"],[0.7777777777777778,\"#fb9f3a\"],[0.8888888888888888,\"#fdca26\"],[1.0,\"#f0f921\"]]}],\"mesh3d\":[{\"type\":\"mesh3d\",\"colorbar\":{\"outlinewidth\":0,\"ticks\":\"\"}}],\"scatter\":[{\"fillpattern\":{\"fillmode\":\"overlay\",\"size\":10,\"solidity\":0.2},\"type\":\"scatter\"}],\"parcoords\":[{\"type\":\"parcoords\",\"line\":{\"colorbar\":{\"outlinewidth\":0,\"ticks\":\"\"}}}],\"scatterpolargl\":[{\"type\":\"scatterpolargl\",\"marker\":{\"colorbar\":{\"outlinewidth\":0,\"ticks\":\"\"}}}],\"bar\":[{\"error_x\":{\"color\":\"#2a3f5f\"},\"error_y\":{\"color\":\"#2a3f5f\"},\"marker\":{\"line\":{\"color\":\"#E5ECF6\",\"width\":0.5},\"pattern\":{\"fillmode\":\"overlay\",\"size\":10,\"solidity\":0.2}},\"type\":\"bar\"}],\"scattergeo\":[{\"type\":\"scattergeo\",\"marker\":{\"colorbar\":{\"outlinewidth\":0,\"ticks\":\"\"}}}],\"scatterpolar\":[{\"type\":\"scatterpolar\",\"marker\":{\"colorbar\":{\"outlinewidth\":0,\"ticks\":\"\"}}}],\"histogram\":[{\"marker\":{\"pattern\":{\"fillmode\":\"overlay\",\"size\":10,\"solidity\":0.2}},\"type\":\"histogram\"}],\"scattergl\":[{\"type\":\"scattergl\",\"marker\":{\"colorbar\":{\"outlinewidth\":0,\"ticks\":\"\"}}}],\"scatter3d\":[{\"type\":\"scatter3d\",\"line\":{\"colorbar\":{\"outlinewidth\":0,\"ticks\":\"\"}},\"marker\":{\"colorbar\":{\"outlinewidth\":0,\"ticks\":\"\"}}}],\"scattermapbox\":[{\"type\":\"scattermapbox\",\"marker\":{\"colorbar\":{\"outlinewidth\":0,\"ticks\":\"\"}}}],\"scatterternary\":[{\"type\":\"scatterternary\",\"marker\":{\"colorbar\":{\"outlinewidth\":0,\"ticks\":\"\"}}}],\"scattercarpet\":[{\"type\":\"scattercarpet\",\"marker\":{\"colorbar\":{\"outlinewidth\":0,\"ticks\":\"\"}}}],\"carpet\":[{\"aaxis\":{\"endlinecolor\":\"#2a3f5f\",\"gridcolor\":\"white\",\"linecolor\":\"white\",\"minorgridcolor\":\"white\",\"startlinecolor\":\"#2a3f5f\"},\"baxis\":{\"endlinecolor\":\"#2a3f5f\",\"gridcolor\":\"white\",\"linecolor\":\"white\",\"minorgridcolor\":\"white\",\"startlinecolor\":\"#2a3f5f\"},\"type\":\"carpet\"}],\"table\":[{\"cells\":{\"fill\":{\"color\":\"#EBF0F8\"},\"line\":{\"color\":\"white\"}},\"header\":{\"fill\":{\"color\":\"#C8D4E3\"},\"line\":{\"color\":\"white\"}},\"type\":\"table\"}],\"barpolar\":[{\"marker\":{\"line\":{\"color\":\"#E5ECF6\",\"width\":0.5},\"pattern\":{\"fillmode\":\"overlay\",\"size\":10,\"solidity\":0.2}},\"type\":\"barpolar\"}],\"pie\":[{\"automargin\":true,\"type\":\"pie\"}]},\"layout\":{\"autotypenumbers\":\"strict\",\"colorway\":[\"#636efa\",\"#EF553B\",\"#00cc96\",\"#ab63fa\",\"#FFA15A\",\"#19d3f3\",\"#FF6692\",\"#B6E880\",\"#FF97FF\",\"#FECB52\"],\"font\":{\"color\":\"#2a3f5f\"},\"hovermode\":\"closest\",\"hoverlabel\":{\"align\":\"left\"},\"paper_bgcolor\":\"white\",\"plot_bgcolor\":\"#E5ECF6\",\"polar\":{\"bgcolor\":\"#E5ECF6\",\"angularaxis\":{\"gridcolor\":\"white\",\"linecolor\":\"white\",\"ticks\":\"\"},\"radialaxis\":{\"gridcolor\":\"white\",\"linecolor\":\"white\",\"ticks\":\"\"}},\"ternary\":{\"bgcolor\":\"#E5ECF6\",\"aaxis\":{\"gridcolor\":\"white\",\"linecolor\":\"white\",\"ticks\":\"\"},\"baxis\":{\"gridcolor\":\"white\",\"linecolor\":\"white\",\"ticks\":\"\"},\"caxis\":{\"gridcolor\":\"white\",\"linecolor\":\"white\",\"ticks\":\"\"}},\"coloraxis\":{\"colorbar\":{\"outlinewidth\":0,\"ticks\":\"\"}},\"colorscale\":{\"sequential\":[[0.0,\"#0d0887\"],[0.1111111111111111,\"#46039f\"],[0.2222222222222222,\"#7201a8\"],[0.3333333333333333,\"#9c179e\"],[0.4444444444444444,\"#bd3786\"],[0.5555555555555556,\"#d8576b\"],[0.6666666666666666,\"#ed7953\"],[0.7777777777777778,\"#fb9f3a\"],[0.8888888888888888,\"#fdca26\"],[1.0,\"#f0f921\"]],\"sequentialminus\":[[0.0,\"#0d0887\"],[0.1111111111111111,\"#46039f\"],[0.2222222222222222,\"#7201a8\"],[0.3333333333333333,\"#9c179e\"],[0.4444444444444444,\"#bd3786\"],[0.5555555555555556,\"#d8576b\"],[0.6666666666666666,\"#ed7953\"],[0.7777777777777778,\"#fb9f3a\"],[0.8888888888888888,\"#fdca26\"],[1.0,\"#f0f921\"]],\"diverging\":[[0,\"#8e0152\"],[0.1,\"#c51b7d\"],[0.2,\"#de77ae\"],[0.3,\"#f1b6da\"],[0.4,\"#fde0ef\"],[0.5,\"#f7f7f7\"],[0.6,\"#e6f5d0\"],[0.7,\"#b8e186\"],[0.8,\"#7fbc41\"],[0.9,\"#4d9221\"],[1,\"#276419\"]]},\"xaxis\":{\"gridcolor\":\"white\",\"linecolor\":\"white\",\"ticks\":\"\",\"title\":{\"standoff\":15},\"zerolinecolor\":\"white\",\"automargin\":true,\"zerolinewidth\":2},\"yaxis\":{\"gridcolor\":\"white\",\"linecolor\":\"white\",\"ticks\":\"\",\"title\":{\"standoff\":15},\"zerolinecolor\":\"white\",\"automargin\":true,\"zerolinewidth\":2},\"scene\":{\"xaxis\":{\"backgroundcolor\":\"#E5ECF6\",\"gridcolor\":\"white\",\"linecolor\":\"white\",\"showbackground\":true,\"ticks\":\"\",\"zerolinecolor\":\"white\",\"gridwidth\":2},\"yaxis\":{\"backgroundcolor\":\"#E5ECF6\",\"gridcolor\":\"white\",\"linecolor\":\"white\",\"showbackground\":true,\"ticks\":\"\",\"zerolinecolor\":\"white\",\"gridwidth\":2},\"zaxis\":{\"backgroundcolor\":\"#E5ECF6\",\"gridcolor\":\"white\",\"linecolor\":\"white\",\"showbackground\":true,\"ticks\":\"\",\"zerolinecolor\":\"white\",\"gridwidth\":2}},\"shapedefaults\":{\"line\":{\"color\":\"#2a3f5f\"}},\"annotationdefaults\":{\"arrowcolor\":\"#2a3f5f\",\"arrowhead\":0,\"arrowwidth\":1},\"geo\":{\"bgcolor\":\"white\",\"landcolor\":\"#E5ECF6\",\"subunitcolor\":\"white\",\"showland\":true,\"showlakes\":true,\"lakecolor\":\"white\"},\"title\":{\"x\":0.05},\"mapbox\":{\"style\":\"light\"}}},\"legend\":{\"title\":{\"text\":\"color\"},\"tracegroupgap\":0},\"margin\":{\"t\":60},\"dragmode\":\"select\",\"autosize\":false,\"width\":1000,\"height\":800},                        {\"responsive\": true}                    ).then(function(){\n",
       "                            \n",
       "var gd = document.getElementById('d929ed1e-9825-473b-ae13-546dc987b720');\n",
       "var x = new MutationObserver(function (mutations, observer) {{\n",
       "        var display = window.getComputedStyle(gd).display;\n",
       "        if (!display || display === 'none') {{\n",
       "            console.log([gd, 'removed!']);\n",
       "            Plotly.purge(gd);\n",
       "            observer.disconnect();\n",
       "        }}\n",
       "}});\n",
       "\n",
       "// Listen for the removal of the full notebook cells\n",
       "var notebookContainer = gd.closest('#notebook-container');\n",
       "if (notebookContainer) {{\n",
       "    x.observe(notebookContainer, {childList: true});\n",
       "}}\n",
       "\n",
       "// Listen for the clearing of the current output cell\n",
       "var outputEl = gd.closest('.output');\n",
       "if (outputEl) {{\n",
       "    x.observe(outputEl, {childList: true});\n",
       "}}\n",
       "\n",
       "                        })                };                });            </script>        </div>"
      ]
     },
     "metadata": {},
     "output_type": "display_data"
    }
   ],
   "source": [
    "# Using plotly\n",
    "\n",
    "components = pca.fit_transform(X_pca)\n",
    "labels = {\n",
    "    str(i): f\"PC {i+1} ({var:.1f}%)\"\n",
    "    for i, var in enumerate(pca.explained_variance_ratio_ * 100)\n",
    "}\n",
    "\n",
    "fig = px.scatter_matrix(\n",
    "    components,\n",
    "    labels=labels,\n",
    "    dimensions=range(5),\n",
    "    color=y.flatten()\n",
    ")\n",
    "fig.update_traces(diagonal_visible=False)\n",
    "fig.update_layout(\n",
    "    autosize=False,\n",
    "    width=1000,\n",
    "    height=800,)\n",
    "fig.show()"
   ]
  },
  {
   "cell_type": "code",
   "execution_count": 189,
   "id": "e55ffa04-45f0-4621-bbdb-151bd46cd594",
   "metadata": {
    "tags": []
   },
   "outputs": [
    {
     "name": "stdout",
     "output_type": "stream",
     "text": [
      "explained variance ratio: [5.39614297e-01 2.21427804e-01 1.13341854e-01 9.61741960e-02\n",
      " 1.36704757e-02 1.10874438e-02 3.20397805e-03 1.29777607e-03\n",
      " 1.82176038e-04]\n"
     ]
    }
   ],
   "source": [
    "# Percentage of variance explained for each components\n",
    "print(\"explained variance ratio: %s\" % str(pca.explained_variance_ratio_))"
   ]
  },
  {
   "cell_type": "code",
   "execution_count": 190,
   "id": "d6a189e6-aa9d-45b1-9ff3-dffa5bdd7980",
   "metadata": {
    "tags": []
   },
   "outputs": [
    {
     "data": {
      "image/png": "[encoded data removed]",
      "text/plain": [
       "<Figure size 640x480 with 1 Axes>"
      ]
     },
     "metadata": {},
     "output_type": "display_data"
    }
   ],
   "source": [
    "plt.plot(pca.explained_variance_ratio_)\n",
    "plt.xlabel('n_component');\n",
    "plt.ylabel('Explained variance ratio');"
   ]
  },
  {
   "cell_type": "code",
   "execution_count": null,
   "id": "05c898e4-84a1-4519-842e-8b559e0f82c4",
   "metadata": {},
   "outputs": [],
   "source": []
  },
  {
   "cell_type": "code",
   "execution_count": null,
   "id": "895ccdeb-0b9b-443f-abb8-4319ff390a40",
   "metadata": {},
   "outputs": [],
   "source": []
  },
  {
   "cell_type": "code",
   "execution_count": null,
   "id": "b4523286-afa6-49c1-ba7a-b5417305407a",
   "metadata": {},
   "outputs": [],
   "source": []
  },
  {
   "cell_type": "code",
   "execution_count": null,
   "id": "e80a4c50-944f-45d0-8f81-cc9380115c19",
   "metadata": {},
   "outputs": [],
   "source": []
  },
  {
   "cell_type": "code",
   "execution_count": null,
   "id": "ceb3a11b-50f5-42fd-8df5-90ea22532a91",
   "metadata": {},
   "outputs": [],
   "source": []
  },
  {
   "cell_type": "code",
   "execution_count": null,
   "id": "33cabd99-42f0-4fc0-ad8a-b4148ee4ef5f",
   "metadata": {},
   "outputs": [],
   "source": []
  },
  {
   "cell_type": "code",
   "execution_count": null,
   "id": "cc10773b-8f4e-4444-89dd-d90ead1e8da3",
   "metadata": {},
   "outputs": [],
   "source": []
  },
  {
   "cell_type": "code",
   "execution_count": 50,
   "id": "4aff7059-1306-4b1b-8721-a6adc1e51023",
   "metadata": {
    "tags": []
   },
   "outputs": [
    {
     "data": {
      "text/plain": [
       "['Ticker',\n",
       " 'Name',\n",
       " 'Sector',\n",
       " 'Industry',\n",
       " 'Industry Group',\n",
       " 'Market Cap',\n",
       " 'Last Reported Fiscal Year',\n",
       " 'EV',\n",
       " 'EV FQ-1',\n",
       " 'EV FQ-2',\n",
       " 'EV FQ-3',\n",
       " 'EV FQ-4',\n",
       " 'EV FQ-5',\n",
       " 'EV FQ-6',\n",
       " 'EV FQ-7',\n",
       " 'EV FQ-8',\n",
       " 'EV FQ-9',\n",
       " 'EV FQ-10',\n",
       " 'EV FQ-11',\n",
       " 'EV FQ-12',\n",
       " 'FCF',\n",
       " 'FCF FQ-1',\n",
       " 'FCF FQ-2',\n",
       " 'FCF FQ-3',\n",
       " 'FCF FQ-4',\n",
       " 'FCF FQ-5',\n",
       " 'FCF FQ-6',\n",
       " 'FCF FQ-7',\n",
       " 'FCF FQ-8',\n",
       " 'FCF FQ-9',\n",
       " 'FCF FQ-10',\n",
       " 'FCF FQ-11',\n",
       " 'FCF FQ-12',\n",
       " 'EBITDA',\n",
       " 'EBITDA FQ-1',\n",
       " 'EBITDA FQ-2',\n",
       " 'EBITDA FQ-3',\n",
       " 'EBITDA FQ-4',\n",
       " 'EBITDA FQ-5',\n",
       " 'EBITDA FQ-6',\n",
       " 'EBITDA FQ-7',\n",
       " 'EBITDA FQ-8',\n",
       " 'EBITDA FQ-9',\n",
       " 'EBITDA FQ-10',\n",
       " 'EBITDA FQ-11',\n",
       " 'EBITDA FQ-12',\n",
       " 'Revenue',\n",
       " 'Revenue FQ-1',\n",
       " 'Revenue FQ-2',\n",
       " 'Revenue FQ-3',\n",
       " 'Revenue FQ-4',\n",
       " 'Revenue FQ-5',\n",
       " 'Revenue FQ-6',\n",
       " 'Revenue FQ-7',\n",
       " 'Revenue FQ-8',\n",
       " 'Revenue FQ-9',\n",
       " 'Revenue FQ-10',\n",
       " 'Revenue FQ-11',\n",
       " 'Revenue FQ-12',\n",
       " 'ROE',\n",
       " 'ROE FQ-1',\n",
       " 'ROE FQ-2',\n",
       " 'ROE FQ-3',\n",
       " 'ROE FQ-4',\n",
       " 'ROE FQ-5',\n",
       " 'ROE FQ-6',\n",
       " 'ROE FQ-7',\n",
       " 'ROE FQ-8',\n",
       " 'ROE FQ-9',\n",
       " 'ROE FQ-10',\n",
       " 'ROE FQ-11',\n",
       " 'ROE FQ-12',\n",
       " 'Gross-Profit-Margin',\n",
       " 'Gross-Profit-Margin FQ-1',\n",
       " 'Gross-Profit-Margin FQ-2',\n",
       " 'Gross-Profit-Margin FQ-3',\n",
       " 'Gross-Profit-Margin FQ-4',\n",
       " 'Gross-Profit-Margin FQ-5',\n",
       " 'Gross-Profit-Margin FQ-6',\n",
       " 'Gross-Profit-Margin FQ-7',\n",
       " 'Gross-Profit-Margin FQ-8',\n",
       " 'Gross-Profit-Margin FQ-9',\n",
       " 'Gross-Profit-Margin FQ-10',\n",
       " 'Gross-Profit-Margin FQ-11',\n",
       " 'Gross-Profit-Margin FQ-12',\n",
       " 'Quick-Ratio',\n",
       " 'Quick-Ratio FQ-1',\n",
       " 'Quick-Ratio FQ-2',\n",
       " 'Quick-Ratio FQ-3',\n",
       " 'Quick-Ratio FQ-4',\n",
       " 'Quick-Ratio FQ-5',\n",
       " 'Quick-Ratio FQ-6',\n",
       " 'Quick-Ratio FQ-7',\n",
       " 'Quick-Ratio FQ-8',\n",
       " 'Quick-Ratio FQ-9',\n",
       " 'Quick-Ratio FQ-10',\n",
       " 'Quick-Ratio FQ-11',\n",
       " 'Quick-Ratio FQ-12',\n",
       " 'Debt / Equity',\n",
       " 'Debt / Equity FQ-1',\n",
       " 'Debt / Equity FQ-2',\n",
       " 'Debt / Equity FQ-3',\n",
       " 'Debt / Equity FQ-4',\n",
       " 'Debt / Equity FQ-5',\n",
       " 'Debt / Equity FQ-6',\n",
       " 'Debt / Equity FQ-7',\n",
       " 'Debt / Equity FQ-8',\n",
       " 'Debt / Equity FQ-9',\n",
       " 'Debt / Equity FQ-10',\n",
       " 'Debt / Equity FQ-11',\n",
       " 'Debt / Equity FQ-12']"
      ]
     },
     "execution_count": 50,
     "metadata": {},
     "output_type": "execute_result"
    }
   ],
   "source": [
    "list(test_merge.columns)"
   ]
  },
  {
   "cell_type": "code",
   "execution_count": null,
   "id": "6047e36b-20cb-4e50-ab62-843a5b7d5e08",
   "metadata": {},
   "outputs": [],
   "source": []
  },
  {
   "cell_type": "code",
   "execution_count": 88,
   "id": "80be818c-cf78-471e-be81-6e389a5243e3",
   "metadata": {
    "tags": []
   },
   "outputs": [
    {
     "data": {
      "text/plain": [
       "Index(['Ticker', 'Name', 'Sector', 'Industry', 'Industry Group', 'Market Cap',\n",
       "       'Last Reported Fiscal Year', 'EV', 'EV FQ-1', 'EV FQ-2', 'EV FQ-3',\n",
       "       'EV FQ-4', 'EV FQ-5', 'EV FQ-6', 'EV FQ-7', 'EV FQ-8', 'EV FQ-9',\n",
       "       'EV FQ-10', 'EV FQ-11', 'EV FQ-12', 'FCF', 'FCF FQ-1', 'FCF FQ-2',\n",
       "       'FCF FQ-3', 'FCF FQ-4', 'FCF FQ-5', 'FCF FQ-6', 'FCF FQ-7', 'FCF FQ-8',\n",
       "       'FCF FQ-9', 'FCF FQ-10', 'FCF FQ-11', 'FCF FQ-12'],\n",
       "      dtype='object')"
      ]
     },
     "execution_count": 88,
     "metadata": {},
     "output_type": "execute_result"
    }
   ],
   "source": [
    "test_merge.columns"
   ]
  },
  {
   "cell_type": "code",
   "execution_count": null,
   "id": "ea628d0b-e889-496b-a8bb-5f931e0c22cc",
   "metadata": {},
   "outputs": [],
   "source": [
    "merged = pd.merge(data1, data2, how='inner',\n",
    "                  left_on=['Salary', 'Debt'],\n",
    "                  right_on=['Salary', 'Debt'])"
   ]
  },
  {
   "cell_type": "code",
   "execution_count": 75,
   "id": "569e2c7e-aeee-4f2f-bbf4-edace7f6e7da",
   "metadata": {
    "tags": []
   },
   "outputs": [
    {
     "data": {
      "text/plain": [
       "Int64Index([ 199, 2322,   83,  321,  335,  179,  241,  247,  855,  989,\n",
       "            ...\n",
       "             354,  257, 3639, 1823,  580,  285,  853, 2198, 6136,  127],\n",
       "           dtype='int64', name='Ticker', length=261)"
      ]
     },
     "execution_count": 75,
     "metadata": {},
     "output_type": "execute_result"
    }
   ],
   "source": [
    "EV.index"
   ]
  },
  {
   "cell_type": "code",
   "execution_count": 79,
   "id": "74a2c8c6-dd96-484a-93c2-62ecd4e3dd8f",
   "metadata": {
    "tags": []
   },
   "outputs": [
    {
     "data": {
      "text/plain": [
       "Int64Index([1726, 8021, 2221, 1499, 1982, 6819, 1797, 6858, 8395, 1283,\n",
       "            ...\n",
       "            2175, 1638, 6922, 9658, 7855, 2297, 7827, 1244, 2421, 9636],\n",
       "           dtype='int64', name='Ticker', length=733)"
      ]
     },
     "execution_count": 79,
     "metadata": {},
     "output_type": "execute_result"
    }
   ],
   "source": []
  },
  {
   "cell_type": "code",
   "execution_count": 41,
   "id": "34e160dd-b2b9-4523-848a-e81ae8fd8b25",
   "metadata": {
    "tags": []
   },
   "outputs": [
    {
     "ename": "InvalidIndexError",
     "evalue": "Reindexing only valid with uniquely valued Index objects",
     "output_type": "error",
     "traceback": [
      "\u001b[0;31m---------------------------------------------------------------------------\u001b[0m",
      "\u001b[0;31mInvalidIndexError\u001b[0m                         Traceback (most recent call last)",
      "Cell \u001b[0;32mIn[41], line 13\u001b[0m\n\u001b[1;32m     10\u001b[0m current_quarter_fratios \u001b[38;5;241m=\u001b[39m pd\u001b[38;5;241m.\u001b[39mDataFrame()\n\u001b[1;32m     12\u001b[0m current_quarter_fratios \u001b[38;5;241m=\u001b[39m pd\u001b[38;5;241m.\u001b[39mconcat([current_quarter_fratios,current_fratios_dict[\u001b[38;5;124m\"\u001b[39m\u001b[38;5;124mEV\u001b[39m\u001b[38;5;124m\"\u001b[39m][[\u001b[38;5;124m\"\u001b[39m\u001b[38;5;124mMarket Cap\u001b[39m\u001b[38;5;124m\"\u001b[39m,\u001b[38;5;124m\"\u001b[39m\u001b[38;5;124mEV\u001b[39m\u001b[38;5;124m\"\u001b[39m]]],axis\u001b[38;5;241m=\u001b[39m\u001b[38;5;241m1\u001b[39m)\n\u001b[0;32m---> 13\u001b[0m current_quarter_fratios \u001b[38;5;241m=\u001b[39m \u001b[43mpd\u001b[49m\u001b[38;5;241;43m.\u001b[39;49m\u001b[43mconcat\u001b[49m\u001b[43m(\u001b[49m\u001b[43m[\u001b[49m\u001b[43mcurrent_quarter_fratios\u001b[49m\u001b[43m,\u001b[49m\u001b[43mcurrent_fratios_dict\u001b[49m\u001b[43m[\u001b[49m\u001b[38;5;124;43m\"\u001b[39;49m\u001b[38;5;124;43mfcf\u001b[39;49m\u001b[38;5;124;43m\"\u001b[39;49m\u001b[43m]\u001b[49m\u001b[43m[\u001b[49m\u001b[43m[\u001b[49m\u001b[38;5;124;43m\"\u001b[39;49m\u001b[38;5;124;43mFCF\u001b[39;49m\u001b[38;5;124;43m\"\u001b[39;49m\u001b[43m]\u001b[49m\u001b[43m]\u001b[49m\u001b[43m]\u001b[49m\u001b[43m,\u001b[49m\u001b[43maxis\u001b[49m\u001b[38;5;241;43m=\u001b[39;49m\u001b[38;5;241;43m1\u001b[39;49m\u001b[43m)\u001b[49m\n",
      "File \u001b[0;32m~/.local/lib/python3.10/site-packages/pandas/util/_decorators.py:331\u001b[0m, in \u001b[0;36mdeprecate_nonkeyword_arguments.<locals>.decorate.<locals>.wrapper\u001b[0;34m(*args, **kwargs)\u001b[0m\n\u001b[1;32m    325\u001b[0m \u001b[38;5;28;01mif\u001b[39;00m \u001b[38;5;28mlen\u001b[39m(args) \u001b[38;5;241m>\u001b[39m num_allow_args:\n\u001b[1;32m    326\u001b[0m     warnings\u001b[38;5;241m.\u001b[39mwarn(\n\u001b[1;32m    327\u001b[0m         msg\u001b[38;5;241m.\u001b[39mformat(arguments\u001b[38;5;241m=\u001b[39m_format_argument_list(allow_args)),\n\u001b[1;32m    328\u001b[0m         \u001b[38;5;167;01mFutureWarning\u001b[39;00m,\n\u001b[1;32m    329\u001b[0m         stacklevel\u001b[38;5;241m=\u001b[39mfind_stack_level(),\n\u001b[1;32m    330\u001b[0m     )\n\u001b[0;32m--> 331\u001b[0m \u001b[38;5;28;01mreturn\u001b[39;00m \u001b[43mfunc\u001b[49m\u001b[43m(\u001b[49m\u001b[38;5;241;43m*\u001b[39;49m\u001b[43margs\u001b[49m\u001b[43m,\u001b[49m\u001b[43m \u001b[49m\u001b[38;5;241;43m*\u001b[39;49m\u001b[38;5;241;43m*\u001b[39;49m\u001b[43mkwargs\u001b[49m\u001b[43m)\u001b[49m\n",
      "File \u001b[0;32m~/.local/lib/python3.10/site-packages/pandas/core/reshape/concat.py:381\u001b[0m, in \u001b[0;36mconcat\u001b[0;34m(objs, axis, join, ignore_index, keys, levels, names, verify_integrity, sort, copy)\u001b[0m\n\u001b[1;32m    159\u001b[0m \u001b[38;5;250m\u001b[39m\u001b[38;5;124;03m\"\"\"\u001b[39;00m\n\u001b[1;32m    160\u001b[0m \u001b[38;5;124;03mConcatenate pandas objects along a particular axis.\u001b[39;00m\n\u001b[1;32m    161\u001b[0m \n\u001b[0;32m   (...)\u001b[0m\n\u001b[1;32m    366\u001b[0m \u001b[38;5;124;03m1   3   4\u001b[39;00m\n\u001b[1;32m    367\u001b[0m \u001b[38;5;124;03m\"\"\"\u001b[39;00m\n\u001b[1;32m    368\u001b[0m op \u001b[38;5;241m=\u001b[39m _Concatenator(\n\u001b[1;32m    369\u001b[0m     objs,\n\u001b[1;32m    370\u001b[0m     axis\u001b[38;5;241m=\u001b[39maxis,\n\u001b[0;32m   (...)\u001b[0m\n\u001b[1;32m    378\u001b[0m     sort\u001b[38;5;241m=\u001b[39msort,\n\u001b[1;32m    379\u001b[0m )\n\u001b[0;32m--> 381\u001b[0m \u001b[38;5;28;01mreturn\u001b[39;00m \u001b[43mop\u001b[49m\u001b[38;5;241;43m.\u001b[39;49m\u001b[43mget_result\u001b[49m\u001b[43m(\u001b[49m\u001b[43m)\u001b[49m\n",
      "File \u001b[0;32m~/.local/lib/python3.10/site-packages/pandas/core/reshape/concat.py:612\u001b[0m, in \u001b[0;36m_Concatenator.get_result\u001b[0;34m(self)\u001b[0m\n\u001b[1;32m    610\u001b[0m         obj_labels \u001b[38;5;241m=\u001b[39m obj\u001b[38;5;241m.\u001b[39maxes[\u001b[38;5;241m1\u001b[39m \u001b[38;5;241m-\u001b[39m ax]\n\u001b[1;32m    611\u001b[0m         \u001b[38;5;28;01mif\u001b[39;00m \u001b[38;5;129;01mnot\u001b[39;00m new_labels\u001b[38;5;241m.\u001b[39mequals(obj_labels):\n\u001b[0;32m--> 612\u001b[0m             indexers[ax] \u001b[38;5;241m=\u001b[39m \u001b[43mobj_labels\u001b[49m\u001b[38;5;241;43m.\u001b[39;49m\u001b[43mget_indexer\u001b[49m\u001b[43m(\u001b[49m\u001b[43mnew_labels\u001b[49m\u001b[43m)\u001b[49m\n\u001b[1;32m    614\u001b[0m     mgrs_indexers\u001b[38;5;241m.\u001b[39mappend((obj\u001b[38;5;241m.\u001b[39m_mgr, indexers))\n\u001b[1;32m    616\u001b[0m new_data \u001b[38;5;241m=\u001b[39m concatenate_managers(\n\u001b[1;32m    617\u001b[0m     mgrs_indexers, \u001b[38;5;28mself\u001b[39m\u001b[38;5;241m.\u001b[39mnew_axes, concat_axis\u001b[38;5;241m=\u001b[39m\u001b[38;5;28mself\u001b[39m\u001b[38;5;241m.\u001b[39mbm_axis, copy\u001b[38;5;241m=\u001b[39m\u001b[38;5;28mself\u001b[39m\u001b[38;5;241m.\u001b[39mcopy\n\u001b[1;32m    618\u001b[0m )\n",
      "File \u001b[0;32m~/.local/lib/python3.10/site-packages/pandas/core/indexes/base.py:3904\u001b[0m, in \u001b[0;36mIndex.get_indexer\u001b[0;34m(self, target, method, limit, tolerance)\u001b[0m\n\u001b[1;32m   3901\u001b[0m \u001b[38;5;28mself\u001b[39m\u001b[38;5;241m.\u001b[39m_check_indexing_method(method, limit, tolerance)\n\u001b[1;32m   3903\u001b[0m \u001b[38;5;28;01mif\u001b[39;00m \u001b[38;5;129;01mnot\u001b[39;00m \u001b[38;5;28mself\u001b[39m\u001b[38;5;241m.\u001b[39m_index_as_unique:\n\u001b[0;32m-> 3904\u001b[0m     \u001b[38;5;28;01mraise\u001b[39;00m InvalidIndexError(\u001b[38;5;28mself\u001b[39m\u001b[38;5;241m.\u001b[39m_requires_unique_msg)\n\u001b[1;32m   3906\u001b[0m \u001b[38;5;28;01mif\u001b[39;00m \u001b[38;5;28mlen\u001b[39m(target) \u001b[38;5;241m==\u001b[39m \u001b[38;5;241m0\u001b[39m:\n\u001b[1;32m   3907\u001b[0m     \u001b[38;5;28;01mreturn\u001b[39;00m np\u001b[38;5;241m.\u001b[39marray([], dtype\u001b[38;5;241m=\u001b[39mnp\u001b[38;5;241m.\u001b[39mintp)\n",
      "\u001b[0;31mInvalidIndexError\u001b[0m: Reindexing only valid with uniquely valued Index objects"
     ]
    }
   ],
   "source": [
    "current_fratios_dict = {\"EV\": EV,\n",
    "                        \"fcf\": fcf,\n",
    "                        \"ebitda\": ebitda,\n",
    "                        \"revenue\": revenue,\n",
    "                        \"roe\": roe,\n",
    "                        \"gross_profit_margin\": gross_profit_margin,\n",
    "                        \"quick_ratio\": quick_ratio,\n",
    "                        \"debt_to_equity\": debt_to_equity}\n",
    "\n",
    "current_quarter_fratios = pd.DataFrame()\n",
    "\n",
    "current_quarter_fratios = pd.concat([current_quarter_fratios,current_fratios_dict[\"EV\"][[\"Market Cap\",\"EV\"]]],axis=1)\n",
    "current_quarter_fratios = pd.concat([current_quarter_fratios,current_fratios_dict[\"fcf\"][[\"FCF\"]]],axis=1)"
   ]
  },
  {
   "cell_type": "code",
   "execution_count": 39,
   "id": "9f3bab5b-bba7-48b7-ba1d-cfcafc59445a",
   "metadata": {
    "tags": []
   },
   "outputs": [
    {
     "data": {
      "text/html": [
       "<div>\n",
       "<style scoped>\n",
       "    .dataframe tbody tr th:only-of-type {\n",
       "        vertical-align: middle;\n",
       "    }\n",
       "\n",
       "    .dataframe tbody tr th {\n",
       "        vertical-align: top;\n",
       "    }\n",
       "\n",
       "    .dataframe thead th {\n",
       "        text-align: right;\n",
       "    }\n",
       "</style>\n",
       "<table border=\"1\" class=\"dataframe\">\n",
       "  <thead>\n",
       "    <tr style=\"text-align: right;\">\n",
       "      <th></th>\n",
       "      <th>Market Cap</th>\n",
       "      <th>EV</th>\n",
       "    </tr>\n",
       "    <tr>\n",
       "      <th>Ticker</th>\n",
       "      <th></th>\n",
       "      <th></th>\n",
       "    </tr>\n",
       "  </thead>\n",
       "  <tbody>\n",
       "    <tr>\n",
       "      <th>199</th>\n",
       "      <td>122.1 M</td>\n",
       "      <td>48.338 M</td>\n",
       "    </tr>\n",
       "    <tr>\n",
       "      <th>2322</th>\n",
       "      <td>383.2 M</td>\n",
       "      <td>365.2 M</td>\n",
       "    </tr>\n",
       "    <tr>\n",
       "      <th>83</th>\n",
       "      <td>11.009 B</td>\n",
       "      <td>3.163 B</td>\n",
       "    </tr>\n",
       "    <tr>\n",
       "      <th>321</th>\n",
       "      <td>246.4 M</td>\n",
       "      <td>147.6 M</td>\n",
       "    </tr>\n",
       "    <tr>\n",
       "      <th>335</th>\n",
       "      <td>205 M</td>\n",
       "      <td>-</td>\n",
       "    </tr>\n",
       "    <tr>\n",
       "      <th>...</th>\n",
       "      <td>...</td>\n",
       "      <td>...</td>\n",
       "    </tr>\n",
       "    <tr>\n",
       "      <th>1989</th>\n",
       "      <td>103.5 M</td>\n",
       "      <td>204.7 M</td>\n",
       "    </tr>\n",
       "    <tr>\n",
       "      <th>1499</th>\n",
       "      <td>242.9 M</td>\n",
       "      <td>307.2 M</td>\n",
       "    </tr>\n",
       "    <tr>\n",
       "      <th>1341</th>\n",
       "      <td>231.2 M</td>\n",
       "      <td>149.7 M</td>\n",
       "    </tr>\n",
       "    <tr>\n",
       "      <th>2138</th>\n",
       "      <td>1.024 B</td>\n",
       "      <td>1.087 B</td>\n",
       "    </tr>\n",
       "    <tr>\n",
       "      <th>277</th>\n",
       "      <td>135.2 M</td>\n",
       "      <td>69.935 M</td>\n",
       "    </tr>\n",
       "  </tbody>\n",
       "</table>\n",
       "<p>500 rows × 2 columns</p>\n",
       "</div>"
      ],
      "text/plain": [
       "       Market Cap        EV\n",
       "Ticker                     \n",
       "199       122.1 M  48.338 M\n",
       "2322      383.2 M   365.2 M\n",
       "83       11.009 B   3.163 B\n",
       "321       246.4 M   147.6 M\n",
       "335         205 M         -\n",
       "...           ...       ...\n",
       "1989      103.5 M   204.7 M\n",
       "1499      242.9 M   307.2 M\n",
       "1341      231.2 M   149.7 M\n",
       "2138      1.024 B   1.087 B\n",
       "277       135.2 M  69.935 M\n",
       "\n",
       "[500 rows x 2 columns]"
      ]
     },
     "execution_count": 39,
     "metadata": {},
     "output_type": "execute_result"
    }
   ],
   "source": [
    "current_quarter_fratios"
   ]
  },
  {
   "cell_type": "code",
   "execution_count": 40,
   "id": "f74c0359-494c-4020-90a0-bcc9b159777f",
   "metadata": {
    "tags": []
   },
   "outputs": [
    {
     "data": {
      "text/html": [
       "<div>\n",
       "<style scoped>\n",
       "    .dataframe tbody tr th:only-of-type {\n",
       "        vertical-align: middle;\n",
       "    }\n",
       "\n",
       "    .dataframe tbody tr th {\n",
       "        vertical-align: top;\n",
       "    }\n",
       "\n",
       "    .dataframe thead th {\n",
       "        text-align: right;\n",
       "    }\n",
       "</style>\n",
       "<table border=\"1\" class=\"dataframe\">\n",
       "  <thead>\n",
       "    <tr style=\"text-align: right;\">\n",
       "      <th></th>\n",
       "      <th>Name</th>\n",
       "      <th>Sector</th>\n",
       "      <th>Industry</th>\n",
       "      <th>Industry Group</th>\n",
       "      <th>Market Cap</th>\n",
       "      <th>Last Reported Fiscal Year</th>\n",
       "      <th>FCF</th>\n",
       "      <th>FCF FQ-1</th>\n",
       "      <th>FCF FQ-2</th>\n",
       "      <th>FCF FQ-3</th>\n",
       "      <th>FCF FQ-4</th>\n",
       "      <th>FCF FQ-5</th>\n",
       "      <th>FCF FQ-6</th>\n",
       "      <th>FCF FQ-7</th>\n",
       "      <th>FCF FQ-8</th>\n",
       "      <th>FCF FQ-9</th>\n",
       "      <th>FCF FQ-10</th>\n",
       "      <th>FCF FQ-11</th>\n",
       "      <th>FCF FQ-12</th>\n",
       "    </tr>\n",
       "    <tr>\n",
       "      <th>Ticker</th>\n",
       "      <th></th>\n",
       "      <th></th>\n",
       "      <th></th>\n",
       "      <th></th>\n",
       "      <th></th>\n",
       "      <th></th>\n",
       "      <th></th>\n",
       "      <th></th>\n",
       "      <th></th>\n",
       "      <th></th>\n",
       "      <th></th>\n",
       "      <th></th>\n",
       "      <th></th>\n",
       "      <th></th>\n",
       "      <th></th>\n",
       "      <th></th>\n",
       "      <th></th>\n",
       "      <th></th>\n",
       "      <th></th>\n",
       "    </tr>\n",
       "  </thead>\n",
       "  <tbody>\n",
       "    <tr>\n",
       "      <th>1726</th>\n",
       "      <td>HKE Holdings Limited</td>\n",
       "      <td>Industrials</td>\n",
       "      <td>Construction &amp; Engineering</td>\n",
       "      <td>Capital Goods</td>\n",
       "      <td>179.2 M</td>\n",
       "      <td>2023</td>\n",
       "      <td>-12.484 M</td>\n",
       "      <td>-2.642 M</td>\n",
       "      <td>-3.287 M</td>\n",
       "      <td>-3.37 M</td>\n",
       "      <td>-507.667 K</td>\n",
       "      <td>-504.209 K</td>\n",
       "      <td>35.16 K</td>\n",
       "      <td>35.15 K</td>\n",
       "      <td>-305.878 K</td>\n",
       "      <td>-295.945 K</td>\n",
       "      <td>215.249 K</td>\n",
       "      <td>211.049 K</td>\n",
       "      <td>623.25 K</td>\n",
       "    </tr>\n",
       "    <tr>\n",
       "      <th>8021</th>\n",
       "      <td>WLS Holdings Limited</td>\n",
       "      <td>Industrials</td>\n",
       "      <td>Construction &amp; Engineering</td>\n",
       "      <td>Capital Goods</td>\n",
       "      <td>128.1 M</td>\n",
       "      <td>2023</td>\n",
       "      <td>-2.354 M</td>\n",
       "      <td>NaN</td>\n",
       "      <td>NaN</td>\n",
       "      <td>0 K</td>\n",
       "      <td>0 K</td>\n",
       "      <td>0 K</td>\n",
       "      <td>0 K</td>\n",
       "      <td>0 K</td>\n",
       "      <td>0 K</td>\n",
       "      <td>0 K</td>\n",
       "      <td>0 K</td>\n",
       "      <td>0 K</td>\n",
       "      <td>0 K</td>\n",
       "    </tr>\n",
       "    <tr>\n",
       "      <th>2221</th>\n",
       "      <td>New Concepts Holdings Limited</td>\n",
       "      <td>Industrials</td>\n",
       "      <td>Construction &amp; Engineering</td>\n",
       "      <td>Capital Goods</td>\n",
       "      <td>120.7 M</td>\n",
       "      <td>2023</td>\n",
       "      <td>10.267 M</td>\n",
       "      <td>-3.196 M</td>\n",
       "      <td>8.346 M</td>\n",
       "      <td>8.385 M</td>\n",
       "      <td>-1.908 M</td>\n",
       "      <td>-1.913 M</td>\n",
       "      <td>0 K</td>\n",
       "      <td>0 K</td>\n",
       "      <td>2.895 M</td>\n",
       "      <td>2.895 M</td>\n",
       "      <td>4.363 M</td>\n",
       "      <td>4.234 M</td>\n",
       "      <td>5.133 M</td>\n",
       "    </tr>\n",
       "    <tr>\n",
       "      <th>1499</th>\n",
       "      <td>OKG Technology Holdings Limited</td>\n",
       "      <td>Industrials</td>\n",
       "      <td>Construction &amp; Engineering</td>\n",
       "      <td>Capital Goods</td>\n",
       "      <td>242.9 M</td>\n",
       "      <td>2023</td>\n",
       "      <td>-20.69 M</td>\n",
       "      <td>-7.893 M</td>\n",
       "      <td>-2.459 M</td>\n",
       "      <td>-2.471 M</td>\n",
       "      <td>-1.558 M</td>\n",
       "      <td>-1.562 M</td>\n",
       "      <td>-50.747 K</td>\n",
       "      <td>-50.887 K</td>\n",
       "      <td>-384.837 K</td>\n",
       "      <td>-384.813 K</td>\n",
       "      <td>-3.535 M</td>\n",
       "      <td>-3.517 M</td>\n",
       "      <td>-805.913 K</td>\n",
       "    </tr>\n",
       "    <tr>\n",
       "      <th>1982</th>\n",
       "      <td>Nameson Holdings Limited</td>\n",
       "      <td>Consumer Discretionary</td>\n",
       "      <td>Textiles, Apparel &amp; Luxury Goods</td>\n",
       "      <td>Consumer Durables &amp; Apparel</td>\n",
       "      <td>153.9 M</td>\n",
       "      <td>2023</td>\n",
       "      <td>61.472 M</td>\n",
       "      <td>8.846 M</td>\n",
       "      <td>21.939 M</td>\n",
       "      <td>22.042 M</td>\n",
       "      <td>-16.057 M</td>\n",
       "      <td>-16.099 M</td>\n",
       "      <td>28.831 M</td>\n",
       "      <td>28.91 M</td>\n",
       "      <td>7.911 M</td>\n",
       "      <td>7.911 M</td>\n",
       "      <td>26.037 M</td>\n",
       "      <td>25.904 M</td>\n",
       "      <td>10.503 M</td>\n",
       "    </tr>\n",
       "    <tr>\n",
       "      <th>...</th>\n",
       "      <td>...</td>\n",
       "      <td>...</td>\n",
       "      <td>...</td>\n",
       "      <td>...</td>\n",
       "      <td>...</td>\n",
       "      <td>...</td>\n",
       "      <td>...</td>\n",
       "      <td>...</td>\n",
       "      <td>...</td>\n",
       "      <td>...</td>\n",
       "      <td>...</td>\n",
       "      <td>...</td>\n",
       "      <td>...</td>\n",
       "      <td>...</td>\n",
       "      <td>...</td>\n",
       "      <td>...</td>\n",
       "      <td>...</td>\n",
       "      <td>...</td>\n",
       "      <td>...</td>\n",
       "    </tr>\n",
       "    <tr>\n",
       "      <th>2297</th>\n",
       "      <td>Rainmed Medical Limited</td>\n",
       "      <td>Healthcare</td>\n",
       "      <td>Healthcare Equipment &amp; Supplies</td>\n",
       "      <td>Healthcare Equipment &amp; Services</td>\n",
       "      <td>169.6 M</td>\n",
       "      <td>-</td>\n",
       "      <td>-</td>\n",
       "      <td>NaN</td>\n",
       "      <td>-4.221 M</td>\n",
       "      <td>-4.46 M</td>\n",
       "      <td>0 K</td>\n",
       "      <td>0 K</td>\n",
       "      <td>-3.543 M</td>\n",
       "      <td>-3.492 M</td>\n",
       "      <td>0 K</td>\n",
       "      <td>0 K</td>\n",
       "      <td>0 K</td>\n",
       "      <td>0 K</td>\n",
       "      <td>0 K</td>\n",
       "    </tr>\n",
       "    <tr>\n",
       "      <th>7827</th>\n",
       "      <td>Vision Deal HK Acquisition Corp.</td>\n",
       "      <td>Financials</td>\n",
       "      <td>Capital Markets</td>\n",
       "      <td>Diversified Financials</td>\n",
       "      <td>157.8 M</td>\n",
       "      <td>-</td>\n",
       "      <td>-</td>\n",
       "      <td>-</td>\n",
       "      <td>-</td>\n",
       "      <td>-</td>\n",
       "      <td>-</td>\n",
       "      <td>-</td>\n",
       "      <td>-</td>\n",
       "      <td>-</td>\n",
       "      <td>-</td>\n",
       "      <td>-</td>\n",
       "      <td>-</td>\n",
       "      <td>-</td>\n",
       "      <td>-</td>\n",
       "    </tr>\n",
       "    <tr>\n",
       "      <th>1244</th>\n",
       "      <td>3D Medicines Inc.</td>\n",
       "      <td>Healthcare</td>\n",
       "      <td>Biotechnology</td>\n",
       "      <td>Pharmaceuticals, Biotechnology &amp; Life Sciences</td>\n",
       "      <td>2.251 B</td>\n",
       "      <td>-</td>\n",
       "      <td>-53.93 M</td>\n",
       "      <td>NaN</td>\n",
       "      <td>NaN</td>\n",
       "      <td>NaN</td>\n",
       "      <td>0 K</td>\n",
       "      <td>0 K</td>\n",
       "      <td>0 K</td>\n",
       "      <td>0 K</td>\n",
       "      <td>0 K</td>\n",
       "      <td>0 K</td>\n",
       "      <td>0 K</td>\n",
       "      <td>0 K</td>\n",
       "      <td>0 K</td>\n",
       "    </tr>\n",
       "    <tr>\n",
       "      <th>2421</th>\n",
       "      <td>KRP Development Holdings Limited</td>\n",
       "      <td>Real Estate</td>\n",
       "      <td>Real Estate Management &amp; Development</td>\n",
       "      <td>Real Estate</td>\n",
       "      <td>102.4 M</td>\n",
       "      <td>-</td>\n",
       "      <td>-</td>\n",
       "      <td>-</td>\n",
       "      <td>-</td>\n",
       "      <td>-</td>\n",
       "      <td>-</td>\n",
       "      <td>-</td>\n",
       "      <td>-</td>\n",
       "      <td>-</td>\n",
       "      <td>-</td>\n",
       "      <td>-</td>\n",
       "      <td>-</td>\n",
       "      <td>-</td>\n",
       "      <td>-</td>\n",
       "    </tr>\n",
       "    <tr>\n",
       "      <th>9636</th>\n",
       "      <td>JF Wealth Holdings Ltd</td>\n",
       "      <td>Consumer Discretionary</td>\n",
       "      <td>Diversified Consumer Services</td>\n",
       "      <td>Consumer Services</td>\n",
       "      <td>980.2 M</td>\n",
       "      <td>-</td>\n",
       "      <td>-</td>\n",
       "      <td>-</td>\n",
       "      <td>-</td>\n",
       "      <td>-</td>\n",
       "      <td>-</td>\n",
       "      <td>-</td>\n",
       "      <td>-</td>\n",
       "      <td>-</td>\n",
       "      <td>-</td>\n",
       "      <td>-</td>\n",
       "      <td>-</td>\n",
       "      <td>-</td>\n",
       "      <td>-</td>\n",
       "    </tr>\n",
       "  </tbody>\n",
       "</table>\n",
       "<p>922 rows × 19 columns</p>\n",
       "</div>"
      ],
      "text/plain": [
       "                                    Name                  Sector  \\\n",
       "Ticker                                                             \n",
       "1726                HKE Holdings Limited             Industrials   \n",
       "8021                WLS Holdings Limited             Industrials   \n",
       "2221       New Concepts Holdings Limited             Industrials   \n",
       "1499     OKG Technology Holdings Limited             Industrials   \n",
       "1982            Nameson Holdings Limited  Consumer Discretionary   \n",
       "...                                  ...                     ...   \n",
       "2297             Rainmed Medical Limited              Healthcare   \n",
       "7827    Vision Deal HK Acquisition Corp.              Financials   \n",
       "1244                   3D Medicines Inc.              Healthcare   \n",
       "2421    KRP Development Holdings Limited             Real Estate   \n",
       "9636              JF Wealth Holdings Ltd  Consumer Discretionary   \n",
       "\n",
       "                                    Industry  \\\n",
       "Ticker                                         \n",
       "1726              Construction & Engineering   \n",
       "8021              Construction & Engineering   \n",
       "2221              Construction & Engineering   \n",
       "1499              Construction & Engineering   \n",
       "1982        Textiles, Apparel & Luxury Goods   \n",
       "...                                      ...   \n",
       "2297         Healthcare Equipment & Supplies   \n",
       "7827                         Capital Markets   \n",
       "1244                           Biotechnology   \n",
       "2421    Real Estate Management & Development   \n",
       "9636           Diversified Consumer Services   \n",
       "\n",
       "                                        Industry Group Market Cap  \\\n",
       "Ticker                                                              \n",
       "1726                                     Capital Goods    179.2 M   \n",
       "8021                                     Capital Goods    128.1 M   \n",
       "2221                                     Capital Goods    120.7 M   \n",
       "1499                                     Capital Goods    242.9 M   \n",
       "1982                       Consumer Durables & Apparel    153.9 M   \n",
       "...                                                ...        ...   \n",
       "2297                   Healthcare Equipment & Services    169.6 M   \n",
       "7827                            Diversified Financials    157.8 M   \n",
       "1244    Pharmaceuticals, Biotechnology & Life Sciences    2.251 B   \n",
       "2421                                       Real Estate    102.4 M   \n",
       "9636                                 Consumer Services    980.2 M   \n",
       "\n",
       "       Last Reported Fiscal Year        FCF  FCF FQ-1  FCF FQ-2  FCF FQ-3  \\\n",
       "Ticker                                                                      \n",
       "1726                        2023  -12.484 M  -2.642 M  -3.287 M   -3.37 M   \n",
       "8021                        2023   -2.354 M       NaN       NaN       0 K   \n",
       "2221                        2023   10.267 M  -3.196 M   8.346 M   8.385 M   \n",
       "1499                        2023   -20.69 M  -7.893 M  -2.459 M  -2.471 M   \n",
       "1982                        2023   61.472 M   8.846 M  21.939 M  22.042 M   \n",
       "...                          ...        ...       ...       ...       ...   \n",
       "2297                           -          -       NaN  -4.221 M   -4.46 M   \n",
       "7827                           -          -         -         -         -   \n",
       "1244                           -   -53.93 M       NaN       NaN       NaN   \n",
       "2421                           -          -         -         -         -   \n",
       "9636                           -          -         -         -         -   \n",
       "\n",
       "          FCF FQ-4    FCF FQ-5   FCF FQ-6   FCF FQ-7    FCF FQ-8    FCF FQ-9  \\\n",
       "Ticker                                                                         \n",
       "1726    -507.667 K  -504.209 K    35.16 K    35.15 K  -305.878 K  -295.945 K   \n",
       "8021           0 K         0 K        0 K        0 K         0 K         0 K   \n",
       "2221      -1.908 M    -1.913 M        0 K        0 K     2.895 M     2.895 M   \n",
       "1499      -1.558 M    -1.562 M  -50.747 K  -50.887 K  -384.837 K  -384.813 K   \n",
       "1982     -16.057 M   -16.099 M   28.831 M    28.91 M     7.911 M     7.911 M   \n",
       "...            ...         ...        ...        ...         ...         ...   \n",
       "2297           0 K         0 K   -3.543 M   -3.492 M         0 K         0 K   \n",
       "7827             -           -          -          -           -           -   \n",
       "1244           0 K         0 K        0 K        0 K         0 K         0 K   \n",
       "2421             -           -          -          -           -           -   \n",
       "9636             -           -          -          -           -           -   \n",
       "\n",
       "        FCF FQ-10  FCF FQ-11   FCF FQ-12  \n",
       "Ticker                                    \n",
       "1726    215.249 K  211.049 K    623.25 K  \n",
       "8021          0 K        0 K         0 K  \n",
       "2221      4.363 M    4.234 M     5.133 M  \n",
       "1499     -3.535 M   -3.517 M  -805.913 K  \n",
       "1982     26.037 M   25.904 M    10.503 M  \n",
       "...           ...        ...         ...  \n",
       "2297          0 K        0 K         0 K  \n",
       "7827            -          -           -  \n",
       "1244          0 K        0 K         0 K  \n",
       "2421            -          -           -  \n",
       "9636            -          -           -  \n",
       "\n",
       "[922 rows x 19 columns]"
      ]
     },
     "execution_count": 40,
     "metadata": {},
     "output_type": "execute_result"
    }
   ],
   "source": [
    "fcf"
   ]
  },
  {
   "cell_type": "markdown",
   "id": "97abdf05-b485-4996-9474-7010eb253ba8",
   "metadata": {
    "tags": []
   },
   "source": [
    "# obsolete code"
   ]
  },
  {
   "cell_type": "code",
   "execution_count": null,
   "id": "ad400445-d5c6-4037-8e22-a8a06f6580f3",
   "metadata": {},
   "outputs": [],
   "source": [
    "# create a list / index of all tickers combined from all csv's\n",
    "\n",
    "list_of_tickers = [EV.index,fcf.index,ebitda.index,revenue.index,roe.index,gross_profit_margin.index,quick_ratio.index,debt_to_equity.index]\n",
    "combined_tickers = []\n",
    "\n",
    "for elem in list_of_tickers:\n",
    "    combined_tickers = list(set(combined_tickers + list(elem)))"
   ]
  },
  {
   "cell_type": "code",
   "execution_count": null,
   "id": "b4438898-3840-451f-8dad-c9150de42715",
   "metadata": {},
   "outputs": [],
   "source": [
    "# create a list / index of all columns from all csv's\n",
    "\n",
    "list_of_columns = [EV.columns,fcf.columns,ebitda.columns,revenue.columns,roe.columns,gross_profit_margin.columns,quick_ratio.columns,debt_to_equity.columns]\n",
    "combined_cols = []\n",
    "\n",
    "for elem in list_of_columns:\n",
    "    combined_cols = list(set(combined_cols + list(elem)))"
   ]
  },
  {
   "cell_type": "code",
   "execution_count": null,
   "id": "e3ab1609-284c-49c5-9d49-20bf5b319f7e",
   "metadata": {},
   "outputs": [],
   "source": []
  }
 ],
 "metadata": {
  "kernelspec": {
   "display_name": "Python 3 (ipykernel)",
   "language": "python",
   "name": "python3"
  },
  "language_info": {
   "codemirror_mode": {
    "name": "ipython",
    "version": 3
   },
   "file_extension": ".py",
   "mimetype": "text/x-python",
   "name": "python",
   "nbconvert_exporter": "python",
   "pygments_lexer": "ipython3",
   "version": "3.10.0"
  }
 },
 "nbformat": 4,
 "nbformat_minor": 5
}

{
 "cells": [
  {
   "cell_type": "code",
   "execution_count": 1,
   "id": "72beadb1-bd28-4686-a01d-9f07852c8509",
   "metadata": {
    "tags": []
   },
   "outputs": [],
   "source": [
    "import pandas as pd\n",
    "import numpy as np\n",
    "from scipy import signal\n",
    "import statsmodels.api as sm\n",
    "import statsmodels.tsa.stattools as smt # for ccf \n",
    "from statsmodels.stats.diagnostic import compare_j # J-test\n",
    "from sklearn.preprocessing import StandardScaler\n",
    "\n",
    "import matplotlib.pyplot as plt"
   ]
  },
  {
   "cell_type": "markdown",
   "id": "96f9595b-9401-49d7-ab4d-59619017b06c",
   "metadata": {
    "tags": []
   },
   "source": [
    "# Useful functions"
   ]
  },
  {
   "cell_type": "code",
   "execution_count": 2,
   "id": "f201d680-700e-4db1-a975-cd521021d0f8",
   "metadata": {
    "tags": []
   },
   "outputs": [],
   "source": [
    "def get_shortest_array(a,b):\n",
    "    '''\n",
    "    input - a,b arrays (pandas.values) arrays\n",
    "    output - returns length of shortest array using first index of np.shape\n",
    "    '''\n",
    "    \n",
    "    len_a = np.shape(a)[0]\n",
    "    len_b = np.shape(b)[0]\n",
    "    \n",
    "    return min(len_a,len_b)"
   ]
  },
  {
   "cell_type": "code",
   "execution_count": 3,
   "id": "83468768-0156-4325-ad39-1ef3b937e812",
   "metadata": {
    "tags": []
   },
   "outputs": [],
   "source": [
    "def plot_cor_old(x, y, window, filename, x_name, y_name):\n",
    "    '''\n",
    "    x (df) - first time series\n",
    "    y (df) - second time series\n",
    "    window (int) - period length\n",
    "    filename - output filename as .png\n",
    "    x_name - first time series name (for title)\n",
    "    y_name - second time series name (for title)\n",
    "    Note that x and y don't have to be the same length. the 'get_shortest_array' function will be used to automatically trim the time series\n",
    "    '''\n",
    "    shortest_time_series_len = get_shortest_array(x,y)\n",
    "    plt.plot(x.iloc[:shortest_time_series_len].dropna().rolling(window).corr(y.iloc[:shortest_time_series_len].dropna()));\n",
    "    \n",
    "    # rotate x-axis labels so date labels all fit in properly\n",
    "    plt.xticks(rotation=90);\n",
    "    plt.title('20-day rolling correlation between '+str(x_name)+ ' and '+str(y_name))\n",
    "    plt.savefig(str(filename),dpi=600)\n"
   ]
  },
  {
   "cell_type": "code",
   "execution_count": 4,
   "id": "c077b177-ba86-4ca6-9736-50dc1bfc211f",
   "metadata": {
    "tags": []
   },
   "outputs": [],
   "source": [
    "def plot_cor(x, y, window, filename, x_name, y_name):\n",
    "    '''\n",
    "    x (df) - first time series\n",
    "    y (df) - second time series\n",
    "    window (int) - period length\n",
    "    filename - output filename as .png\n",
    "    x_name - first time series name (for title)\n",
    "    y_name - second time series name (for title)\n",
    "    Note that x and y don't have to be the same length. the 'get_shortest_array' function will be used to automatically trim the time series\n",
    "    '''\n",
    "    shortest_time_series_len = get_shortest_array(x,y)\n",
    "    plt.plot(x.iloc[:shortest_time_series_len].rolling(window).corr(y.iloc[:shortest_time_series_len]).fillna(method='bfill'));\n",
    "    \n",
    "    # rotate x-axis labels so date labels all fit in properly\n",
    "    plt.xticks(rotation=90);\n",
    "    plt.title('20-day rolling correlation between '+str(x_name)+ ' and '+str(y_name))\n",
    "    plt.savefig(str(filename),dpi=600)\n"
   ]
  },
  {
   "cell_type": "markdown",
   "id": "276f019b-78b8-4ab2-83b1-7c5ef7e91012",
   "metadata": {
    "tags": []
   },
   "source": [
    "# Import data"
   ]
  },
  {
   "cell_type": "code",
   "execution_count": 5,
   "id": "a62b6c02-ef81-4816-b59d-4309e23ff20e",
   "metadata": {
    "tags": []
   },
   "outputs": [],
   "source": [
    "HK50 = pd.read_csv('data/HS/HK50.csv', index_col=0, parse_dates=True, infer_datetime_format=True, thousands=',')\n",
    "HSCC = pd.read_csv('data/HS/HSCC.csv', index_col=0, parse_dates=True, infer_datetime_format=True, thousands=',')\n",
    "HSCE = pd.read_csv('data/HS/HSCE.csv', index_col=0, parse_dates=True, infer_datetime_format=True, thousands=',')\n",
    "HSCIC = pd.read_csv('data/HS/HSCIC.csv', index_col=0, parse_dates=True, infer_datetime_format=True, thousands=',')\n",
    "HSCICD = pd.read_csv('data/HS/HSCICD.csv', index_col=0, parse_dates=True, infer_datetime_format=True, thousands=',')\n",
    "HSCICS = pd.read_csv('data/HS/HSCICS.csv', index_col=0, parse_dates=True, infer_datetime_format=True, thousands=',')\n",
    "HSCIE = pd.read_csv('data/HS/HSCIE.csv', index_col=0, parse_dates=True, infer_datetime_format=True, thousands=',')\n",
    "HSCIF = pd.read_csv('data/HS/HSCIF.csv', index_col=0, parse_dates=True, infer_datetime_format=True, thousands=',')\n",
    "HSCIH = pd.read_csv('data/HS/HSCIH.csv', index_col=0, parse_dates=True, infer_datetime_format=True, thousands=',')\n",
    "HSCIIG = pd.read_csv('data/HS/HSCIIG.csv', index_col=0, parse_dates=True, infer_datetime_format=True, thousands=',')\n",
    "HSCIIT = pd.read_csv('data/HS/HSCIIT.csv', index_col=0, parse_dates=True, infer_datetime_format=True, thousands=',')\n",
    "HSCIM = pd.read_csv('data/HS/HSCIM.csv', index_col=0, parse_dates=True, infer_datetime_format=True, thousands=',')\n",
    "HSCIPC = pd.read_csv('data/HS/HSCIPC.csv', index_col=0, parse_dates=True, infer_datetime_format=True, thousands=',')\n",
    "HSCIT = pd.read_csv('data/HS/HSCIT.csv', index_col=0, parse_dates=True, infer_datetime_format=True, thousands=',')\n",
    "HSCIU = pd.read_csv('data/HS/HSCIU.csv', index_col=0, parse_dates=True, infer_datetime_format=True, thousands=',')"
   ]
  },
  {
   "cell_type": "code",
   "execution_count": 6,
   "id": "d046c51b-2859-4b25-a3c3-205467152fb4",
   "metadata": {
    "tags": []
   },
   "outputs": [],
   "source": [
    "# create a dataframe containing HSI, first put the above into a dictionary for easy iteration\n",
    "\n",
    "HSI_dict = {\"HSCC\": HSCC,\n",
    "            \"HSCE\": HSCE,\n",
    "            \"HSCIC\": HSCIC,\n",
    "            \"HSCICD\": HSCICD,\n",
    "            \"HSCICS\": HSCICS,\n",
    "            \"HSCIE\": HSCIE,\n",
    "            \"HSCIE\": HSCIE,\n",
    "            \"HSCIF\": HSCIF,\n",
    "            \"HSCIH\": HSCIH,\n",
    "            \"HSCIIG\": HSCIIG,\n",
    "            \"HSCIIT\": HSCIIT,\n",
    "            \"HSCIM\": HSCIM,\n",
    "            \"HSCIPC\": HSCIPC,\n",
    "            \"HSCIT\": HSCIT,\n",
    "            \"HSCIU\": HSCIU}\n",
    "\n",
    "HSI_df = pd.DataFrame()\n",
    "\n",
    "for ind in HSI_dict.keys():\n",
    "    HSI_df = pd.concat([HSI_df, HSI_dict[ind]['Price']], axis=1)\n",
    "    \n",
    "HSI_df.columns = HSI_dict.keys()"
   ]
  },
  {
   "cell_type": "code",
   "execution_count": 7,
   "id": "85a82ad6-b51d-4b8c-8e6a-7835b2e6dc40",
   "metadata": {
    "tags": []
   },
   "outputs": [],
   "source": [
    "# calculate sector index returns\n",
    "\n",
    "HSI_returns_df =  np.log(HSI_df.dropna()) - np.log(HSI_df.dropna().shift(-1))\n",
    "HK50['Return'] = np.log(HK50['Price']) - np.log(HK50['Price'].shift(-1))\n",
    "HK50 = HK50.dropna()\n",
    "\n",
    "# make sure to convert HSI dictionary to datetime, otherwise sklearn can break.\n",
    "HSI_returns_df.index = pd.to_datetime(HSI_returns_df.index)"
   ]
  },
  {
   "cell_type": "markdown",
   "id": "a154e913-f389-46b4-bcdd-6fb3484c2bde",
   "metadata": {},
   "source": [
    "# Results"
   ]
  },
  {
   "cell_type": "markdown",
   "id": "d723f266-eb99-47c9-9b6f-4e831440f833",
   "metadata": {
    "tags": []
   },
   "source": [
    "## Index descriptive stats"
   ]
  },
  {
   "cell_type": "code",
   "execution_count": 136,
   "id": "81db85d0-2df8-4a6c-a59b-0d135cfdc604",
   "metadata": {
    "tags": []
   },
   "outputs": [
    {
     "name": "stdout",
     "output_type": "stream",
     "text": [
      "The mean, standard dev and count of HK50 returns are: 0.00273% 1.27972% 2829\n"
     ]
    }
   ],
   "source": [
    "HK50_mean = str(round(HK50['Return'].mean()*100.,5))+'%'\n",
    "HK50_sdev = str(round(HK50['Return'].std()*100.,5))+'%'\n",
    "HK50_count = HK50['Return'].size\n",
    "\n",
    "# print\n",
    "print(\"The mean, standard dev and count of HK50 returns are: \"+str(HK50_mean)+' '+str(HK50_sdev)+' '+str(HK50_count))"
   ]
  },
  {
   "cell_type": "code",
   "execution_count": 137,
   "id": "ac77eb09-de51-4737-becd-99eeb72b4561",
   "metadata": {
    "tags": []
   },
   "outputs": [
    {
     "name": "stdout",
     "output_type": "stream",
     "text": [
      "The mean, standard dev and count of HSCC returns are: -0.00867% 1.51073% 831\n",
      "The mean, standard dev and count of HSCE returns are: -0.04452% 1.75764% 831\n",
      "The mean, standard dev and count of HSCIC returns are: -0.03606% 1.46476% 831\n",
      "The mean, standard dev and count of HSCICD returns are: 0.01509% 2.05191% 831\n",
      "The mean, standard dev and count of HSCICS returns are: -0.00733% 1.56298% 831\n",
      "The mean, standard dev and count of HSCIE returns are: 0.0057% 1.93187% 831\n",
      "The mean, standard dev and count of HSCIF returns are: -0.01107% 1.38513% 831\n",
      "The mean, standard dev and count of HSCIH returns are: -0.00482% 2.57401% 831\n",
      "The mean, standard dev and count of HSCIIG returns are: -0.00198% 1.8395% 831\n",
      "The mean, standard dev and count of HSCIIT returns are: 0.01012% 2.73956% 831\n",
      "The mean, standard dev and count of HSCIM returns are: 0.05045% 2.34094% 831\n",
      "The mean, standard dev and count of HSCIPC returns are: -0.05771% 1.71762% 831\n",
      "The mean, standard dev and count of HSCIT returns are: -0.02795% 1.37676% 831\n",
      "The mean, standard dev and count of HSCIU returns are: -0.02634% 1.18185% 831\n"
     ]
    }
   ],
   "source": [
    "# to import into libreoffice calc, ctrl-shift-v then paste unformatted. Convert text-to-columns.\n",
    "\n",
    "for elem in HSI_returns_df.keys():\n",
    "    mean = str(round(HSI_returns_df[elem].mean()*100.,5))+'%'\n",
    "    sdev = str(round(HSI_returns_df[elem].std()*100.,5))+'%'\n",
    "    count = HSI_returns_df[elem].size\n",
    "    print(\"The mean, standard dev and count of \"+str(elem)+\" returns are: \"+str(mean)+' '+str(sdev)+' '+str(count))"
   ]
  },
  {
   "cell_type": "markdown",
   "id": "ca104158-2794-452f-803f-34a1f3f4ddb4",
   "metadata": {},
   "source": [
    "## Sector index correlation"
   ]
  },
  {
   "cell_type": "code",
   "execution_count": 36,
   "id": "6f71343f-12f6-4001-ab6f-241ca1ea745e",
   "metadata": {
    "tags": []
   },
   "outputs": [],
   "source": [
    "HSI_returns_df.keys()\n",
    "\n",
    "for elem in HSI_returns_df.keys():\n",
    "    filename = \"HK50_\"+str(elem)+\"_20corr.png\"\n",
    "    x_name = \"HK50\"\n",
    "    y_name = str(elem)\n",
    "    plot_cor(HK50['Return'], HSI_returns_df[elem], 20, filename, x_name, y_name)\n",
    "    plt.close()\n"
   ]
  },
  {
   "cell_type": "code",
   "execution_count": 32,
   "id": "18c1fd72-6a5d-4842-bb2e-361cfeee0f2c",
   "metadata": {
    "tags": []
   },
   "outputs": [
    {
     "data": {
      "image/png": "[encoded data removed]",
      "text/plain": [
       "<Figure size 640x480 with 1 Axes>"
      ]
     },
     "metadata": {},
     "output_type": "display_data"
    }
   ],
   "source": [
    "# (test code) same code as cell below but using function\n",
    "\n",
    "plot_cor(HK50['Return'], HSI_returns_df['HSCC'], 20, \"HK50_HSCC_20corr.png\", \"HK50\", \"HSCC\")"
   ]
  },
  {
   "cell_type": "markdown",
   "id": "a554827e-aecd-41f3-be4f-8f1a42e8f7bf",
   "metadata": {},
   "source": [
    "## Using J-test"
   ]
  },
  {
   "cell_type": "code",
   "execution_count": 18,
   "id": "c2ef2b1b-33bc-425b-b467-ddc82c19f71f",
   "metadata": {
    "tags": []
   },
   "outputs": [],
   "source": [
    "import statsmodels.api as sm\n",
    "from statsmodels.stats.diagnostic import compare_j # J-test\n",
    "from sklearn.preprocessing import StandardScaler\n",
    "\n",
    "# need to worry about consistent dates / indices selection. See also below where y is reindexed relative to X. \n",
    "X = HSI_returns_df[['HSCC',\"HSCE\"]][\"2019-09-10\":\"2023-02-08\"].fillna(method='ffill')\n",
    "y = HK50['Return'][\"2019-09-10\":\"2023-02-08\"].fillna(method='ffill')\n",
    "y = y.reindex(X.index)\n",
    "\n",
    "\n",
    "# another modification to our original code with Sklearn, I've added a column of ones so a constant term\n",
    "# is added to our regression model. This is done using the sm.add_constant keyword. \n",
    "X = sm.add_constant(X)\n",
    "X = StandardScaler().fit_transform(X)\n",
    "# regression_leading_test = sm.OLS(y.reindex(X.index), X).fit() \n",
    "regression_leading_test = sm.OLS(y, X).fit() "
   ]
  },
  {
   "cell_type": "code",
   "execution_count": 19,
   "id": "4e3413c3-85ca-4da9-a56b-fd1c164f8828",
   "metadata": {
    "tags": []
   },
   "outputs": [
    {
     "data": {
      "text/plain": [
       "<statsmodels.regression.linear_model.RegressionResultsWrapper at 0x7f89659dc580>"
      ]
     },
     "execution_count": 19,
     "metadata": {},
     "output_type": "execute_result"
    }
   ],
   "source": [
    "regression_leading_test"
   ]
  },
  {
   "cell_type": "code",
   "execution_count": 37,
   "id": "8c5f3efc-8c38-49a4-a8ab-2e47419fe03d",
   "metadata": {
    "tags": []
   },
   "outputs": [],
   "source": [
    "# get jtest statistic and pvalue for all sector indices vs HK50\n",
    "\n",
    "sector_models_OLS = {}\n",
    "\n",
    "for elem in HSI_returns_df:\n",
    "    X = HSI_returns_df[elem][\"2019-09-10\":\"2023-02-08\"].fillna(method='ffill')\n",
    "    y = HK50['Return'][\"2019-09-10\":\"2023-02-08\"].fillna(method='ffill')\n",
    "    y = y.reindex(X.index)\n",
    "    \n",
    "    X = sm.add_constant(X)\n",
    "    X = StandardScaler().fit_transform(X)\n",
    "    sector_models_OLS[elem] = sm.OLS(y, X).fit() "
   ]
  },
  {
   "cell_type": "code",
   "execution_count": 16,
   "id": "63f076ba-09b3-4916-ab36-0285b482fb0f",
   "metadata": {
    "tags": []
   },
   "outputs": [
    {
     "data": {
      "text/html": [
       "<div>\n",
       "<style scoped>\n",
       "    .dataframe tbody tr th:only-of-type {\n",
       "        vertical-align: middle;\n",
       "    }\n",
       "\n",
       "    .dataframe tbody tr th {\n",
       "        vertical-align: top;\n",
       "    }\n",
       "\n",
       "    .dataframe thead th {\n",
       "        text-align: right;\n",
       "    }\n",
       "</style>\n",
       "<table border=\"1\" class=\"dataframe\">\n",
       "  <thead>\n",
       "    <tr style=\"text-align: right;\">\n",
       "      <th></th>\n",
       "      <th>HSCC</th>\n",
       "      <th>HSCE</th>\n",
       "    </tr>\n",
       "  </thead>\n",
       "  <tbody>\n",
       "    <tr>\n",
       "      <th>2023-02-08</th>\n",
       "      <td>0.010649</td>\n",
       "      <td>-0.005958</td>\n",
       "    </tr>\n",
       "    <tr>\n",
       "      <th>2023-02-07</th>\n",
       "      <td>0.003958</td>\n",
       "      <td>0.005947</td>\n",
       "    </tr>\n",
       "    <tr>\n",
       "      <th>2023-02-06</th>\n",
       "      <td>-0.013832</td>\n",
       "      <td>-0.027121</td>\n",
       "    </tr>\n",
       "    <tr>\n",
       "      <th>2023-02-03</th>\n",
       "      <td>-0.013061</td>\n",
       "      <td>-0.015950</td>\n",
       "    </tr>\n",
       "    <tr>\n",
       "      <th>2023-02-02</th>\n",
       "      <td>-0.009237</td>\n",
       "      <td>-0.007249</td>\n",
       "    </tr>\n",
       "    <tr>\n",
       "      <th>...</th>\n",
       "      <td>...</td>\n",
       "      <td>...</td>\n",
       "    </tr>\n",
       "    <tr>\n",
       "      <th>2019-09-16</th>\n",
       "      <td>0.005239</td>\n",
       "      <td>-0.005583</td>\n",
       "    </tr>\n",
       "    <tr>\n",
       "      <th>2019-09-13</th>\n",
       "      <td>0.007474</td>\n",
       "      <td>0.008964</td>\n",
       "    </tr>\n",
       "    <tr>\n",
       "      <th>2019-09-12</th>\n",
       "      <td>0.000133</td>\n",
       "      <td>0.002586</td>\n",
       "    </tr>\n",
       "    <tr>\n",
       "      <th>2019-09-11</th>\n",
       "      <td>0.008655</td>\n",
       "      <td>0.015421</td>\n",
       "    </tr>\n",
       "    <tr>\n",
       "      <th>2019-09-10</th>\n",
       "      <td>0.008655</td>\n",
       "      <td>0.015421</td>\n",
       "    </tr>\n",
       "  </tbody>\n",
       "</table>\n",
       "<p>831 rows × 2 columns</p>\n",
       "</div>"
      ],
      "text/plain": [
       "                HSCC      HSCE\n",
       "2023-02-08  0.010649 -0.005958\n",
       "2023-02-07  0.003958  0.005947\n",
       "2023-02-06 -0.013832 -0.027121\n",
       "2023-02-03 -0.013061 -0.015950\n",
       "2023-02-02 -0.009237 -0.007249\n",
       "...              ...       ...\n",
       "2019-09-16  0.005239 -0.005583\n",
       "2019-09-13  0.007474  0.008964\n",
       "2019-09-12  0.000133  0.002586\n",
       "2019-09-11  0.008655  0.015421\n",
       "2019-09-10  0.008655  0.015421\n",
       "\n",
       "[831 rows x 2 columns]"
      ]
     },
     "execution_count": 16,
     "metadata": {},
     "output_type": "execute_result"
    }
   ],
   "source": [
    "# indexing two columns of a dataframe at once\n",
    "# HSI_returns_df[['HSCC',\"HSCE\"]][\"2019-09-10\":\"2023-02-08\"].fillna(method='ffill')"
   ]
  },
  {
   "cell_type": "code",
   "execution_count": 12,
   "id": "adf4ff27-f3a5-4634-b7a6-dcd577ba6f34",
   "metadata": {
    "tags": []
   },
   "outputs": [
    {
     "data": {
      "text/plain": [
       "{'HSCC': <statsmodels.regression.linear_model.RegressionResultsWrapper at 0x7f89bef20340>,\n",
       " 'HSCE': <statsmodels.regression.linear_model.RegressionResultsWrapper at 0x7f89659dc0d0>,\n",
       " 'HSCIC': <statsmodels.regression.linear_model.RegressionResultsWrapper at 0x7f8964c35870>,\n",
       " 'HSCICD': <statsmodels.regression.linear_model.RegressionResultsWrapper at 0x7f8964c34c40>,\n",
       " 'HSCICS': <statsmodels.regression.linear_model.RegressionResultsWrapper at 0x7f89659deb90>,\n",
       " 'HSCIE': <statsmodels.regression.linear_model.RegressionResultsWrapper at 0x7f8964c359c0>,\n",
       " 'HSCIF': <statsmodels.regression.linear_model.RegressionResultsWrapper at 0x7f8964c35540>,\n",
       " 'HSCIH': <statsmodels.regression.linear_model.RegressionResultsWrapper at 0x7f8964c35e40>,\n",
       " 'HSCIIG': <statsmodels.regression.linear_model.RegressionResultsWrapper at 0x7f8964c36260>,\n",
       " 'HSCIIT': <statsmodels.regression.linear_model.RegressionResultsWrapper at 0x7f8964c364d0>,\n",
       " 'HSCIM': <statsmodels.regression.linear_model.RegressionResultsWrapper at 0x7f8964c36800>,\n",
       " 'HSCIPC': <statsmodels.regression.linear_model.RegressionResultsWrapper at 0x7f8964c36b30>,\n",
       " 'HSCIT': <statsmodels.regression.linear_model.RegressionResultsWrapper at 0x7f8964c36e60>,\n",
       " 'HSCIU': <statsmodels.regression.linear_model.RegressionResultsWrapper at 0x7f8964c37190>}"
      ]
     },
     "execution_count": 12,
     "metadata": {},
     "output_type": "execute_result"
    }
   ],
   "source": [
    "sector_models_OLS"
   ]
  },
  {
   "cell_type": "code",
   "execution_count": 13,
   "id": "96a29675-6ced-45f8-bcff-65284a397e02",
   "metadata": {
    "tags": []
   },
   "outputs": [
    {
     "data": {
      "text/plain": [
       "(42.35699441470146, 1.159089247826358e-209)"
      ]
     },
     "execution_count": 13,
     "metadata": {},
     "output_type": "execute_result"
    }
   ],
   "source": [
    "compare_j(sector_models_OLS[\"HSCC\"],sector_models_OLS[\"HSCE\"])"
   ]
  },
  {
   "cell_type": "code",
   "execution_count": 27,
   "id": "e3a2d8c6-ee36-4872-9576-123905a74023",
   "metadata": {
    "tags": []
   },
   "outputs": [],
   "source": [
    "from itertools import combinations\n",
    "\n",
    "sample_list = HSI_returns_df.columns\n",
    "list_combinations = []\n",
    "\n",
    "list_combinations += list(combinations(sample_list,2))\n",
    "    "
   ]
  },
  {
   "cell_type": "markdown",
   "id": "b7223968-9831-46de-8c2e-f3eadbd5b0a0",
   "metadata": {},
   "source": [
    "When attempting to do this for pairwise linear models in sector_models_OLS, we run into the non-nested models error. Maybe I'll just compare models using AIC for now?  "
   ]
  },
  {
   "cell_type": "code",
   "execution_count": 42,
   "id": "3d6c2567-f3e5-45ad-8bed-3032ddceb14d",
   "metadata": {
    "tags": []
   },
   "outputs": [
    {
     "name": "stdout",
     "output_type": "stream",
     "text": [
      "('HSCC', 'HSCE')\n"
     ]
    },
    {
     "ename": "ValueError",
     "evalue": "The exog in results_x and in results_z are nested. J comparison requires that models are non-nested.\n",
     "output_type": "error",
     "traceback": [
      "\u001b[0;31m---------------------------------------------------------------------------\u001b[0m",
      "\u001b[0;31mValueError\u001b[0m                                Traceback (most recent call last)",
      "Cell \u001b[0;32mIn[42], line 8\u001b[0m\n\u001b[1;32m      6\u001b[0m     first_HK_index \u001b[38;5;241m=\u001b[39m elem[\u001b[38;5;241m0\u001b[39m]\n\u001b[1;32m      7\u001b[0m     second_HK_index \u001b[38;5;241m=\u001b[39m elem[\u001b[38;5;241m1\u001b[39m]\n\u001b[0;32m----> 8\u001b[0m     results[elem] \u001b[38;5;241m=\u001b[39m \u001b[43mcompare_j\u001b[49m\u001b[43m(\u001b[49m\u001b[43msector_models_OLS\u001b[49m\u001b[43m[\u001b[49m\u001b[43mfirst_HK_index\u001b[49m\u001b[43m]\u001b[49m\u001b[43m,\u001b[49m\u001b[43msector_models_OLS\u001b[49m\u001b[43m[\u001b[49m\u001b[43msecond_HK_index\u001b[49m\u001b[43m]\u001b[49m\u001b[43m)\u001b[49m\n\u001b[1;32m     10\u001b[0m results \u001b[38;5;241m=\u001b[39m pd\u001b[38;5;241m.\u001b[39mDataFrame(results,index\u001b[38;5;241m=\u001b[39mlist_combinations,columns\u001b[38;5;241m=\u001b[39m[\u001b[38;5;124m'\u001b[39m\u001b[38;5;124mJ-test statistic\u001b[39m\u001b[38;5;124m'\u001b[39m, \u001b[38;5;124m'\u001b[39m\u001b[38;5;124mJ-test p-value\u001b[39m\u001b[38;5;124m'\u001b[39m])\n",
      "File \u001b[0;32m~/.local/lib/python3.10/site-packages/statsmodels/stats/diagnostic.py:213\u001b[0m, in \u001b[0;36mcompare_j\u001b[0;34m(results_x, results_z, store)\u001b[0m\n\u001b[1;32m    211\u001b[0m \u001b[38;5;66;03m# TODO: Allow cov to be specified\u001b[39;00m\n\u001b[1;32m    212\u001b[0m \u001b[38;5;28;01mif\u001b[39;00m _check_nested_results(results_x, results_z):\n\u001b[0;32m--> 213\u001b[0m     \u001b[38;5;28;01mraise\u001b[39;00m \u001b[38;5;167;01mValueError\u001b[39;00m(NESTED_ERROR\u001b[38;5;241m.\u001b[39mformat(test\u001b[38;5;241m=\u001b[39m\u001b[38;5;124m\"\u001b[39m\u001b[38;5;124mJ comparison\u001b[39m\u001b[38;5;124m\"\u001b[39m))\n\u001b[1;32m    214\u001b[0m y \u001b[38;5;241m=\u001b[39m results_x\u001b[38;5;241m.\u001b[39mmodel\u001b[38;5;241m.\u001b[39mendog\n\u001b[1;32m    215\u001b[0m z \u001b[38;5;241m=\u001b[39m results_z\u001b[38;5;241m.\u001b[39mmodel\u001b[38;5;241m.\u001b[39mexog\n",
      "\u001b[0;31mValueError\u001b[0m: The exog in results_x and in results_z are nested. J comparison requires that models are non-nested.\n"
     ]
    }
   ],
   "source": [
    "results = {}\n",
    "\n",
    "for elem in list_combinations:\n",
    "    #print(elem)\n",
    "    print(elem)\n",
    "    first_HK_index = elem[0]\n",
    "    second_HK_index = elem[1]\n",
    "    results[elem] = compare_j(sector_models_OLS[first_HK_index],sector_models_OLS[second_HK_index])\n",
    "    \n",
    "results = pd.DataFrame(results,index=list_combinations,columns=['J-test statistic', 'J-test p-value'])"
   ]
  },
  {
   "cell_type": "markdown",
   "id": "a4a092a6-9de4-402f-910b-29541647a450",
   "metadata": {},
   "source": [
    "Using AIC. A temporary workaround. "
   ]
  },
  {
   "cell_type": "code",
   "execution_count": 51,
   "id": "46e6c346-30e5-4643-8da9-21b143239b22",
   "metadata": {
    "tags": []
   },
   "outputs": [
    {
     "name": "stdout",
     "output_type": "stream",
     "text": [
      "Exogenous variable: HSCC. AIC: -5508.840606042309\n",
      "Exogenous variable: HSCE. AIC: -6981.254427624647\n",
      "Exogenous variable: HSCIC. AIC: -5092.97099972019\n",
      "Exogenous variable: HSCICD. AIC: -5804.331111364424\n",
      "Exogenous variable: HSCICS. AIC: -5341.118629786088\n",
      "Exogenous variable: HSCIE. AIC: -4897.926140770197\n",
      "Exogenous variable: HSCIF. AIC: -5713.816416206997\n",
      "Exogenous variable: HSCIH. AIC: -5200.258431404865\n",
      "Exogenous variable: HSCIIG. AIC: -5412.532846567192\n",
      "Exogenous variable: HSCIIT. AIC: -5637.347920023066\n",
      "Exogenous variable: HSCIM. AIC: -5047.48666635554\n",
      "Exogenous variable: HSCIPC. AIC: -5347.644738762612\n",
      "Exogenous variable: HSCIT. AIC: -4863.261455107681\n",
      "Exogenous variable: HSCIU. AIC: -5009.363502536354\n"
     ]
    }
   ],
   "source": [
    "for elem in sector_models_OLS.keys():\n",
    "    print('Exogenous variable: '+str(elem)+'. AIC: '+str(sector_models_OLS[elem].aic))    "
   ]
  },
  {
   "cell_type": "code",
   "execution_count": null,
   "id": "a10f8b55-6d5b-4ab9-9e32-7533506fa3b3",
   "metadata": {},
   "outputs": [],
   "source": []
  },
  {
   "cell_type": "code",
   "execution_count": null,
   "id": "3d09b853-e0bb-4d0d-952b-428ce729e0ab",
   "metadata": {},
   "outputs": [],
   "source": [
    "# working code\n",
    "jtest_statistic = {}\n",
    "jtest_pvalue = {}\n",
    "\n",
    "for etf in _11_SPDR_ETFs:\n",
    "    jtest_pvalue[etf] = np.zeros((3,3))\n",
    "    jtest_statistic[etf] = np.zeros((3,3))\n",
    "\n",
    "    regression_results_list = [regression_leading[etf],regression_coinc[etf],regression_lagging[etf]]\n",
    "\n",
    "    for i in range(len(regression_results_list)):\n",
    "        for j in range(len(regression_results_list)):\n",
    "            if j != i:\n",
    "                jtest_statistic[etf][i][j], jtest_pvalue[etf][i][j] =\\\n",
    "                compare_j(regression_results_list[i],regression_results_list[j])\n",
    "\n",
    "    # finally, convert all dictionaries to pandas dataframes to make things more readable\n",
    "    jtest_pvalue[etf] = pd.DataFrame(jtest_pvalue[etf],index=['H0','H1','H2'],columns=['H0','H1','H2'])\n",
    "    jtest_statistic[etf] = pd.DataFrame(jtest_statistic[etf],index=['H0','H1','H2'],columns=['H0','H1','H2'])"
   ]
  },
  {
   "cell_type": "markdown",
   "id": "c315f8ff-35d4-48c2-867f-3eaf089eabfa",
   "metadata": {},
   "source": [
    "### Attempt to do this for all combinations of sector indices vs HK50. These are nested models"
   ]
  },
  {
   "cell_type": "markdown",
   "id": "5712591c-4dba-40bd-b1b5-83465bf8d343",
   "metadata": {},
   "source": [
    "Having trouble indexing by tuple. See here: https://stackoverflow.com/questions/43347939/all-possible-combinations-of-columns-in-dataframe-pandas-python"
   ]
  },
  {
   "cell_type": "code",
   "execution_count": null,
   "id": "6ce9fa0a-1149-437d-bed0-2797b6c5827a",
   "metadata": {},
   "outputs": [],
   "source": [
    "from itertools import combinations\n",
    "\n",
    "sample_list = HSI_returns_df.columns\n",
    "list_combinations = []\n",
    "\n",
    "for n in range(len(sample_list)+1):\n",
    "    list_combinations += list(combinations(sample_list,n))\n",
    "    "
   ]
  },
  {
   "cell_type": "code",
   "execution_count": null,
   "id": "f52fdec1-5b6d-46e5-9c6b-189b6459f10d",
   "metadata": {},
   "outputs": [],
   "source": []
  },
  {
   "cell_type": "code",
   "execution_count": null,
   "id": "b8fe25f5-0027-40e4-a6bb-a840ff879d6c",
   "metadata": {},
   "outputs": [],
   "source": []
  },
  {
   "cell_type": "markdown",
   "id": "3ce9cd55-27ae-4c90-9f5a-7814722f65f9",
   "metadata": {},
   "source": [
    "## Determine lags"
   ]
  },
  {
   "cell_type": "code",
   "execution_count": null,
   "id": "3ae2cf16-bfd4-4cba-9063-83c5c4aae017",
   "metadata": {},
   "outputs": [],
   "source": [
    "    '''\n",
    "    shortest_time_series_len = get_shortest_array(x,y)\n",
    "    plt.plot(x.iloc[:shortest_time_series_len].dropna().rolling(window).corr(y.iloc[:shortest_time_series_len].dropna()));"
   ]
  },
  {
   "cell_type": "code",
   "execution_count": 66,
   "id": "44bbd9d9-25e2-463f-87a0-fc7206698285",
   "metadata": {
    "tags": []
   },
   "outputs": [],
   "source": [
    "x = HK50['Return']\n",
    "y = HSI_returns_df['HSCC']\n",
    "\n",
    "shortest_time_series_len = get_shortest_array(x,y)\n",
    "\n",
    "x = x.iloc[:shortest_time_series_len]\n",
    "y = y.iloc[:shortest_time_series_len]\n",
    "\n",
    "test_correlation = signal.correlate(x, y, mode=\"full\")\n",
    "test_lags = signal.correlation_lags(x.size, y.size, mode=\"full\")\n",
    "test_lag = test_lags[np.argmax(test_correlation)]"
   ]
  },
  {
   "cell_type": "code",
   "execution_count": 69,
   "id": "e2c0c616-753a-43b2-a3eb-75c259b5295b",
   "metadata": {
    "tags": []
   },
   "outputs": [
    {
     "data": {
      "text/plain": [
       "array([            nan,             nan,             nan, ...,\n",
       "        9.11327954e-06, -9.12429017e-05, -1.33982510e-05])"
      ]
     },
     "execution_count": 69,
     "metadata": {},
     "output_type": "execute_result"
    }
   ],
   "source": [
    "test_correlation"
   ]
  },
  {
   "cell_type": "code",
   "execution_count": null,
   "id": "22e0e0d4-a118-4808-9a24-5659ba2b2280",
   "metadata": {},
   "outputs": [],
   "source": [
    "\n",
    "\n",
    "rng = np.random.default_rng()\n",
    "x = rng.standard_normal(1000)\n",
    "y = np.concatenate([rng.standard_normal(100), x])\n",
    "correlation = signal.correlate(x, y, mode=\"full\")\n",
    "lags = signal.correlation_lags(x.size, y.size, mode=\"full\")\n",
    "lag = lags[np.argmax(correlation)]"
   ]
  }
 ],
 "metadata": {
  "kernelspec": {
   "display_name": "Python 3 (ipykernel)",
   "language": "python",
   "name": "python3"
  },
  "language_info": {
   "codemirror_mode": {
    "name": "ipython",
    "version": 3
   },
   "file_extension": ".py",
   "mimetype": "text/x-python",
   "name": "python",
   "nbconvert_exporter": "python",
   "pygments_lexer": "ipython3",
   "version": "3.10.0"
  }
 },
 "nbformat": 4,
 "nbformat_minor": 5
}

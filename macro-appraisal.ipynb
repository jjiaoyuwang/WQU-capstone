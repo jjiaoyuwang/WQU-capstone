{
 "cells": [
  {
   "cell_type": "markdown",
   "id": "633fd16f-8f43-4535-9c5c-577185567211",
   "metadata": {},
   "source": [
    "# 1 Import packages and define useful functions"
   ]
  },
  {
   "cell_type": "code",
   "execution_count": 2,
   "id": "a750058a-2d98-495d-82d6-3bd106f0741c",
   "metadata": {
    "tags": []
   },
   "outputs": [],
   "source": [
    "import pandas as pd\n",
    "import numpy as np\n",
    "from scipy import signal\n",
    "import statsmodels.api as sm\n",
    "from sklearn.preprocessing import StandardScaler\n",
    "import matplotlib.pyplot as plt"
   ]
  },
  {
   "cell_type": "code",
   "execution_count": 3,
   "id": "7d4f5f7d-d358-483a-87a1-c4385799a64e",
   "metadata": {
    "tags": []
   },
   "outputs": [],
   "source": [
    "def get_shortest_array(a,b):\n",
    "    '''\n",
    "    input - a,b arrays (pandas.values) arrays\n",
    "    output - returns length of shortest array using first index of np.shape\n",
    "    '''\n",
    "    \n",
    "    len_a = np.shape(a)[0]\n",
    "    len_b = np.shape(b)[0]\n",
    "    \n",
    "    return min(len_a,len_b)"
   ]
  },
  {
   "cell_type": "code",
   "execution_count": 4,
   "id": "272921cb-7aee-4c95-be64-cbad062c4625",
   "metadata": {
    "tags": []
   },
   "outputs": [],
   "source": [
    "def plot_cor(x, y, window, filename, x_name, y_name):\n",
    "    '''\n",
    "    x (df) - first time series\n",
    "    y (df) - second time series\n",
    "    window (int) - period length\n",
    "    filename - output filename as .png\n",
    "    x_name - first time series name (for title)\n",
    "    y_name - second time series name (for title)\n",
    "    Note that x and y don't have to be the same length. the 'get_shortest_array' function will be used to automatically trim the time series\n",
    "    '''\n",
    "    shortest_time_series_len = get_shortest_array(x,y)\n",
    "    plt.plot(x.iloc[:shortest_time_series_len].rolling(window).corr(y.iloc[:shortest_time_series_len]).fillna(method='bfill'));\n",
    "    \n",
    "    # rotate x-axis labels so date labels all fit in properly\n",
    "    plt.xticks(rotation=90);\n",
    "    plt.title('20-day rolling correlation between '+str(x_name)+ ' and '+str(y_name))\n",
    "    plt.savefig(str(filename),dpi=600)\n"
   ]
  },
  {
   "cell_type": "code",
   "execution_count": 5,
   "id": "6f382862-a95d-4326-9134-ffc15b2d05e0",
   "metadata": {
    "tags": []
   },
   "outputs": [],
   "source": [
    "def equity_d2m(dataframe):\n",
    "    '''\n",
    "    for a dataframe with daily OHLC equity data, convert this to monthly OHLC data.\n",
    "    '''\n",
    "    \n",
    "    return pd.DataFrame({\"Open\":dataframe.Open.resample('MS').first(),\n",
    "                         \"High\":dataframe.High.resample('MS').max(),\n",
    "                         \"Low\":dataframe.Low.resample('MS').min(),\n",
    "                         \"Close\":dataframe.Close.resample('MS').last()})"
   ]
  },
  {
   "cell_type": "markdown",
   "id": "0c0f42f7-605f-4195-94bb-3beb54564e06",
   "metadata": {},
   "source": [
    "# 2 Import data: Hang Seng and macroeconomic indicators"
   ]
  },
  {
   "cell_type": "code",
   "execution_count": 20,
   "id": "eaf194eb-87ff-4acc-87de-69563244e0dc",
   "metadata": {
    "tags": []
   },
   "outputs": [],
   "source": [
    "# daily time series\n",
    "HK50 = pd.read_csv('data/HS/HK50.csv', index_col=0, parse_dates=True, infer_datetime_format=True, thousands=',')\n",
    "DXY = pd.read_csv('data/macro/daily/DXY.csv', index_col=0, parse_dates=True, infer_datetime_format=True, thousands=',')\n",
    "HSIL = pd.read_csv('data/macro/daily/^HSIL.csv', index_col=0, parse_dates=True, infer_datetime_format=True, thousands=',')\n",
    "SPY = pd.read_csv('data/macro/daily/SPY.csv', index_col=0, parse_dates=True, infer_datetime_format=True, thousands=',')\n",
    "\n",
    "# currencies\n",
    "AUDUSD = pd.read_csv('data/macro/daily/AUD_USD.csv', index_col=0, parse_dates=True, infer_datetime_format=True, thousands=',')\n",
    "AUDCNY = pd.read_csv('data/macro/daily/AUD_CNY.csv', index_col=0, parse_dates=True, infer_datetime_format=True, thousands=',')\n",
    "CNYHKD = pd.read_csv('data/macro/daily/CNY_HKD.csv', index_col=0, parse_dates=True, infer_datetime_format=True, thousands=',')\n",
    "USDHKD = pd.read_csv('data/macro/daily/USD_HKD.csv', index_col=0, parse_dates=True, infer_datetime_format=True, thousands=',')\n",
    "HKDEUR = pd.read_csv('data/macro/daily/HKD_EUR.csv', index_col=0, parse_dates=True, infer_datetime_format=True, thousands=',')\n",
    "HKDAUD = pd.read_csv('data/macro/daily/HKD_AUD.csv', index_col=0, parse_dates=True, infer_datetime_format=True, thousands=',')"
   ]
  },
  {
   "cell_type": "code",
   "execution_count": 21,
   "id": "582337b3-9d4e-4f3c-9657-82612355a48a",
   "metadata": {
    "tags": []
   },
   "outputs": [],
   "source": [
    "# monthly time series\n",
    "US10Y = pd.read_csv('data/macro/monthly/US_10Y.csv', index_col=0, parse_dates=True, infer_datetime_format=True, thousands=',')\n",
    "CN10Y = pd.read_csv('data/macro/monthly/CN_10Y.csv', index_col=0, parse_dates=True, infer_datetime_format=True, thousands=',')\n",
    "CAIXIN = pd.read_csv('data/macro/monthly/Caixin_PMI.csv', index_col=0, parse_dates=True, infer_datetime_format=True, thousands=',')\n",
    "\n",
    "# CPI\n",
    "US_CPI_FRED_all = pd.read_csv('data/macro/monthly/CPIAUCSL.csv', index_col=0, parse_dates=True, infer_datetime_format=True, thousands=',')\n",
    "US_CPI_OECD = pd.read_csv('data/macro/monthly/US_CPI_OECD.csv', index_col=0, parse_dates=True, infer_datetime_format=True, thousands=',')\n",
    "CN_CPI_OECD = pd.read_csv('data/macro/monthly/CN_CPI_OECD.csv', index_col=0, parse_dates=True, infer_datetime_format=True, thousands=',')\n",
    "\n",
    "# M3 money supply\n",
    "US_M2 = pd.read_csv('data/macro/monthly/US_M2.csv', index_col=0, parse_dates=True, infer_datetime_format=True, thousands=',')\n",
    "CN_M2 = pd.read_csv('data/macro/monthly/CN_M2.csv', index_col=0, parse_dates=True, infer_datetime_format=True, thousands=',')\n",
    "EU_M2 = pd.read_csv('data/macro/monthly/EU_M2.csv', index_col=0, parse_dates=True, infer_datetime_format=True, thousands=',')"
   ]
  },
  {
   "cell_type": "code",
   "execution_count": 16,
   "id": "e32041fe-6d26-4cb7-aaed-b9ec5c1e2139",
   "metadata": {
    "tags": []
   },
   "outputs": [],
   "source": [
    "# quarterly time series\n",
    "CN_GDP = pd.read_csv('data/macro/quarterly/CN_GDP.csv', index_col=0, parse_dates=True, infer_datetime_format=True, thousands=',')\n",
    "US_GDP = pd.read_csv('data/macro/quarterly/US_GDP.csv', index_col=0, parse_dates=True, infer_datetime_format=True, thousands=',')"
   ]
  },
  {
   "cell_type": "code",
   "execution_count": 10,
   "id": "e034ae09-2be1-49bb-b152-27c9b9433b41",
   "metadata": {
    "tags": []
   },
   "outputs": [
    {
     "data": {
      "text/html": [
       "<div>\n",
       "<style scoped>\n",
       "    .dataframe tbody tr th:only-of-type {\n",
       "        vertical-align: middle;\n",
       "    }\n",
       "\n",
       "    .dataframe tbody tr th {\n",
       "        vertical-align: top;\n",
       "    }\n",
       "\n",
       "    .dataframe thead th {\n",
       "        text-align: right;\n",
       "    }\n",
       "</style>\n",
       "<table border=\"1\" class=\"dataframe\">\n",
       "  <thead>\n",
       "    <tr style=\"text-align: right;\">\n",
       "      <th></th>\n",
       "      <th>China 10yr Benchmark Yield %</th>\n",
       "      <th>China CPI YoY %</th>\n",
       "      <th>China Real 10yr Rate (10yr Benchmark - CPI All Items)</th>\n",
       "    </tr>\n",
       "    <tr>\n",
       "      <th>Date</th>\n",
       "      <th></th>\n",
       "      <th></th>\n",
       "      <th></th>\n",
       "    </tr>\n",
       "  </thead>\n",
       "  <tbody>\n",
       "    <tr>\n",
       "      <th>2000-09-30</th>\n",
       "      <td>2.79</td>\n",
       "      <td>0.0</td>\n",
       "      <td>2.79</td>\n",
       "    </tr>\n",
       "    <tr>\n",
       "      <th>2000-10-31</th>\n",
       "      <td>2.75</td>\n",
       "      <td>0.0</td>\n",
       "      <td>2.75</td>\n",
       "    </tr>\n",
       "    <tr>\n",
       "      <th>2000-11-30</th>\n",
       "      <td>2.97</td>\n",
       "      <td>1.3</td>\n",
       "      <td>1.67</td>\n",
       "    </tr>\n",
       "    <tr>\n",
       "      <th>2000-12-31</th>\n",
       "      <td>3.01</td>\n",
       "      <td>1.5</td>\n",
       "      <td>1.51</td>\n",
       "    </tr>\n",
       "    <tr>\n",
       "      <th>2001-01-31</th>\n",
       "      <td>3.00</td>\n",
       "      <td>1.2</td>\n",
       "      <td>1.80</td>\n",
       "    </tr>\n",
       "    <tr>\n",
       "      <th>...</th>\n",
       "      <td>...</td>\n",
       "      <td>...</td>\n",
       "      <td>...</td>\n",
       "    </tr>\n",
       "    <tr>\n",
       "      <th>2022-07-31</th>\n",
       "      <td>2.76</td>\n",
       "      <td>2.7</td>\n",
       "      <td>0.06</td>\n",
       "    </tr>\n",
       "    <tr>\n",
       "      <th>2022-08-31</th>\n",
       "      <td>2.65</td>\n",
       "      <td>2.5</td>\n",
       "      <td>0.15</td>\n",
       "    </tr>\n",
       "    <tr>\n",
       "      <th>2022-09-30</th>\n",
       "      <td>2.78</td>\n",
       "      <td>2.8</td>\n",
       "      <td>-0.02</td>\n",
       "    </tr>\n",
       "    <tr>\n",
       "      <th>2022-10-31</th>\n",
       "      <td>2.65</td>\n",
       "      <td>2.1</td>\n",
       "      <td>0.55</td>\n",
       "    </tr>\n",
       "    <tr>\n",
       "      <th>2022-11-30</th>\n",
       "      <td>2.92</td>\n",
       "      <td>1.6</td>\n",
       "      <td>1.32</td>\n",
       "    </tr>\n",
       "  </tbody>\n",
       "</table>\n",
       "<p>260 rows × 3 columns</p>\n",
       "</div>"
      ],
      "text/plain": [
       "            China 10yr Benchmark Yield %  China CPI YoY %  \\\n",
       "Date                                                        \n",
       "2000-09-30                          2.79              0.0   \n",
       "2000-10-31                          2.75              0.0   \n",
       "2000-11-30                          2.97              1.3   \n",
       "2000-12-31                          3.01              1.5   \n",
       "2001-01-31                          3.00              1.2   \n",
       "...                                  ...              ...   \n",
       "2022-07-31                          2.76              2.7   \n",
       "2022-08-31                          2.65              2.5   \n",
       "2022-09-30                          2.78              2.8   \n",
       "2022-10-31                          2.65              2.1   \n",
       "2022-11-30                          2.92              1.6   \n",
       "\n",
       "            China Real 10yr Rate (10yr Benchmark - CPI All Items)  \n",
       "Date                                                               \n",
       "2000-09-30                                               2.79      \n",
       "2000-10-31                                               2.75      \n",
       "2000-11-30                                               1.67      \n",
       "2000-12-31                                               1.51      \n",
       "2001-01-31                                               1.80      \n",
       "...                                                       ...      \n",
       "2022-07-31                                               0.06      \n",
       "2022-08-31                                               0.15      \n",
       "2022-09-30                                              -0.02      \n",
       "2022-10-31                                               0.55      \n",
       "2022-11-30                                               1.32      \n",
       "\n",
       "[260 rows x 3 columns]"
      ]
     },
     "execution_count": 10,
     "metadata": {},
     "output_type": "execute_result"
    }
   ],
   "source": [
    "CN10Y"
   ]
  },
  {
   "cell_type": "code",
   "execution_count": null,
   "id": "e3bd36d3-bc51-456a-a7f8-f95fae15eab2",
   "metadata": {},
   "outputs": [],
   "source": []
  }
 ],
 "metadata": {
  "kernelspec": {
   "display_name": "Python 3 (ipykernel)",
   "language": "python",
   "name": "python3"
  },
  "language_info": {
   "codemirror_mode": {
    "name": "ipython",
    "version": 3
   },
   "file_extension": ".py",
   "mimetype": "text/x-python",
   "name": "python",
   "nbconvert_exporter": "python",
   "pygments_lexer": "ipython3",
   "version": "3.10.0"
  }
 },
 "nbformat": 4,
 "nbformat_minor": 5
}

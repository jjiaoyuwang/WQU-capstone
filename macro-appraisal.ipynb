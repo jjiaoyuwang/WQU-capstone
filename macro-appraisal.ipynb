{
 "cells": [
  {
   "cell_type": "markdown",
   "id": "633fd16f-8f43-4535-9c5c-577185567211",
   "metadata": {},
   "source": [
    "# 1 Import packages and define useful functions"
   ]
  },
  {
   "cell_type": "code",
   "execution_count": 1,
   "id": "a750058a-2d98-495d-82d6-3bd106f0741c",
   "metadata": {
    "tags": []
   },
   "outputs": [],
   "source": [
    "import pandas as pd\n",
    "import numpy as np\n",
    "from scipy import signal\n",
    "import statsmodels.api as sm\n",
    "from sklearn.preprocessing import StandardScaler\n",
    "import matplotlib.pyplot as plt\n",
    "from sklearn.linear_model import RidgeCV\n",
    "from sklearn.metrics import mean_absolute_error, mean_squared_error, mean_absolute_percentage_error \n",
    "from sklearn.metrics import PredictionErrorDisplay"
   ]
  },
  {
   "cell_type": "code",
   "execution_count": 2,
   "id": "7d4f5f7d-d358-483a-87a1-c4385799a64e",
   "metadata": {
    "tags": []
   },
   "outputs": [],
   "source": [
    "def get_shortest_array(a,b):\n",
    "    '''\n",
    "    input - a,b arrays (pandas.values) arrays\n",
    "    output - returns length of shortest array using first index of np.shape\n",
    "    '''\n",
    "    \n",
    "    len_a = np.shape(a)[0]\n",
    "    len_b = np.shape(b)[0]\n",
    "    \n",
    "    return min(len_a,len_b)"
   ]
  },
  {
   "cell_type": "code",
   "execution_count": 3,
   "id": "272921cb-7aee-4c95-be64-cbad062c4625",
   "metadata": {
    "tags": []
   },
   "outputs": [],
   "source": [
    "def plot_cor(x, y, window, filename, x_name, y_name, unit='day'):\n",
    "    '''\n",
    "    x (df) - first time series\n",
    "    y (df) - second time series\n",
    "    window (int) - period length\n",
    "    filename - output filename as .png\n",
    "    x_name - first time series name (for title)\n",
    "    y_name - second time series name (for title)\n",
    "    Note that x and y don't have to be the same length. the 'get_shortest_array' function will be used to automatically trim the time series\n",
    "    '''\n",
    "    shortest_time_series_len = get_shortest_array(x,y)\n",
    "    plt.plot(x.iloc[:shortest_time_series_len].rolling(window).corr(y.iloc[:shortest_time_series_len]).fillna(method='bfill'));\n",
    "    \n",
    "    # rotate x-axis labels so date labels all fit in properly\n",
    "    plt.xticks(rotation=90);\n",
    "    plt.title(str(window)+'-'+str(unit)+' rolling correlation between '+str(x_name)+ ' and '+str(y_name))\n",
    "    plt.savefig(str(filename),dpi=600)\n"
   ]
  },
  {
   "cell_type": "code",
   "execution_count": 4,
   "id": "6f382862-a95d-4326-9134-ffc15b2d05e0",
   "metadata": {
    "tags": []
   },
   "outputs": [],
   "source": [
    "def equity_d2m(dataframe):\n",
    "    '''\n",
    "    for a dataframe with daily OHLC equity data, convert this to monthly OHLC data.\n",
    "    '''\n",
    "    \n",
    "    return pd.DataFrame({\"Open\":dataframe.Open.resample('MS').first(),\n",
    "                         \"High\":dataframe.High.resample('MS').max(),\n",
    "                         \"Low\":dataframe.Low.resample('MS').min(),\n",
    "                         \"Price\":dataframe.Price.resample('MS').last()})"
   ]
  },
  {
   "cell_type": "code",
   "execution_count": 5,
   "id": "f738bb42-1841-432a-8933-8fc1b5aad323",
   "metadata": {
    "tags": []
   },
   "outputs": [],
   "source": [
    "def equity_d2q(dataframe):\n",
    "    '''\n",
    "    for a dataframe with daily OHLC equity data, convert this to monthly OHLC data.\n",
    "    '''\n",
    "    \n",
    "    return pd.DataFrame({\"Open\":dataframe.Open.resample('QS').first(),\n",
    "                         \"High\":dataframe.High.resample('QS').max(),\n",
    "                         \"Low\":dataframe.Low.resample('QS').min(),\n",
    "                         \"Price\":dataframe.Price.resample('QS').last()})"
   ]
  },
  {
   "cell_type": "code",
   "execution_count": 6,
   "id": "38e8b0b4-7fa0-4120-af5b-3c087eabbf0e",
   "metadata": {
    "tags": []
   },
   "outputs": [],
   "source": [
    "def conv_dt_index_to_M(dataframe):\n",
    "    '''\n",
    "    Helper script to ensure that all monthly time series are aligned.\n",
    "    '''\n",
    "    \n",
    "    dataframe.index = dataframe.index.values.astype('datetime64[M]')\n",
    "    return dataframe"
   ]
  },
  {
   "cell_type": "code",
   "execution_count": 7,
   "id": "48f2b476-b1d8-4163-a57b-dec36fa80765",
   "metadata": {
    "tags": []
   },
   "outputs": [],
   "source": [
    "def mean_abs_pct_error(y,y_pred):\n",
    "    '''\n",
    "    Calculate the mean absolute percentage error (MAPE) as defined in the repository of:\n",
    "    https://www.relataly.com/univariate-stock-market-forecasting-using-a-recurrent-neural-network/122/\n",
    "    '''\n",
    "    \n",
    "    return np.mean((np.abs(np.subtract(y, y_pred)/ y))) * 100"
   ]
  },
  {
   "cell_type": "code",
   "execution_count": 8,
   "id": "b96ede33-a657-4b05-ab92-164a96853b6a",
   "metadata": {
    "tags": []
   },
   "outputs": [],
   "source": [
    "def macro_test_train_split(X,y):\n",
    "    '''\n",
    "    For macroeconomic endo/exo variables, get their length (they should be equal). Then do an approx train / test split of ratio 80/20. \n",
    "    Finally, feed this into ridge regression. \n",
    "    '''\n",
    "    \n",
    "    if len(X) != len(y):\n",
    "        raise Exception('Endogenous and exogenous datasets should be equal in length')\n",
    "    \n",
    "    len_20pct = int(-1*round(len(X)*0.2))\n",
    "    \n",
    "    X_train = X[:len_20pct]\n",
    "    y_train = y[:len_20pct]\n",
    "    \n",
    "    X_test = X[len_20pct:]\n",
    "    y_test = y[len_20pct:]\n",
    "    \n",
    "    return X_train, y_train, X_test, y_test"
   ]
  },
  {
   "cell_type": "markdown",
   "id": "0c0f42f7-605f-4195-94bb-3beb54564e06",
   "metadata": {},
   "source": [
    "# 2 Import data: Hang Seng and macroeconomic indicators"
   ]
  },
  {
   "cell_type": "code",
   "execution_count": 9,
   "id": "eaf194eb-87ff-4acc-87de-69563244e0dc",
   "metadata": {
    "tags": []
   },
   "outputs": [],
   "source": [
    "# daily time series\n",
    "HK50 = pd.read_csv('data/HS/HK50.csv', index_col=0, parse_dates=True, infer_datetime_format=True, thousands=',')\n",
    "DXY = pd.read_csv('data/macro/daily/DXY.csv', index_col=0, parse_dates=True, infer_datetime_format=True, thousands=',')\n",
    "HSIL = pd.read_csv('data/macro/daily/^HSIL.csv', index_col=0, parse_dates=True, infer_datetime_format=True, thousands=',')\n",
    "SPY = pd.read_csv('data/macro/daily/SPY.csv', index_col=0, parse_dates=True, infer_datetime_format=True, thousands=',')\n",
    "\n",
    "# currencies\n",
    "AUDUSD = pd.read_csv('data/macro/daily/AUD_USD.csv', index_col=0, parse_dates=True, infer_datetime_format=True, thousands=',')\n",
    "AUDCNY = pd.read_csv('data/macro/daily/AUD_CNY.csv', index_col=0, parse_dates=True, infer_datetime_format=True, thousands=',')\n",
    "CNYHKD = pd.read_csv('data/macro/daily/CNY_HKD.csv', index_col=0, parse_dates=True, infer_datetime_format=True, thousands=',')\n",
    "USDHKD = pd.read_csv('data/macro/daily/USD_HKD.csv', index_col=0, parse_dates=True, infer_datetime_format=True, thousands=',')\n",
    "HKDEUR = pd.read_csv('data/macro/daily/HKD_EUR.csv', index_col=0, parse_dates=True, infer_datetime_format=True, thousands=',')\n",
    "HKDAUD = pd.read_csv('data/macro/daily/HKD_AUD.csv', index_col=0, parse_dates=True, infer_datetime_format=True, thousands=',')\n",
    "\n",
    "HK50.index = HK50.index.values.astype('datetime64[D]')\n",
    "DXY.index = DXY.index.values.astype('datetime64[D]')\n",
    "HSIL.index = HSIL.index.values.astype('datetime64[D]')\n",
    "SPY.index = SPY.index.values.astype('datetime64[D]')\n",
    "AUDUSD.index = AUDUSD.index.values.astype('datetime64[D]')\n",
    "AUDCNY.index = AUDCNY.index.values.astype('datetime64[D]')\n",
    "CNYHKD.index = CNYHKD.index.values.astype('datetime64[D]')\n",
    "USDHKD.index = USDHKD.index.values.astype('datetime64[D]')\n",
    "HKDEUR.index = HKDEUR.index.values.astype('datetime64[D]')\n",
    "HKDAUD.index = HKDAUD.index.values.astype('datetime64[D]')"
   ]
  },
  {
   "cell_type": "code",
   "execution_count": 10,
   "id": "582337b3-9d4e-4f3c-9657-82612355a48a",
   "metadata": {
    "tags": []
   },
   "outputs": [],
   "source": [
    "# monthly time series\n",
    "US10Y = pd.read_csv('data/macro/monthly/US_10Y.csv', index_col=0, parse_dates=True, infer_datetime_format=True, thousands=',')\n",
    "CN10Y = pd.read_csv('data/macro/monthly/CN_10Y.csv', index_col=0, parse_dates=True, infer_datetime_format=True, thousands=',')\n",
    "CAIXIN = pd.read_csv('data/macro/monthly/Caixin_PMI.csv', index_col=0, parse_dates=True, infer_datetime_format=True, thousands=',')\n",
    "\n",
    "# CPI\n",
    "US_CPI_FRED_all = pd.read_csv('data/macro/monthly/CPIAUCSL.csv', index_col=0, parse_dates=True, infer_datetime_format=True, thousands=',')\n",
    "\n",
    "US_CPI_OECD = pd.read_csv('data/macro/monthly/US_CPI_OECD.csv', index_col=0, thousands=',')\n",
    "US_CPI_OECD.index = pd.to_datetime(US_CPI_OECD.index, format=\"%b-%y\")\n",
    "\n",
    "CN_CPI_OECD = pd.read_csv('data/macro/monthly/CN_CPI_OECD.csv', index_col=0, thousands=',')\n",
    "CN_CPI_OECD.index = pd.to_datetime(CN_CPI_OECD.index, format=\"%b-%y\")\n",
    "\n",
    "# M3 money supply\n",
    "US_M2 = pd.read_csv('data/macro/monthly/US_M2.csv', index_col=0, thousands=',')\n",
    "US_M2.index = pd.to_datetime(US_M2.index, format=\"%b-%y\")\n",
    "\n",
    "CN_M2 = pd.read_csv('data/macro/monthly/CN_M2.csv', index_col=0, thousands=',')\n",
    "CN_M2.index = pd.to_datetime(CN_M2.index, format=\"%b-%y\")\n",
    "\n",
    "EU_M2 = pd.read_csv('data/macro/monthly/EU_M2.csv', index_col=0, thousands=',')\n",
    "EU_M2.index = pd.to_datetime(EU_M2.index, format=\"%b-%y\")\n",
    "\n",
    "\n",
    "# ensure all time series are indexed properly (i.e. to the first day of the month)\n",
    "\n",
    "US10Y = conv_dt_index_to_M(US10Y)\n",
    "CN10Y = conv_dt_index_to_M(CN10Y)\n",
    "CAIXIN = conv_dt_index_to_M(CAIXIN)\n",
    "US_CPI_FRED_all = conv_dt_index_to_M(US_CPI_FRED_all)\n",
    "US_CPI_OECD = conv_dt_index_to_M(US_CPI_OECD)\n",
    "CN_CPI_OECD = conv_dt_index_to_M(CN_CPI_OECD)\n",
    "US_M2 = conv_dt_index_to_M(US_M2)\n",
    "CN_M2 = conv_dt_index_to_M(CN_M2)\n",
    "EU_M2 = conv_dt_index_to_M(EU_M2)"
   ]
  },
  {
   "cell_type": "code",
   "execution_count": 11,
   "id": "e32041fe-6d26-4cb7-aaed-b9ec5c1e2139",
   "metadata": {
    "tags": []
   },
   "outputs": [],
   "source": [
    "# quarterly time series\n",
    "CN_GDP = pd.read_csv('data/macro/quarterly/CN_GDP.csv', index_col=0, parse_dates=True, infer_datetime_format=True, thousands=',')\n",
    "US_GDP = pd.read_csv('data/macro/quarterly/US_GDP.csv', index_col=0, parse_dates=True, infer_datetime_format=True, thousands=',')\n",
    "\n",
    "\n",
    "CN_GDP.index = CN_GDP.index.to_period('Q')\n",
    "CN_GDP = CN_GDP.shift()\n",
    "\n",
    "US_GDP.index = US_GDP.index.to_period('Q')"
   ]
  },
  {
   "cell_type": "markdown",
   "id": "3f83a2a9-9719-425f-96bd-825b21d069c1",
   "metadata": {},
   "source": [
    "Preprocess this data. Create a dataframe containing macroeconomic indicators. "
   ]
  },
  {
   "cell_type": "code",
   "execution_count": 12,
   "id": "cd34d201-aa40-4631-928b-75cd470ba41a",
   "metadata": {
    "tags": []
   },
   "outputs": [],
   "source": [
    "macro_daily = {\"HK50\": HK50,\n",
    "               \"DXY\": DXY,\n",
    "            \"HSIL\": HSIL,\n",
    "            \"SPY\": SPY,\n",
    "            \"AUDUSD\": AUDUSD,\n",
    "            \"AUDCNY\": AUDCNY,\n",
    "            \"CNYHKD\": CNYHKD,\n",
    "            \"USDHKD\": USDHKD,\n",
    "            \"HKDEUR\": HKDEUR,\n",
    "            \"HKDAUD\": HKDAUD}\n",
    "\n",
    "macro_daily_df = pd.DataFrame()\n",
    "macro_daily_df.index = pd.date_range(start='2023-03-24',end='2000-01-03',freq='D')\n",
    "\n",
    "for ind in macro_daily.keys():\n",
    "    macro_daily_df = pd.concat([macro_daily_df, macro_daily[ind]['Price']], axis=1)\n",
    "    \n",
    "macro_daily_df.columns = macro_daily.keys()\n",
    "macro_daily_df = macro_daily_df.dropna()\n",
    "\n",
    "macro_daily_df = macro_daily_df[::-1]"
   ]
  },
  {
   "cell_type": "code",
   "execution_count": 13,
   "id": "b561683a-2a8a-4c2c-a858-d0b1d9eb4439",
   "metadata": {
    "tags": []
   },
   "outputs": [
    {
     "data": {
      "text/html": [
       "<div>\n",
       "<style scoped>\n",
       "    .dataframe tbody tr th:only-of-type {\n",
       "        vertical-align: middle;\n",
       "    }\n",
       "\n",
       "    .dataframe tbody tr th {\n",
       "        vertical-align: top;\n",
       "    }\n",
       "\n",
       "    .dataframe thead th {\n",
       "        text-align: right;\n",
       "    }\n",
       "</style>\n",
       "<table border=\"1\" class=\"dataframe\">\n",
       "  <thead>\n",
       "    <tr style=\"text-align: right;\">\n",
       "      <th></th>\n",
       "      <th>HK50</th>\n",
       "      <th>DXY</th>\n",
       "      <th>HSIL</th>\n",
       "      <th>SPY</th>\n",
       "      <th>AUDUSD</th>\n",
       "      <th>AUDCNY</th>\n",
       "      <th>CNYHKD</th>\n",
       "      <th>USDHKD</th>\n",
       "      <th>HKDEUR</th>\n",
       "      <th>HKDAUD</th>\n",
       "    </tr>\n",
       "  </thead>\n",
       "  <tbody>\n",
       "    <tr>\n",
       "      <th>2023-02-03</th>\n",
       "      <td>21660.47</td>\n",
       "      <td>102.92</td>\n",
       "      <td>23.92</td>\n",
       "      <td>412.35</td>\n",
       "      <td>0.6919</td>\n",
       "      <td>4.6864</td>\n",
       "      <td>1.1579</td>\n",
       "      <td>7.8468</td>\n",
       "      <td>0.1180</td>\n",
       "      <td>0.1840</td>\n",
       "    </tr>\n",
       "    <tr>\n",
       "      <th>2023-02-02</th>\n",
       "      <td>21958.36</td>\n",
       "      <td>101.75</td>\n",
       "      <td>23.04</td>\n",
       "      <td>416.78</td>\n",
       "      <td>0.7076</td>\n",
       "      <td>4.7614</td>\n",
       "      <td>1.1646</td>\n",
       "      <td>7.8441</td>\n",
       "      <td>0.1168</td>\n",
       "      <td>0.1801</td>\n",
       "    </tr>\n",
       "    <tr>\n",
       "      <th>2023-02-01</th>\n",
       "      <td>22072.18</td>\n",
       "      <td>101.22</td>\n",
       "      <td>23.69</td>\n",
       "      <td>410.80</td>\n",
       "      <td>0.7135</td>\n",
       "      <td>4.8094</td>\n",
       "      <td>1.1630</td>\n",
       "      <td>7.8424</td>\n",
       "      <td>0.1160</td>\n",
       "      <td>0.1786</td>\n",
       "    </tr>\n",
       "    <tr>\n",
       "      <th>2023-01-31</th>\n",
       "      <td>21842.33</td>\n",
       "      <td>102.10</td>\n",
       "      <td>24.78</td>\n",
       "      <td>406.48</td>\n",
       "      <td>0.7054</td>\n",
       "      <td>4.7643</td>\n",
       "      <td>1.1606</td>\n",
       "      <td>7.8401</td>\n",
       "      <td>0.1174</td>\n",
       "      <td>0.1807</td>\n",
       "    </tr>\n",
       "    <tr>\n",
       "      <th>2023-01-30</th>\n",
       "      <td>22069.73</td>\n",
       "      <td>102.28</td>\n",
       "      <td>24.90</td>\n",
       "      <td>400.59</td>\n",
       "      <td>0.7059</td>\n",
       "      <td>4.7634</td>\n",
       "      <td>1.1606</td>\n",
       "      <td>7.8352</td>\n",
       "      <td>0.1176</td>\n",
       "      <td>0.1807</td>\n",
       "    </tr>\n",
       "    <tr>\n",
       "      <th>...</th>\n",
       "      <td>...</td>\n",
       "      <td>...</td>\n",
       "      <td>...</td>\n",
       "      <td>...</td>\n",
       "      <td>...</td>\n",
       "      <td>...</td>\n",
       "      <td>...</td>\n",
       "      <td>...</td>\n",
       "      <td>...</td>\n",
       "      <td>...</td>\n",
       "    </tr>\n",
       "    <tr>\n",
       "      <th>2013-04-02</th>\n",
       "      <td>22367.82</td>\n",
       "      <td>82.92</td>\n",
       "      <td>15.04</td>\n",
       "      <td>156.82</td>\n",
       "      <td>1.0448</td>\n",
       "      <td>6.4772</td>\n",
       "      <td>1.2522</td>\n",
       "      <td>7.7622</td>\n",
       "      <td>0.1005</td>\n",
       "      <td>0.1233</td>\n",
       "    </tr>\n",
       "    <tr>\n",
       "      <th>2013-03-28</th>\n",
       "      <td>22299.63</td>\n",
       "      <td>82.99</td>\n",
       "      <td>14.69</td>\n",
       "      <td>156.67</td>\n",
       "      <td>1.0412</td>\n",
       "      <td>6.4706</td>\n",
       "      <td>1.2491</td>\n",
       "      <td>7.7626</td>\n",
       "      <td>0.1005</td>\n",
       "      <td>0.1237</td>\n",
       "    </tr>\n",
       "    <tr>\n",
       "      <th>2013-03-27</th>\n",
       "      <td>22464.82</td>\n",
       "      <td>83.22</td>\n",
       "      <td>15.15</td>\n",
       "      <td>156.19</td>\n",
       "      <td>1.0444</td>\n",
       "      <td>6.4893</td>\n",
       "      <td>1.2494</td>\n",
       "      <td>7.7634</td>\n",
       "      <td>0.1008</td>\n",
       "      <td>0.1234</td>\n",
       "    </tr>\n",
       "    <tr>\n",
       "      <th>2013-03-26</th>\n",
       "      <td>22311.08</td>\n",
       "      <td>82.88</td>\n",
       "      <td>15.75</td>\n",
       "      <td>156.19</td>\n",
       "      <td>1.0484</td>\n",
       "      <td>6.5107</td>\n",
       "      <td>1.2494</td>\n",
       "      <td>7.7602</td>\n",
       "      <td>0.1003</td>\n",
       "      <td>0.1230</td>\n",
       "    </tr>\n",
       "    <tr>\n",
       "      <th>2013-03-25</th>\n",
       "      <td>22251.15</td>\n",
       "      <td>82.83</td>\n",
       "      <td>15.84</td>\n",
       "      <td>154.95</td>\n",
       "      <td>1.0467</td>\n",
       "      <td>6.4989</td>\n",
       "      <td>1.2497</td>\n",
       "      <td>7.7618</td>\n",
       "      <td>0.1002</td>\n",
       "      <td>0.1232</td>\n",
       "    </tr>\n",
       "  </tbody>\n",
       "</table>\n",
       "<p>2372 rows × 10 columns</p>\n",
       "</div>"
      ],
      "text/plain": [
       "                HK50     DXY   HSIL     SPY  AUDUSD  AUDCNY  CNYHKD  USDHKD  \\\n",
       "2023-02-03  21660.47  102.92  23.92  412.35  0.6919  4.6864  1.1579  7.8468   \n",
       "2023-02-02  21958.36  101.75  23.04  416.78  0.7076  4.7614  1.1646  7.8441   \n",
       "2023-02-01  22072.18  101.22  23.69  410.80  0.7135  4.8094  1.1630  7.8424   \n",
       "2023-01-31  21842.33  102.10  24.78  406.48  0.7054  4.7643  1.1606  7.8401   \n",
       "2023-01-30  22069.73  102.28  24.90  400.59  0.7059  4.7634  1.1606  7.8352   \n",
       "...              ...     ...    ...     ...     ...     ...     ...     ...   \n",
       "2013-04-02  22367.82   82.92  15.04  156.82  1.0448  6.4772  1.2522  7.7622   \n",
       "2013-03-28  22299.63   82.99  14.69  156.67  1.0412  6.4706  1.2491  7.7626   \n",
       "2013-03-27  22464.82   83.22  15.15  156.19  1.0444  6.4893  1.2494  7.7634   \n",
       "2013-03-26  22311.08   82.88  15.75  156.19  1.0484  6.5107  1.2494  7.7602   \n",
       "2013-03-25  22251.15   82.83  15.84  154.95  1.0467  6.4989  1.2497  7.7618   \n",
       "\n",
       "            HKDEUR  HKDAUD  \n",
       "2023-02-03  0.1180  0.1840  \n",
       "2023-02-02  0.1168  0.1801  \n",
       "2023-02-01  0.1160  0.1786  \n",
       "2023-01-31  0.1174  0.1807  \n",
       "2023-01-30  0.1176  0.1807  \n",
       "...            ...     ...  \n",
       "2013-04-02  0.1005  0.1233  \n",
       "2013-03-28  0.1005  0.1237  \n",
       "2013-03-27  0.1008  0.1234  \n",
       "2013-03-26  0.1003  0.1230  \n",
       "2013-03-25  0.1002  0.1232  \n",
       "\n",
       "[2372 rows x 10 columns]"
      ]
     },
     "execution_count": 13,
     "metadata": {},
     "output_type": "execute_result"
    }
   ],
   "source": [
    "macro_daily_df"
   ]
  },
  {
   "cell_type": "markdown",
   "id": "d0cae317-9c2d-43ad-baa4-3eeeb8010df3",
   "metadata": {},
   "source": [
    "Reindex HK50 for monthly values, then add to macro_monthly dictionary."
   ]
  },
  {
   "cell_type": "code",
   "execution_count": 14,
   "id": "bac5d063-2bd8-49bd-b221-41917e1e5899",
   "metadata": {
    "tags": []
   },
   "outputs": [],
   "source": [
    "HK50_monthly = equity_d2m(HK50)"
   ]
  },
  {
   "cell_type": "code",
   "execution_count": 15,
   "id": "e21256de-5504-498e-a47a-b7e8eb1e99bb",
   "metadata": {
    "tags": []
   },
   "outputs": [],
   "source": [
    "macro_monthly = {\"HK50\": HK50_monthly['Price'],\n",
    "                 \"US10Y\": US10Y['US Real 10yr Rate (10yr Benchmark - CPI All Items)'],\n",
    "            \"CN10Y\": CN10Y['China Real 10yr Rate (10yr Benchmark - CPI All Items)'],\n",
    "            \"CAIXIN\": CAIXIN['Caixin China Manufacturing PMI'],\n",
    "            \"US_CPI_FRED_all\": US_CPI_FRED_all['CPIAUCSL'],\n",
    "            \"US_CPI_OECD\": US_CPI_OECD['Index'],\n",
    "            \"CN_CPI_OECD\": CN_CPI_OECD['Index'],\n",
    "            \"US_M2\": US_M2['Index'],\n",
    "            \"CN_M2\": CN_M2['Index'],\n",
    "            \"EU_M2\": EU_M2['Index']}\n",
    "\n",
    "\n",
    "macro_monthly_df = pd.DataFrame()\n",
    "macro_monthly_df.index = pd.date_range(start='1947-01-01',end='2023-02-01',freq='MS')\n",
    "\n",
    "for ind in macro_monthly.keys():\n",
    "    macro_monthly_df = pd.concat([macro_monthly_df, macro_monthly[ind]], axis=1)\n",
    "    \n",
    "macro_monthly_df.columns = macro_monthly.keys()\n",
    "#macro_monthly_df = macro_monthly_df.dropna()\n",
    "macro_monthly_df = macro_monthly_df[\"03-01-2013\":\"12-01-2022\"]\n",
    "macro_monthly_df = macro_monthly_df[::-1]"
   ]
  },
  {
   "cell_type": "code",
   "execution_count": 16,
   "id": "e1bb081d-2f39-4915-a047-6edd76d7ab17",
   "metadata": {
    "tags": []
   },
   "outputs": [
    {
     "data": {
      "text/html": [
       "<div>\n",
       "<style scoped>\n",
       "    .dataframe tbody tr th:only-of-type {\n",
       "        vertical-align: middle;\n",
       "    }\n",
       "\n",
       "    .dataframe tbody tr th {\n",
       "        vertical-align: top;\n",
       "    }\n",
       "\n",
       "    .dataframe thead th {\n",
       "        text-align: right;\n",
       "    }\n",
       "</style>\n",
       "<table border=\"1\" class=\"dataframe\">\n",
       "  <thead>\n",
       "    <tr style=\"text-align: right;\">\n",
       "      <th></th>\n",
       "      <th>HK50</th>\n",
       "      <th>US10Y</th>\n",
       "      <th>CN10Y</th>\n",
       "      <th>CAIXIN</th>\n",
       "      <th>US_CPI_FRED_all</th>\n",
       "      <th>US_CPI_OECD</th>\n",
       "      <th>CN_CPI_OECD</th>\n",
       "      <th>US_M2</th>\n",
       "      <th>CN_M2</th>\n",
       "      <th>EU_M2</th>\n",
       "    </tr>\n",
       "  </thead>\n",
       "  <tbody>\n",
       "    <tr>\n",
       "      <th>2022-12-01</th>\n",
       "      <td>19781.41</td>\n",
       "      <td>NaN</td>\n",
       "      <td>NaN</td>\n",
       "      <td>49.4</td>\n",
       "      <td>298.990</td>\n",
       "      <td>125.22180</td>\n",
       "      <td>115.11560</td>\n",
       "      <td>176.06640</td>\n",
       "      <td>NaN</td>\n",
       "      <td>152.38540</td>\n",
       "    </tr>\n",
       "    <tr>\n",
       "      <th>2022-11-01</th>\n",
       "      <td>18597.23</td>\n",
       "      <td>-3.44</td>\n",
       "      <td>1.32</td>\n",
       "      <td>49.2</td>\n",
       "      <td>298.598</td>\n",
       "      <td>125.60740</td>\n",
       "      <td>115.22710</td>\n",
       "      <td>177.29010</td>\n",
       "      <td>NaN</td>\n",
       "      <td>152.17720</td>\n",
       "    </tr>\n",
       "    <tr>\n",
       "      <th>2022-10-01</th>\n",
       "      <td>14687.02</td>\n",
       "      <td>-3.66</td>\n",
       "      <td>0.55</td>\n",
       "      <td>48.1</td>\n",
       "      <td>297.987</td>\n",
       "      <td>125.73440</td>\n",
       "      <td>115.45020</td>\n",
       "      <td>177.79400</td>\n",
       "      <td>NaN</td>\n",
       "      <td>152.23390</td>\n",
       "    </tr>\n",
       "    <tr>\n",
       "      <th>2022-09-01</th>\n",
       "      <td>17222.83</td>\n",
       "      <td>-4.39</td>\n",
       "      <td>-0.02</td>\n",
       "      <td>49.5</td>\n",
       "      <td>296.539</td>\n",
       "      <td>125.22650</td>\n",
       "      <td>115.33870</td>\n",
       "      <td>178.52300</td>\n",
       "      <td>NaN</td>\n",
       "      <td>152.08070</td>\n",
       "    </tr>\n",
       "    <tr>\n",
       "      <th>2022-08-01</th>\n",
       "      <td>19954.39</td>\n",
       "      <td>-5.10</td>\n",
       "      <td>0.15</td>\n",
       "      <td>50.4</td>\n",
       "      <td>295.320</td>\n",
       "      <td>124.95770</td>\n",
       "      <td>115.00400</td>\n",
       "      <td>179.59060</td>\n",
       "      <td>NaN</td>\n",
       "      <td>151.23070</td>\n",
       "    </tr>\n",
       "    <tr>\n",
       "      <th>...</th>\n",
       "      <td>...</td>\n",
       "      <td>...</td>\n",
       "      <td>...</td>\n",
       "      <td>...</td>\n",
       "      <td>...</td>\n",
       "      <td>...</td>\n",
       "      <td>...</td>\n",
       "      <td>...</td>\n",
       "      <td>...</td>\n",
       "      <td>...</td>\n",
       "    </tr>\n",
       "    <tr>\n",
       "      <th>2013-07-01</th>\n",
       "      <td>21883.66</td>\n",
       "      <td>0.71</td>\n",
       "      <td>0.90</td>\n",
       "      <td>48.2</td>\n",
       "      <td>232.900</td>\n",
       "      <td>98.55664</td>\n",
       "      <td>96.07897</td>\n",
       "      <td>89.08839</td>\n",
       "      <td>79.37891</td>\n",
       "      <td>92.82501</td>\n",
       "    </tr>\n",
       "    <tr>\n",
       "      <th>2013-06-01</th>\n",
       "      <td>20803.29</td>\n",
       "      <td>0.80</td>\n",
       "      <td>0.90</td>\n",
       "      <td>49.2</td>\n",
       "      <td>232.445</td>\n",
       "      <td>98.51783</td>\n",
       "      <td>95.98406</td>\n",
       "      <td>88.70732</td>\n",
       "      <td>78.77515</td>\n",
       "      <td>92.90137</td>\n",
       "    </tr>\n",
       "    <tr>\n",
       "      <th>2013-05-01</th>\n",
       "      <td>22392.16</td>\n",
       "      <td>0.77</td>\n",
       "      <td>1.35</td>\n",
       "      <td>50.4</td>\n",
       "      <td>231.893</td>\n",
       "      <td>98.28198</td>\n",
       "      <td>95.98406</td>\n",
       "      <td>88.23659</td>\n",
       "      <td>78.28904</td>\n",
       "      <td>92.92949</td>\n",
       "    </tr>\n",
       "    <tr>\n",
       "      <th>2013-04-01</th>\n",
       "      <td>22737.01</td>\n",
       "      <td>0.56</td>\n",
       "      <td>1.10</td>\n",
       "      <td>51.6</td>\n",
       "      <td>231.797</td>\n",
       "      <td>98.10731</td>\n",
       "      <td>96.56242</td>\n",
       "      <td>87.88541</td>\n",
       "      <td>77.81362</td>\n",
       "      <td>92.68789</td>\n",
       "    </tr>\n",
       "    <tr>\n",
       "      <th>2013-03-01</th>\n",
       "      <td>22299.63</td>\n",
       "      <td>0.35</td>\n",
       "      <td>1.34</td>\n",
       "      <td>50.4</td>\n",
       "      <td>232.282</td>\n",
       "      <td>98.20941</td>\n",
       "      <td>96.37189</td>\n",
       "      <td>87.58736</td>\n",
       "      <td>76.81239</td>\n",
       "      <td>92.22491</td>\n",
       "    </tr>\n",
       "  </tbody>\n",
       "</table>\n",
       "<p>118 rows × 10 columns</p>\n",
       "</div>"
      ],
      "text/plain": [
       "                HK50  US10Y  CN10Y  CAIXIN  US_CPI_FRED_all  US_CPI_OECD  \\\n",
       "2022-12-01  19781.41    NaN    NaN    49.4          298.990    125.22180   \n",
       "2022-11-01  18597.23  -3.44   1.32    49.2          298.598    125.60740   \n",
       "2022-10-01  14687.02  -3.66   0.55    48.1          297.987    125.73440   \n",
       "2022-09-01  17222.83  -4.39  -0.02    49.5          296.539    125.22650   \n",
       "2022-08-01  19954.39  -5.10   0.15    50.4          295.320    124.95770   \n",
       "...              ...    ...    ...     ...              ...          ...   \n",
       "2013-07-01  21883.66   0.71   0.90    48.2          232.900     98.55664   \n",
       "2013-06-01  20803.29   0.80   0.90    49.2          232.445     98.51783   \n",
       "2013-05-01  22392.16   0.77   1.35    50.4          231.893     98.28198   \n",
       "2013-04-01  22737.01   0.56   1.10    51.6          231.797     98.10731   \n",
       "2013-03-01  22299.63   0.35   1.34    50.4          232.282     98.20941   \n",
       "\n",
       "            CN_CPI_OECD      US_M2     CN_M2      EU_M2  \n",
       "2022-12-01    115.11560  176.06640       NaN  152.38540  \n",
       "2022-11-01    115.22710  177.29010       NaN  152.17720  \n",
       "2022-10-01    115.45020  177.79400       NaN  152.23390  \n",
       "2022-09-01    115.33870  178.52300       NaN  152.08070  \n",
       "2022-08-01    115.00400  179.59060       NaN  151.23070  \n",
       "...                 ...        ...       ...        ...  \n",
       "2013-07-01     96.07897   89.08839  79.37891   92.82501  \n",
       "2013-06-01     95.98406   88.70732  78.77515   92.90137  \n",
       "2013-05-01     95.98406   88.23659  78.28904   92.92949  \n",
       "2013-04-01     96.56242   87.88541  77.81362   92.68789  \n",
       "2013-03-01     96.37189   87.58736  76.81239   92.22491  \n",
       "\n",
       "[118 rows x 10 columns]"
      ]
     },
     "execution_count": 16,
     "metadata": {},
     "output_type": "execute_result"
    }
   ],
   "source": [
    "macro_monthly_df"
   ]
  },
  {
   "cell_type": "markdown",
   "id": "d5d2aeea-a268-4330-95c4-79c5476ff21e",
   "metadata": {},
   "source": [
    "Reindex HK50 for quarterly values, then add to macro_quarterly dictionary."
   ]
  },
  {
   "cell_type": "code",
   "execution_count": 17,
   "id": "c126b969-18bf-46cd-b104-759d6e898bd0",
   "metadata": {
    "tags": []
   },
   "outputs": [],
   "source": [
    "HK50_quarterly = equity_d2q(HK50)\n",
    "HK50_quarterly.index = HK50_quarterly.index.to_period('Q')"
   ]
  },
  {
   "cell_type": "code",
   "execution_count": 18,
   "id": "88cc495c-cc8b-40cc-b9b7-3f893236975e",
   "metadata": {
    "tags": []
   },
   "outputs": [],
   "source": [
    "macro_quarterly = {\"HK50\": HK50_quarterly['Price'],\n",
    "                   \"CN_GDP\": CN_GDP['Nominal GDP (100m Yuan)'],\n",
    "            \"US_GDP\": US_GDP['GDP']}\n",
    "\n",
    "\n",
    "macro_quarterly_df = pd.DataFrame()\n",
    "#macro_quarterly_df.index = pd.date_range(start='1947Q1',end='2023Q1',freq='Q')\n",
    "\n",
    "for ind in macro_quarterly.keys():\n",
    "    macro_quarterly_df = pd.concat([macro_quarterly_df, macro_quarterly[ind]], axis=1)\n",
    "    \n",
    "macro_quarterly_df.columns = macro_quarterly.keys()\n",
    "macro_quarterly_df = macro_quarterly_df.dropna()\n",
    "macro_quarterly_df = macro_quarterly_df[::-1]"
   ]
  },
  {
   "cell_type": "code",
   "execution_count": 19,
   "id": "bbfae92a-4d67-4e46-9da7-13a51d7852eb",
   "metadata": {
    "tags": []
   },
   "outputs": [
    {
     "data": {
      "text/html": [
       "<div>\n",
       "<style scoped>\n",
       "    .dataframe tbody tr th:only-of-type {\n",
       "        vertical-align: middle;\n",
       "    }\n",
       "\n",
       "    .dataframe tbody tr th {\n",
       "        vertical-align: top;\n",
       "    }\n",
       "\n",
       "    .dataframe thead th {\n",
       "        text-align: right;\n",
       "    }\n",
       "</style>\n",
       "<table border=\"1\" class=\"dataframe\">\n",
       "  <thead>\n",
       "    <tr style=\"text-align: right;\">\n",
       "      <th></th>\n",
       "      <th>HK50</th>\n",
       "      <th>CN_GDP</th>\n",
       "      <th>US_GDP</th>\n",
       "    </tr>\n",
       "  </thead>\n",
       "  <tbody>\n",
       "    <tr>\n",
       "      <th>2022Q4</th>\n",
       "      <td>19781.41</td>\n",
       "      <td>335507.9</td>\n",
       "      <td>26144.956</td>\n",
       "    </tr>\n",
       "    <tr>\n",
       "      <th>2022Q3</th>\n",
       "      <td>17222.83</td>\n",
       "      <td>309270.6</td>\n",
       "      <td>25723.941</td>\n",
       "    </tr>\n",
       "    <tr>\n",
       "      <th>2022Q2</th>\n",
       "      <td>21859.79</td>\n",
       "      <td>293919.5</td>\n",
       "      <td>25248.476</td>\n",
       "    </tr>\n",
       "    <tr>\n",
       "      <th>2022Q1</th>\n",
       "      <td>21996.85</td>\n",
       "      <td>271509.2</td>\n",
       "      <td>24740.480</td>\n",
       "    </tr>\n",
       "    <tr>\n",
       "      <th>2021Q4</th>\n",
       "      <td>23397.67</td>\n",
       "      <td>325899.4</td>\n",
       "      <td>24349.121</td>\n",
       "    </tr>\n",
       "    <tr>\n",
       "      <th>...</th>\n",
       "      <td>...</td>\n",
       "      <td>...</td>\n",
       "      <td>...</td>\n",
       "    </tr>\n",
       "    <tr>\n",
       "      <th>2001Q4</th>\n",
       "      <td>11397.21</td>\n",
       "      <td>31716.8</td>\n",
       "      <td>10660.465</td>\n",
       "    </tr>\n",
       "    <tr>\n",
       "      <th>2001Q3</th>\n",
       "      <td>9950.70</td>\n",
       "      <td>28333.3</td>\n",
       "      <td>10598.020</td>\n",
       "    </tr>\n",
       "    <tr>\n",
       "      <th>2001Q2</th>\n",
       "      <td>13042.53</td>\n",
       "      <td>26726.6</td>\n",
       "      <td>10599.000</td>\n",
       "    </tr>\n",
       "    <tr>\n",
       "      <th>2001Q1</th>\n",
       "      <td>12760.64</td>\n",
       "      <td>24086.4</td>\n",
       "      <td>10470.231</td>\n",
       "    </tr>\n",
       "    <tr>\n",
       "      <th>2000Q4</th>\n",
       "      <td>15095.53</td>\n",
       "      <td>29194.3</td>\n",
       "      <td>10435.744</td>\n",
       "    </tr>\n",
       "  </tbody>\n",
       "</table>\n",
       "<p>89 rows × 3 columns</p>\n",
       "</div>"
      ],
      "text/plain": [
       "            HK50    CN_GDP     US_GDP\n",
       "2022Q4  19781.41  335507.9  26144.956\n",
       "2022Q3  17222.83  309270.6  25723.941\n",
       "2022Q2  21859.79  293919.5  25248.476\n",
       "2022Q1  21996.85  271509.2  24740.480\n",
       "2021Q4  23397.67  325899.4  24349.121\n",
       "...          ...       ...        ...\n",
       "2001Q4  11397.21   31716.8  10660.465\n",
       "2001Q3   9950.70   28333.3  10598.020\n",
       "2001Q2  13042.53   26726.6  10599.000\n",
       "2001Q1  12760.64   24086.4  10470.231\n",
       "2000Q4  15095.53   29194.3  10435.744\n",
       "\n",
       "[89 rows x 3 columns]"
      ]
     },
     "execution_count": 19,
     "metadata": {},
     "output_type": "execute_result"
    }
   ],
   "source": [
    "macro_quarterly_df"
   ]
  },
  {
   "cell_type": "markdown",
   "id": "c726dd59-97d0-4489-932c-300dd11e56f2",
   "metadata": {},
   "source": [
    "## 2.1 Calculate returns dataframes"
   ]
  },
  {
   "cell_type": "code",
   "execution_count": 20,
   "id": "37e0cce7-ea02-48c5-b7fe-f408dbcfa885",
   "metadata": {
    "tags": []
   },
   "outputs": [],
   "source": [
    "list_of_returns = list(macro_daily_df.columns)\n",
    "list_of_returns.remove('HSIL')\n",
    "\n",
    "for elem in list_of_returns:\n",
    "    macro_daily_df[elem] = np.log(macro_daily_df[elem].dropna()) - np.log(macro_daily_df[elem].dropna().shift(-1))\n",
    "    \n",
    "macro_daily_df.rename(columns={'DXY': 'DXY ret.',\n",
    "                               'HK50': 'HK50 ret.',\n",
    "                               'SPY': 'SPY ret.', \n",
    "                               'AUDUSD': 'AUDUSD ret.',\n",
    "                               'AUDCNY': 'AUDCNY ret.',\n",
    "                               'CNYHKD': 'CNYHKD ret.',\n",
    "                               'USDHKD': 'USDHKD ret.',\n",
    "                               'HKDEUR': 'HKDEUR ret.',\n",
    "                               'HKDAUD': 'HKDAUD ret.'}, inplace=True)"
   ]
  },
  {
   "cell_type": "code",
   "execution_count": 21,
   "id": "08435d67-e2ec-472d-9688-5b3ddd874e03",
   "metadata": {
    "tags": []
   },
   "outputs": [
    {
     "data": {
      "text/html": [
       "<div>\n",
       "<style scoped>\n",
       "    .dataframe tbody tr th:only-of-type {\n",
       "        vertical-align: middle;\n",
       "    }\n",
       "\n",
       "    .dataframe tbody tr th {\n",
       "        vertical-align: top;\n",
       "    }\n",
       "\n",
       "    .dataframe thead th {\n",
       "        text-align: right;\n",
       "    }\n",
       "</style>\n",
       "<table border=\"1\" class=\"dataframe\">\n",
       "  <thead>\n",
       "    <tr style=\"text-align: right;\">\n",
       "      <th></th>\n",
       "      <th>HK50 ret.</th>\n",
       "      <th>DXY ret.</th>\n",
       "      <th>HSIL</th>\n",
       "      <th>SPY ret.</th>\n",
       "      <th>AUDUSD ret.</th>\n",
       "      <th>AUDCNY ret.</th>\n",
       "      <th>CNYHKD ret.</th>\n",
       "      <th>USDHKD ret.</th>\n",
       "      <th>HKDEUR ret.</th>\n",
       "      <th>HKDAUD ret.</th>\n",
       "    </tr>\n",
       "  </thead>\n",
       "  <tbody>\n",
       "    <tr>\n",
       "      <th>2023-02-03</th>\n",
       "      <td>-0.013659</td>\n",
       "      <td>0.011433</td>\n",
       "      <td>23.92</td>\n",
       "      <td>-0.010686</td>\n",
       "      <td>-0.022438</td>\n",
       "      <td>-0.015877</td>\n",
       "      <td>-0.005770</td>\n",
       "      <td>0.000344</td>\n",
       "      <td>0.010222</td>\n",
       "      <td>0.021424</td>\n",
       "    </tr>\n",
       "    <tr>\n",
       "      <th>2023-02-02</th>\n",
       "      <td>-0.005170</td>\n",
       "      <td>0.005222</td>\n",
       "      <td>23.04</td>\n",
       "      <td>0.014452</td>\n",
       "      <td>-0.008303</td>\n",
       "      <td>-0.010031</td>\n",
       "      <td>0.001375</td>\n",
       "      <td>0.000217</td>\n",
       "      <td>0.006873</td>\n",
       "      <td>0.008364</td>\n",
       "    </tr>\n",
       "    <tr>\n",
       "      <th>2023-02-01</th>\n",
       "      <td>0.010468</td>\n",
       "      <td>-0.008656</td>\n",
       "      <td>23.69</td>\n",
       "      <td>0.010572</td>\n",
       "      <td>0.011417</td>\n",
       "      <td>0.009422</td>\n",
       "      <td>0.002066</td>\n",
       "      <td>0.000293</td>\n",
       "      <td>-0.011997</td>\n",
       "      <td>-0.011690</td>\n",
       "    </tr>\n",
       "    <tr>\n",
       "      <th>2023-01-31</th>\n",
       "      <td>-0.010357</td>\n",
       "      <td>-0.001761</td>\n",
       "      <td>24.78</td>\n",
       "      <td>0.014596</td>\n",
       "      <td>-0.000709</td>\n",
       "      <td>0.000189</td>\n",
       "      <td>0.000000</td>\n",
       "      <td>0.000625</td>\n",
       "      <td>-0.001702</td>\n",
       "      <td>0.000000</td>\n",
       "    </tr>\n",
       "    <tr>\n",
       "      <th>2023-01-30</th>\n",
       "      <td>-0.027669</td>\n",
       "      <td>0.003428</td>\n",
       "      <td>24.90</td>\n",
       "      <td>-0.012626</td>\n",
       "      <td>-0.006214</td>\n",
       "      <td>-0.011314</td>\n",
       "      <td>0.006050</td>\n",
       "      <td>0.000766</td>\n",
       "      <td>0.000851</td>\n",
       "      <td>0.004993</td>\n",
       "    </tr>\n",
       "    <tr>\n",
       "      <th>...</th>\n",
       "      <td>...</td>\n",
       "      <td>...</td>\n",
       "      <td>...</td>\n",
       "      <td>...</td>\n",
       "      <td>...</td>\n",
       "      <td>...</td>\n",
       "      <td>...</td>\n",
       "      <td>...</td>\n",
       "      <td>...</td>\n",
       "      <td>...</td>\n",
       "    </tr>\n",
       "    <tr>\n",
       "      <th>2013-04-02</th>\n",
       "      <td>0.003053</td>\n",
       "      <td>-0.000844</td>\n",
       "      <td>15.04</td>\n",
       "      <td>0.000957</td>\n",
       "      <td>0.003452</td>\n",
       "      <td>0.001019</td>\n",
       "      <td>0.002479</td>\n",
       "      <td>-0.000052</td>\n",
       "      <td>0.000000</td>\n",
       "      <td>-0.003239</td>\n",
       "    </tr>\n",
       "    <tr>\n",
       "      <th>2013-03-28</th>\n",
       "      <td>-0.007380</td>\n",
       "      <td>-0.002768</td>\n",
       "      <td>14.69</td>\n",
       "      <td>0.003068</td>\n",
       "      <td>-0.003069</td>\n",
       "      <td>-0.002886</td>\n",
       "      <td>-0.000240</td>\n",
       "      <td>-0.000103</td>\n",
       "      <td>-0.002981</td>\n",
       "      <td>0.002428</td>\n",
       "    </tr>\n",
       "    <tr>\n",
       "      <th>2013-03-27</th>\n",
       "      <td>0.006867</td>\n",
       "      <td>0.004094</td>\n",
       "      <td>15.15</td>\n",
       "      <td>0.000000</td>\n",
       "      <td>-0.003823</td>\n",
       "      <td>-0.003292</td>\n",
       "      <td>0.000000</td>\n",
       "      <td>0.000412</td>\n",
       "      <td>0.004973</td>\n",
       "      <td>0.003247</td>\n",
       "    </tr>\n",
       "    <tr>\n",
       "      <th>2013-03-26</th>\n",
       "      <td>0.002690</td>\n",
       "      <td>0.000603</td>\n",
       "      <td>15.75</td>\n",
       "      <td>0.007971</td>\n",
       "      <td>0.001623</td>\n",
       "      <td>0.001814</td>\n",
       "      <td>-0.000240</td>\n",
       "      <td>-0.000206</td>\n",
       "      <td>0.000998</td>\n",
       "      <td>-0.001625</td>\n",
       "    </tr>\n",
       "    <tr>\n",
       "      <th>2013-03-25</th>\n",
       "      <td>NaN</td>\n",
       "      <td>NaN</td>\n",
       "      <td>15.84</td>\n",
       "      <td>NaN</td>\n",
       "      <td>NaN</td>\n",
       "      <td>NaN</td>\n",
       "      <td>NaN</td>\n",
       "      <td>NaN</td>\n",
       "      <td>NaN</td>\n",
       "      <td>NaN</td>\n",
       "    </tr>\n",
       "  </tbody>\n",
       "</table>\n",
       "<p>2372 rows × 10 columns</p>\n",
       "</div>"
      ],
      "text/plain": [
       "            HK50 ret.  DXY ret.   HSIL  SPY ret.  AUDUSD ret.  AUDCNY ret.  \\\n",
       "2023-02-03  -0.013659  0.011433  23.92 -0.010686    -0.022438    -0.015877   \n",
       "2023-02-02  -0.005170  0.005222  23.04  0.014452    -0.008303    -0.010031   \n",
       "2023-02-01   0.010468 -0.008656  23.69  0.010572     0.011417     0.009422   \n",
       "2023-01-31  -0.010357 -0.001761  24.78  0.014596    -0.000709     0.000189   \n",
       "2023-01-30  -0.027669  0.003428  24.90 -0.012626    -0.006214    -0.011314   \n",
       "...               ...       ...    ...       ...          ...          ...   \n",
       "2013-04-02   0.003053 -0.000844  15.04  0.000957     0.003452     0.001019   \n",
       "2013-03-28  -0.007380 -0.002768  14.69  0.003068    -0.003069    -0.002886   \n",
       "2013-03-27   0.006867  0.004094  15.15  0.000000    -0.003823    -0.003292   \n",
       "2013-03-26   0.002690  0.000603  15.75  0.007971     0.001623     0.001814   \n",
       "2013-03-25        NaN       NaN  15.84       NaN          NaN          NaN   \n",
       "\n",
       "            CNYHKD ret.  USDHKD ret.  HKDEUR ret.  HKDAUD ret.  \n",
       "2023-02-03    -0.005770     0.000344     0.010222     0.021424  \n",
       "2023-02-02     0.001375     0.000217     0.006873     0.008364  \n",
       "2023-02-01     0.002066     0.000293    -0.011997    -0.011690  \n",
       "2023-01-31     0.000000     0.000625    -0.001702     0.000000  \n",
       "2023-01-30     0.006050     0.000766     0.000851     0.004993  \n",
       "...                 ...          ...          ...          ...  \n",
       "2013-04-02     0.002479    -0.000052     0.000000    -0.003239  \n",
       "2013-03-28    -0.000240    -0.000103    -0.002981     0.002428  \n",
       "2013-03-27     0.000000     0.000412     0.004973     0.003247  \n",
       "2013-03-26    -0.000240    -0.000206     0.000998    -0.001625  \n",
       "2013-03-25          NaN          NaN          NaN          NaN  \n",
       "\n",
       "[2372 rows x 10 columns]"
      ]
     },
     "execution_count": 21,
     "metadata": {},
     "output_type": "execute_result"
    }
   ],
   "source": [
    "macro_daily_df"
   ]
  },
  {
   "cell_type": "code",
   "execution_count": 22,
   "id": "603ebb74-ba11-494f-b51d-08fe1631375c",
   "metadata": {
    "tags": []
   },
   "outputs": [],
   "source": [
    "list_of_returns = list(macro_monthly_df.columns)\n",
    "list_of_returns.remove('US10Y')\n",
    "list_of_returns.remove('CN10Y')\n",
    "list_of_returns.remove('CAIXIN')\n",
    "\n",
    "for elem in list_of_returns:\n",
    "    macro_monthly_df[elem] = np.log(macro_monthly_df[elem].dropna()) - np.log(macro_monthly_df[elem].dropna().shift(-1))\n",
    "    \n",
    "macro_monthly_df.rename(columns={'US_CPI_FRED_all': 'US_CPI_FRED_all ret.',\n",
    "                                 'HK50': 'HK50 ret.',\n",
    "                                 'US_CPI_OECD': 'US_CPI_OECD ret.',\n",
    "                                 'CN_CPI_OECD': 'CN_CPI_OECD ret.',\n",
    "                                 'US_M2': 'US_M2 ret.',\n",
    "                                 'CN_M2': 'CN_M2 ret.',\n",
    "                                 'EU_M2': 'EU_M2 ret.'}, inplace=True)"
   ]
  },
  {
   "cell_type": "code",
   "execution_count": 23,
   "id": "eebefe01-dd93-446c-ad1a-ce8adb077bcd",
   "metadata": {
    "tags": []
   },
   "outputs": [
    {
     "data": {
      "text/html": [
       "<div>\n",
       "<style scoped>\n",
       "    .dataframe tbody tr th:only-of-type {\n",
       "        vertical-align: middle;\n",
       "    }\n",
       "\n",
       "    .dataframe tbody tr th {\n",
       "        vertical-align: top;\n",
       "    }\n",
       "\n",
       "    .dataframe thead th {\n",
       "        text-align: right;\n",
       "    }\n",
       "</style>\n",
       "<table border=\"1\" class=\"dataframe\">\n",
       "  <thead>\n",
       "    <tr style=\"text-align: right;\">\n",
       "      <th></th>\n",
       "      <th>HK50 ret.</th>\n",
       "      <th>US10Y</th>\n",
       "      <th>CN10Y</th>\n",
       "      <th>CAIXIN</th>\n",
       "      <th>US_CPI_FRED_all ret.</th>\n",
       "      <th>US_CPI_OECD ret.</th>\n",
       "      <th>CN_CPI_OECD ret.</th>\n",
       "      <th>US_M2 ret.</th>\n",
       "      <th>CN_M2 ret.</th>\n",
       "      <th>EU_M2 ret.</th>\n",
       "    </tr>\n",
       "  </thead>\n",
       "  <tbody>\n",
       "    <tr>\n",
       "      <th>2022-12-01</th>\n",
       "      <td>0.061730</td>\n",
       "      <td>NaN</td>\n",
       "      <td>NaN</td>\n",
       "      <td>49.4</td>\n",
       "      <td>0.001312</td>\n",
       "      <td>-0.003075</td>\n",
       "      <td>-0.000968</td>\n",
       "      <td>-0.006926</td>\n",
       "      <td>NaN</td>\n",
       "      <td>0.001367</td>\n",
       "    </tr>\n",
       "    <tr>\n",
       "      <th>2022-11-01</th>\n",
       "      <td>0.236049</td>\n",
       "      <td>-3.44</td>\n",
       "      <td>1.32</td>\n",
       "      <td>49.2</td>\n",
       "      <td>0.002048</td>\n",
       "      <td>-0.001011</td>\n",
       "      <td>-0.001934</td>\n",
       "      <td>-0.002838</td>\n",
       "      <td>NaN</td>\n",
       "      <td>-0.000373</td>\n",
       "    </tr>\n",
       "    <tr>\n",
       "      <th>2022-10-01</th>\n",
       "      <td>-0.159272</td>\n",
       "      <td>-3.66</td>\n",
       "      <td>0.55</td>\n",
       "      <td>48.1</td>\n",
       "      <td>0.004871</td>\n",
       "      <td>0.004048</td>\n",
       "      <td>0.000966</td>\n",
       "      <td>-0.004092</td>\n",
       "      <td>NaN</td>\n",
       "      <td>0.001007</td>\n",
       "    </tr>\n",
       "    <tr>\n",
       "      <th>2022-09-01</th>\n",
       "      <td>-0.147213</td>\n",
       "      <td>-4.39</td>\n",
       "      <td>-0.02</td>\n",
       "      <td>49.5</td>\n",
       "      <td>0.004119</td>\n",
       "      <td>0.002149</td>\n",
       "      <td>0.002906</td>\n",
       "      <td>-0.005962</td>\n",
       "      <td>NaN</td>\n",
       "      <td>0.005605</td>\n",
       "    </tr>\n",
       "    <tr>\n",
       "      <th>2022-08-01</th>\n",
       "      <td>-0.010078</td>\n",
       "      <td>-5.10</td>\n",
       "      <td>0.15</td>\n",
       "      <td>50.4</td>\n",
       "      <td>0.002346</td>\n",
       "      <td>-0.000354</td>\n",
       "      <td>-0.000970</td>\n",
       "      <td>-0.000194</td>\n",
       "      <td>NaN</td>\n",
       "      <td>0.006278</td>\n",
       "    </tr>\n",
       "    <tr>\n",
       "      <th>...</th>\n",
       "      <td>...</td>\n",
       "      <td>...</td>\n",
       "      <td>...</td>\n",
       "      <td>...</td>\n",
       "      <td>...</td>\n",
       "      <td>...</td>\n",
       "      <td>...</td>\n",
       "      <td>...</td>\n",
       "      <td>...</td>\n",
       "      <td>...</td>\n",
       "    </tr>\n",
       "    <tr>\n",
       "      <th>2013-07-01</th>\n",
       "      <td>0.050629</td>\n",
       "      <td>0.71</td>\n",
       "      <td>0.90</td>\n",
       "      <td>48.2</td>\n",
       "      <td>0.001956</td>\n",
       "      <td>0.000394</td>\n",
       "      <td>0.000988</td>\n",
       "      <td>0.004287</td>\n",
       "      <td>0.007635</td>\n",
       "      <td>-0.000822</td>\n",
       "    </tr>\n",
       "    <tr>\n",
       "      <th>2013-06-01</th>\n",
       "      <td>-0.073600</td>\n",
       "      <td>0.80</td>\n",
       "      <td>0.90</td>\n",
       "      <td>49.2</td>\n",
       "      <td>0.002378</td>\n",
       "      <td>0.002397</td>\n",
       "      <td>0.000000</td>\n",
       "      <td>0.005321</td>\n",
       "      <td>0.006190</td>\n",
       "      <td>-0.000303</td>\n",
       "    </tr>\n",
       "    <tr>\n",
       "      <th>2013-05-01</th>\n",
       "      <td>-0.015283</td>\n",
       "      <td>0.77</td>\n",
       "      <td>1.35</td>\n",
       "      <td>50.4</td>\n",
       "      <td>0.000414</td>\n",
       "      <td>0.001779</td>\n",
       "      <td>-0.006008</td>\n",
       "      <td>0.003988</td>\n",
       "      <td>0.006091</td>\n",
       "      <td>0.002603</td>\n",
       "    </tr>\n",
       "    <tr>\n",
       "      <th>2013-04-01</th>\n",
       "      <td>0.019424</td>\n",
       "      <td>0.56</td>\n",
       "      <td>1.10</td>\n",
       "      <td>51.6</td>\n",
       "      <td>-0.002090</td>\n",
       "      <td>-0.001040</td>\n",
       "      <td>0.001975</td>\n",
       "      <td>0.003397</td>\n",
       "      <td>0.012951</td>\n",
       "      <td>0.005008</td>\n",
       "    </tr>\n",
       "    <tr>\n",
       "      <th>2013-03-01</th>\n",
       "      <td>NaN</td>\n",
       "      <td>0.35</td>\n",
       "      <td>1.34</td>\n",
       "      <td>50.4</td>\n",
       "      <td>NaN</td>\n",
       "      <td>NaN</td>\n",
       "      <td>NaN</td>\n",
       "      <td>NaN</td>\n",
       "      <td>NaN</td>\n",
       "      <td>NaN</td>\n",
       "    </tr>\n",
       "  </tbody>\n",
       "</table>\n",
       "<p>118 rows × 10 columns</p>\n",
       "</div>"
      ],
      "text/plain": [
       "            HK50 ret.  US10Y  CN10Y  CAIXIN  US_CPI_FRED_all ret.  \\\n",
       "2022-12-01   0.061730    NaN    NaN    49.4              0.001312   \n",
       "2022-11-01   0.236049  -3.44   1.32    49.2              0.002048   \n",
       "2022-10-01  -0.159272  -3.66   0.55    48.1              0.004871   \n",
       "2022-09-01  -0.147213  -4.39  -0.02    49.5              0.004119   \n",
       "2022-08-01  -0.010078  -5.10   0.15    50.4              0.002346   \n",
       "...               ...    ...    ...     ...                   ...   \n",
       "2013-07-01   0.050629   0.71   0.90    48.2              0.001956   \n",
       "2013-06-01  -0.073600   0.80   0.90    49.2              0.002378   \n",
       "2013-05-01  -0.015283   0.77   1.35    50.4              0.000414   \n",
       "2013-04-01   0.019424   0.56   1.10    51.6             -0.002090   \n",
       "2013-03-01        NaN   0.35   1.34    50.4                   NaN   \n",
       "\n",
       "            US_CPI_OECD ret.  CN_CPI_OECD ret.  US_M2 ret.  CN_M2 ret.  \\\n",
       "2022-12-01         -0.003075         -0.000968   -0.006926         NaN   \n",
       "2022-11-01         -0.001011         -0.001934   -0.002838         NaN   \n",
       "2022-10-01          0.004048          0.000966   -0.004092         NaN   \n",
       "2022-09-01          0.002149          0.002906   -0.005962         NaN   \n",
       "2022-08-01         -0.000354         -0.000970   -0.000194         NaN   \n",
       "...                      ...               ...         ...         ...   \n",
       "2013-07-01          0.000394          0.000988    0.004287    0.007635   \n",
       "2013-06-01          0.002397          0.000000    0.005321    0.006190   \n",
       "2013-05-01          0.001779         -0.006008    0.003988    0.006091   \n",
       "2013-04-01         -0.001040          0.001975    0.003397    0.012951   \n",
       "2013-03-01               NaN               NaN         NaN         NaN   \n",
       "\n",
       "            EU_M2 ret.  \n",
       "2022-12-01    0.001367  \n",
       "2022-11-01   -0.000373  \n",
       "2022-10-01    0.001007  \n",
       "2022-09-01    0.005605  \n",
       "2022-08-01    0.006278  \n",
       "...                ...  \n",
       "2013-07-01   -0.000822  \n",
       "2013-06-01   -0.000303  \n",
       "2013-05-01    0.002603  \n",
       "2013-04-01    0.005008  \n",
       "2013-03-01         NaN  \n",
       "\n",
       "[118 rows x 10 columns]"
      ]
     },
     "execution_count": 23,
     "metadata": {},
     "output_type": "execute_result"
    }
   ],
   "source": [
    "macro_monthly_df"
   ]
  },
  {
   "cell_type": "code",
   "execution_count": 24,
   "id": "05bdca3d-2eeb-43d3-b040-b6a215c79844",
   "metadata": {
    "tags": []
   },
   "outputs": [],
   "source": [
    "list_of_returns = list(macro_quarterly_df.columns)\n",
    "\n",
    "for elem in list_of_returns:\n",
    "    macro_quarterly_df[elem] = np.log(macro_quarterly_df[elem].dropna()) - np.log(macro_quarterly_df[elem].dropna().shift(-1))\n",
    "    \n",
    "macro_quarterly_df.rename(columns={'CN_GDP': 'CN_GDP ret.',\n",
    "                                   'HK50': 'HK50 ret.',\n",
    "                                 'US_GDP': 'US_GDP ret.'}, inplace=True)"
   ]
  },
  {
   "cell_type": "code",
   "execution_count": 25,
   "id": "11bdd202-f111-49a8-a84f-a7a442db4229",
   "metadata": {
    "tags": []
   },
   "outputs": [
    {
     "data": {
      "text/html": [
       "<div>\n",
       "<style scoped>\n",
       "    .dataframe tbody tr th:only-of-type {\n",
       "        vertical-align: middle;\n",
       "    }\n",
       "\n",
       "    .dataframe tbody tr th {\n",
       "        vertical-align: top;\n",
       "    }\n",
       "\n",
       "    .dataframe thead th {\n",
       "        text-align: right;\n",
       "    }\n",
       "</style>\n",
       "<table border=\"1\" class=\"dataframe\">\n",
       "  <thead>\n",
       "    <tr style=\"text-align: right;\">\n",
       "      <th></th>\n",
       "      <th>HK50 ret.</th>\n",
       "      <th>CN_GDP ret.</th>\n",
       "      <th>US_GDP ret.</th>\n",
       "    </tr>\n",
       "  </thead>\n",
       "  <tbody>\n",
       "    <tr>\n",
       "      <th>2022Q4</th>\n",
       "      <td>0.138507</td>\n",
       "      <td>0.081429</td>\n",
       "      <td>0.016234</td>\n",
       "    </tr>\n",
       "    <tr>\n",
       "      <th>2022Q3</th>\n",
       "      <td>-0.238413</td>\n",
       "      <td>0.050911</td>\n",
       "      <td>0.018656</td>\n",
       "    </tr>\n",
       "    <tr>\n",
       "      <th>2022Q2</th>\n",
       "      <td>-0.006250</td>\n",
       "      <td>0.079310</td>\n",
       "      <td>0.020325</td>\n",
       "    </tr>\n",
       "    <tr>\n",
       "      <th>2022Q1</th>\n",
       "      <td>-0.061737</td>\n",
       "      <td>-0.182593</td>\n",
       "      <td>0.015945</td>\n",
       "    </tr>\n",
       "    <tr>\n",
       "      <th>2021Q4</th>\n",
       "      <td>-0.049119</td>\n",
       "      <td>0.112276</td>\n",
       "      <td>0.033352</td>\n",
       "    </tr>\n",
       "    <tr>\n",
       "      <th>...</th>\n",
       "      <td>...</td>\n",
       "      <td>...</td>\n",
       "      <td>...</td>\n",
       "    </tr>\n",
       "    <tr>\n",
       "      <th>2001Q4</th>\n",
       "      <td>0.135726</td>\n",
       "      <td>0.112809</td>\n",
       "      <td>0.005875</td>\n",
       "    </tr>\n",
       "    <tr>\n",
       "      <th>2001Q3</th>\n",
       "      <td>-0.270573</td>\n",
       "      <td>0.058378</td>\n",
       "      <td>-0.000092</td>\n",
       "    </tr>\n",
       "    <tr>\n",
       "      <th>2001Q2</th>\n",
       "      <td>0.021850</td>\n",
       "      <td>0.104012</td>\n",
       "      <td>0.012224</td>\n",
       "    </tr>\n",
       "    <tr>\n",
       "      <th>2001Q1</th>\n",
       "      <td>-0.168033</td>\n",
       "      <td>-0.192326</td>\n",
       "      <td>0.003299</td>\n",
       "    </tr>\n",
       "    <tr>\n",
       "      <th>2000Q4</th>\n",
       "      <td>NaN</td>\n",
       "      <td>NaN</td>\n",
       "      <td>NaN</td>\n",
       "    </tr>\n",
       "  </tbody>\n",
       "</table>\n",
       "<p>89 rows × 3 columns</p>\n",
       "</div>"
      ],
      "text/plain": [
       "        HK50 ret.  CN_GDP ret.  US_GDP ret.\n",
       "2022Q4   0.138507     0.081429     0.016234\n",
       "2022Q3  -0.238413     0.050911     0.018656\n",
       "2022Q2  -0.006250     0.079310     0.020325\n",
       "2022Q1  -0.061737    -0.182593     0.015945\n",
       "2021Q4  -0.049119     0.112276     0.033352\n",
       "...           ...          ...          ...\n",
       "2001Q4   0.135726     0.112809     0.005875\n",
       "2001Q3  -0.270573     0.058378    -0.000092\n",
       "2001Q2   0.021850     0.104012     0.012224\n",
       "2001Q1  -0.168033    -0.192326     0.003299\n",
       "2000Q4        NaN          NaN          NaN\n",
       "\n",
       "[89 rows x 3 columns]"
      ]
     },
     "execution_count": 25,
     "metadata": {},
     "output_type": "execute_result"
    }
   ],
   "source": [
    "macro_quarterly_df"
   ]
  },
  {
   "cell_type": "markdown",
   "id": "d3d420cd-a0b0-47bb-b41b-74f2bdc251f3",
   "metadata": {},
   "source": [
    "# 3 Descriptive statistics"
   ]
  },
  {
   "cell_type": "markdown",
   "id": "ef0d2495-5722-42f3-aa68-7bb6bb911ef1",
   "metadata": {},
   "source": [
    "## 3.1 Daily indicators"
   ]
  },
  {
   "cell_type": "code",
   "execution_count": 24,
   "id": "6e86a410-1f6c-4df7-868e-322cfc6aa560",
   "metadata": {
    "tags": []
   },
   "outputs": [
    {
     "name": "stdout",
     "output_type": "stream",
     "text": [
      "The mean, standard dev and count of HK50 ret. are: -0.00113% 1.29038% 2372\n",
      "The mean, standard dev and count of DXY ret. are: 0.00916% 0.44546% 2372\n",
      "The mean, standard dev and count of HSIL are: 2050.9296% 609.21473% 2372\n",
      "The mean, standard dev and count of SPY ret. are: 0.04128% 1.13149% 2372\n",
      "The mean, standard dev and count of AUDUSD ret. are: -0.01746% 0.66382% 2372\n",
      "The mean, standard dev and count of AUDCNY ret. are: -0.01379% 0.62466% 2372\n",
      "The mean, standard dev and count of CNYHKD ret. are: -0.00322% 0.23994% 2372\n",
      "The mean, standard dev and count of USDHKD ret. are: 0.00046% 0.03789% 2372\n",
      "The mean, standard dev and count of HKDEUR ret. are: 0.0069% 0.51315% 2372\n",
      "The mean, standard dev and count of HKDAUD ret. are: 0.01692% 0.66058% 2372\n"
     ]
    }
   ],
   "source": [
    "for elem in macro_daily_df.keys():\n",
    "    mean = str(round(macro_daily_df[elem].mean()*100.,5))+'%'\n",
    "    sdev = str(round(macro_daily_df[elem].std()*100.,5))+'%'\n",
    "    count = macro_daily_df[elem].size\n",
    "    print(\"The mean, standard dev and count of \"+str(elem)+\" are: \"+str(mean)+' '+str(sdev)+' '+str(count))"
   ]
  },
  {
   "cell_type": "markdown",
   "id": "a37a944f-c947-4fa0-94ff-24929e22e29f",
   "metadata": {},
   "source": [
    "## 3.2 Monthly indicators"
   ]
  },
  {
   "cell_type": "code",
   "execution_count": 25,
   "id": "5f273849-de9f-443e-a8c4-a9f2c1dbd57d",
   "metadata": {
    "tags": []
   },
   "outputs": [
    {
     "name": "stdout",
     "output_type": "stream",
     "text": [
      "The mean, standard dev and count of HK50 ret. are: -0.10242% 5.65415% 118\n",
      "The mean, standard dev and count of US10Y are: -32.89744% 217.65741% 118\n",
      "The mean, standard dev and count of CN10Y are: 134.87179% 106.13252% 118\n",
      "The mean, standard dev and count of CAIXIN are: 5015.76271% 168.3373% 118\n",
      "The mean, standard dev and count of US_CPI_FRED_all ret. are: 0.21578% 0.28959% 118\n",
      "The mean, standard dev and count of US_CPI_OECD ret. are: 0.20768% 0.35999% 118\n",
      "The mean, standard dev and count of CN_CPI_OECD ret. are: 0.1519% 0.50879% 118\n",
      "The mean, standard dev and count of US_M2 ret. are: 0.59677% 0.79895% 118\n",
      "The mean, standard dev and count of CN_M2 ret. are: 0.86035% 0.2949% 118\n",
      "The mean, standard dev and count of EU_M2 ret. are: 0.42922% 0.3361% 118\n"
     ]
    }
   ],
   "source": [
    "for elem in macro_monthly_df.keys():\n",
    "    mean = str(round(macro_monthly_df[elem].mean()*100.,5))+'%'\n",
    "    sdev = str(round(macro_monthly_df[elem].std()*100.,5))+'%'\n",
    "    count = macro_monthly_df[elem].size\n",
    "    print(\"The mean, standard dev and count of \"+str(elem)+\" are: \"+str(mean)+' '+str(sdev)+' '+str(count))"
   ]
  },
  {
   "cell_type": "markdown",
   "id": "e9fe4626-a06b-4460-a60b-075c5ac38ac5",
   "metadata": {},
   "source": [
    "## 3.3 Quarterly indicators"
   ]
  },
  {
   "cell_type": "code",
   "execution_count": 27,
   "id": "c9597c73-4909-4a97-8456-fa425b3da423",
   "metadata": {
    "tags": []
   },
   "outputs": [
    {
     "name": "stdout",
     "output_type": "stream",
     "text": [
      "The mean, standard dev and count of HK50 ret. are: 0.30721% 10.67568% 89\n",
      "The mean, standard dev and count of CN_GDP ret. are: 2.77463% 11.62301% 89\n",
      "The mean, standard dev and count of US_GDP ret. are: 1.04366% 1.56603% 89\n"
     ]
    }
   ],
   "source": [
    "for elem in macro_quarterly_df.keys():\n",
    "    mean = str(round(macro_quarterly_df[elem].mean()*100.,5))+'%'\n",
    "    sdev = str(round(macro_quarterly_df[elem].std()*100.,5))+'%'\n",
    "    count = macro_quarterly_df[elem].size\n",
    "    print(\"The mean, standard dev and count of \"+str(elem)+\" are: \"+str(mean)+' '+str(sdev)+' '+str(count))"
   ]
  },
  {
   "cell_type": "markdown",
   "id": "f7c83cee-3e8e-41e7-b7e6-bef627502a91",
   "metadata": {},
   "source": [
    "# 4 Correlation"
   ]
  },
  {
   "cell_type": "markdown",
   "id": "0ba66a4b-2424-4383-ac69-f596db4422e6",
   "metadata": {},
   "source": [
    "## 4.1 Daily indicators"
   ]
  },
  {
   "cell_type": "code",
   "execution_count": 41,
   "id": "e32bef92-fc9f-4681-9341-c560338520aa",
   "metadata": {
    "tags": []
   },
   "outputs": [],
   "source": [
    "list_of_exo = list(macro_daily_df.keys())\n",
    "list_of_exo.remove('HK50 ret.')\n",
    "list_of_exo\n",
    "\n",
    "for elem in list_of_exo:\n",
    "    filename = \"HK50_\"+str(elem)+\"_20corr_daily.png\"\n",
    "    x_name = \"HK50\"\n",
    "    y_name = str(elem)\n",
    "    plot_cor(macro_daily_df['HK50 ret.'], macro_daily_df[elem], 20, filename, x_name, y_name, unit='day')\n",
    "    plt.close()"
   ]
  },
  {
   "cell_type": "markdown",
   "id": "333180df-bc6a-482d-9a04-2afb61bf43b6",
   "metadata": {},
   "source": [
    "## 4.2 Monthly indicators"
   ]
  },
  {
   "cell_type": "code",
   "execution_count": null,
   "id": "67e5f87c-140b-4040-8240-a49141ae82c6",
   "metadata": {},
   "outputs": [],
   "source": [
    "list_of_exo = list(macro_monthly_df.keys())\n",
    "list_of_exo.remove('HK50 ret.')\n",
    "list_of_exo\n",
    "\n",
    "for elem in list_of_exo:\n",
    "    filename = \"HK50_\"+str(elem)+\"_12corr_monthly.png\"\n",
    "    x_name = \"HK50\"\n",
    "    y_name = str(elem)\n",
    "    plot_cor(macro_monthly_df['HK50 ret.'], macro_monthly_df[elem], 12, filename, x_name, y_name, unit='month')\n",
    "    plt.close()"
   ]
  },
  {
   "cell_type": "markdown",
   "id": "e4cc86fc-6dcc-474b-a4bc-24ba162197f7",
   "metadata": {},
   "source": [
    "# 5 OLS regression"
   ]
  },
  {
   "cell_type": "markdown",
   "id": "58a24568-3f34-4a05-8d07-43a2d1f52d52",
   "metadata": {},
   "source": [
    "## 5.1 Daily models"
   ]
  },
  {
   "cell_type": "code",
   "execution_count": 28,
   "id": "4f5ba1e8-26ac-4b44-b096-1060330100b6",
   "metadata": {
    "tags": []
   },
   "outputs": [
    {
     "data": {
      "text/html": [
       "<div>\n",
       "<style scoped>\n",
       "    .dataframe tbody tr th:only-of-type {\n",
       "        vertical-align: middle;\n",
       "    }\n",
       "\n",
       "    .dataframe tbody tr th {\n",
       "        vertical-align: top;\n",
       "    }\n",
       "\n",
       "    .dataframe thead th {\n",
       "        text-align: right;\n",
       "    }\n",
       "</style>\n",
       "<table border=\"1\" class=\"dataframe\">\n",
       "  <thead>\n",
       "    <tr style=\"text-align: right;\">\n",
       "      <th></th>\n",
       "      <th>HK50 ret.</th>\n",
       "      <th>DXY ret.</th>\n",
       "      <th>HSIL</th>\n",
       "      <th>SPY ret.</th>\n",
       "      <th>AUDUSD ret.</th>\n",
       "      <th>AUDCNY ret.</th>\n",
       "      <th>CNYHKD ret.</th>\n",
       "      <th>USDHKD ret.</th>\n",
       "      <th>HKDEUR ret.</th>\n",
       "      <th>HKDAUD ret.</th>\n",
       "    </tr>\n",
       "  </thead>\n",
       "  <tbody>\n",
       "    <tr>\n",
       "      <th>2023-02-02</th>\n",
       "      <td>-0.005170</td>\n",
       "      <td>0.005222</td>\n",
       "      <td>23.04</td>\n",
       "      <td>0.014452</td>\n",
       "      <td>-0.008303</td>\n",
       "      <td>-0.010031</td>\n",
       "      <td>0.001375</td>\n",
       "      <td>0.000217</td>\n",
       "      <td>0.006873</td>\n",
       "      <td>0.008364</td>\n",
       "    </tr>\n",
       "    <tr>\n",
       "      <th>2023-02-01</th>\n",
       "      <td>0.010468</td>\n",
       "      <td>-0.008656</td>\n",
       "      <td>23.69</td>\n",
       "      <td>0.010572</td>\n",
       "      <td>0.011417</td>\n",
       "      <td>0.009422</td>\n",
       "      <td>0.002066</td>\n",
       "      <td>0.000293</td>\n",
       "      <td>-0.011997</td>\n",
       "      <td>-0.011690</td>\n",
       "    </tr>\n",
       "    <tr>\n",
       "      <th>2023-01-31</th>\n",
       "      <td>-0.010357</td>\n",
       "      <td>-0.001761</td>\n",
       "      <td>24.78</td>\n",
       "      <td>0.014596</td>\n",
       "      <td>-0.000709</td>\n",
       "      <td>0.000189</td>\n",
       "      <td>0.000000</td>\n",
       "      <td>0.000625</td>\n",
       "      <td>-0.001702</td>\n",
       "      <td>0.000000</td>\n",
       "    </tr>\n",
       "    <tr>\n",
       "      <th>2023-01-30</th>\n",
       "      <td>-0.027669</td>\n",
       "      <td>0.003428</td>\n",
       "      <td>24.90</td>\n",
       "      <td>-0.012626</td>\n",
       "      <td>-0.006214</td>\n",
       "      <td>-0.011314</td>\n",
       "      <td>0.006050</td>\n",
       "      <td>0.000766</td>\n",
       "      <td>0.000851</td>\n",
       "      <td>0.004993</td>\n",
       "    </tr>\n",
       "    <tr>\n",
       "      <th>2023-01-27</th>\n",
       "      <td>0.005397</td>\n",
       "      <td>0.000883</td>\n",
       "      <td>22.45</td>\n",
       "      <td>0.002295</td>\n",
       "      <td>-0.001547</td>\n",
       "      <td>-0.001556</td>\n",
       "      <td>0.000087</td>\n",
       "      <td>0.000153</td>\n",
       "      <td>0.001704</td>\n",
       "      <td>0.001670</td>\n",
       "    </tr>\n",
       "    <tr>\n",
       "      <th>...</th>\n",
       "      <td>...</td>\n",
       "      <td>...</td>\n",
       "      <td>...</td>\n",
       "      <td>...</td>\n",
       "      <td>...</td>\n",
       "      <td>...</td>\n",
       "      <td>...</td>\n",
       "      <td>...</td>\n",
       "      <td>...</td>\n",
       "      <td>...</td>\n",
       "    </tr>\n",
       "    <tr>\n",
       "      <th>2013-04-02</th>\n",
       "      <td>0.003053</td>\n",
       "      <td>-0.000844</td>\n",
       "      <td>15.04</td>\n",
       "      <td>0.000957</td>\n",
       "      <td>0.003452</td>\n",
       "      <td>0.001019</td>\n",
       "      <td>0.002479</td>\n",
       "      <td>-0.000052</td>\n",
       "      <td>0.000000</td>\n",
       "      <td>-0.003239</td>\n",
       "    </tr>\n",
       "    <tr>\n",
       "      <th>2013-03-28</th>\n",
       "      <td>-0.007380</td>\n",
       "      <td>-0.002768</td>\n",
       "      <td>14.69</td>\n",
       "      <td>0.003068</td>\n",
       "      <td>-0.003069</td>\n",
       "      <td>-0.002886</td>\n",
       "      <td>-0.000240</td>\n",
       "      <td>-0.000103</td>\n",
       "      <td>-0.002981</td>\n",
       "      <td>0.002428</td>\n",
       "    </tr>\n",
       "    <tr>\n",
       "      <th>2013-03-27</th>\n",
       "      <td>0.006867</td>\n",
       "      <td>0.004094</td>\n",
       "      <td>15.15</td>\n",
       "      <td>0.000000</td>\n",
       "      <td>-0.003823</td>\n",
       "      <td>-0.003292</td>\n",
       "      <td>0.000000</td>\n",
       "      <td>0.000412</td>\n",
       "      <td>0.004973</td>\n",
       "      <td>0.003247</td>\n",
       "    </tr>\n",
       "    <tr>\n",
       "      <th>2013-03-26</th>\n",
       "      <td>0.002690</td>\n",
       "      <td>0.000603</td>\n",
       "      <td>15.75</td>\n",
       "      <td>0.007971</td>\n",
       "      <td>0.001623</td>\n",
       "      <td>0.001814</td>\n",
       "      <td>-0.000240</td>\n",
       "      <td>-0.000206</td>\n",
       "      <td>0.000998</td>\n",
       "      <td>-0.001625</td>\n",
       "    </tr>\n",
       "    <tr>\n",
       "      <th>2013-03-25</th>\n",
       "      <td>NaN</td>\n",
       "      <td>NaN</td>\n",
       "      <td>15.84</td>\n",
       "      <td>NaN</td>\n",
       "      <td>NaN</td>\n",
       "      <td>NaN</td>\n",
       "      <td>NaN</td>\n",
       "      <td>NaN</td>\n",
       "      <td>NaN</td>\n",
       "      <td>NaN</td>\n",
       "    </tr>\n",
       "  </tbody>\n",
       "</table>\n",
       "<p>2371 rows × 10 columns</p>\n",
       "</div>"
      ],
      "text/plain": [
       "            HK50 ret.  DXY ret.   HSIL  SPY ret.  AUDUSD ret.  AUDCNY ret.  \\\n",
       "2023-02-02  -0.005170  0.005222  23.04  0.014452    -0.008303    -0.010031   \n",
       "2023-02-01   0.010468 -0.008656  23.69  0.010572     0.011417     0.009422   \n",
       "2023-01-31  -0.010357 -0.001761  24.78  0.014596    -0.000709     0.000189   \n",
       "2023-01-30  -0.027669  0.003428  24.90 -0.012626    -0.006214    -0.011314   \n",
       "2023-01-27   0.005397  0.000883  22.45  0.002295    -0.001547    -0.001556   \n",
       "...               ...       ...    ...       ...          ...          ...   \n",
       "2013-04-02   0.003053 -0.000844  15.04  0.000957     0.003452     0.001019   \n",
       "2013-03-28  -0.007380 -0.002768  14.69  0.003068    -0.003069    -0.002886   \n",
       "2013-03-27   0.006867  0.004094  15.15  0.000000    -0.003823    -0.003292   \n",
       "2013-03-26   0.002690  0.000603  15.75  0.007971     0.001623     0.001814   \n",
       "2013-03-25        NaN       NaN  15.84       NaN          NaN          NaN   \n",
       "\n",
       "            CNYHKD ret.  USDHKD ret.  HKDEUR ret.  HKDAUD ret.  \n",
       "2023-02-02     0.001375     0.000217     0.006873     0.008364  \n",
       "2023-02-01     0.002066     0.000293    -0.011997    -0.011690  \n",
       "2023-01-31     0.000000     0.000625    -0.001702     0.000000  \n",
       "2023-01-30     0.006050     0.000766     0.000851     0.004993  \n",
       "2023-01-27     0.000087     0.000153     0.001704     0.001670  \n",
       "...                 ...          ...          ...          ...  \n",
       "2013-04-02     0.002479    -0.000052     0.000000    -0.003239  \n",
       "2013-03-28    -0.000240    -0.000103    -0.002981     0.002428  \n",
       "2013-03-27     0.000000     0.000412     0.004973     0.003247  \n",
       "2013-03-26    -0.000240    -0.000206     0.000998    -0.001625  \n",
       "2013-03-25          NaN          NaN          NaN          NaN  \n",
       "\n",
       "[2371 rows x 10 columns]"
      ]
     },
     "execution_count": 28,
     "metadata": {},
     "output_type": "execute_result"
    }
   ],
   "source": [
    "macro_daily_df['2013-03-25':'2023-02-02']"
   ]
  },
  {
   "cell_type": "code",
   "execution_count": 29,
   "id": "be3ef534-a53a-4ce9-a9b4-f7f3f8cb3fb5",
   "metadata": {
    "tags": []
   },
   "outputs": [],
   "source": [
    "# new method using dropna to avoid look-ahead bias\n",
    "list_of_exo = list(macro_daily_df.keys())\n",
    "list_of_exo.remove('HK50 ret.')\n",
    "list_of_exo\n",
    "\n",
    "daily_models_OLS_coinc = {}\n",
    "\n",
    "for elem in list_of_exo:\n",
    "    X = macro_daily_df[elem]['2013-03-25':'2023-02-02'].dropna()\n",
    "    y = macro_daily_df['HK50 ret.']['2013-03-25':'2023-02-02'].dropna()\n",
    "    y = y.reindex(X.index)\n",
    "    \n",
    "    X = sm.add_constant(X)\n",
    "    X = StandardScaler().fit_transform(X)\n",
    "    daily_models_OLS_coinc[elem] = sm.OLS(y, X).fit() "
   ]
  },
  {
   "cell_type": "markdown",
   "id": "2ba4c918-c167-4392-acd2-e29feb8e3f8b",
   "metadata": {},
   "source": [
    "### 5.1.1 Indicators are assumed to lead the HSI"
   ]
  },
  {
   "cell_type": "code",
   "execution_count": 30,
   "id": "08c16351-22df-49e6-840b-e1e38c9a296e",
   "metadata": {
    "tags": []
   },
   "outputs": [],
   "source": [
    "# leading indicator variables and date ranges\n",
    "#macro_daily_df.shift(5)['2013-03-26':'2023-02-03'].dropna() # 5 days. Dates [\"2013-03-26\":\"2023-01-27\"]\n",
    "#macro_daily_df.shift(20)['2013-03-26':'2023-02-03'].dropna() # 20 days. Dates [\"2013-03-26\":\"2023-12-30\"]\n",
    "#macro_daily_df.shift(60)['2013-03-26':'2023-02-03'].dropna() # 60 days. Dates [\"2013-03-26\":\"2022-11-01\"]"
   ]
  },
  {
   "cell_type": "code",
   "execution_count": 31,
   "id": "e3a216fd-576b-4a40-9fd9-bdb3083793ed",
   "metadata": {
    "tags": []
   },
   "outputs": [],
   "source": [
    "# indicators lead the HSI by 5 days. \n",
    "\n",
    "list_of_exo = list(macro_daily_df.keys())\n",
    "list_of_exo.remove('HK50 ret.')\n",
    "list_of_exo\n",
    "\n",
    "daily_models_OLS_X5R = {}\n",
    "\n",
    "for elem in list_of_exo:\n",
    "    X = macro_daily_df[elem].shift(5)[\"2013-03-26\":\"2023-01-27\"].dropna()\n",
    "    y = macro_daily_df['HK50 ret.'][\"2013-03-26\":\"2023-01-27\"].dropna()\n",
    "    y = y.reindex(X.index)\n",
    "    \n",
    "    X = sm.add_constant(X)\n",
    "    X = StandardScaler().fit_transform(X)\n",
    "    daily_models_OLS_X5R[elem] = sm.OLS(y, X).fit() "
   ]
  },
  {
   "cell_type": "code",
   "execution_count": 32,
   "id": "02785df2-1646-4459-8a13-aa642e6a7f2d",
   "metadata": {
    "tags": []
   },
   "outputs": [],
   "source": [
    "# indicators lead the HSI by 20 days. \n",
    "\n",
    "list_of_exo = list(macro_daily_df.keys())\n",
    "list_of_exo.remove('HK50 ret.')\n",
    "list_of_exo\n",
    "\n",
    "daily_models_OLS_X20R = {}\n",
    "\n",
    "for elem in list_of_exo:\n",
    "    X = macro_daily_df[elem].shift(20)[\"2013-03-26\":\"2023-12-30\"].dropna()\n",
    "    y = macro_daily_df['HK50 ret.'][\"2013-03-26\":\"2023-12-30\"].dropna()\n",
    "    y = y.reindex(X.index)\n",
    "    \n",
    "    X = sm.add_constant(X)\n",
    "    X = StandardScaler().fit_transform(X)\n",
    "    daily_models_OLS_X20R[elem] = sm.OLS(y, X).fit() "
   ]
  },
  {
   "cell_type": "code",
   "execution_count": 33,
   "id": "216873cd-609c-48b1-bffc-01dcfbe470e6",
   "metadata": {
    "tags": []
   },
   "outputs": [],
   "source": [
    "# indicators lead the HSI by 60 days. \n",
    "\n",
    "list_of_exo = list(macro_daily_df.keys())\n",
    "list_of_exo.remove('HK50 ret.')\n",
    "list_of_exo\n",
    "\n",
    "daily_models_OLS_X60R = {}\n",
    "\n",
    "for elem in list_of_exo:\n",
    "    X = macro_daily_df[elem].shift(60)[\"2013-03-26\":\"2022-11-01\"].dropna()\n",
    "    y = macro_daily_df['HK50 ret.'][\"2013-03-26\":\"2022-11-01\"].dropna()\n",
    "    y = y.reindex(X.index)\n",
    "    \n",
    "    X = sm.add_constant(X)\n",
    "    X = StandardScaler().fit_transform(X)\n",
    "    daily_models_OLS_X60R[elem] = sm.OLS(y, X).fit() "
   ]
  },
  {
   "cell_type": "markdown",
   "id": "cb4635cc-ee49-47dc-bb6c-dc8db791f2bf",
   "metadata": {},
   "source": [
    "### 5.1.2 Indicators are assumed to lag the HSI"
   ]
  },
  {
   "cell_type": "code",
   "execution_count": 34,
   "id": "84bffa49-888d-4b4d-9339-80e34e89b626",
   "metadata": {
    "tags": []
   },
   "outputs": [],
   "source": [
    "# lagging indicator variables and date ranges\n",
    "#macro_daily_df.shift(-5)['2013-03-25':'2023-02-02'].dropna() # 5 days. Dates [\"2013-04-05\":\"2023-02-02\"]\n",
    "#macro_daily_df.shift(-20)['2013-03-25':'2023-02-02'].dropna() # 20 days. Dates [\"2013-04-26\":\"2023-02-02\"]\n",
    "#macro_daily_df.shift(-60)['2013-03-25':'2023-02-02'].dropna() # 60 days. Dates [\"2013-06-27\":\"2023-02-02\"]"
   ]
  },
  {
   "cell_type": "code",
   "execution_count": 35,
   "id": "dcb47bec-557c-43fb-aa42-a6a786631ca9",
   "metadata": {
    "tags": []
   },
   "outputs": [],
   "source": [
    "# indicators lags the HSI by 5 days. \n",
    "\n",
    "list_of_exo = list(macro_daily_df.keys())\n",
    "list_of_exo.remove('HK50 ret.')\n",
    "list_of_exo\n",
    "\n",
    "daily_models_OLS_X5L = {}\n",
    "\n",
    "for elem in list_of_exo:\n",
    "    X = macro_daily_df[elem].shift(-5)[\"2013-04-05\":\"2023-02-02\"].dropna()\n",
    "    y = macro_daily_df['HK50 ret.'][\"2013-04-05\":\"2023-02-02\"].dropna()\n",
    "    y = y.reindex(X.index)\n",
    "    \n",
    "    X = sm.add_constant(X)\n",
    "    X = StandardScaler().fit_transform(X)\n",
    "    daily_models_OLS_X5L[elem] = sm.OLS(y, X).fit() "
   ]
  },
  {
   "cell_type": "code",
   "execution_count": 36,
   "id": "e4883211-d5b5-46ea-a9ea-2d49e3184b8d",
   "metadata": {
    "tags": []
   },
   "outputs": [],
   "source": [
    "# indicators lags the HSI by 20 days. \n",
    "\n",
    "list_of_exo = list(macro_daily_df.keys())\n",
    "list_of_exo.remove('HK50 ret.')\n",
    "list_of_exo\n",
    "\n",
    "daily_models_OLS_X20L = {}\n",
    "\n",
    "for elem in list_of_exo:\n",
    "    X = macro_daily_df[elem].shift(-20)[\"2013-04-26\":\"2023-02-02\"].dropna()\n",
    "    y = macro_daily_df['HK50 ret.'][\"2013-04-26\":\"2023-02-02\"].dropna()\n",
    "    y = y.reindex(X.index)\n",
    "    \n",
    "    X = sm.add_constant(X)\n",
    "    X = StandardScaler().fit_transform(X)\n",
    "    daily_models_OLS_X20L[elem] = sm.OLS(y, X).fit() "
   ]
  },
  {
   "cell_type": "code",
   "execution_count": 37,
   "id": "0b87df00-dfb2-470f-bfcd-5a71db73a559",
   "metadata": {
    "tags": []
   },
   "outputs": [],
   "source": [
    "# indicators lags the HSI by 60 days. \n",
    "\n",
    "list_of_exo = list(macro_daily_df.keys())\n",
    "list_of_exo.remove('HK50 ret.')\n",
    "list_of_exo\n",
    "\n",
    "daily_models_OLS_X60L = {}\n",
    "\n",
    "for elem in list_of_exo:\n",
    "    X = macro_daily_df[elem].shift(-60)[\"2013-06-27\":\"2023-02-02\"].dropna()\n",
    "    y = macro_daily_df['HK50 ret.'][\"2013-06-27\":\"2023-02-02\"].dropna()\n",
    "    y = y.reindex(X.index)\n",
    "    \n",
    "    X = sm.add_constant(X)\n",
    "    X = StandardScaler().fit_transform(X)\n",
    "    daily_models_OLS_X60L[elem] = sm.OLS(y, X).fit() "
   ]
  },
  {
   "cell_type": "markdown",
   "id": "d5252871-a534-4e83-a7fb-763d48ae1b2e",
   "metadata": {},
   "source": [
    "## 5.2 Monthly models"
   ]
  },
  {
   "cell_type": "code",
   "execution_count": 38,
   "id": "2e22903d-a736-43d4-917a-e0687e7308d1",
   "metadata": {
    "tags": []
   },
   "outputs": [
    {
     "data": {
      "text/html": [
       "<div>\n",
       "<style scoped>\n",
       "    .dataframe tbody tr th:only-of-type {\n",
       "        vertical-align: middle;\n",
       "    }\n",
       "\n",
       "    .dataframe tbody tr th {\n",
       "        vertical-align: top;\n",
       "    }\n",
       "\n",
       "    .dataframe thead th {\n",
       "        text-align: right;\n",
       "    }\n",
       "</style>\n",
       "<table border=\"1\" class=\"dataframe\">\n",
       "  <thead>\n",
       "    <tr style=\"text-align: right;\">\n",
       "      <th></th>\n",
       "      <th>HK50 ret.</th>\n",
       "      <th>US10Y</th>\n",
       "      <th>CN10Y</th>\n",
       "      <th>CAIXIN</th>\n",
       "      <th>US_CPI_FRED_all ret.</th>\n",
       "      <th>US_CPI_OECD ret.</th>\n",
       "      <th>CN_CPI_OECD ret.</th>\n",
       "      <th>US_M2 ret.</th>\n",
       "      <th>EU_M2 ret.</th>\n",
       "    </tr>\n",
       "  </thead>\n",
       "  <tbody>\n",
       "    <tr>\n",
       "      <th>2022-11-01</th>\n",
       "      <td>0.236049</td>\n",
       "      <td>-3.44</td>\n",
       "      <td>1.32</td>\n",
       "      <td>49.2</td>\n",
       "      <td>0.002048</td>\n",
       "      <td>-0.001011</td>\n",
       "      <td>-0.001934</td>\n",
       "      <td>-0.002838</td>\n",
       "      <td>-0.000373</td>\n",
       "    </tr>\n",
       "    <tr>\n",
       "      <th>2022-10-01</th>\n",
       "      <td>-0.159272</td>\n",
       "      <td>-3.66</td>\n",
       "      <td>0.55</td>\n",
       "      <td>48.1</td>\n",
       "      <td>0.004871</td>\n",
       "      <td>0.004048</td>\n",
       "      <td>0.000966</td>\n",
       "      <td>-0.004092</td>\n",
       "      <td>0.001007</td>\n",
       "    </tr>\n",
       "    <tr>\n",
       "      <th>2022-09-01</th>\n",
       "      <td>-0.147213</td>\n",
       "      <td>-4.39</td>\n",
       "      <td>-0.02</td>\n",
       "      <td>49.5</td>\n",
       "      <td>0.004119</td>\n",
       "      <td>0.002149</td>\n",
       "      <td>0.002906</td>\n",
       "      <td>-0.005962</td>\n",
       "      <td>0.005605</td>\n",
       "    </tr>\n",
       "    <tr>\n",
       "      <th>2022-08-01</th>\n",
       "      <td>-0.010078</td>\n",
       "      <td>-5.10</td>\n",
       "      <td>0.15</td>\n",
       "      <td>50.4</td>\n",
       "      <td>0.002346</td>\n",
       "      <td>-0.000354</td>\n",
       "      <td>-0.000970</td>\n",
       "      <td>-0.000194</td>\n",
       "      <td>0.006278</td>\n",
       "    </tr>\n",
       "    <tr>\n",
       "      <th>2022-07-01</th>\n",
       "      <td>-0.081122</td>\n",
       "      <td>-5.81</td>\n",
       "      <td>0.06</td>\n",
       "      <td>51.7</td>\n",
       "      <td>-0.000339</td>\n",
       "      <td>-0.000118</td>\n",
       "      <td>0.004857</td>\n",
       "      <td>0.001332</td>\n",
       "      <td>0.006438</td>\n",
       "    </tr>\n",
       "    <tr>\n",
       "      <th>...</th>\n",
       "      <td>...</td>\n",
       "      <td>...</td>\n",
       "      <td>...</td>\n",
       "      <td>...</td>\n",
       "      <td>...</td>\n",
       "      <td>...</td>\n",
       "      <td>...</td>\n",
       "      <td>...</td>\n",
       "      <td>...</td>\n",
       "    </tr>\n",
       "    <tr>\n",
       "      <th>2013-08-01</th>\n",
       "      <td>-0.006983</td>\n",
       "      <td>1.24</td>\n",
       "      <td>1.45</td>\n",
       "      <td>47.7</td>\n",
       "      <td>0.002384</td>\n",
       "      <td>0.001202</td>\n",
       "      <td>0.005018</td>\n",
       "      <td>0.005520</td>\n",
       "      <td>0.001804</td>\n",
       "    </tr>\n",
       "    <tr>\n",
       "      <th>2013-07-01</th>\n",
       "      <td>0.050629</td>\n",
       "      <td>0.71</td>\n",
       "      <td>0.90</td>\n",
       "      <td>48.2</td>\n",
       "      <td>0.001956</td>\n",
       "      <td>0.000394</td>\n",
       "      <td>0.000988</td>\n",
       "      <td>0.004287</td>\n",
       "      <td>-0.000822</td>\n",
       "    </tr>\n",
       "    <tr>\n",
       "      <th>2013-06-01</th>\n",
       "      <td>-0.073600</td>\n",
       "      <td>0.80</td>\n",
       "      <td>0.90</td>\n",
       "      <td>49.2</td>\n",
       "      <td>0.002378</td>\n",
       "      <td>0.002397</td>\n",
       "      <td>0.000000</td>\n",
       "      <td>0.005321</td>\n",
       "      <td>-0.000303</td>\n",
       "    </tr>\n",
       "    <tr>\n",
       "      <th>2013-05-01</th>\n",
       "      <td>-0.015283</td>\n",
       "      <td>0.77</td>\n",
       "      <td>1.35</td>\n",
       "      <td>50.4</td>\n",
       "      <td>0.000414</td>\n",
       "      <td>0.001779</td>\n",
       "      <td>-0.006008</td>\n",
       "      <td>0.003988</td>\n",
       "      <td>0.002603</td>\n",
       "    </tr>\n",
       "    <tr>\n",
       "      <th>2013-04-01</th>\n",
       "      <td>0.019424</td>\n",
       "      <td>0.56</td>\n",
       "      <td>1.10</td>\n",
       "      <td>51.6</td>\n",
       "      <td>-0.002090</td>\n",
       "      <td>-0.001040</td>\n",
       "      <td>0.001975</td>\n",
       "      <td>0.003397</td>\n",
       "      <td>0.005008</td>\n",
       "    </tr>\n",
       "  </tbody>\n",
       "</table>\n",
       "<p>116 rows × 9 columns</p>\n",
       "</div>"
      ],
      "text/plain": [
       "            HK50 ret.  US10Y  CN10Y  CAIXIN  US_CPI_FRED_all ret.  \\\n",
       "2022-11-01   0.236049  -3.44   1.32    49.2              0.002048   \n",
       "2022-10-01  -0.159272  -3.66   0.55    48.1              0.004871   \n",
       "2022-09-01  -0.147213  -4.39  -0.02    49.5              0.004119   \n",
       "2022-08-01  -0.010078  -5.10   0.15    50.4              0.002346   \n",
       "2022-07-01  -0.081122  -5.81   0.06    51.7             -0.000339   \n",
       "...               ...    ...    ...     ...                   ...   \n",
       "2013-08-01  -0.006983   1.24   1.45    47.7              0.002384   \n",
       "2013-07-01   0.050629   0.71   0.90    48.2              0.001956   \n",
       "2013-06-01  -0.073600   0.80   0.90    49.2              0.002378   \n",
       "2013-05-01  -0.015283   0.77   1.35    50.4              0.000414   \n",
       "2013-04-01   0.019424   0.56   1.10    51.6             -0.002090   \n",
       "\n",
       "            US_CPI_OECD ret.  CN_CPI_OECD ret.  US_M2 ret.  EU_M2 ret.  \n",
       "2022-11-01         -0.001011         -0.001934   -0.002838   -0.000373  \n",
       "2022-10-01          0.004048          0.000966   -0.004092    0.001007  \n",
       "2022-09-01          0.002149          0.002906   -0.005962    0.005605  \n",
       "2022-08-01         -0.000354         -0.000970   -0.000194    0.006278  \n",
       "2022-07-01         -0.000118          0.004857    0.001332    0.006438  \n",
       "...                      ...               ...         ...         ...  \n",
       "2013-08-01          0.001202          0.005018    0.005520    0.001804  \n",
       "2013-07-01          0.000394          0.000988    0.004287   -0.000822  \n",
       "2013-06-01          0.002397          0.000000    0.005321   -0.000303  \n",
       "2013-05-01          0.001779         -0.006008    0.003988    0.002603  \n",
       "2013-04-01         -0.001040          0.001975    0.003397    0.005008  \n",
       "\n",
       "[116 rows x 9 columns]"
      ]
     },
     "execution_count": 38,
     "metadata": {},
     "output_type": "execute_result"
    }
   ],
   "source": [
    "# leave out 'CN_M2 ret.; dataset only goes up to 2018.\n",
    "macro_monthly_df[['HK50 ret.', 'US10Y', 'CN10Y', 'CAIXIN', 'US_CPI_FRED_all ret.',\n",
    "       'US_CPI_OECD ret.', 'CN_CPI_OECD ret.', 'US_M2 ret.', \n",
    "       'EU_M2 ret.']].dropna()"
   ]
  },
  {
   "cell_type": "code",
   "execution_count": 39,
   "id": "3cea3d29-8b44-498c-9ddd-5fa05f255616",
   "metadata": {
    "tags": []
   },
   "outputs": [],
   "source": [
    "macro_monthly_df_short = macro_monthly_df[['HK50 ret.', 'US10Y', 'CN10Y', 'CAIXIN', 'US_CPI_FRED_all ret.',\n",
    "       'US_CPI_OECD ret.', 'CN_CPI_OECD ret.', 'US_M2 ret.', \n",
    "       'EU_M2 ret.']].dropna()"
   ]
  },
  {
   "cell_type": "code",
   "execution_count": 40,
   "id": "56db38ec-5b7a-40cb-9f44-08065e8deda8",
   "metadata": {
    "tags": []
   },
   "outputs": [],
   "source": [
    "# new method using dropna to avoid look-ahead bias\n",
    "list_of_exo = list(macro_monthly_df_short.keys())\n",
    "list_of_exo.remove('HK50 ret.')\n",
    "list_of_exo\n",
    "\n",
    "monthly_models_OLS_coinc = {}\n",
    "\n",
    "for elem in list_of_exo:\n",
    "    X = macro_monthly_df_short[elem]['2013-04-01':'2022-11-01'].dropna()\n",
    "    y = macro_monthly_df_short['HK50 ret.']['2013-04-01':'2022-11-01'].dropna()\n",
    "    y = y.reindex(X.index)\n",
    "    \n",
    "    X = sm.add_constant(X)\n",
    "    X = StandardScaler().fit_transform(X)\n",
    "    monthly_models_OLS_coinc[elem] = sm.OLS(y, X).fit() "
   ]
  },
  {
   "cell_type": "markdown",
   "id": "cc8ca093-8d15-4f83-b413-811332f7e803",
   "metadata": {},
   "source": [
    "### 5.2.1 Indicators are assumed to lead the HSI"
   ]
  },
  {
   "cell_type": "code",
   "execution_count": 41,
   "id": "d70a4d2a-1fc5-43cc-8319-1759975ddb4e",
   "metadata": {
    "tags": []
   },
   "outputs": [],
   "source": [
    "# leading indicator variables and date ranges\n",
    "#macro_monthly_df_short.shift(1)['2013-04-01':'2022-11-01'].dropna() # 5 days. Dates ['2013-04-01':'2022-10-01']\n",
    "#macro_monthly_df_short.shift(3)['2013-04-01':'2022-11-01'].dropna() # 20 days. Dates ['2013-04-01':'2022-08-01']\n",
    "#macro_monthly_df_short.shift(6)['2013-04-01':'2022-11-01'].dropna() # 60 days. Dates ['2013-04-01':'2022-05-01']"
   ]
  },
  {
   "cell_type": "code",
   "execution_count": 42,
   "id": "e77dd88b-66f6-497c-8ce7-46f7dec1b746",
   "metadata": {
    "tags": []
   },
   "outputs": [],
   "source": [
    "# indicators lead the HSI by 1 month. \n",
    "\n",
    "list_of_exo = list(macro_monthly_df_short.keys())\n",
    "list_of_exo.remove('HK50 ret.')\n",
    "list_of_exo\n",
    "\n",
    "monthly_models_OLS_X1R = {}\n",
    "\n",
    "for elem in list_of_exo:\n",
    "    X = macro_monthly_df_short[elem].shift(1)['2013-04-01':'2022-10-01'].dropna()\n",
    "    y = macro_monthly_df_short['HK50 ret.']['2013-04-01':'2022-10-01'].dropna()\n",
    "    y = y.reindex(X.index)\n",
    "    \n",
    "    X = sm.add_constant(X)\n",
    "    X = StandardScaler().fit_transform(X)\n",
    "    monthly_models_OLS_X1R[elem] = sm.OLS(y, X).fit() "
   ]
  },
  {
   "cell_type": "code",
   "execution_count": 43,
   "id": "983db1c2-fc14-45ff-afd4-bce7cade8e26",
   "metadata": {},
   "outputs": [],
   "source": [
    "# indicators lead the HSI by 3 months. \n",
    "\n",
    "list_of_exo = list(macro_monthly_df_short.keys())\n",
    "list_of_exo.remove('HK50 ret.')\n",
    "list_of_exo\n",
    "\n",
    "monthly_models_OLS_X3R = {}\n",
    "\n",
    "for elem in list_of_exo:\n",
    "    X = macro_monthly_df_short[elem].shift(3)['2013-04-01':'2022-08-01'].dropna()\n",
    "    y = macro_monthly_df_short['HK50 ret.']['2013-04-01':'2022-08-01'].dropna()\n",
    "    y = y.reindex(X.index)\n",
    "    \n",
    "    X = sm.add_constant(X)\n",
    "    X = StandardScaler().fit_transform(X)\n",
    "    monthly_models_OLS_X3R[elem] = sm.OLS(y, X).fit() "
   ]
  },
  {
   "cell_type": "code",
   "execution_count": 44,
   "id": "014366a7-8161-4160-9fd7-bb5cd0526de1",
   "metadata": {
    "tags": []
   },
   "outputs": [],
   "source": [
    "# indicators lead the HSI by 6 months. \n",
    "\n",
    "list_of_exo = list(macro_monthly_df_short.keys())\n",
    "list_of_exo.remove('HK50 ret.')\n",
    "list_of_exo\n",
    "\n",
    "monthly_models_OLS_X6R = {}\n",
    "\n",
    "for elem in list_of_exo:\n",
    "    X = macro_monthly_df_short[elem].shift(6)['2013-04-01':'2022-05-01'].dropna()\n",
    "    y = macro_monthly_df_short['HK50 ret.']['2013-04-01':'2022-05-01'].dropna()\n",
    "    y = y.reindex(X.index)\n",
    "    \n",
    "    X = sm.add_constant(X)\n",
    "    X = StandardScaler().fit_transform(X)\n",
    "    monthly_models_OLS_X6R[elem] = sm.OLS(y, X).fit() "
   ]
  },
  {
   "cell_type": "markdown",
   "id": "b16b5513-62de-44ad-b093-7503887c179d",
   "metadata": {},
   "source": [
    "### 5.2.2 Indicators are assumed to lag the HSI"
   ]
  },
  {
   "cell_type": "code",
   "execution_count": 45,
   "id": "511a7a07-1eb4-467c-a5db-4db2eb083f0e",
   "metadata": {
    "tags": []
   },
   "outputs": [],
   "source": [
    "# lagging indicator variables and date ranges\n",
    "#macro_monthly_df_short.shift(-1)['2013-04-01':'2022-11-01'].dropna() # 1 month. Dates ['2013-05-01':'2022-11-01']\n",
    "#macro_monthly_df_short.shift(-3)['2013-04-01':'2022-11-01'].dropna() # 3 months. Dates ['2013-07-01':'2022-11-01']\n",
    "#macro_monthly_df_short.shift(-6)['2013-04-01':'2022-11-01'].dropna() # 6 months. Dates ['2013-10-01':'2022-11-01']"
   ]
  },
  {
   "cell_type": "code",
   "execution_count": 46,
   "id": "d70e416c-721a-4de0-a555-91e4dc086740",
   "metadata": {
    "tags": []
   },
   "outputs": [],
   "source": [
    "# indicators lag the HSI by 1 month. \n",
    "\n",
    "list_of_exo = list(macro_monthly_df_short.keys())\n",
    "list_of_exo.remove('HK50 ret.')\n",
    "list_of_exo\n",
    "\n",
    "monthly_models_OLS_X1L = {}\n",
    "\n",
    "for elem in list_of_exo:\n",
    "    X = macro_monthly_df_short[elem].shift(-1)['2013-05-01':'2022-11-01'].dropna()\n",
    "    y = macro_monthly_df_short['HK50 ret.']['2013-05-01':'2022-11-01'].dropna()\n",
    "    y = y.reindex(X.index)\n",
    "    \n",
    "    X = sm.add_constant(X)\n",
    "    X = StandardScaler().fit_transform(X)\n",
    "    monthly_models_OLS_X1L[elem] = sm.OLS(y, X).fit() "
   ]
  },
  {
   "cell_type": "code",
   "execution_count": 47,
   "id": "f3f6723a-daca-43e6-b379-8f420164010d",
   "metadata": {
    "tags": []
   },
   "outputs": [],
   "source": [
    "# indicators lag the HSI by 3 months. \n",
    "\n",
    "list_of_exo = list(macro_monthly_df_short.keys())\n",
    "list_of_exo.remove('HK50 ret.')\n",
    "list_of_exo\n",
    "\n",
    "monthly_models_OLS_X3L = {}\n",
    "\n",
    "for elem in list_of_exo:\n",
    "    X = macro_monthly_df_short[elem].shift(-3)['2013-07-01':'2022-11-01'].dropna()\n",
    "    y = macro_monthly_df_short['HK50 ret.']['2013-07-01':'2022-11-01'].dropna()\n",
    "    y = y.reindex(X.index)\n",
    "    \n",
    "    X = sm.add_constant(X)\n",
    "    X = StandardScaler().fit_transform(X)\n",
    "    monthly_models_OLS_X3L[elem] = sm.OLS(y, X).fit() "
   ]
  },
  {
   "cell_type": "code",
   "execution_count": 48,
   "id": "c02d7579-382f-46b7-9ccf-868d836be9ed",
   "metadata": {
    "tags": []
   },
   "outputs": [],
   "source": [
    "# indicators lag the HSI by 6 months. \n",
    "\n",
    "list_of_exo = list(macro_monthly_df_short.keys())\n",
    "list_of_exo.remove('HK50 ret.')\n",
    "list_of_exo\n",
    "\n",
    "monthly_models_OLS_X6L = {}\n",
    "\n",
    "for elem in list_of_exo:\n",
    "    X = macro_monthly_df_short[elem].shift(-6)['2013-10-01':'2022-11-01'].dropna()\n",
    "    y = macro_monthly_df_short['HK50 ret.']['2013-10-01':'2022-11-01'].dropna()\n",
    "    y = y.reindex(X.index)\n",
    "    \n",
    "    X = sm.add_constant(X)\n",
    "    X = StandardScaler().fit_transform(X)\n",
    "    monthly_models_OLS_X6L[elem] = sm.OLS(y, X).fit() "
   ]
  },
  {
   "cell_type": "markdown",
   "id": "5ac15010-7ae0-4488-bc26-12bb54c0bfcf",
   "metadata": {},
   "source": [
    "## 5.3 Quarterly models"
   ]
  },
  {
   "cell_type": "code",
   "execution_count": 93,
   "id": "9d06165a-eb06-41ed-99ef-5cbc134e4f74",
   "metadata": {
    "tags": []
   },
   "outputs": [],
   "source": [
    "# new method using dropna to avoid look-ahead bias\n",
    "list_of_exo = list(macro_quarterly_df.keys())\n",
    "list_of_exo.remove('HK50 ret.')\n",
    "list_of_exo\n",
    "\n",
    "quarterly_models_OLS_coinc = {}\n",
    "\n",
    "for elem in list_of_exo:\n",
    "    X = macro_quarterly_df[elem].dropna()\n",
    "    y = macro_quarterly_df['HK50 ret.'].dropna()\n",
    "    y = y.reindex(X.index)\n",
    "    \n",
    "    X = sm.add_constant(X)\n",
    "    X = StandardScaler().fit_transform(X)\n",
    "    quarterly_models_OLS_coinc[elem] = sm.OLS(y, X).fit() "
   ]
  },
  {
   "cell_type": "markdown",
   "id": "fcc146b1-a833-447e-a029-6c2c807f79f0",
   "metadata": {},
   "source": [
    "### 5.3.1 Indicators are assumed to lead the HSI"
   ]
  },
  {
   "cell_type": "code",
   "execution_count": 97,
   "id": "5be3bbfe-bca9-4543-a961-4526a78ee3d4",
   "metadata": {
    "tags": []
   },
   "outputs": [],
   "source": [
    "# indicators lead the HSI by 1 quarter. \n",
    "\n",
    "list_of_exo = list(macro_quarterly_df.keys())\n",
    "list_of_exo.remove('HK50 ret.')\n",
    "list_of_exo\n",
    "\n",
    "quarterly_models_OLS_X1R = {}\n",
    "\n",
    "for elem in list_of_exo:\n",
    "    X = macro_quarterly_df[elem].shift(1).iloc[2:].dropna()\n",
    "    y = macro_quarterly_df['HK50 ret.'].iloc[1:].dropna()\n",
    "    y = y.reindex(X.index)\n",
    "    \n",
    "    X = sm.add_constant(X)\n",
    "    X = StandardScaler().fit_transform(X)\n",
    "    quarterly_models_OLS_X1R[elem] = sm.OLS(y, X, missing='drop').fit() "
   ]
  },
  {
   "cell_type": "code",
   "execution_count": 98,
   "id": "e84ff622-c3d0-4fe4-8b32-866acd5448ce",
   "metadata": {
    "tags": []
   },
   "outputs": [],
   "source": [
    "# indicators lead the HSI by 2 quarter. \n",
    "\n",
    "list_of_exo = list(macro_quarterly_df.keys())\n",
    "list_of_exo.remove('HK50 ret.')\n",
    "list_of_exo\n",
    "\n",
    "quarterly_models_OLS_X2R = {}\n",
    "\n",
    "for elem in list_of_exo:\n",
    "    X = macro_quarterly_df[elem].shift(2).iloc[2:].dropna()\n",
    "    y = macro_quarterly_df['HK50 ret.'].iloc[2:].dropna()\n",
    "    y = y.reindex(X.index)\n",
    "    \n",
    "    X = sm.add_constant(X)\n",
    "    X = StandardScaler().fit_transform(X)\n",
    "    quarterly_models_OLS_X2R[elem] = sm.OLS(y, X, missing='drop').fit() "
   ]
  },
  {
   "cell_type": "code",
   "execution_count": 99,
   "id": "a8a71245-1b98-4d3d-a674-ca90f9f5f3d0",
   "metadata": {
    "tags": []
   },
   "outputs": [],
   "source": [
    "# indicators lead the HSI by 4 quarter. \n",
    "\n",
    "list_of_exo = list(macro_quarterly_df.keys())\n",
    "list_of_exo.remove('HK50 ret.')\n",
    "list_of_exo\n",
    "\n",
    "quarterly_models_OLS_X4R = {}\n",
    "\n",
    "for elem in list_of_exo:\n",
    "    X = macro_quarterly_df[elem].shift(4).iloc[4:].dropna()\n",
    "    y = macro_quarterly_df['HK50 ret.'].iloc[4:].dropna()\n",
    "    y = y.reindex(X.index)\n",
    "    \n",
    "    X = sm.add_constant(X)\n",
    "    X = StandardScaler().fit_transform(X)\n",
    "    quarterly_models_OLS_X4R[elem] = sm.OLS(y, X, missing='drop').fit() "
   ]
  },
  {
   "cell_type": "markdown",
   "id": "c04094e0-0955-42fe-83fa-a93d8b937877",
   "metadata": {
    "tags": []
   },
   "source": [
    "### 5.3.2 Indicators are assumed to lags the HSI"
   ]
  },
  {
   "cell_type": "code",
   "execution_count": 100,
   "id": "0a8f81c4-0443-4b33-88b1-b83799751771",
   "metadata": {
    "tags": []
   },
   "outputs": [],
   "source": [
    "# indicators lags the HSI by 1 quarter. \n",
    "\n",
    "list_of_exo = list(macro_quarterly_df.keys())\n",
    "list_of_exo.remove('HK50 ret.')\n",
    "list_of_exo\n",
    "\n",
    "quarterly_models_OLS_X1L = {}\n",
    "\n",
    "for elem in list_of_exo:\n",
    "    X = macro_quarterly_df[elem].shift(-1).iloc[:-2].dropna()\n",
    "    y = macro_quarterly_df['HK50 ret.'].iloc[:-2].dropna()\n",
    "    y = y.reindex(X.index)\n",
    "    \n",
    "    X = sm.add_constant(X)\n",
    "    X = StandardScaler().fit_transform(X)\n",
    "    quarterly_models_OLS_X1L[elem] = sm.OLS(y, X).fit() "
   ]
  },
  {
   "cell_type": "code",
   "execution_count": 101,
   "id": "dc9627f7-ce3b-460e-a99b-c8aace28eb89",
   "metadata": {
    "tags": []
   },
   "outputs": [],
   "source": [
    "# indicators lags the HSI by 2 quarters. \n",
    "\n",
    "list_of_exo = list(macro_quarterly_df.keys())\n",
    "list_of_exo.remove('HK50 ret.')\n",
    "list_of_exo\n",
    "\n",
    "quarterly_models_OLS_X2L = {}\n",
    "\n",
    "for elem in list_of_exo:\n",
    "    X = macro_quarterly_df[elem].shift(-2).iloc[:-3].dropna()\n",
    "    y = macro_quarterly_df['HK50 ret.'].iloc[:-3].dropna()\n",
    "    y = y.reindex(X.index)\n",
    "    \n",
    "    X = sm.add_constant(X)\n",
    "    X = StandardScaler().fit_transform(X)\n",
    "    quarterly_models_OLS_X2L[elem] = sm.OLS(y, X).fit() "
   ]
  },
  {
   "cell_type": "code",
   "execution_count": 102,
   "id": "03b566e5-f591-48de-bbcd-b58bcf28acd5",
   "metadata": {
    "tags": []
   },
   "outputs": [],
   "source": [
    "# indicators lags the HSI by 4 quarters. \n",
    "\n",
    "list_of_exo = list(macro_quarterly_df.keys())\n",
    "list_of_exo.remove('HK50 ret.')\n",
    "list_of_exo\n",
    "\n",
    "quarterly_models_OLS_X4L = {}\n",
    "\n",
    "for elem in list_of_exo:\n",
    "    X = macro_quarterly_df[elem].shift(-4).iloc[:-5].dropna()\n",
    "    y = macro_quarterly_df['HK50 ret.'].iloc[:-5].dropna()\n",
    "    y = y.reindex(X.index)\n",
    "    \n",
    "    X = sm.add_constant(X)\n",
    "    X = StandardScaler().fit_transform(X)\n",
    "    quarterly_models_OLS_X4L[elem] = sm.OLS(y, X).fit() "
   ]
  },
  {
   "cell_type": "markdown",
   "id": "f3f8c580-3d35-48af-b7a9-ad24c9e47fe3",
   "metadata": {},
   "source": [
    "# 6 OLS regression results"
   ]
  },
  {
   "cell_type": "code",
   "execution_count": 103,
   "id": "333e69e6-5b39-4a6f-8b47-ee703190ba6b",
   "metadata": {
    "tags": []
   },
   "outputs": [
    {
     "name": "stdout",
     "output_type": "stream",
     "text": [
      "Exo variable: DXY ret.. AIC: -13901.292999041889\n",
      "Exo variable: HSIL. AIC: nan\n",
      "Exo variable: SPY ret.. AIC: -14023.763804565107\n",
      "Exo variable: AUDUSD ret.. AIC: -14038.873080877987\n",
      "Exo variable: AUDCNY ret.. AIC: -13953.615816410176\n",
      "Exo variable: CNYHKD ret.. AIC: -14018.601417065911\n",
      "Exo variable: USDHKD ret.. AIC: -13996.312147841098\n",
      "Exo variable: HKDEUR ret.. AIC: -13895.15830372911\n",
      "Exo variable: HKDAUD ret.. AIC: -14024.208682084183\n"
     ]
    }
   ],
   "source": [
    "for elem in daily_models_OLS_coinc.keys():\n",
    "    print('Exo variable: '+str(elem)+'. AIC: '+str(daily_models_OLS_coinc[elem].aic))    "
   ]
  },
  {
   "cell_type": "code",
   "execution_count": 104,
   "id": "27b3c2a8-8202-4235-beca-382135616c06",
   "metadata": {
    "tags": []
   },
   "outputs": [
    {
     "name": "stdout",
     "output_type": "stream",
     "text": [
      "Exo variable (index leads +5): DXY ret.. AIC: -13875.85061129116\n",
      "Exo variable (index leads +5): HSIL. AIC: -13893.260351055585\n",
      "Exo variable (index leads +5): SPY ret.. AIC: -13874.23897175151\n",
      "Exo variable (index leads +5): AUDUSD ret.. AIC: -13875.994084554182\n",
      "Exo variable (index leads +5): AUDCNY ret.. AIC: -13876.5169644413\n",
      "Exo variable (index leads +5): CNYHKD ret.. AIC: -13872.10681976689\n",
      "Exo variable (index leads +5): USDHKD ret.. AIC: -13872.0995069368\n",
      "Exo variable (index leads +5): HKDEUR ret.. AIC: -13874.689401782049\n",
      "Exo variable (index leads +5): HKDAUD ret.. AIC: -13876.28123080331\n"
     ]
    }
   ],
   "source": [
    "for elem in daily_models_OLS_X5R.keys():\n",
    "    print('Exo variable (index leads +5): '+str(elem)+'. AIC: '+str(daily_models_OLS_X5R[elem].aic))    "
   ]
  },
  {
   "cell_type": "code",
   "execution_count": 105,
   "id": "6eb4d6a1-80c0-4553-81f5-7e807ac5c5ba",
   "metadata": {
    "tags": []
   },
   "outputs": [
    {
     "name": "stdout",
     "output_type": "stream",
     "text": [
      "Exo variable (index leads +20): DXY ret.. AIC: -13787.068533014415\n",
      "Exo variable (index leads +20): HSIL. AIC: -13798.185839018268\n",
      "Exo variable (index leads +20): SPY ret.. AIC: -13788.427750321694\n",
      "Exo variable (index leads +20): AUDUSD ret.. AIC: -13789.563468587563\n",
      "Exo variable (index leads +20): AUDCNY ret.. AIC: -13794.528739447338\n",
      "Exo variable (index leads +20): CNYHKD ret.. AIC: -13795.685090244977\n",
      "Exo variable (index leads +20): USDHKD ret.. AIC: -13787.783270970303\n",
      "Exo variable (index leads +20): HKDEUR ret.. AIC: -13787.031860597464\n",
      "Exo variable (index leads +20): HKDAUD ret.. AIC: -13789.172499722994\n"
     ]
    }
   ],
   "source": [
    "for elem in daily_models_OLS_X20R.keys():\n",
    "    print('Exo variable (index leads +20): '+str(elem)+'. AIC: '+str(daily_models_OLS_X20R[elem].aic))    "
   ]
  },
  {
   "cell_type": "code",
   "execution_count": 106,
   "id": "6f1fd2aa-84e1-4def-9eda-65d438a06db6",
   "metadata": {
    "tags": []
   },
   "outputs": [
    {
     "name": "stdout",
     "output_type": "stream",
     "text": [
      "Exo variable (index leads +60): DXY ret.. AIC: -13671.87683115189\n",
      "Exo variable (index leads +60): HSIL. AIC: -13659.84334413107\n",
      "Exo variable (index leads +60): SPY ret.. AIC: -13658.31874634209\n",
      "Exo variable (index leads +60): AUDUSD ret.. AIC: -13681.399769389023\n",
      "Exo variable (index leads +60): AUDCNY ret.. AIC: -13675.184464116111\n",
      "Exo variable (index leads +60): CNYHKD ret.. AIC: -13663.383792762033\n",
      "Exo variable (index leads +60): USDHKD ret.. AIC: -13659.903810865802\n",
      "Exo variable (index leads +60): HKDEUR ret.. AIC: -13666.896337143738\n",
      "Exo variable (index leads +60): HKDAUD ret.. AIC: -13681.34325361039\n"
     ]
    }
   ],
   "source": [
    "for elem in daily_models_OLS_X60R.keys():\n",
    "    print('Exo variable (index leads +60): '+str(elem)+'. AIC: '+str(daily_models_OLS_X60R[elem].aic))    "
   ]
  },
  {
   "cell_type": "code",
   "execution_count": 107,
   "id": "2e157551-fb3d-48a9-ac4d-22a7fa3c736f",
   "metadata": {
    "tags": []
   },
   "outputs": [
    {
     "name": "stdout",
     "output_type": "stream",
     "text": [
      "Exo variable (index lags +5): DXY ret.. AIC: -13861.342236152122\n",
      "Exo variable (index lags +5): HSIL. AIC: -13861.049401399574\n",
      "Exo variable (index lags +5): SPY ret.. AIC: -13870.660666533553\n",
      "Exo variable (index lags +5): AUDUSD ret.. AIC: -13859.863410555954\n",
      "Exo variable (index lags +5): AUDCNY ret.. AIC: -13859.854205089152\n",
      "Exo variable (index lags +5): CNYHKD ret.. AIC: -13860.057146867544\n",
      "Exo variable (index lags +5): USDHKD ret.. AIC: -13861.485158368621\n",
      "Exo variable (index lags +5): HKDEUR ret.. AIC: -13860.546623446655\n",
      "Exo variable (index lags +5): HKDAUD ret.. AIC: -13859.923947123276\n"
     ]
    }
   ],
   "source": [
    "for elem in daily_models_OLS_X5L.keys():\n",
    "    print('Exo variable (index lags +5): '+str(elem)+'. AIC: '+str(daily_models_OLS_X5L[elem].aic))    "
   ]
  },
  {
   "cell_type": "code",
   "execution_count": 108,
   "id": "dab6ad00-6ce0-4483-b655-ffe9ef748a34",
   "metadata": {
    "tags": []
   },
   "outputs": [
    {
     "name": "stdout",
     "output_type": "stream",
     "text": [
      "Exo variable (index lags +20): DXY ret.. AIC: -13770.69135465655\n",
      "Exo variable (index lags +20): HSIL. AIC: -13771.145311565377\n",
      "Exo variable (index lags +20): SPY ret.. AIC: -13771.259859913409\n",
      "Exo variable (index lags +20): AUDUSD ret.. AIC: -13772.13267976529\n",
      "Exo variable (index lags +20): AUDCNY ret.. AIC: -13770.70202021135\n",
      "Exo variable (index lags +20): CNYHKD ret.. AIC: -13773.091743680821\n",
      "Exo variable (index lags +20): USDHKD ret.. AIC: -13770.148495037864\n",
      "Exo variable (index lags +20): HKDEUR ret.. AIC: -13770.032169688182\n",
      "Exo variable (index lags +20): HKDAUD ret.. AIC: -13772.193043843277\n"
     ]
    }
   ],
   "source": [
    "for elem in daily_models_OLS_X20L.keys():\n",
    "    print('Exo variable (index lags +20): '+str(elem)+'. AIC: '+str(daily_models_OLS_X20L[elem].aic))    "
   ]
  },
  {
   "cell_type": "code",
   "execution_count": 109,
   "id": "6b2c4e7b-3964-45da-a1b8-1ef26b97a612",
   "metadata": {
    "tags": []
   },
   "outputs": [
    {
     "name": "stdout",
     "output_type": "stream",
     "text": [
      "Exo variable (index lags +60): DXY ret.. AIC: -13527.79891719664\n",
      "Exo variable (index lags +60): HSIL. AIC: -13527.713145800208\n",
      "Exo variable (index lags +60): SPY ret.. AIC: -13528.74917544156\n",
      "Exo variable (index lags +60): AUDUSD ret.. AIC: -13527.6889202389\n",
      "Exo variable (index lags +60): AUDCNY ret.. AIC: -13527.704476102037\n",
      "Exo variable (index lags +60): CNYHKD ret.. AIC: -13528.280603731528\n",
      "Exo variable (index lags +60): USDHKD ret.. AIC: -13527.768112422953\n",
      "Exo variable (index lags +60): HKDEUR ret.. AIC: -13527.7847437321\n",
      "Exo variable (index lags +60): HKDAUD ret.. AIC: -13527.675304724227\n"
     ]
    }
   ],
   "source": [
    "for elem in daily_models_OLS_X60L.keys():\n",
    "    print('Exo variable (index lags +60): '+str(elem)+'. AIC: '+str(daily_models_OLS_X60L[elem].aic))    "
   ]
  },
  {
   "cell_type": "code",
   "execution_count": 110,
   "id": "31480a1e-27b4-4bc7-9eea-9680611d2725",
   "metadata": {
    "tags": []
   },
   "outputs": [
    {
     "name": "stdout",
     "output_type": "stream",
     "text": [
      "Exo variable: US10Y. AIC: -339.7284991207034\n",
      "Exo variable: CN10Y. AIC: -342.1051765411371\n",
      "Exo variable: CAIXIN. AIC: -339.86155890092436\n",
      "Exo variable: US_CPI_FRED_all ret.. AIC: -336.5421448395854\n",
      "Exo variable: US_CPI_OECD ret.. AIC: -336.9575669182635\n",
      "Exo variable: CN_CPI_OECD ret.. AIC: -337.7219773898544\n",
      "Exo variable: US_M2 ret.. AIC: -336.47928298218767\n",
      "Exo variable: EU_M2 ret.. AIC: -336.9189446590333\n"
     ]
    }
   ],
   "source": [
    "for elem in monthly_models_OLS_coinc.keys():\n",
    "    print('Exo variable: '+str(elem)+'. AIC: '+str(monthly_models_OLS_coinc[elem].aic))    "
   ]
  },
  {
   "cell_type": "code",
   "execution_count": 111,
   "id": "6c42db9e-bcfd-44c4-ab2c-fe77669e6416",
   "metadata": {
    "tags": []
   },
   "outputs": [
    {
     "name": "stdout",
     "output_type": "stream",
     "text": [
      "Exo variable (index leads +1): US10Y. AIC: -356.2002925897521\n",
      "Exo variable (index leads +1): CN10Y. AIC: -354.7232551686149\n",
      "Exo variable (index leads +1): CAIXIN. AIC: -357.06108218647483\n",
      "Exo variable (index leads +1): US_CPI_FRED_all ret.. AIC: -352.9109589380694\n",
      "Exo variable (index leads +1): US_CPI_OECD ret.. AIC: -353.3284143273631\n",
      "Exo variable (index leads +1): CN_CPI_OECD ret.. AIC: -352.41538023142965\n",
      "Exo variable (index leads +1): US_M2 ret.. AIC: -351.46696361502944\n",
      "Exo variable (index leads +1): EU_M2 ret.. AIC: -351.46609978021314\n"
     ]
    }
   ],
   "source": [
    "for elem in monthly_models_OLS_X1R.keys():\n",
    "    print('Exo variable (index leads +1): '+str(elem)+'. AIC: '+str(monthly_models_OLS_X1R[elem].aic))    "
   ]
  },
  {
   "cell_type": "code",
   "execution_count": 112,
   "id": "bb4fe98d-be4b-4674-9b96-0cc3432b50a5",
   "metadata": {
    "tags": []
   },
   "outputs": [
    {
     "name": "stdout",
     "output_type": "stream",
     "text": [
      "Exo variable (index leads +3): US10Y. AIC: -363.69027442224524\n",
      "Exo variable (index leads +3): CN10Y. AIC: -364.36101825807634\n",
      "Exo variable (index leads +3): CAIXIN. AIC: -362.2641657058367\n",
      "Exo variable (index leads +3): US_CPI_FRED_all ret.. AIC: -362.66189079828155\n",
      "Exo variable (index leads +3): US_CPI_OECD ret.. AIC: -361.88813596671037\n",
      "Exo variable (index leads +3): CN_CPI_OECD ret.. AIC: -362.08127312130364\n",
      "Exo variable (index leads +3): US_M2 ret.. AIC: -361.8731771423494\n",
      "Exo variable (index leads +3): EU_M2 ret.. AIC: -363.6144202633001\n"
     ]
    }
   ],
   "source": [
    "for elem in monthly_models_OLS_X3R.keys():\n",
    "    print('Exo variable (index leads +3): '+str(elem)+'. AIC: '+str(monthly_models_OLS_X3R[elem].aic))    "
   ]
  },
  {
   "cell_type": "code",
   "execution_count": 113,
   "id": "435e90f7-b265-4380-93f2-571c8b2496e7",
   "metadata": {
    "tags": []
   },
   "outputs": [
    {
     "name": "stdout",
     "output_type": "stream",
     "text": [
      "Exo variable (index leads +6): US10Y. AIC: -353.16875718959545\n",
      "Exo variable (index leads +6): CN10Y. AIC: -354.50622672142674\n",
      "Exo variable (index leads +6): CAIXIN. AIC: -352.6592426652029\n",
      "Exo variable (index leads +6): US_CPI_FRED_all ret.. AIC: -352.5063416354401\n",
      "Exo variable (index leads +6): US_CPI_OECD ret.. AIC: -352.5056170784725\n",
      "Exo variable (index leads +6): CN_CPI_OECD ret.. AIC: -352.375073003564\n",
      "Exo variable (index leads +6): US_M2 ret.. AIC: -352.45804403990405\n",
      "Exo variable (index leads +6): EU_M2 ret.. AIC: -352.87283156988667\n"
     ]
    }
   ],
   "source": [
    "for elem in monthly_models_OLS_X6R.keys():\n",
    "    print('Exo variable (index leads +6): '+str(elem)+'. AIC: '+str(monthly_models_OLS_X6R[elem].aic))    "
   ]
  },
  {
   "cell_type": "code",
   "execution_count": 114,
   "id": "557b4ee3-815b-4c70-b39f-26967d679a0a",
   "metadata": {
    "tags": []
   },
   "outputs": [
    {
     "name": "stdout",
     "output_type": "stream",
     "text": [
      "Exo variable (index lags +1): US10Y. AIC: -335.6187116510965\n",
      "Exo variable (index lags +1): CN10Y. AIC: -334.9952133333631\n",
      "Exo variable (index lags +1): CAIXIN. AIC: -333.5871896659433\n",
      "Exo variable (index lags +1): US_CPI_FRED_all ret.. AIC: -334.84945414419366\n",
      "Exo variable (index lags +1): US_CPI_OECD ret.. AIC: -333.650580780084\n",
      "Exo variable (index lags +1): CN_CPI_OECD ret.. AIC: -333.81064269916993\n",
      "Exo variable (index lags +1): US_M2 ret.. AIC: -333.02400450790634\n",
      "Exo variable (index lags +1): EU_M2 ret.. AIC: -332.7346246467835\n"
     ]
    }
   ],
   "source": [
    "for elem in monthly_models_OLS_X1L.keys():\n",
    "    print('Exo variable (index lags +1): '+str(elem)+'. AIC: '+str(monthly_models_OLS_X1L[elem].aic))    "
   ]
  },
  {
   "cell_type": "code",
   "execution_count": 115,
   "id": "4d2c9277-5de7-4401-8fd3-b1fe48f2e8c5",
   "metadata": {
    "tags": []
   },
   "outputs": [
    {
     "name": "stdout",
     "output_type": "stream",
     "text": [
      "Exo variable (index lags +3): US10Y. AIC: -328.61459186323566\n",
      "Exo variable (index lags +3): CN10Y. AIC: -326.843634437622\n",
      "Exo variable (index lags +3): CAIXIN. AIC: -326.6078542368167\n",
      "Exo variable (index lags +3): US_CPI_FRED_all ret.. AIC: -332.5727149636218\n",
      "Exo variable (index lags +3): US_CPI_OECD ret.. AIC: -332.5567694991895\n",
      "Exo variable (index lags +3): CN_CPI_OECD ret.. AIC: -326.6075876828444\n",
      "Exo variable (index lags +3): US_M2 ret.. AIC: -327.1021026237354\n",
      "Exo variable (index lags +3): EU_M2 ret.. AIC: -326.60870436340645\n"
     ]
    }
   ],
   "source": [
    "for elem in monthly_models_OLS_X3L.keys():\n",
    "    print('Exo variable (index lags +3): '+str(elem)+'. AIC: '+str(monthly_models_OLS_X3L[elem].aic))    "
   ]
  },
  {
   "cell_type": "code",
   "execution_count": 116,
   "id": "2ad711c2-5833-4356-8c8c-bd41bbe289d7",
   "metadata": {
    "tags": []
   },
   "outputs": [
    {
     "name": "stdout",
     "output_type": "stream",
     "text": [
      "Exo variable (index lags +6): US10Y. AIC: -317.43724966029015\n",
      "Exo variable (index lags +6): CN10Y. AIC: -317.56563953996886\n",
      "Exo variable (index lags +6): CAIXIN. AIC: -316.5603159304093\n",
      "Exo variable (index lags +6): US_CPI_FRED_all ret.. AIC: -317.253508909639\n",
      "Exo variable (index lags +6): US_CPI_OECD ret.. AIC: -318.4165003263994\n",
      "Exo variable (index lags +6): CN_CPI_OECD ret.. AIC: -318.0211922154872\n",
      "Exo variable (index lags +6): US_M2 ret.. AIC: -316.9773914652551\n",
      "Exo variable (index lags +6): EU_M2 ret.. AIC: -316.8138696124736\n"
     ]
    }
   ],
   "source": [
    "for elem in monthly_models_OLS_X6L.keys():\n",
    "    print('Exo variable (index lags +6): '+str(elem)+'. AIC: '+str(monthly_models_OLS_X6L[elem].aic))    "
   ]
  },
  {
   "cell_type": "code",
   "execution_count": 117,
   "id": "69db10c6-acb1-45dc-afa5-e30892be2a56",
   "metadata": {
    "tags": []
   },
   "outputs": [
    {
     "name": "stdout",
     "output_type": "stream",
     "text": [
      "Exo variable: CN_GDP ret.. AIC: -147.02167034579026\n",
      "Exo variable: US_GDP ret.. AIC: -143.58707115404718\n"
     ]
    }
   ],
   "source": [
    "for elem in quarterly_models_OLS_coinc.keys():\n",
    "    print('Exo variable: '+str(elem)+'. AIC: '+str(quarterly_models_OLS_coinc[elem].aic))    "
   ]
  },
  {
   "cell_type": "code",
   "execution_count": 118,
   "id": "4b031a28-3adc-4983-9683-c12aaaab32f6",
   "metadata": {
    "tags": []
   },
   "outputs": [
    {
     "name": "stdout",
     "output_type": "stream",
     "text": [
      "Exo variable (index leads +1): CN_GDP ret.. AIC: -146.61436320902996\n",
      "Exo variable (index leads +1): US_GDP ret.. AIC: -150.72023950370365\n"
     ]
    }
   ],
   "source": [
    "for elem in quarterly_models_OLS_X1R.keys():\n",
    "    print('Exo variable (index leads +1): '+str(elem)+'. AIC: '+str(quarterly_models_OLS_X1R[elem].aic))    "
   ]
  },
  {
   "cell_type": "code",
   "execution_count": 119,
   "id": "d30d01c6-45ce-458d-86ba-1d46ef04be5d",
   "metadata": {
    "tags": []
   },
   "outputs": [
    {
     "name": "stdout",
     "output_type": "stream",
     "text": [
      "Exo variable (index leads +2): CN_GDP ret.. AIC: -147.5204955624699\n",
      "Exo variable (index leads +2): US_GDP ret.. AIC: -144.70985756817967\n"
     ]
    }
   ],
   "source": [
    "for elem in quarterly_models_OLS_X2R.keys():\n",
    "    print('Exo variable (index leads +2): '+str(elem)+'. AIC: '+str(quarterly_models_OLS_X2R[elem].aic))    "
   ]
  },
  {
   "cell_type": "code",
   "execution_count": 120,
   "id": "a5c84fb8-118d-4e07-a1ec-efbea72aa121",
   "metadata": {
    "tags": []
   },
   "outputs": [
    {
     "name": "stdout",
     "output_type": "stream",
     "text": [
      "Exo variable (index leads +4): CN_GDP ret.. AIC: -141.58432315623742\n",
      "Exo variable (index leads +4): US_GDP ret.. AIC: -139.50114646009587\n"
     ]
    }
   ],
   "source": [
    "for elem in quarterly_models_OLS_X4R.keys():\n",
    "    print('Exo variable (index leads +4): '+str(elem)+'. AIC: '+str(quarterly_models_OLS_X4R[elem].aic))    "
   ]
  },
  {
   "cell_type": "code",
   "execution_count": 121,
   "id": "ed867639-00c9-4416-9d11-b4fc066402db",
   "metadata": {
    "tags": []
   },
   "outputs": [
    {
     "name": "stdout",
     "output_type": "stream",
     "text": [
      "Exo variable (index lags +1): CN_GDP ret.. AIC: -144.0240955798413\n",
      "Exo variable (index lags +1): US_GDP ret.. AIC: -142.85218999722474\n"
     ]
    }
   ],
   "source": [
    "for elem in quarterly_models_OLS_X1L.keys():\n",
    "    print('Exo variable (index lags +1): '+str(elem)+'. AIC: '+str(quarterly_models_OLS_X1L[elem].aic))    "
   ]
  },
  {
   "cell_type": "code",
   "execution_count": 122,
   "id": "ce66cb46-7e79-4d00-b170-0d2a563736af",
   "metadata": {
    "tags": []
   },
   "outputs": [
    {
     "name": "stdout",
     "output_type": "stream",
     "text": [
      "Exo variable (index lags +2): CN_GDP ret.. AIC: -143.6631172960642\n",
      "Exo variable (index lags +2): US_GDP ret.. AIC: -141.7737103046475\n"
     ]
    }
   ],
   "source": [
    "for elem in quarterly_models_OLS_X2L.keys():\n",
    "    print('Exo variable (index lags +2): '+str(elem)+'. AIC: '+str(quarterly_models_OLS_X2L[elem].aic))    "
   ]
  },
  {
   "cell_type": "code",
   "execution_count": 123,
   "id": "5a33c398-ea85-42a7-b4dd-d919493c907b",
   "metadata": {
    "tags": []
   },
   "outputs": [
    {
     "name": "stdout",
     "output_type": "stream",
     "text": [
      "Exo variable (index lags +4): CN_GDP ret.. AIC: -144.9140351463722\n",
      "Exo variable (index lags +4): US_GDP ret.. AIC: -144.74417419503044\n"
     ]
    }
   ],
   "source": [
    "for elem in quarterly_models_OLS_X4L.keys():\n",
    "    print('Exo variable (index lags +4): '+str(elem)+'. AIC: '+str(quarterly_models_OLS_X4L[elem].aic))    "
   ]
  },
  {
   "cell_type": "markdown",
   "id": "801df1a2-a1e5-41e7-ac77-8e1956ee41b8",
   "metadata": {},
   "source": [
    "# 7 Ridge regression"
   ]
  },
  {
   "cell_type": "markdown",
   "id": "c22da0e7-a96e-4107-945a-2231d89e2bb0",
   "metadata": {},
   "source": [
    "## 7.1 Daily models"
   ]
  },
  {
   "cell_type": "markdown",
   "id": "f303ee40-5ba3-4a68-821f-508bf61613c7",
   "metadata": {},
   "source": [
    "Fit a model to all daily indicators, daily indicators lagged and leading by periods of [5,20,60,-5,-20,-60]. "
   ]
  },
  {
   "cell_type": "code",
   "execution_count": 73,
   "id": "8d758d46-0a2c-48ed-9aa0-02aacf918d08",
   "metadata": {
    "tags": []
   },
   "outputs": [],
   "source": [
    "# fit a model for everything\n",
    "ridge_df = macro_daily_df.copy()\n",
    "lags = [5,20,60,-5,-20,-60]\n",
    "\n",
    "for elem in list(macro_daily_df.columns):\n",
    "    for lag in lags:\n",
    "        col_name = str(elem) + ' lag ' + str(lag)\n",
    "        ridge_df[col_name] = ridge_df[elem].shift(lag)\n",
    "\n",
    "\n",
    "# drop all columns containing HK50 (the \n",
    "ridge_df = ridge_df.loc[:,~ridge_df.columns.str.contains('HK50 ret.')]\n",
    "\n",
    "# dates range (do last)\n",
    "# ridge_df = ridge_df['2013-06-27':'2022-11-01']\n",
    "\n",
    "X = ridge_df.dropna()\n",
    "y = macro_daily_df['HK50 ret.'][ridge_df.dropna().index[0]:ridge_df.dropna().index[-1]]"
   ]
  },
  {
   "cell_type": "code",
   "execution_count": 108,
   "id": "a31a6a22-bd2e-4b38-9d02-c190dec161ab",
   "metadata": {
    "tags": []
   },
   "outputs": [
    {
     "data": {
      "text/html": [
       "<div>\n",
       "<style scoped>\n",
       "    .dataframe tbody tr th:only-of-type {\n",
       "        vertical-align: middle;\n",
       "    }\n",
       "\n",
       "    .dataframe tbody tr th {\n",
       "        vertical-align: top;\n",
       "    }\n",
       "\n",
       "    .dataframe thead th {\n",
       "        text-align: right;\n",
       "    }\n",
       "</style>\n",
       "<table border=\"1\" class=\"dataframe\">\n",
       "  <thead>\n",
       "    <tr style=\"text-align: right;\">\n",
       "      <th></th>\n",
       "      <th>DXY ret.</th>\n",
       "      <th>HSIL</th>\n",
       "      <th>SPY ret.</th>\n",
       "      <th>AUDUSD ret.</th>\n",
       "      <th>AUDCNY ret.</th>\n",
       "      <th>CNYHKD ret.</th>\n",
       "      <th>USDHKD ret.</th>\n",
       "      <th>HKDEUR ret.</th>\n",
       "      <th>HKDAUD ret.</th>\n",
       "      <th>DXY ret. lag 5</th>\n",
       "      <th>...</th>\n",
       "      <th>HKDEUR ret. lag 60</th>\n",
       "      <th>HKDEUR ret. lag -5</th>\n",
       "      <th>HKDEUR ret. lag -20</th>\n",
       "      <th>HKDEUR ret. lag -60</th>\n",
       "      <th>HKDAUD ret. lag 5</th>\n",
       "      <th>HKDAUD ret. lag 20</th>\n",
       "      <th>HKDAUD ret. lag 60</th>\n",
       "      <th>HKDAUD ret. lag -5</th>\n",
       "      <th>HKDAUD ret. lag -20</th>\n",
       "      <th>HKDAUD ret. lag -60</th>\n",
       "    </tr>\n",
       "  </thead>\n",
       "  <tbody>\n",
       "    <tr>\n",
       "      <th>2022-11-01</th>\n",
       "      <td>-0.000448</td>\n",
       "      <td>38.03</td>\n",
       "      <td>-0.004385</td>\n",
       "      <td>-0.000313</td>\n",
       "      <td>-0.004227</td>\n",
       "      <td>0.003159</td>\n",
       "      <td>0.000051</td>\n",
       "      <td>0.000775</td>\n",
       "      <td>0.000000</td>\n",
       "      <td>-0.004368</td>\n",
       "      <td>...</td>\n",
       "      <td>0.010222</td>\n",
       "      <td>-0.009346</td>\n",
       "      <td>-0.002312</td>\n",
       "      <td>-0.008013</td>\n",
       "      <td>-0.004077</td>\n",
       "      <td>-0.014737</td>\n",
       "      <td>0.021424</td>\n",
       "      <td>-0.012472</td>\n",
       "      <td>-0.017242</td>\n",
       "      <td>-0.003279</td>\n",
       "    </tr>\n",
       "    <tr>\n",
       "      <th>2022-10-31</th>\n",
       "      <td>0.007018</td>\n",
       "      <td>39.47</td>\n",
       "      <td>-0.007249</td>\n",
       "      <td>-0.002186</td>\n",
       "      <td>0.004915</td>\n",
       "      <td>-0.006770</td>\n",
       "      <td>0.000000</td>\n",
       "      <td>0.008570</td>\n",
       "      <td>0.002011</td>\n",
       "      <td>-0.006878</td>\n",
       "      <td>...</td>\n",
       "      <td>0.006873</td>\n",
       "      <td>-0.000775</td>\n",
       "      <td>0.001541</td>\n",
       "      <td>0.000000</td>\n",
       "      <td>-0.002033</td>\n",
       "      <td>-0.005211</td>\n",
       "      <td>0.008364</td>\n",
       "      <td>0.009965</td>\n",
       "      <td>0.015198</td>\n",
       "      <td>-0.003812</td>\n",
       "    </tr>\n",
       "    <tr>\n",
       "      <th>2022-10-28</th>\n",
       "      <td>0.001446</td>\n",
       "      <td>39.70</td>\n",
       "      <td>0.023512</td>\n",
       "      <td>-0.005910</td>\n",
       "      <td>-0.002321</td>\n",
       "      <td>-0.002953</td>\n",
       "      <td>-0.000025</td>\n",
       "      <td>0.000000</td>\n",
       "      <td>0.006058</td>\n",
       "      <td>-0.018320</td>\n",
       "      <td>...</td>\n",
       "      <td>-0.011997</td>\n",
       "      <td>-0.008484</td>\n",
       "      <td>-0.008445</td>\n",
       "      <td>0.009623</td>\n",
       "      <td>-0.028030</td>\n",
       "      <td>0.015188</td>\n",
       "      <td>-0.011690</td>\n",
       "      <td>-0.015404</td>\n",
       "      <td>0.003067</td>\n",
       "      <td>0.014783</td>\n",
       "    </tr>\n",
       "    <tr>\n",
       "      <th>2022-10-27</th>\n",
       "      <td>0.008080</td>\n",
       "      <td>36.58</td>\n",
       "      <td>-0.005354</td>\n",
       "      <td>-0.007415</td>\n",
       "      <td>-0.000064</td>\n",
       "      <td>-0.008169</td>\n",
       "      <td>-0.000013</td>\n",
       "      <td>0.011015</td>\n",
       "      <td>0.007624</td>\n",
       "      <td>0.014090</td>\n",
       "      <td>...</td>\n",
       "      <td>-0.001702</td>\n",
       "      <td>-0.000768</td>\n",
       "      <td>-0.015175</td>\n",
       "      <td>-0.004021</td>\n",
       "      <td>0.010419</td>\n",
       "      <td>-0.002635</td>\n",
       "      <td>0.000000</td>\n",
       "      <td>-0.001478</td>\n",
       "      <td>-0.013225</td>\n",
       "      <td>-0.005501</td>\n",
       "    </tr>\n",
       "    <tr>\n",
       "      <th>2022-10-26</th>\n",
       "      <td>-0.011330</td>\n",
       "      <td>38.60</td>\n",
       "      <td>-0.007563</td>\n",
       "      <td>0.015980</td>\n",
       "      <td>0.002428</td>\n",
       "      <td>0.013157</td>\n",
       "      <td>-0.000051</td>\n",
       "      <td>-0.011015</td>\n",
       "      <td>-0.016195</td>\n",
       "      <td>-0.001167</td>\n",
       "      <td>...</td>\n",
       "      <td>0.000851</td>\n",
       "      <td>0.008478</td>\n",
       "      <td>0.002262</td>\n",
       "      <td>-0.002405</td>\n",
       "      <td>0.007007</td>\n",
       "      <td>-0.012552</td>\n",
       "      <td>0.004993</td>\n",
       "      <td>0.006421</td>\n",
       "      <td>0.003543</td>\n",
       "      <td>-0.000548</td>\n",
       "    </tr>\n",
       "  </tbody>\n",
       "</table>\n",
       "<p>5 rows × 63 columns</p>\n",
       "</div>"
      ],
      "text/plain": [
       "            DXY ret.   HSIL  SPY ret.  AUDUSD ret.  AUDCNY ret.  CNYHKD ret.  \\\n",
       "2022-11-01 -0.000448  38.03 -0.004385    -0.000313    -0.004227     0.003159   \n",
       "2022-10-31  0.007018  39.47 -0.007249    -0.002186     0.004915    -0.006770   \n",
       "2022-10-28  0.001446  39.70  0.023512    -0.005910    -0.002321    -0.002953   \n",
       "2022-10-27  0.008080  36.58 -0.005354    -0.007415    -0.000064    -0.008169   \n",
       "2022-10-26 -0.011330  38.60 -0.007563     0.015980     0.002428     0.013157   \n",
       "\n",
       "            USDHKD ret.  HKDEUR ret.  HKDAUD ret.  DXY ret. lag 5  ...  \\\n",
       "2022-11-01     0.000051     0.000775     0.000000       -0.004368  ...   \n",
       "2022-10-31     0.000000     0.008570     0.002011       -0.006878  ...   \n",
       "2022-10-28    -0.000025     0.000000     0.006058       -0.018320  ...   \n",
       "2022-10-27    -0.000013     0.011015     0.007624        0.014090  ...   \n",
       "2022-10-26    -0.000051    -0.011015    -0.016195       -0.001167  ...   \n",
       "\n",
       "            HKDEUR ret. lag 60  HKDEUR ret. lag -5  HKDEUR ret. lag -20  \\\n",
       "2022-11-01            0.010222           -0.009346            -0.002312   \n",
       "2022-10-31            0.006873           -0.000775             0.001541   \n",
       "2022-10-28           -0.011997           -0.008484            -0.008445   \n",
       "2022-10-27           -0.001702           -0.000768            -0.015175   \n",
       "2022-10-26            0.000851            0.008478             0.002262   \n",
       "\n",
       "            HKDEUR ret. lag -60  HKDAUD ret. lag 5  HKDAUD ret. lag 20  \\\n",
       "2022-11-01            -0.008013          -0.004077           -0.014737   \n",
       "2022-10-31             0.000000          -0.002033           -0.005211   \n",
       "2022-10-28             0.009623          -0.028030            0.015188   \n",
       "2022-10-27            -0.004021           0.010419           -0.002635   \n",
       "2022-10-26            -0.002405           0.007007           -0.012552   \n",
       "\n",
       "            HKDAUD ret. lag 60  HKDAUD ret. lag -5  HKDAUD ret. lag -20  \\\n",
       "2022-11-01            0.021424           -0.012472            -0.017242   \n",
       "2022-10-31            0.008364            0.009965             0.015198   \n",
       "2022-10-28           -0.011690           -0.015404             0.003067   \n",
       "2022-10-27            0.000000           -0.001478            -0.013225   \n",
       "2022-10-26            0.004993            0.006421             0.003543   \n",
       "\n",
       "            HKDAUD ret. lag -60  \n",
       "2022-11-01            -0.003279  \n",
       "2022-10-31            -0.003812  \n",
       "2022-10-28             0.014783  \n",
       "2022-10-27            -0.005501  \n",
       "2022-10-26            -0.000548  \n",
       "\n",
       "[5 rows x 63 columns]"
      ]
     },
     "execution_count": 108,
     "metadata": {},
     "output_type": "execute_result"
    }
   ],
   "source": [
    "X.head()"
   ]
  },
  {
   "cell_type": "code",
   "execution_count": 74,
   "id": "a43416ea-5e87-4734-942b-cb8f00ab33f3",
   "metadata": {
    "tags": []
   },
   "outputs": [
    {
     "name": "stdout",
     "output_type": "stream",
     "text": [
      "R^2 error (train): 0.25909\n",
      "R^2 error (test): -0.0059\n",
      "Mean Absolute Error (MAE): 0.56\n",
      "Mean Squared Error (MSE): 0.56\n",
      "Mean Absolute Percentage Error (MAPE): 328.2 %\n",
      "Regularisation parameter after CV: 10.0\n"
     ]
    }
   ],
   "source": [
    "# run ridge regression\n",
    "\n",
    "X = ridge_df.dropna()\n",
    "y = macro_daily_df['HK50 ret.'][ridge_df.dropna().index[0]:ridge_df.dropna().index[-1]]\n",
    "\n",
    "# scale the data\n",
    "data_scaler_x = StandardScaler()\n",
    "data_scaler_y = StandardScaler()\n",
    "\n",
    "# use the below if only one feature\n",
    "# X = data_scaler_x.fit_transform(X.values.reshape(-1, 1))\n",
    "X = data_scaler_x.fit_transform(X.values)\n",
    "y = data_scaler_y.fit_transform(y.values.reshape(-1,1))\n",
    "\n",
    "# test / train split\n",
    "X_train, y_train, X_test, y_test = macro_test_train_split(X,y)\n",
    "\n",
    "# fit ridge regression model\n",
    "alphas = np.logspace(-10, 10, 21)\n",
    "clf = RidgeCV(alphas=alphas).fit(X_train,y_train)\n",
    "\n",
    "# return R^2\n",
    "clf.score(X_train, y_train) # in-sample performance\n",
    "clf.score(X_test, y_test) # out-of-sample performance\n",
    "\n",
    "print(f'R^2 error (train): {np.round(clf.score(X_train, y_train),5)}')\n",
    "print(f'R^2 error (test): {np.round(clf.score(X_test, y_test),5)}')\n",
    "\n",
    "# get predicted values (out of sample performance)\n",
    "y_pred_scaled = clf.predict(X_test)\n",
    "y_pred = y_pred_scaled#data_scaler_y.inverse_transform(y_pred_scaled.reshape(-1,1))\n",
    "\n",
    "# Mean Absolute Error (MAE)\n",
    "MAE = mean_absolute_error(y_test, y_pred)\n",
    "print(f'Mean Absolute Error (MAE): {np.round(MAE, 2)}')\n",
    "\n",
    "# Mean Squared Error (MSE)\n",
    "MSE = mean_squared_error(y_test,y_pred)\n",
    "print(f'Mean Squared Error (MSE): {np.round(MSE, 2)}')\n",
    "\n",
    "# Mean Absolute Percentage Error (MAPE)\n",
    "MAPE = mean_abs_pct_error(y_test,y_pred)\n",
    "print(f'Mean Absolute Percentage Error (MAPE): {np.round(MAPE, 2)} %')\n",
    "\n",
    "# alphas\n",
    "print('Regularisation parameter after CV: '+str(clf.alpha_))\n",
    "# alphas"
   ]
  },
  {
   "cell_type": "code",
   "execution_count": 75,
   "id": "680cdfda-0aed-41a1-be67-36c2a7c00ca5",
   "metadata": {
    "tags": []
   },
   "outputs": [
    {
     "data": {
      "image/png": "[encoded data removed]",
      "text/plain": [
       "<Figure size 600x500 with 1 Axes>"
      ]
     },
     "metadata": {},
     "output_type": "display_data"
    }
   ],
   "source": [
    "mae_train = mean_absolute_error(y_train, clf.predict(X_train))\n",
    "mae_test = mean_absolute_error(y_test, y_pred)\n",
    "scores = {\n",
    "    \"MAE on training set\": f\"{mae_train:.2f}\",\n",
    "    \"MAE on testing set\": f\"{mae_test:.2f}\",\n",
    "}\n",
    "_, ax = plt.subplots(figsize=(6, 5))\n",
    "display = PredictionErrorDisplay.from_predictions(\n",
    "    y_test, y_pred, kind=\"actual_vs_predicted\", ax=ax, scatter_kwargs={\"alpha\": 0.5}\n",
    ")\n",
    "#ax.set_title(\"Ridge model, CV-optimised regularisation parameter\")\n",
    "for name, score in scores.items():\n",
    "    ax.plot([], [], \" \", label=f\"{name}: {score}\")\n",
    "ax.legend(loc=\"upper left\")\n",
    "plt.tight_layout()\n",
    "#plt.savefig('MAE_plot_daily_all-ind.png',dpi=600)\n",
    "plt.savefig('MAE_plot_daily_all-ind_no-title.png',dpi=600)"
   ]
  },
  {
   "cell_type": "markdown",
   "id": "b5a91411-8af3-4ad0-a68a-092b4a5c167c",
   "metadata": {},
   "source": [
    "Interpret coefficients"
   ]
  },
  {
   "cell_type": "code",
   "execution_count": 76,
   "id": "4587b694-a10d-40e1-aca2-204e27862299",
   "metadata": {
    "tags": []
   },
   "outputs": [
    {
     "data": {
      "text/html": [
       "<div>\n",
       "<style scoped>\n",
       "    .dataframe tbody tr th:only-of-type {\n",
       "        vertical-align: middle;\n",
       "    }\n",
       "\n",
       "    .dataframe tbody tr th {\n",
       "        vertical-align: top;\n",
       "    }\n",
       "\n",
       "    .dataframe thead th {\n",
       "        text-align: right;\n",
       "    }\n",
       "</style>\n",
       "<table border=\"1\" class=\"dataframe\">\n",
       "  <thead>\n",
       "    <tr style=\"text-align: right;\">\n",
       "      <th></th>\n",
       "      <th>Coefficients</th>\n",
       "    </tr>\n",
       "  </thead>\n",
       "  <tbody>\n",
       "    <tr>\n",
       "      <th>DXY ret.</th>\n",
       "      <td>0.185604</td>\n",
       "    </tr>\n",
       "    <tr>\n",
       "      <th>HSIL</th>\n",
       "      <td>-0.606986</td>\n",
       "    </tr>\n",
       "    <tr>\n",
       "      <th>SPY ret.</th>\n",
       "      <td>0.105792</td>\n",
       "    </tr>\n",
       "    <tr>\n",
       "      <th>AUDUSD ret.</th>\n",
       "      <td>0.169415</td>\n",
       "    </tr>\n",
       "    <tr>\n",
       "      <th>AUDCNY ret.</th>\n",
       "      <td>-0.030788</td>\n",
       "    </tr>\n",
       "    <tr>\n",
       "      <th>...</th>\n",
       "      <td>...</td>\n",
       "    </tr>\n",
       "    <tr>\n",
       "      <th>HKDAUD ret. lag 20</th>\n",
       "      <td>-0.207137</td>\n",
       "    </tr>\n",
       "    <tr>\n",
       "      <th>HKDAUD ret. lag 60</th>\n",
       "      <td>0.092889</td>\n",
       "    </tr>\n",
       "    <tr>\n",
       "      <th>HKDAUD ret. lag -5</th>\n",
       "      <td>0.213516</td>\n",
       "    </tr>\n",
       "    <tr>\n",
       "      <th>HKDAUD ret. lag -20</th>\n",
       "      <td>-0.036002</td>\n",
       "    </tr>\n",
       "    <tr>\n",
       "      <th>HKDAUD ret. lag -60</th>\n",
       "      <td>-0.108512</td>\n",
       "    </tr>\n",
       "  </tbody>\n",
       "</table>\n",
       "<p>63 rows × 1 columns</p>\n",
       "</div>"
      ],
      "text/plain": [
       "                     Coefficients\n",
       "DXY ret.                 0.185604\n",
       "HSIL                    -0.606986\n",
       "SPY ret.                 0.105792\n",
       "AUDUSD ret.              0.169415\n",
       "AUDCNY ret.             -0.030788\n",
       "...                           ...\n",
       "HKDAUD ret. lag 20      -0.207137\n",
       "HKDAUD ret. lag 60       0.092889\n",
       "HKDAUD ret. lag -5       0.213516\n",
       "HKDAUD ret. lag -20     -0.036002\n",
       "HKDAUD ret. lag -60     -0.108512\n",
       "\n",
       "[63 rows x 1 columns]"
      ]
     },
     "execution_count": 76,
     "metadata": {},
     "output_type": "execute_result"
    }
   ],
   "source": [
    "# interpreting coefficients\n",
    "\n",
    "feature_names = ridge_df.dropna().columns\n",
    "\n",
    "coefs = pd.DataFrame(\n",
    "    np.ndarray.flatten(clf.coef_),\n",
    "    columns=[\"Coefficients\"],\n",
    "    index=feature_names,\n",
    ")\n",
    "\n",
    "coefs"
   ]
  },
  {
   "cell_type": "markdown",
   "id": "7760cbd9-2173-4f2d-8905-4648943b22d6",
   "metadata": {},
   "source": [
    "### 7.1.1 Individual indicators and different lag periods"
   ]
  },
  {
   "cell_type": "code",
   "execution_count": 123,
   "id": "d5e2a07f-860d-4dc8-922e-d83f5d88dd45",
   "metadata": {
    "tags": []
   },
   "outputs": [
    {
     "data": {
      "text/html": [
       "<div>\n",
       "<style scoped>\n",
       "    .dataframe tbody tr th:only-of-type {\n",
       "        vertical-align: middle;\n",
       "    }\n",
       "\n",
       "    .dataframe tbody tr th {\n",
       "        vertical-align: top;\n",
       "    }\n",
       "\n",
       "    .dataframe thead th {\n",
       "        text-align: right;\n",
       "    }\n",
       "</style>\n",
       "<table border=\"1\" class=\"dataframe\">\n",
       "  <thead>\n",
       "    <tr style=\"text-align: right;\">\n",
       "      <th></th>\n",
       "      <th>Coefficients</th>\n",
       "    </tr>\n",
       "  </thead>\n",
       "  <tbody>\n",
       "    <tr>\n",
       "      <th>DXY ret.</th>\n",
       "      <td>0.185604</td>\n",
       "    </tr>\n",
       "    <tr>\n",
       "      <th>DXY ret. lag 5</th>\n",
       "      <td>0.079628</td>\n",
       "    </tr>\n",
       "    <tr>\n",
       "      <th>DXY ret. lag 20</th>\n",
       "      <td>-0.044140</td>\n",
       "    </tr>\n",
       "    <tr>\n",
       "      <th>DXY ret. lag 60</th>\n",
       "      <td>0.071833</td>\n",
       "    </tr>\n",
       "    <tr>\n",
       "      <th>DXY ret. lag -5</th>\n",
       "      <td>0.065201</td>\n",
       "    </tr>\n",
       "    <tr>\n",
       "      <th>DXY ret. lag -20</th>\n",
       "      <td>-0.124185</td>\n",
       "    </tr>\n",
       "    <tr>\n",
       "      <th>DXY ret. lag -60</th>\n",
       "      <td>0.031226</td>\n",
       "    </tr>\n",
       "  </tbody>\n",
       "</table>\n",
       "</div>"
      ],
      "text/plain": [
       "                  Coefficients\n",
       "DXY ret.              0.185604\n",
       "DXY ret. lag 5        0.079628\n",
       "DXY ret. lag 20      -0.044140\n",
       "DXY ret. lag 60       0.071833\n",
       "DXY ret. lag -5       0.065201\n",
       "DXY ret. lag -20     -0.124185\n",
       "DXY ret. lag -60      0.031226"
      ]
     },
     "execution_count": 123,
     "metadata": {},
     "output_type": "execute_result"
    }
   ],
   "source": [
    "coefs[coefs.index.str.contains('DXY ret.')]"
   ]
  },
  {
   "cell_type": "code",
   "execution_count": 41,
   "id": "058b1ac3-267a-4fe5-bb65-4110d0bff9ce",
   "metadata": {
    "tags": []
   },
   "outputs": [],
   "source": [
    "def plot_normalised_ridge_coeffs(coefs,exo_var):\n",
    "    '''\n",
    "    Given a dataframe (index = name of coeff), first column \"Coefficients\", plot a barchart.\n",
    "    '''\n",
    "\n",
    "    coefs[coefs.index.str.contains(exo_var)].plot.barh(figsize=(9, 7))\n",
    "    plt.title(\"Ridge model regularisation-optimised \" + '('+str(exo_var)+')')\n",
    "    plt.xlabel(\"Normalised coefficient values\")\n",
    "    plt.axvline(x=0, color=\".5\")\n",
    "    plt.subplots_adjust(left=0.3)\n",
    "    filename = 'ridge_coeff_plot_'+str(exo_var)+'.png'\n",
    "\n",
    "    plt.savefig(str(filename),dpi=600)"
   ]
  },
  {
   "cell_type": "code",
   "execution_count": 139,
   "id": "aa604e8b-1a31-4b25-a123-4b6f7a80d277",
   "metadata": {
    "tags": []
   },
   "outputs": [
    {
     "data": {
      "image/png": "[encoded data removed]",
      "text/plain": [
       "<Figure size 900x700 with 1 Axes>"
      ]
     },
     "metadata": {},
     "output_type": "display_data"
    }
   ],
   "source": [
    "plot_normalised_ridge_coeffs(coefs,'HSIL')"
   ]
  },
  {
   "cell_type": "code",
   "execution_count": 140,
   "id": "526a71f4-565e-4a91-8338-f973aae5d13a",
   "metadata": {
    "tags": []
   },
   "outputs": [],
   "source": [
    "# generate plots of coefficients (do this only once) \n",
    "\n",
    "list_of_exo = list(macro_daily_df.keys())\n",
    "list_of_exo.remove('HK50 ret.')\n",
    "list_of_exo\n",
    "\n",
    "for elem in list_of_exo:\n",
    "    plot_normalised_ridge_coeffs(coefs,elem)\n",
    "    plt.close()"
   ]
  },
  {
   "cell_type": "markdown",
   "id": "e44db780-9a46-466a-bfa1-022b1136e44f",
   "metadata": {},
   "source": [
    "### 7.1.2 Improved model using only significant coefficients"
   ]
  },
  {
   "cell_type": "code",
   "execution_count": 57,
   "id": "7cba9355-f79e-4b46-92b3-a9a6a80c9ac1",
   "metadata": {
    "tags": []
   },
   "outputs": [],
   "source": [
    "X = ridge_df.dropna()"
   ]
  },
  {
   "cell_type": "code",
   "execution_count": 58,
   "id": "fcfd5dc1-cf99-4513-9f7e-7f1f1c733a7a",
   "metadata": {
    "tags": []
   },
   "outputs": [
    {
     "name": "stdout",
     "output_type": "stream",
     "text": [
      "R^2 error (train): 0.17125\n",
      "R^2 error (test): 0.03935\n",
      "Mean Absolute Error (MAE): 0.56\n",
      "Mean Squared Error (MSE): 0.54\n",
      "Mean Absolute Percentage Error (MAPE): 233.81 %\n",
      "Regularisation parameter after CV: 1.0\n"
     ]
    }
   ],
   "source": [
    "# run ridge regression\n",
    "\n",
    "X = ridge_df.dropna()\n",
    "\n",
    "# define new dataset using indicators with significant coefficients\n",
    "\n",
    "X = X[['USDHKD ret.',\\\n",
    "       'AUDCNY ret. lag 5',\\\n",
    "       'AUDUSD ret.',\\\n",
    "       'AUDUSD ret. lag 20',\\\n",
    "       'CNYHKD ret.','DXY ret.',\\\n",
    "       'HKDAUD ret. lag 20',\\\n",
    "       'HKDEUR ret.',\\\n",
    "       'HKDEUR ret. lag 20',\\\n",
    "       'HSIL',\\\n",
    "       'SPY ret.']]\n",
    "\n",
    "y = macro_daily_df['HK50 ret.'][ridge_df.dropna().index[0]:ridge_df.dropna().index[-1]]\n",
    "\n",
    "# scale the data\n",
    "data_scaler_x = StandardScaler()\n",
    "data_scaler_y = StandardScaler()\n",
    "\n",
    "# use the below if only one feature\n",
    "# X = data_scaler_x.fit_transform(X.values.reshape(-1, 1))\n",
    "X = data_scaler_x.fit_transform(X.values)\n",
    "y = data_scaler_y.fit_transform(y.values.reshape(-1,1))\n",
    "\n",
    "# test / train split\n",
    "X_train, y_train, X_test, y_test = macro_test_train_split(X,y)\n",
    "\n",
    "# fit ridge regression model\n",
    "alphas = np.logspace(-10, 10, 21)\n",
    "clf = RidgeCV(alphas=alphas).fit(X_train,y_train)\n",
    "\n",
    "# return R^2\n",
    "clf.score(X_train, y_train) # in-sample performance\n",
    "clf.score(X_test, y_test) # out-of-sample performance\n",
    "\n",
    "print(f'R^2 error (train): {np.round(clf.score(X_train, y_train),5)}')\n",
    "print(f'R^2 error (test): {np.round(clf.score(X_test, y_test),5)}')\n",
    "\n",
    "# get predicted values (out of sample performance)\n",
    "y_pred_scaled = clf.predict(X_test)\n",
    "y_pred = y_pred_scaled#data_scaler_y.inverse_transform(y_pred_scaled.reshape(-1,1))\n",
    "\n",
    "# Mean Absolute Error (MAE)\n",
    "MAE = mean_absolute_error(y_test, y_pred)\n",
    "print(f'Mean Absolute Error (MAE): {np.round(MAE, 2)}')\n",
    "\n",
    "# Mean Squared Error (MSE)\n",
    "MSE = mean_squared_error(y_test,y_pred)\n",
    "print(f'Mean Squared Error (MSE): {np.round(MSE, 2)}')\n",
    "\n",
    "# Mean Absolute Percentage Error (MAPE)\n",
    "MAPE = mean_abs_pct_error(y_test,y_pred)\n",
    "print(f'Mean Absolute Percentage Error (MAPE): {np.round(MAPE, 2)} %')\n",
    "\n",
    "# alphas\n",
    "print('Regularisation parameter after CV: '+str(clf.alpha_))\n",
    "# alphas"
   ]
  },
  {
   "cell_type": "code",
   "execution_count": 71,
   "id": "d110bc2d-4873-44d3-9450-7ed80c5181df",
   "metadata": {
    "tags": []
   },
   "outputs": [
    {
     "data": {
      "image/png": "[encoded data removed]",
      "text/plain": [
       "<Figure size 600x500 with 1 Axes>"
      ]
     },
     "metadata": {},
     "output_type": "display_data"
    }
   ],
   "source": [
    "mae_train = mean_absolute_error(y_train, clf.predict(X_train))\n",
    "mae_test = mean_absolute_error(y_test, y_pred)\n",
    "scores = {\n",
    "    \"MAE on training set\": f\"{mae_train:.2f}\",\n",
    "    \"MAE on testing set\": f\"{mae_test:.2f}\",\n",
    "}\n",
    "_, ax = plt.subplots(figsize=(6, 5))\n",
    "display = PredictionErrorDisplay.from_predictions(\n",
    "    y_test, y_pred, kind=\"actual_vs_predicted\", ax=ax, scatter_kwargs={\"alpha\": 0.5}\n",
    ")\n",
    "#ax.set_title(\"Ridge model, CV-optimised regularisation parameter\")\n",
    "for name, score in scores.items():\n",
    "    ax.plot([], [], \" \", label=f\"{name}: {score}\")\n",
    "ax.legend(loc=\"upper left\")\n",
    "plt.tight_layout()\n",
    "#plt.savefig('MAE_plot_daily_v2.png',dpi=600)\n",
    "plt.savefig('MAE_plot_daily_v2_no-title.png',dpi=600)"
   ]
  },
  {
   "cell_type": "code",
   "execution_count": 60,
   "id": "a6da0452-4744-49d3-9baa-fd2c42d5fb98",
   "metadata": {
    "tags": []
   },
   "outputs": [
    {
     "data": {
      "text/html": [
       "<div>\n",
       "<style scoped>\n",
       "    .dataframe tbody tr th:only-of-type {\n",
       "        vertical-align: middle;\n",
       "    }\n",
       "\n",
       "    .dataframe tbody tr th {\n",
       "        vertical-align: top;\n",
       "    }\n",
       "\n",
       "    .dataframe thead th {\n",
       "        text-align: right;\n",
       "    }\n",
       "</style>\n",
       "<table border=\"1\" class=\"dataframe\">\n",
       "  <thead>\n",
       "    <tr style=\"text-align: right;\">\n",
       "      <th></th>\n",
       "      <th>Coefficients</th>\n",
       "    </tr>\n",
       "  </thead>\n",
       "  <tbody>\n",
       "    <tr>\n",
       "      <th>USDHKD ret.</th>\n",
       "      <td>-0.150650</td>\n",
       "    </tr>\n",
       "    <tr>\n",
       "      <th>AUDCNY ret. lag 5</th>\n",
       "      <td>-0.003410</td>\n",
       "    </tr>\n",
       "    <tr>\n",
       "      <th>AUDUSD ret.</th>\n",
       "      <td>0.217815</td>\n",
       "    </tr>\n",
       "    <tr>\n",
       "      <th>AUDUSD ret. lag 20</th>\n",
       "      <td>-0.594549</td>\n",
       "    </tr>\n",
       "    <tr>\n",
       "      <th>CNYHKD ret.</th>\n",
       "      <td>0.158417</td>\n",
       "    </tr>\n",
       "    <tr>\n",
       "      <th>DXY ret.</th>\n",
       "      <td>0.177645</td>\n",
       "    </tr>\n",
       "    <tr>\n",
       "      <th>HKDAUD ret. lag 20</th>\n",
       "      <td>-0.572235</td>\n",
       "    </tr>\n",
       "    <tr>\n",
       "      <th>HKDEUR ret.</th>\n",
       "      <td>-0.037084</td>\n",
       "    </tr>\n",
       "    <tr>\n",
       "      <th>HKDEUR ret. lag 20</th>\n",
       "      <td>-0.028453</td>\n",
       "    </tr>\n",
       "    <tr>\n",
       "      <th>HSIL</th>\n",
       "      <td>-0.156436</td>\n",
       "    </tr>\n",
       "    <tr>\n",
       "      <th>SPY ret.</th>\n",
       "      <td>0.109653</td>\n",
       "    </tr>\n",
       "  </tbody>\n",
       "</table>\n",
       "</div>"
      ],
      "text/plain": [
       "                    Coefficients\n",
       "USDHKD ret.            -0.150650\n",
       "AUDCNY ret. lag 5      -0.003410\n",
       "AUDUSD ret.             0.217815\n",
       "AUDUSD ret. lag 20     -0.594549\n",
       "CNYHKD ret.             0.158417\n",
       "DXY ret.                0.177645\n",
       "HKDAUD ret. lag 20     -0.572235\n",
       "HKDEUR ret.            -0.037084\n",
       "HKDEUR ret. lag 20     -0.028453\n",
       "HSIL                   -0.156436\n",
       "SPY ret.                0.109653"
      ]
     },
     "execution_count": 60,
     "metadata": {},
     "output_type": "execute_result"
    }
   ],
   "source": [
    "# interpreting coefficients\n",
    "X = ridge_df.dropna()\n",
    "\n",
    "# define new dataset using indicators with significant coefficients\n",
    "\n",
    "X = X[['USDHKD ret.',\\\n",
    "       'AUDCNY ret. lag 5',\\\n",
    "       'AUDUSD ret.',\\\n",
    "       'AUDUSD ret. lag 20',\\\n",
    "       'CNYHKD ret.','DXY ret.',\\\n",
    "       'HKDAUD ret. lag 20',\\\n",
    "       'HKDEUR ret.',\\\n",
    "       'HKDEUR ret. lag 20',\\\n",
    "       'HSIL',\\\n",
    "       'SPY ret.']]\n",
    "\n",
    "feature_names = X.dropna().columns\n",
    "\n",
    "coefs = pd.DataFrame(\n",
    "    np.ndarray.flatten(clf.coef_),\n",
    "    columns=[\"Coefficients\"],\n",
    "    index=feature_names,\n",
    ")\n",
    "\n",
    "coefs"
   ]
  },
  {
   "cell_type": "code",
   "execution_count": 54,
   "id": "182709b0-985e-42dd-a452-94959983120c",
   "metadata": {
    "tags": []
   },
   "outputs": [],
   "source": [
    "def addlabels(x,y):\n",
    "    for i in range(len(x)):\n",
    "        plt.text(i,y[i],y[i])"
   ]
  },
  {
   "cell_type": "code",
   "execution_count": 61,
   "id": "346cb995-cc8d-4dae-9e08-b24e5b4076ee",
   "metadata": {
    "tags": []
   },
   "outputs": [
    {
     "data": {
      "text/html": [
       "<div>\n",
       "<style scoped>\n",
       "    .dataframe tbody tr th:only-of-type {\n",
       "        vertical-align: middle;\n",
       "    }\n",
       "\n",
       "    .dataframe tbody tr th {\n",
       "        vertical-align: top;\n",
       "    }\n",
       "\n",
       "    .dataframe thead th {\n",
       "        text-align: right;\n",
       "    }\n",
       "</style>\n",
       "<table border=\"1\" class=\"dataframe\">\n",
       "  <thead>\n",
       "    <tr style=\"text-align: right;\">\n",
       "      <th></th>\n",
       "      <th>Coefficients</th>\n",
       "    </tr>\n",
       "  </thead>\n",
       "  <tbody>\n",
       "    <tr>\n",
       "      <th>USDHKD ret.</th>\n",
       "      <td>-0.150650</td>\n",
       "    </tr>\n",
       "    <tr>\n",
       "      <th>AUDCNY ret. lag 5</th>\n",
       "      <td>-0.003410</td>\n",
       "    </tr>\n",
       "    <tr>\n",
       "      <th>AUDUSD ret.</th>\n",
       "      <td>0.217815</td>\n",
       "    </tr>\n",
       "    <tr>\n",
       "      <th>AUDUSD ret. lag 20</th>\n",
       "      <td>-0.594549</td>\n",
       "    </tr>\n",
       "    <tr>\n",
       "      <th>CNYHKD ret.</th>\n",
       "      <td>0.158417</td>\n",
       "    </tr>\n",
       "  </tbody>\n",
       "</table>\n",
       "</div>"
      ],
      "text/plain": [
       "                    Coefficients\n",
       "USDHKD ret.            -0.150650\n",
       "AUDCNY ret. lag 5      -0.003410\n",
       "AUDUSD ret.             0.217815\n",
       "AUDUSD ret. lag 20     -0.594549\n",
       "CNYHKD ret.             0.158417"
      ]
     },
     "execution_count": 61,
     "metadata": {},
     "output_type": "execute_result"
    }
   ],
   "source": [
    "coefs.head()"
   ]
  },
  {
   "cell_type": "code",
   "execution_count": 67,
   "id": "032f823f-9c9b-455d-a24c-3a310cc3a847",
   "metadata": {
    "tags": []
   },
   "outputs": [
    {
     "data": {
      "image/png": "[encoded data removed]",
      "text/plain": [
       "<Figure size 1000x700 with 1 Axes>"
      ]
     },
     "metadata": {},
     "output_type": "display_data"
    }
   ],
   "source": [
    "coefs.plot.barh(figsize=(10, 7))\n",
    "for index, value in enumerate(coefs.Coefficients):\n",
    "    plt.text(value, index,\n",
    "             str(round(value,3)))\n",
    "plt.title(\"Ridge model regularisation-optimised with significant coefficients\")\n",
    "plt.xlabel(\"Normalised coefficient values\")\n",
    "plt.axvline(x=0, color=\".5\")\n",
    "plt.subplots_adjust(left=0.3)\n",
    "\n",
    "plt.savefig('ridge_coeffs_daily_v2.png',dpi=600)"
   ]
  },
  {
   "cell_type": "markdown",
   "id": "5f8a5d79-2d80-4694-87a2-7d698ab83616",
   "metadata": {},
   "source": [
    "## 7.2 Monthly models"
   ]
  },
  {
   "cell_type": "code",
   "execution_count": null,
   "id": "7643cfef-ded5-451d-96c0-53c377fa6680",
   "metadata": {},
   "outputs": [],
   "source": [
    "# leading indicator variables and date ranges\n",
    "#macro_monthly_df_short.shift(1)['2013-04-01':'2022-11-01'].dropna() # 5 days. Dates ['2013-04-01':'2022-10-01']\n",
    "#macro_monthly_df_short.shift(3)['2013-04-01':'2022-11-01'].dropna() # 20 days. Dates ['2013-04-01':'2022-08-01']\n",
    "#macro_monthly_df_short.shift(6)['2013-04-01':'2022-11-01'].dropna() # 60 days. Dates ['2013-04-01':'2022-05-01']\n",
    "# lagging indicator variables and date ranges\n",
    "#macro_monthly_df_short.shift(-1)['2013-04-01':'2022-11-01'].dropna() # 1 month. Dates ['2013-05-01':'2022-11-01']\n",
    "#macro_monthly_df_short.shift(-3)['2013-04-01':'2022-11-01'].dropna() # 3 months. Dates ['2013-07-01':'2022-11-01']\n",
    "#macro_monthly_df_short.shift(-6)['2013-04-01':'2022-11-01'].dropna() # 6 months. Dates ['2013-10-01':'2022-11-01']"
   ]
  },
  {
   "cell_type": "code",
   "execution_count": 88,
   "id": "bff823fe-f3fe-4215-bfc2-0402db5b674f",
   "metadata": {
    "tags": []
   },
   "outputs": [],
   "source": [
    "# fit a model for everything\n",
    "ridge_df = macro_monthly_df.copy()\n",
    "lags = [1,3,6,-1,-3,-6]\n",
    "\n",
    "for elem in list(macro_monthly_df.columns):\n",
    "    for lag in lags:\n",
    "        col_name = str(elem) + ' lag ' + str(lag)\n",
    "        ridge_df[col_name] = ridge_df[elem].shift(lag)\n",
    "\n",
    "\n",
    "# drop all columns containing HK50 (the \n",
    "ridge_df = ridge_df.loc[:,~ridge_df.columns.str.contains('HK50 ret.')]\n",
    "\n",
    "X = ridge_df.dropna()\n",
    "y = macro_monthly_df['HK50 ret.'][ridge_df.dropna().index[0]:ridge_df.dropna().index[-1]]"
   ]
  },
  {
   "cell_type": "code",
   "execution_count": 89,
   "id": "5e65dec9-1d5d-4151-9e13-0f80c9130c8f",
   "metadata": {
    "tags": []
   },
   "outputs": [
    {
     "data": {
      "text/html": [
       "<div>\n",
       "<style scoped>\n",
       "    .dataframe tbody tr th:only-of-type {\n",
       "        vertical-align: middle;\n",
       "    }\n",
       "\n",
       "    .dataframe tbody tr th {\n",
       "        vertical-align: top;\n",
       "    }\n",
       "\n",
       "    .dataframe thead th {\n",
       "        text-align: right;\n",
       "    }\n",
       "</style>\n",
       "<table border=\"1\" class=\"dataframe\">\n",
       "  <thead>\n",
       "    <tr style=\"text-align: right;\">\n",
       "      <th></th>\n",
       "      <th>US10Y</th>\n",
       "      <th>CN10Y</th>\n",
       "      <th>CAIXIN</th>\n",
       "      <th>US_CPI_FRED_all ret.</th>\n",
       "      <th>US_CPI_OECD ret.</th>\n",
       "      <th>CN_CPI_OECD ret.</th>\n",
       "      <th>US_M2 ret.</th>\n",
       "      <th>CN_M2 ret.</th>\n",
       "      <th>EU_M2 ret.</th>\n",
       "      <th>US10Y lag 1</th>\n",
       "      <th>...</th>\n",
       "      <th>CN_M2 ret. lag 6</th>\n",
       "      <th>CN_M2 ret. lag -1</th>\n",
       "      <th>CN_M2 ret. lag -3</th>\n",
       "      <th>CN_M2 ret. lag -6</th>\n",
       "      <th>EU_M2 ret. lag 1</th>\n",
       "      <th>EU_M2 ret. lag 3</th>\n",
       "      <th>EU_M2 ret. lag 6</th>\n",
       "      <th>EU_M2 ret. lag -1</th>\n",
       "      <th>EU_M2 ret. lag -3</th>\n",
       "      <th>EU_M2 ret. lag -6</th>\n",
       "    </tr>\n",
       "  </thead>\n",
       "  <tbody>\n",
       "    <tr>\n",
       "      <th>2018-06-01</th>\n",
       "      <td>0.00</td>\n",
       "      <td>1.64</td>\n",
       "      <td>51.1</td>\n",
       "      <td>0.000901</td>\n",
       "      <td>0.001592</td>\n",
       "      <td>0.000000</td>\n",
       "      <td>0.004364</td>\n",
       "      <td>0.003801</td>\n",
       "      <td>0.007481</td>\n",
       "      <td>0.06</td>\n",
       "      <td>...</td>\n",
       "      <td>0.007781</td>\n",
       "      <td>0.004249</td>\n",
       "      <td>0.004151</td>\n",
       "      <td>0.005888</td>\n",
       "      <td>0.003763</td>\n",
       "      <td>0.001184</td>\n",
       "      <td>0.005592</td>\n",
       "      <td>0.005724</td>\n",
       "      <td>0.002667</td>\n",
       "      <td>0.003669</td>\n",
       "    </tr>\n",
       "    <tr>\n",
       "      <th>2018-05-01</th>\n",
       "      <td>0.05</td>\n",
       "      <td>1.85</td>\n",
       "      <td>51.1</td>\n",
       "      <td>0.002255</td>\n",
       "      <td>0.004151</td>\n",
       "      <td>-0.001905</td>\n",
       "      <td>0.003817</td>\n",
       "      <td>0.004249</td>\n",
       "      <td>0.005724</td>\n",
       "      <td>0.00</td>\n",
       "      <td>...</td>\n",
       "      <td>0.007425</td>\n",
       "      <td>0.004747</td>\n",
       "      <td>0.011428</td>\n",
       "      <td>0.008569</td>\n",
       "      <td>0.007481</td>\n",
       "      <td>-0.000052</td>\n",
       "      <td>0.005178</td>\n",
       "      <td>0.005167</td>\n",
       "      <td>-0.000315</td>\n",
       "      <td>0.003808</td>\n",
       "    </tr>\n",
       "    <tr>\n",
       "      <th>2018-04-01</th>\n",
       "      <td>0.51</td>\n",
       "      <td>1.85</td>\n",
       "      <td>51.0</td>\n",
       "      <td>0.002601</td>\n",
       "      <td>0.003967</td>\n",
       "      <td>-0.001901</td>\n",
       "      <td>0.001588</td>\n",
       "      <td>0.004747</td>\n",
       "      <td>0.005167</td>\n",
       "      <td>0.05</td>\n",
       "      <td>...</td>\n",
       "      <td>0.007361</td>\n",
       "      <td>0.004151</td>\n",
       "      <td>0.009204</td>\n",
       "      <td>0.008313</td>\n",
       "      <td>0.005724</td>\n",
       "      <td>0.003763</td>\n",
       "      <td>0.002486</td>\n",
       "      <td>0.002667</td>\n",
       "      <td>0.000497</td>\n",
       "      <td>0.001568</td>\n",
       "    </tr>\n",
       "    <tr>\n",
       "      <th>2018-03-01</th>\n",
       "      <td>0.41</td>\n",
       "      <td>1.68</td>\n",
       "      <td>51.6</td>\n",
       "      <td>0.000192</td>\n",
       "      <td>0.002258</td>\n",
       "      <td>-0.011332</td>\n",
       "      <td>0.003968</td>\n",
       "      <td>0.004151</td>\n",
       "      <td>0.002667</td>\n",
       "      <td>0.51</td>\n",
       "      <td>...</td>\n",
       "      <td>0.007165</td>\n",
       "      <td>0.011428</td>\n",
       "      <td>0.005888</td>\n",
       "      <td>0.008558</td>\n",
       "      <td>0.005167</td>\n",
       "      <td>0.007481</td>\n",
       "      <td>0.001184</td>\n",
       "      <td>-0.000315</td>\n",
       "      <td>0.003669</td>\n",
       "      <td>0.002987</td>\n",
       "    </tr>\n",
       "    <tr>\n",
       "      <th>2018-02-01</th>\n",
       "      <td>0.64</td>\n",
       "      <td>0.96</td>\n",
       "      <td>51.5</td>\n",
       "      <td>0.002689</td>\n",
       "      <td>0.004525</td>\n",
       "      <td>0.012282</td>\n",
       "      <td>0.003023</td>\n",
       "      <td>0.011428</td>\n",
       "      <td>-0.000315</td>\n",
       "      <td>0.41</td>\n",
       "      <td>...</td>\n",
       "      <td>0.007735</td>\n",
       "      <td>0.009204</td>\n",
       "      <td>0.008569</td>\n",
       "      <td>0.006934</td>\n",
       "      <td>0.002667</td>\n",
       "      <td>0.005724</td>\n",
       "      <td>-0.000052</td>\n",
       "      <td>0.000497</td>\n",
       "      <td>0.003808</td>\n",
       "      <td>0.003815</td>\n",
       "    </tr>\n",
       "  </tbody>\n",
       "</table>\n",
       "<p>5 rows × 63 columns</p>\n",
       "</div>"
      ],
      "text/plain": [
       "            US10Y  CN10Y  CAIXIN  US_CPI_FRED_all ret.  US_CPI_OECD ret.  \\\n",
       "2018-06-01   0.00   1.64    51.1              0.000901          0.001592   \n",
       "2018-05-01   0.05   1.85    51.1              0.002255          0.004151   \n",
       "2018-04-01   0.51   1.85    51.0              0.002601          0.003967   \n",
       "2018-03-01   0.41   1.68    51.6              0.000192          0.002258   \n",
       "2018-02-01   0.64   0.96    51.5              0.002689          0.004525   \n",
       "\n",
       "            CN_CPI_OECD ret.  US_M2 ret.  CN_M2 ret.  EU_M2 ret.  US10Y lag 1  \\\n",
       "2018-06-01          0.000000    0.004364    0.003801    0.007481         0.06   \n",
       "2018-05-01         -0.001905    0.003817    0.004249    0.005724         0.00   \n",
       "2018-04-01         -0.001901    0.001588    0.004747    0.005167         0.05   \n",
       "2018-03-01         -0.011332    0.003968    0.004151    0.002667         0.51   \n",
       "2018-02-01          0.012282    0.003023    0.011428   -0.000315         0.41   \n",
       "\n",
       "            ...  CN_M2 ret. lag 6  CN_M2 ret. lag -1  CN_M2 ret. lag -3  \\\n",
       "2018-06-01  ...          0.007781           0.004249           0.004151   \n",
       "2018-05-01  ...          0.007425           0.004747           0.011428   \n",
       "2018-04-01  ...          0.007361           0.004151           0.009204   \n",
       "2018-03-01  ...          0.007165           0.011428           0.005888   \n",
       "2018-02-01  ...          0.007735           0.009204           0.008569   \n",
       "\n",
       "            CN_M2 ret. lag -6  EU_M2 ret. lag 1  EU_M2 ret. lag 3  \\\n",
       "2018-06-01           0.005888          0.003763          0.001184   \n",
       "2018-05-01           0.008569          0.007481         -0.000052   \n",
       "2018-04-01           0.008313          0.005724          0.003763   \n",
       "2018-03-01           0.008558          0.005167          0.007481   \n",
       "2018-02-01           0.006934          0.002667          0.005724   \n",
       "\n",
       "            EU_M2 ret. lag 6  EU_M2 ret. lag -1  EU_M2 ret. lag -3  \\\n",
       "2018-06-01          0.005592           0.005724           0.002667   \n",
       "2018-05-01          0.005178           0.005167          -0.000315   \n",
       "2018-04-01          0.002486           0.002667           0.000497   \n",
       "2018-03-01          0.001184          -0.000315           0.003669   \n",
       "2018-02-01         -0.000052           0.000497           0.003808   \n",
       "\n",
       "            EU_M2 ret. lag -6  \n",
       "2018-06-01           0.003669  \n",
       "2018-05-01           0.003808  \n",
       "2018-04-01           0.001568  \n",
       "2018-03-01           0.002987  \n",
       "2018-02-01           0.003815  \n",
       "\n",
       "[5 rows x 63 columns]"
      ]
     },
     "execution_count": 89,
     "metadata": {},
     "output_type": "execute_result"
    }
   ],
   "source": [
    "X.head()"
   ]
  },
  {
   "cell_type": "code",
   "execution_count": 90,
   "id": "3fddc901-a391-4dfe-9fcd-1423b5fe29d4",
   "metadata": {
    "tags": []
   },
   "outputs": [
    {
     "name": "stdout",
     "output_type": "stream",
     "text": [
      "R^2 error (train): 0.13796\n",
      "R^2 error (test): -0.16668\n",
      "Mean Absolute Error (MAE): 0.63\n",
      "Mean Squared Error (MSE): 0.6\n",
      "Mean Absolute Percentage Error (MAPE): 226.4 %\n",
      "Regularisation parameter after CV: 1000.0\n"
     ]
    }
   ],
   "source": [
    "# run ridge regression\n",
    "\n",
    "X = ridge_df.dropna()\n",
    "y = macro_monthly_df['HK50 ret.'][ridge_df.dropna().index[0]:ridge_df.dropna().index[-1]]\n",
    "\n",
    "# scale the data\n",
    "data_scaler_x = StandardScaler()\n",
    "data_scaler_y = StandardScaler()\n",
    "\n",
    "# use the below if only one feature\n",
    "# X = data_scaler_x.fit_transform(X.values.reshape(-1, 1))\n",
    "X = data_scaler_x.fit_transform(X.values)\n",
    "y = data_scaler_y.fit_transform(y.values.reshape(-1,1))\n",
    "\n",
    "# test / train split\n",
    "X_train, y_train, X_test, y_test = macro_test_train_split(X,y)\n",
    "\n",
    "# fit ridge regression model\n",
    "alphas = np.logspace(-10, 10, 21)\n",
    "clf = RidgeCV(alphas=alphas).fit(X_train,y_train)\n",
    "\n",
    "# return R^2\n",
    "clf.score(X_train, y_train) # in-sample performance\n",
    "clf.score(X_test, y_test) # out-of-sample performance\n",
    "\n",
    "print(f'R^2 error (train): {np.round(clf.score(X_train, y_train),5)}')\n",
    "print(f'R^2 error (test): {np.round(clf.score(X_test, y_test),5)}')\n",
    "\n",
    "# get predicted values (out of sample performance)\n",
    "y_pred_scaled = clf.predict(X_test)\n",
    "y_pred = y_pred_scaled#data_scaler_y.inverse_transform(y_pred_scaled.reshape(-1,1))\n",
    "\n",
    "# Mean Absolute Error (MAE)\n",
    "MAE = mean_absolute_error(y_test, y_pred)\n",
    "print(f'Mean Absolute Error (MAE): {np.round(MAE, 2)}')\n",
    "\n",
    "# Mean Squared Error (MSE)\n",
    "MSE = mean_squared_error(y_test,y_pred)\n",
    "print(f'Mean Squared Error (MSE): {np.round(MSE, 2)}')\n",
    "\n",
    "# Mean Absolute Percentage Error (MAPE)\n",
    "MAPE = mean_abs_pct_error(y_test,y_pred)\n",
    "print(f'Mean Absolute Percentage Error (MAPE): {np.round(MAPE, 2)} %')\n",
    "\n",
    "# alphas\n",
    "print('Regularisation parameter after CV: '+str(clf.alpha_))\n",
    "# alphas"
   ]
  },
  {
   "cell_type": "code",
   "execution_count": 92,
   "id": "7114a0b6-e75c-4fba-8121-6d5e1941376c",
   "metadata": {
    "tags": []
   },
   "outputs": [
    {
     "data": {
      "image/png": "[encoded data removed]",
      "text/plain": [
       "<Figure size 600x500 with 1 Axes>"
      ]
     },
     "metadata": {},
     "output_type": "display_data"
    }
   ],
   "source": [
    "mae_train = mean_absolute_error(y_train, clf.predict(X_train))\n",
    "mae_test = mean_absolute_error(y_test, y_pred)\n",
    "scores = {\n",
    "    \"MAE on training set\": f\"{mae_train:.2f}\",\n",
    "    \"MAE on testing set\": f\"{mae_test:.2f}\",\n",
    "}\n",
    "_, ax = plt.subplots(figsize=(6, 5))\n",
    "display = PredictionErrorDisplay.from_predictions(\n",
    "    y_test, y_pred, kind=\"actual_vs_predicted\", ax=ax, scatter_kwargs={\"alpha\": 0.5}\n",
    ")\n",
    "#ax.set_title(\"Ridge model, CV-optimised regularisation parameter\")\n",
    "for name, score in scores.items():\n",
    "    ax.plot([], [], \" \", label=f\"{name}: {score}\")\n",
    "ax.legend(loc=\"upper left\")\n",
    "plt.tight_layout()\n",
    "#plt.savefig('MAE_plot_monthly_all-ind.png',dpi=600)\n",
    "plt.savefig('MAE_plot_monthly_all-ind_no-title.png',dpi=600)"
   ]
  },
  {
   "cell_type": "code",
   "execution_count": 93,
   "id": "80bfa652-5bb2-4fc1-9f7c-ecd8b51cc006",
   "metadata": {
    "tags": []
   },
   "outputs": [
    {
     "data": {
      "text/html": [
       "<div>\n",
       "<style scoped>\n",
       "    .dataframe tbody tr th:only-of-type {\n",
       "        vertical-align: middle;\n",
       "    }\n",
       "\n",
       "    .dataframe tbody tr th {\n",
       "        vertical-align: top;\n",
       "    }\n",
       "\n",
       "    .dataframe thead th {\n",
       "        text-align: right;\n",
       "    }\n",
       "</style>\n",
       "<table border=\"1\" class=\"dataframe\">\n",
       "  <thead>\n",
       "    <tr style=\"text-align: right;\">\n",
       "      <th></th>\n",
       "      <th>Coefficients</th>\n",
       "    </tr>\n",
       "  </thead>\n",
       "  <tbody>\n",
       "    <tr>\n",
       "      <th>US10Y</th>\n",
       "      <td>-0.003269</td>\n",
       "    </tr>\n",
       "    <tr>\n",
       "      <th>CN10Y</th>\n",
       "      <td>0.006647</td>\n",
       "    </tr>\n",
       "    <tr>\n",
       "      <th>CAIXIN</th>\n",
       "      <td>0.004697</td>\n",
       "    </tr>\n",
       "    <tr>\n",
       "      <th>US_CPI_FRED_all ret.</th>\n",
       "      <td>0.004974</td>\n",
       "    </tr>\n",
       "    <tr>\n",
       "      <th>US_CPI_OECD ret.</th>\n",
       "      <td>0.002480</td>\n",
       "    </tr>\n",
       "    <tr>\n",
       "      <th>...</th>\n",
       "      <td>...</td>\n",
       "    </tr>\n",
       "    <tr>\n",
       "      <th>EU_M2 ret. lag 3</th>\n",
       "      <td>-0.008869</td>\n",
       "    </tr>\n",
       "    <tr>\n",
       "      <th>EU_M2 ret. lag 6</th>\n",
       "      <td>-0.001315</td>\n",
       "    </tr>\n",
       "    <tr>\n",
       "      <th>EU_M2 ret. lag -1</th>\n",
       "      <td>0.001473</td>\n",
       "    </tr>\n",
       "    <tr>\n",
       "      <th>EU_M2 ret. lag -3</th>\n",
       "      <td>0.000167</td>\n",
       "    </tr>\n",
       "    <tr>\n",
       "      <th>EU_M2 ret. lag -6</th>\n",
       "      <td>-0.009398</td>\n",
       "    </tr>\n",
       "  </tbody>\n",
       "</table>\n",
       "<p>63 rows × 1 columns</p>\n",
       "</div>"
      ],
      "text/plain": [
       "                      Coefficients\n",
       "US10Y                    -0.003269\n",
       "CN10Y                     0.006647\n",
       "CAIXIN                    0.004697\n",
       "US_CPI_FRED_all ret.      0.004974\n",
       "US_CPI_OECD ret.          0.002480\n",
       "...                            ...\n",
       "EU_M2 ret. lag 3         -0.008869\n",
       "EU_M2 ret. lag 6         -0.001315\n",
       "EU_M2 ret. lag -1         0.001473\n",
       "EU_M2 ret. lag -3         0.000167\n",
       "EU_M2 ret. lag -6        -0.009398\n",
       "\n",
       "[63 rows x 1 columns]"
      ]
     },
     "execution_count": 93,
     "metadata": {},
     "output_type": "execute_result"
    }
   ],
   "source": [
    "# interpreting coefficients\n",
    "\n",
    "feature_names = ridge_df.dropna().columns\n",
    "\n",
    "coefs = pd.DataFrame(\n",
    "    np.ndarray.flatten(clf.coef_),\n",
    "    columns=[\"Coefficients\"],\n",
    "    index=feature_names,\n",
    ")\n",
    "\n",
    "coefs"
   ]
  },
  {
   "cell_type": "markdown",
   "id": "a3fa8008-3a07-4e17-9755-e0fc939da755",
   "metadata": {},
   "source": [
    "### 7.2.1 Individual indicators and different lag periods"
   ]
  },
  {
   "cell_type": "code",
   "execution_count": 94,
   "id": "5d4bd36c-f083-4952-8912-832f5cb8b40b",
   "metadata": {
    "tags": []
   },
   "outputs": [],
   "source": [
    "# generate plots of coefficients (do this only once) \n",
    "\n",
    "list_of_exo = list(macro_monthly_df.keys())\n",
    "list_of_exo.remove('HK50 ret.')\n",
    "list_of_exo\n",
    "\n",
    "for elem in list_of_exo:\n",
    "    plot_normalised_ridge_coeffs(coefs,elem)\n",
    "    plt.close()"
   ]
  },
  {
   "cell_type": "code",
   "execution_count": null,
   "id": "b8a4383f-da52-4c9b-9542-4f1e3ddea82f",
   "metadata": {},
   "outputs": [],
   "source": []
  },
  {
   "cell_type": "code",
   "execution_count": null,
   "id": "28cda57d-8315-469c-b02b-0ee33128efb5",
   "metadata": {},
   "outputs": [],
   "source": []
  },
  {
   "cell_type": "code",
   "execution_count": null,
   "id": "f13d3648-585d-4494-8f3c-c3c204f9d659",
   "metadata": {},
   "outputs": [],
   "source": []
  },
  {
   "cell_type": "code",
   "execution_count": null,
   "id": "066b9472-f63b-42b6-9602-c0e77fd123dd",
   "metadata": {},
   "outputs": [],
   "source": []
  },
  {
   "cell_type": "code",
   "execution_count": null,
   "id": "aeadd343-5ae1-4e84-b589-4538d4c3f85a",
   "metadata": {},
   "outputs": [],
   "source": []
  },
  {
   "cell_type": "code",
   "execution_count": null,
   "id": "79d1edef-e4a3-49bd-ba40-8dbbf061a924",
   "metadata": {},
   "outputs": [],
   "source": []
  },
  {
   "cell_type": "code",
   "execution_count": null,
   "id": "be5f1fc5-22b1-4447-b394-146e62a7b80f",
   "metadata": {},
   "outputs": [],
   "source": []
  },
  {
   "cell_type": "code",
   "execution_count": null,
   "id": "c5cfcbca-8912-46c0-b01d-0083e8d8e78a",
   "metadata": {},
   "outputs": [],
   "source": []
  },
  {
   "cell_type": "code",
   "execution_count": null,
   "id": "2bfa88c9-f6f9-4ca6-977e-94b147b63e26",
   "metadata": {},
   "outputs": [],
   "source": []
  },
  {
   "cell_type": "code",
   "execution_count": null,
   "id": "5f9867a5-7502-44b5-8d7a-40d96fa39173",
   "metadata": {},
   "outputs": [],
   "source": []
  },
  {
   "cell_type": "code",
   "execution_count": null,
   "id": "45a15077-59f1-4c2e-b3e8-a7c54fa8403c",
   "metadata": {},
   "outputs": [],
   "source": []
  },
  {
   "cell_type": "code",
   "execution_count": null,
   "id": "b302eb13-8747-42c6-b3a6-91f5cc33334b",
   "metadata": {},
   "outputs": [],
   "source": []
  },
  {
   "cell_type": "code",
   "execution_count": null,
   "id": "e0a97dbc-29b0-4bc9-99e2-3d34950ab76f",
   "metadata": {},
   "outputs": [],
   "source": []
  },
  {
   "cell_type": "code",
   "execution_count": null,
   "id": "4bd0ee6d-f9c6-4cdf-9b44-03e99e87fd52",
   "metadata": {},
   "outputs": [],
   "source": []
  },
  {
   "cell_type": "code",
   "execution_count": null,
   "id": "095c793a-38f4-4dc1-83ce-cb0234d20162",
   "metadata": {},
   "outputs": [],
   "source": []
  }
 ],
 "metadata": {
  "kernelspec": {
   "display_name": "Python 3 (ipykernel)",
   "language": "python",
   "name": "python3"
  },
  "language_info": {
   "codemirror_mode": {
    "name": "ipython",
    "version": 3
   },
   "file_extension": ".py",
   "mimetype": "text/x-python",
   "name": "python",
   "nbconvert_exporter": "python",
   "pygments_lexer": "ipython3",
   "version": "3.10.0"
  }
 },
 "nbformat": 4,
 "nbformat_minor": 5
}

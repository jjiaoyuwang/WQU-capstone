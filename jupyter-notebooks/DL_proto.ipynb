{
 "cells": [
  {
   "cell_type": "markdown",
   "id": "5db0a5e0-97ba-4836-8fff-c809120ac1cc",
   "metadata": {},
   "source": [
    "Machine learning prototyping notebook. Data preprocessing has already been tested and implemented in data_preproc.py (samples/). "
   ]
  },
  {
   "cell_type": "code",
   "execution_count": 1,
   "id": "9d4272a8-0a9b-44d2-b0b1-413286897b2d",
   "metadata": {},
   "outputs": [],
   "source": [
    "import os\n",
    "import sys\n",
    "import pandas as pd\n",
    "import numpy as np\n",
    "from sklearn.utils import shuffle\n",
    "\n",
    "# IMPORT FUNCTIONS\n",
    "sys.path.insert(0, '../sample')\n",
    "import data_preproc\n",
    "import ML_routines\n",
    "import models\n",
    "\n",
    "# LOAD FINANCIAL RATIOS AND ASSET PRICES\n",
    "test_merge = pd.read_excel('../jupyter-notebooks/test_manual.xlsx')\n",
    "test_merge = test_merge.loc[:, test_merge.columns != 'Unnamed: 0']\n",
    "test_assets = pd.read_excel('../jupyter-notebooks/asset_prices.xlsx',index_col='Date')\n",
    "\n",
    "# PREPROCESS FINANCIAL RATIOS DATA, REPLACE STRINGS WITH FLOATS\n",
    "ML_data = test_merge.map(data_preproc.convert_placeholder_text_to_num)\n",
    "\n",
    "# ENSURE THE TWO DATAFRAMES CONTAINING FINANCIAL RATIOS (ML_DATA) AND RETURNS (TEST_ASSETS) HAVE THE SAME ASSETS/TICKERS\n",
    "ML_final = data_preproc.filter_ratios_returns(ML_data,test_assets)\n",
    "# print(ML_final.head())\n",
    "\n",
    "# RESAMPLE THE RETURNS FROM MONTHLY TO QUARTERLY, THEN BFILL AND FFILL\n",
    "asset_prices = test_assets # MAKE A COPY\n",
    "asset_prices.index = pd.to_datetime(asset_prices.index)\n",
    "asset_prices = asset_prices.resample('Q').last()\n",
    "asset_prices = asset_prices.bfill(axis=1)\n",
    "asset_prices = asset_prices.ffill(axis=1)\n",
    "\n",
    "\n",
    "# \n",
    "test = data_preproc.FRatioMLdata(ML_final,asset_prices,sector=None,returns_lead_by=2)#-1)\n",
    "#test.transform()\n",
    "#print(test.train.head())"
   ]
  },
  {
   "cell_type": "code",
   "execution_count": 2,
   "id": "61a5f00e-3262-4fed-839f-7409318b443c",
   "metadata": {},
   "outputs": [
    {
     "data": {
      "text/html": [
       "<div>\n",
       "<style scoped>\n",
       "    .dataframe tbody tr th:only-of-type {\n",
       "        vertical-align: middle;\n",
       "    }\n",
       "\n",
       "    .dataframe tbody tr th {\n",
       "        vertical-align: top;\n",
       "    }\n",
       "\n",
       "    .dataframe thead th {\n",
       "        text-align: right;\n",
       "    }\n",
       "</style>\n",
       "<table border=\"1\" class=\"dataframe\">\n",
       "  <thead>\n",
       "    <tr style=\"text-align: right;\">\n",
       "      <th></th>\n",
       "      <th>EV</th>\n",
       "      <th>FCF</th>\n",
       "      <th>EBITDA</th>\n",
       "      <th>Revenue</th>\n",
       "      <th>ROE</th>\n",
       "      <th>Gross-Profit-Margin</th>\n",
       "      <th>Quick-Ratio</th>\n",
       "      <th>Debt / Equity</th>\n",
       "      <th>Returns</th>\n",
       "    </tr>\n",
       "  </thead>\n",
       "  <tbody>\n",
       "    <tr>\n",
       "      <th>2</th>\n",
       "      <td>-0.026975</td>\n",
       "      <td>-0.004681</td>\n",
       "      <td>-0.004744</td>\n",
       "      <td>-0.004536</td>\n",
       "      <td>0.480392</td>\n",
       "      <td>0.000000</td>\n",
       "      <td>0.000000</td>\n",
       "      <td>0.000000</td>\n",
       "      <td>0.050000</td>\n",
       "    </tr>\n",
       "    <tr>\n",
       "      <th>3</th>\n",
       "      <td>0.258930</td>\n",
       "      <td>-2.478155</td>\n",
       "      <td>4.193577</td>\n",
       "      <td>-0.806291</td>\n",
       "      <td>1.000000</td>\n",
       "      <td>-0.309524</td>\n",
       "      <td>-0.600000</td>\n",
       "      <td>-0.427141</td>\n",
       "      <td>0.041667</td>\n",
       "    </tr>\n",
       "    <tr>\n",
       "      <th>4</th>\n",
       "      <td>-0.475836</td>\n",
       "      <td>-0.002556</td>\n",
       "      <td>-0.002633</td>\n",
       "      <td>-0.002629</td>\n",
       "      <td>-1.864407</td>\n",
       "      <td>0.000000</td>\n",
       "      <td>0.000000</td>\n",
       "      <td>0.000000</td>\n",
       "      <td>-0.153732</td>\n",
       "    </tr>\n",
       "    <tr>\n",
       "      <th>5</th>\n",
       "      <td>-0.293669</td>\n",
       "      <td>-0.008364</td>\n",
       "      <td>-0.541817</td>\n",
       "      <td>0.229405</td>\n",
       "      <td>-0.662857</td>\n",
       "      <td>-0.475000</td>\n",
       "      <td>4.000000</td>\n",
       "      <td>0.163001</td>\n",
       "      <td>0.155340</td>\n",
       "    </tr>\n",
       "    <tr>\n",
       "      <th>6</th>\n",
       "      <td>0.825410</td>\n",
       "      <td>-0.002780</td>\n",
       "      <td>-0.002607</td>\n",
       "      <td>-0.002793</td>\n",
       "      <td>-0.064171</td>\n",
       "      <td>0.000000</td>\n",
       "      <td>0.000000</td>\n",
       "      <td>0.000000</td>\n",
       "      <td>-0.036178</td>\n",
       "    </tr>\n",
       "    <tr>\n",
       "      <th>...</th>\n",
       "      <td>...</td>\n",
       "      <td>...</td>\n",
       "      <td>...</td>\n",
       "      <td>...</td>\n",
       "      <td>...</td>\n",
       "      <td>...</td>\n",
       "      <td>...</td>\n",
       "      <td>...</td>\n",
       "      <td>...</td>\n",
       "    </tr>\n",
       "    <tr>\n",
       "      <th>7</th>\n",
       "      <td>0.049659</td>\n",
       "      <td>-1.467892</td>\n",
       "      <td>-0.094140</td>\n",
       "      <td>-0.572862</td>\n",
       "      <td>0.232558</td>\n",
       "      <td>0.146119</td>\n",
       "      <td>0.000000</td>\n",
       "      <td>-0.341260</td>\n",
       "      <td>0.100000</td>\n",
       "    </tr>\n",
       "    <tr>\n",
       "      <th>8</th>\n",
       "      <td>-0.026540</td>\n",
       "      <td>3.187525</td>\n",
       "      <td>0.038230</td>\n",
       "      <td>0.513707</td>\n",
       "      <td>0.653846</td>\n",
       "      <td>0.531469</td>\n",
       "      <td>0.000000</td>\n",
       "      <td>0.034440</td>\n",
       "      <td>0.030928</td>\n",
       "    </tr>\n",
       "    <tr>\n",
       "      <th>9</th>\n",
       "      <td>-0.029439</td>\n",
       "      <td>-0.762979</td>\n",
       "      <td>0.221575</td>\n",
       "      <td>0.009796</td>\n",
       "      <td>0.000000</td>\n",
       "      <td>-0.089172</td>\n",
       "      <td>0.000000</td>\n",
       "      <td>-0.117264</td>\n",
       "      <td>0.010417</td>\n",
       "    </tr>\n",
       "    <tr>\n",
       "      <th>10</th>\n",
       "      <td>-0.051483</td>\n",
       "      <td>-4.752607</td>\n",
       "      <td>0.241513</td>\n",
       "      <td>0.375513</td>\n",
       "      <td>-0.037037</td>\n",
       "      <td>0.154412</td>\n",
       "      <td>0.100000</td>\n",
       "      <td>0.075935</td>\n",
       "      <td>0.185185</td>\n",
       "    </tr>\n",
       "    <tr>\n",
       "      <th>11</th>\n",
       "      <td>-0.084665</td>\n",
       "      <td>-1.694389</td>\n",
       "      <td>0.593941</td>\n",
       "      <td>-0.503057</td>\n",
       "      <td>-0.129032</td>\n",
       "      <td>0.054264</td>\n",
       "      <td>-0.090909</td>\n",
       "      <td>-0.147410</td>\n",
       "      <td>0.000000</td>\n",
       "    </tr>\n",
       "  </tbody>\n",
       "</table>\n",
       "<p>455 rows × 9 columns</p>\n",
       "</div>"
      ],
      "text/plain": [
       "          EV       FCF    EBITDA   Revenue       ROE  Gross-Profit-Margin  \\\n",
       "2  -0.026975 -0.004681 -0.004744 -0.004536  0.480392             0.000000   \n",
       "3   0.258930 -2.478155  4.193577 -0.806291  1.000000            -0.309524   \n",
       "4  -0.475836 -0.002556 -0.002633 -0.002629 -1.864407             0.000000   \n",
       "5  -0.293669 -0.008364 -0.541817  0.229405 -0.662857            -0.475000   \n",
       "6   0.825410 -0.002780 -0.002607 -0.002793 -0.064171             0.000000   \n",
       "..       ...       ...       ...       ...       ...                  ...   \n",
       "7   0.049659 -1.467892 -0.094140 -0.572862  0.232558             0.146119   \n",
       "8  -0.026540  3.187525  0.038230  0.513707  0.653846             0.531469   \n",
       "9  -0.029439 -0.762979  0.221575  0.009796  0.000000            -0.089172   \n",
       "10 -0.051483 -4.752607  0.241513  0.375513 -0.037037             0.154412   \n",
       "11 -0.084665 -1.694389  0.593941 -0.503057 -0.129032             0.054264   \n",
       "\n",
       "    Quick-Ratio  Debt / Equity   Returns  \n",
       "2      0.000000       0.000000  0.050000  \n",
       "3     -0.600000      -0.427141  0.041667  \n",
       "4      0.000000       0.000000 -0.153732  \n",
       "5      4.000000       0.163001  0.155340  \n",
       "6      0.000000       0.000000 -0.036178  \n",
       "..          ...            ...       ...  \n",
       "7      0.000000      -0.341260  0.100000  \n",
       "8      0.000000       0.034440  0.030928  \n",
       "9      0.000000      -0.117264  0.010417  \n",
       "10     0.100000       0.075935  0.185185  \n",
       "11    -0.090909      -0.147410  0.000000  \n",
       "\n",
       "[455 rows x 9 columns]"
      ]
     },
     "execution_count": 2,
     "metadata": {},
     "output_type": "execute_result"
    }
   ],
   "source": [
    "# transform the data into ML compatible format\n",
    "\n",
    "test.transform()"
   ]
  },
  {
   "cell_type": "code",
   "execution_count": 3,
   "id": "ff7b986d-c75b-474b-9915-4ac2b5a678f6",
   "metadata": {},
   "outputs": [],
   "source": [
    "# test the dataframe shuffling procedure. Ultimately, probably better to do this by invoking shuffle directly, rather than as a method of the object.\n",
    "# test.shuffle()"
   ]
  },
  {
   "cell_type": "code",
   "execution_count": 4,
   "id": "ecef3c43-9bff-4d2f-97be-5b98b3b5e19e",
   "metadata": {},
   "outputs": [],
   "source": [
    "# visualise the dataframe after shuffling\n",
    "\n",
    "#test = test.train)\n",
    "data_rg = shuffle(test.train,random_state=0)"
   ]
  },
  {
   "cell_type": "code",
   "execution_count": 5,
   "id": "e243f4c1-e729-4e0e-9fe5-fc2dd02c61e6",
   "metadata": {},
   "outputs": [
    {
     "data": {
      "text/html": [
       "<div>\n",
       "<style scoped>\n",
       "    .dataframe tbody tr th:only-of-type {\n",
       "        vertical-align: middle;\n",
       "    }\n",
       "\n",
       "    .dataframe tbody tr th {\n",
       "        vertical-align: top;\n",
       "    }\n",
       "\n",
       "    .dataframe thead th {\n",
       "        text-align: right;\n",
       "    }\n",
       "</style>\n",
       "<table border=\"1\" class=\"dataframe\">\n",
       "  <thead>\n",
       "    <tr style=\"text-align: right;\">\n",
       "      <th></th>\n",
       "      <th>EV</th>\n",
       "      <th>FCF</th>\n",
       "      <th>EBITDA</th>\n",
       "      <th>Revenue</th>\n",
       "      <th>ROE</th>\n",
       "      <th>Gross-Profit-Margin</th>\n",
       "      <th>Quick-Ratio</th>\n",
       "      <th>Debt / Equity</th>\n",
       "      <th>Returns</th>\n",
       "    </tr>\n",
       "  </thead>\n",
       "  <tbody>\n",
       "    <tr>\n",
       "      <th>9</th>\n",
       "      <td>0.257514</td>\n",
       "      <td>-1.889561</td>\n",
       "      <td>0.087670</td>\n",
       "      <td>-0.133416</td>\n",
       "      <td>-2.333333</td>\n",
       "      <td>0.175000</td>\n",
       "      <td>-0.166667</td>\n",
       "      <td>0.333333</td>\n",
       "      <td>0.575757</td>\n",
       "    </tr>\n",
       "    <tr>\n",
       "      <th>10</th>\n",
       "      <td>-0.209946</td>\n",
       "      <td>0.005086</td>\n",
       "      <td>0.005019</td>\n",
       "      <td>0.005256</td>\n",
       "      <td>-0.243590</td>\n",
       "      <td>0.000000</td>\n",
       "      <td>0.000000</td>\n",
       "      <td>0.000000</td>\n",
       "      <td>0.050450</td>\n",
       "    </tr>\n",
       "    <tr>\n",
       "      <th>5</th>\n",
       "      <td>0.364062</td>\n",
       "      <td>-6.677251</td>\n",
       "      <td>-0.008029</td>\n",
       "      <td>0.172071</td>\n",
       "      <td>0.069444</td>\n",
       "      <td>-0.048872</td>\n",
       "      <td>-0.050000</td>\n",
       "      <td>-0.666667</td>\n",
       "      <td>0.000000</td>\n",
       "    </tr>\n",
       "    <tr>\n",
       "      <th>11</th>\n",
       "      <td>0.000000</td>\n",
       "      <td>-0.756467</td>\n",
       "      <td>-0.024635</td>\n",
       "      <td>-0.002249</td>\n",
       "      <td>-0.220290</td>\n",
       "      <td>0.085039</td>\n",
       "      <td>0.000000</td>\n",
       "      <td>-0.098667</td>\n",
       "      <td>-0.024042</td>\n",
       "    </tr>\n",
       "    <tr>\n",
       "      <th>5</th>\n",
       "      <td>0.129530</td>\n",
       "      <td>-0.949155</td>\n",
       "      <td>-3.442810</td>\n",
       "      <td>0.033613</td>\n",
       "      <td>-0.025641</td>\n",
       "      <td>0.461538</td>\n",
       "      <td>0.444444</td>\n",
       "      <td>-0.124476</td>\n",
       "      <td>0.000000</td>\n",
       "    </tr>\n",
       "    <tr>\n",
       "      <th>...</th>\n",
       "      <td>...</td>\n",
       "      <td>...</td>\n",
       "      <td>...</td>\n",
       "      <td>...</td>\n",
       "      <td>...</td>\n",
       "      <td>...</td>\n",
       "      <td>...</td>\n",
       "      <td>...</td>\n",
       "      <td>...</td>\n",
       "    </tr>\n",
       "    <tr>\n",
       "      <th>5</th>\n",
       "      <td>0.018908</td>\n",
       "      <td>-0.055898</td>\n",
       "      <td>-1.656752</td>\n",
       "      <td>-0.117811</td>\n",
       "      <td>0.227273</td>\n",
       "      <td>-1.259259</td>\n",
       "      <td>2.333333</td>\n",
       "      <td>0.063901</td>\n",
       "      <td>0.333333</td>\n",
       "    </tr>\n",
       "    <tr>\n",
       "      <th>10</th>\n",
       "      <td>-0.163981</td>\n",
       "      <td>0.005127</td>\n",
       "      <td>0.005139</td>\n",
       "      <td>0.005117</td>\n",
       "      <td>-0.224490</td>\n",
       "      <td>0.000000</td>\n",
       "      <td>0.000000</td>\n",
       "      <td>0.000000</td>\n",
       "      <td>0.184783</td>\n",
       "    </tr>\n",
       "    <tr>\n",
       "      <th>9</th>\n",
       "      <td>0.011868</td>\n",
       "      <td>-1.302406</td>\n",
       "      <td>-1.609848</td>\n",
       "      <td>-0.074476</td>\n",
       "      <td>-0.097561</td>\n",
       "      <td>-0.581081</td>\n",
       "      <td>0.000000</td>\n",
       "      <td>-0.075949</td>\n",
       "      <td>-0.016667</td>\n",
       "    </tr>\n",
       "    <tr>\n",
       "      <th>7</th>\n",
       "      <td>-0.003843</td>\n",
       "      <td>-0.464031</td>\n",
       "      <td>-0.222056</td>\n",
       "      <td>-0.209207</td>\n",
       "      <td>0.229167</td>\n",
       "      <td>0.041397</td>\n",
       "      <td>-0.363636</td>\n",
       "      <td>0.117647</td>\n",
       "      <td>-0.001678</td>\n",
       "    </tr>\n",
       "    <tr>\n",
       "      <th>9</th>\n",
       "      <td>-0.115305</td>\n",
       "      <td>2.782684</td>\n",
       "      <td>1.728695</td>\n",
       "      <td>0.443394</td>\n",
       "      <td>0.062500</td>\n",
       "      <td>0.035616</td>\n",
       "      <td>-0.088889</td>\n",
       "      <td>-0.153846</td>\n",
       "      <td>0.151899</td>\n",
       "    </tr>\n",
       "  </tbody>\n",
       "</table>\n",
       "<p>455 rows × 9 columns</p>\n",
       "</div>"
      ],
      "text/plain": [
       "          EV       FCF    EBITDA   Revenue       ROE  Gross-Profit-Margin  \\\n",
       "9   0.257514 -1.889561  0.087670 -0.133416 -2.333333             0.175000   \n",
       "10 -0.209946  0.005086  0.005019  0.005256 -0.243590             0.000000   \n",
       "5   0.364062 -6.677251 -0.008029  0.172071  0.069444            -0.048872   \n",
       "11  0.000000 -0.756467 -0.024635 -0.002249 -0.220290             0.085039   \n",
       "5   0.129530 -0.949155 -3.442810  0.033613 -0.025641             0.461538   \n",
       "..       ...       ...       ...       ...       ...                  ...   \n",
       "5   0.018908 -0.055898 -1.656752 -0.117811  0.227273            -1.259259   \n",
       "10 -0.163981  0.005127  0.005139  0.005117 -0.224490             0.000000   \n",
       "9   0.011868 -1.302406 -1.609848 -0.074476 -0.097561            -0.581081   \n",
       "7  -0.003843 -0.464031 -0.222056 -0.209207  0.229167             0.041397   \n",
       "9  -0.115305  2.782684  1.728695  0.443394  0.062500             0.035616   \n",
       "\n",
       "    Quick-Ratio  Debt / Equity   Returns  \n",
       "9     -0.166667       0.333333  0.575757  \n",
       "10     0.000000       0.000000  0.050450  \n",
       "5     -0.050000      -0.666667  0.000000  \n",
       "11     0.000000      -0.098667 -0.024042  \n",
       "5      0.444444      -0.124476  0.000000  \n",
       "..          ...            ...       ...  \n",
       "5      2.333333       0.063901  0.333333  \n",
       "10     0.000000       0.000000  0.184783  \n",
       "9      0.000000      -0.075949 -0.016667  \n",
       "7     -0.363636       0.117647 -0.001678  \n",
       "9     -0.088889      -0.153846  0.151899  \n",
       "\n",
       "[455 rows x 9 columns]"
      ]
     },
     "execution_count": 5,
     "metadata": {},
     "output_type": "execute_result"
    }
   ],
   "source": [
    "data_rg"
   ]
  },
  {
   "cell_type": "markdown",
   "id": "fea4ef76-b794-4c14-a34b-ec0568a0a2e9",
   "metadata": {},
   "source": [
    "## Converting between returns and trend prediction"
   ]
  },
  {
   "cell_type": "code",
   "execution_count": 6,
   "id": "a83597a7-6286-4175-95a5-2ed5f3970811",
   "metadata": {},
   "outputs": [],
   "source": [
    "data_clf = ML_routines.convert_regression_to_classification(data_rg)"
   ]
  },
  {
   "cell_type": "code",
   "execution_count": 7,
   "id": "3c384b46-981b-41bf-a62a-d80b0e425366",
   "metadata": {},
   "outputs": [
    {
     "data": {
      "text/html": [
       "<div>\n",
       "<style scoped>\n",
       "    .dataframe tbody tr th:only-of-type {\n",
       "        vertical-align: middle;\n",
       "    }\n",
       "\n",
       "    .dataframe tbody tr th {\n",
       "        vertical-align: top;\n",
       "    }\n",
       "\n",
       "    .dataframe thead th {\n",
       "        text-align: right;\n",
       "    }\n",
       "</style>\n",
       "<table border=\"1\" class=\"dataframe\">\n",
       "  <thead>\n",
       "    <tr style=\"text-align: right;\">\n",
       "      <th></th>\n",
       "      <th>EV</th>\n",
       "      <th>FCF</th>\n",
       "      <th>EBITDA</th>\n",
       "      <th>Revenue</th>\n",
       "      <th>ROE</th>\n",
       "      <th>Gross-Profit-Margin</th>\n",
       "      <th>Quick-Ratio</th>\n",
       "      <th>Debt / Equity</th>\n",
       "      <th>Returns</th>\n",
       "    </tr>\n",
       "  </thead>\n",
       "  <tbody>\n",
       "    <tr>\n",
       "      <th>9</th>\n",
       "      <td>0.257514</td>\n",
       "      <td>-1.889561</td>\n",
       "      <td>0.087670</td>\n",
       "      <td>-0.133416</td>\n",
       "      <td>-2.333333</td>\n",
       "      <td>0.175000</td>\n",
       "      <td>-0.166667</td>\n",
       "      <td>0.333333</td>\n",
       "      <td>1</td>\n",
       "    </tr>\n",
       "    <tr>\n",
       "      <th>10</th>\n",
       "      <td>-0.209946</td>\n",
       "      <td>0.005086</td>\n",
       "      <td>0.005019</td>\n",
       "      <td>0.005256</td>\n",
       "      <td>-0.243590</td>\n",
       "      <td>0.000000</td>\n",
       "      <td>0.000000</td>\n",
       "      <td>0.000000</td>\n",
       "      <td>1</td>\n",
       "    </tr>\n",
       "    <tr>\n",
       "      <th>5</th>\n",
       "      <td>0.364062</td>\n",
       "      <td>-6.677251</td>\n",
       "      <td>-0.008029</td>\n",
       "      <td>0.172071</td>\n",
       "      <td>0.069444</td>\n",
       "      <td>-0.048872</td>\n",
       "      <td>-0.050000</td>\n",
       "      <td>-0.666667</td>\n",
       "      <td>1</td>\n",
       "    </tr>\n",
       "    <tr>\n",
       "      <th>11</th>\n",
       "      <td>0.000000</td>\n",
       "      <td>-0.756467</td>\n",
       "      <td>-0.024635</td>\n",
       "      <td>-0.002249</td>\n",
       "      <td>-0.220290</td>\n",
       "      <td>0.085039</td>\n",
       "      <td>0.000000</td>\n",
       "      <td>-0.098667</td>\n",
       "      <td>0</td>\n",
       "    </tr>\n",
       "    <tr>\n",
       "      <th>5</th>\n",
       "      <td>0.129530</td>\n",
       "      <td>-0.949155</td>\n",
       "      <td>-3.442810</td>\n",
       "      <td>0.033613</td>\n",
       "      <td>-0.025641</td>\n",
       "      <td>0.461538</td>\n",
       "      <td>0.444444</td>\n",
       "      <td>-0.124476</td>\n",
       "      <td>1</td>\n",
       "    </tr>\n",
       "  </tbody>\n",
       "</table>\n",
       "</div>"
      ],
      "text/plain": [
       "          EV       FCF    EBITDA   Revenue       ROE  Gross-Profit-Margin  \\\n",
       "9   0.257514 -1.889561  0.087670 -0.133416 -2.333333             0.175000   \n",
       "10 -0.209946  0.005086  0.005019  0.005256 -0.243590             0.000000   \n",
       "5   0.364062 -6.677251 -0.008029  0.172071  0.069444            -0.048872   \n",
       "11  0.000000 -0.756467 -0.024635 -0.002249 -0.220290             0.085039   \n",
       "5   0.129530 -0.949155 -3.442810  0.033613 -0.025641             0.461538   \n",
       "\n",
       "    Quick-Ratio  Debt / Equity  Returns  \n",
       "9     -0.166667       0.333333        1  \n",
       "10     0.000000       0.000000        1  \n",
       "5     -0.050000      -0.666667        1  \n",
       "11     0.000000      -0.098667        0  \n",
       "5      0.444444      -0.124476        1  "
      ]
     },
     "execution_count": 7,
     "metadata": {},
     "output_type": "execute_result"
    }
   ],
   "source": [
    "data_clf.head()"
   ]
  },
  {
   "cell_type": "code",
   "execution_count": 8,
   "id": "41b36695-8aea-459e-b7fe-4cea85136c68",
   "metadata": {},
   "outputs": [
    {
     "data": {
      "text/plain": [
       "9     1\n",
       "10    1\n",
       "5     1\n",
       "11    0\n",
       "5     1\n",
       "Name: Returns, dtype: int64"
      ]
     },
     "execution_count": 8,
     "metadata": {},
     "output_type": "execute_result"
    }
   ],
   "source": [
    "data_clf.iloc[:,-1].head()"
   ]
  },
  {
   "cell_type": "markdown",
   "id": "a9fe4a08-6e41-43b5-82b5-693c0a945bd4",
   "metadata": {},
   "source": [
    "# ML methods"
   ]
  },
  {
   "cell_type": "markdown",
   "id": "d37055a3-5d35-4937-a489-0aa76ae1af62",
   "metadata": {},
   "source": [
    "## Load pretrained models or run them"
   ]
  },
  {
   "cell_type": "code",
   "execution_count": 2,
   "id": "4b8d846d-6bba-4b82-86dc-2ccda1793653",
   "metadata": {},
   "outputs": [],
   "source": [
    "rg_models_list = [\n",
    "    'LASSO',\n",
    "    'ml_svr',\n",
    "    'ml_dtr',\n",
    "    'ml_br',\n",
    "    'something that doesnt exist yet'\n",
    "] # list containing desired models\n",
    "\n",
    "lag = 2"
   ]
  },
  {
   "cell_type": "code",
   "execution_count": 3,
   "id": "ffa77f29-4ff4-4047-8f88-2e32e448fb68",
   "metadata": {},
   "outputs": [
    {
     "name": "stdout",
     "output_type": "stream",
     "text": [
      "Missing models:\n",
      "\n",
      "something that doesnt exist yet\n"
     ]
    },
    {
     "data": {
      "text/plain": [
       "{'LASSO': [0.0,\n",
       "  -7.832587750167264e-06,\n",
       "  0.6071385084750027,\n",
       "  1.005501214101306,\n",
       "  0.9977612129181752],\n",
       " 'ml_svr': [-0.007707253711481732,\n",
       "  -0.022357534377815735,\n",
       "  0.5707938468251097,\n",
       "  1.0279736903683765,\n",
       "  1.9320220570680278],\n",
       " 'ml_dtr': [0.13000956935558983,\n",
       "  -0.000469106332092073,\n",
       "  0.600229759414848,\n",
       "  1.0059650217784604,\n",
       "  1.0498505993306246],\n",
       " 'ml_br': [0.14532471991691265,\n",
       "  0.0977383112625887,\n",
       "  0.566125415757059,\n",
       "  0.907218117597047,\n",
       "  1.7520858539592736]}"
      ]
     },
     "execution_count": 3,
     "metadata": {},
     "output_type": "execute_result"
    }
   ],
   "source": [
    "ML_routines.return_models_not_in_folder(rg_models_list,'../models/proto',1)"
   ]
  },
  {
   "cell_type": "markdown",
   "id": "8bf3905a-56fc-4802-bb22-fc906635303d",
   "metadata": {},
   "source": [
    "## Implement models"
   ]
  },
  {
   "cell_type": "code",
   "execution_count": 9,
   "id": "55f7869e-ce7d-4f41-9634-92b9b2b9ebd5",
   "metadata": {},
   "outputs": [],
   "source": [
    "X_train, X_test, y_train, y_test =  ML_routines.gen_train_test(data_rg,regression=True)"
   ]
  },
  {
   "cell_type": "code",
   "execution_count": 10,
   "id": "71e15381-7a2b-44d7-99cc-d2c0953bae41",
   "metadata": {},
   "outputs": [],
   "source": [
    "# check data balance\n",
    "number_down_days = data_clf['Returns'][data_clf['Returns'] == 0].count()\n",
    "number_up_days = data_clf['Returns'][data_clf['Returns'] == 1].count()"
   ]
  },
  {
   "cell_type": "code",
   "execution_count": 11,
   "id": "8bc0d690-b30f-4095-99ca-813c7b94f536",
   "metadata": {},
   "outputs": [
    {
     "data": {
      "text/plain": [
       "211"
      ]
     },
     "execution_count": 11,
     "metadata": {},
     "output_type": "execute_result"
    }
   ],
   "source": [
    "number_down_days"
   ]
  },
  {
   "cell_type": "code",
   "execution_count": 12,
   "id": "ed6326d7-d4b2-4b49-9bd2-614ba9db7bfd",
   "metadata": {},
   "outputs": [
    {
     "data": {
      "text/plain": [
       "244"
      ]
     },
     "execution_count": 12,
     "metadata": {},
     "output_type": "execute_result"
    }
   ],
   "source": [
    "number_up_days"
   ]
  },
  {
   "cell_type": "code",
   "execution_count": 13,
   "id": "a9251642-21cb-4c78-b144-2a167007ea93",
   "metadata": {},
   "outputs": [],
   "source": [
    "Xclf_train, Xclf_test, yclf_train, yclf_test =  ML_routines.gen_train_test(data_clf,regression=False)"
   ]
  },
  {
   "cell_type": "code",
   "execution_count": null,
   "id": "993d8fd7-cfca-4549-b367-40a94234124f",
   "metadata": {},
   "outputs": [],
   "source": []
  },
  {
   "cell_type": "code",
   "execution_count": 21,
   "id": "d427d4d8-ddf2-4619-9dff-18aaebe66cf9",
   "metadata": {},
   "outputs": [
    {
     "name": "stdout",
     "output_type": "stream",
     "text": [
      "Defaulting to user installation because normal site-packages is not writeable\n",
      "Collecting scikeras\n",
      "  Downloading scikeras-0.11.0-py3-none-any.whl (27 kB)\n",
      "Requirement already satisfied: scikit-learn>=1.0.0 in /home/vscode/.local/lib/python3.10/site-packages (from scikeras) (1.3.1)\n",
      "Requirement already satisfied: packaging>=0.21 in /home/vscode/.local/lib/python3.10/site-packages (from scikeras) (23.1)\n",
      "Requirement already satisfied: joblib>=1.1.1 in /home/vscode/.local/lib/python3.10/site-packages (from scikit-learn>=1.0.0->scikeras) (1.3.2)\n",
      "Requirement already satisfied: threadpoolctl>=2.0.0 in /home/vscode/.local/lib/python3.10/site-packages (from scikit-learn>=1.0.0->scikeras) (3.2.0)\n",
      "Requirement already satisfied: scipy>=1.5.0 in /home/vscode/.local/lib/python3.10/site-packages (from scikit-learn>=1.0.0->scikeras) (1.11.3)\n",
      "Requirement already satisfied: numpy<2.0,>=1.17.3 in /home/vscode/.local/lib/python3.10/site-packages (from scikit-learn>=1.0.0->scikeras) (1.26.0)\n",
      "Installing collected packages: scikeras\n",
      "Successfully installed scikeras-0.11.0\n",
      "\u001b[33mWARNING: You are using pip version 21.3; however, version 23.2.1 is available.\n",
      "You should consider upgrading via the '/usr/local/bin/python3 -m pip install --upgrade pip' command.\u001b[0m\n"
     ]
    }
   ],
   "source": [
    "!pip install scikeras"
   ]
  },
  {
   "cell_type": "code",
   "execution_count": null,
   "id": "2752d230-125a-4fdf-9b3c-c3f87a9d5899",
   "metadata": {},
   "outputs": [],
   "source": [
    "from scikeras.wrappers import KerasClassifier"
   ]
  },
  {
   "cell_type": "code",
   "execution_count": 20,
   "id": "88aa607b-2354-4d0b-88ef-d30522957264",
   "metadata": {},
   "outputs": [
    {
     "name": "stdout",
     "output_type": "stream",
     "text": [
      "Epoch 1/5\n"
     ]
    },
    {
     "name": "stderr",
     "output_type": "stream",
     "text": [
      "/home/vscode/.local/lib/python3.10/site-packages/tensorflow/python/util/dispatch.py:1260: SyntaxWarning: In loss categorical_crossentropy, expected y_pred.shape to be (batch_size, num_classes) with num_classes > 1. Received: y_pred.shape=(None, 1). Consider using 'binary_crossentropy' if you only have 2 classes.\n",
      "  return dispatch_target(*args, **kwargs)\n"
     ]
    },
    {
     "name": "stdout",
     "output_type": "stream",
     "text": [
      "12/12 [==============================] - 0s 3ms/step - loss: 0.0000e+00 - accuracy: 0.0000e+00\n",
      "Epoch 2/5\n",
      "12/12 [==============================] - 0s 3ms/step - loss: 0.0000e+00 - accuracy: 0.0000e+00\n",
      "Epoch 3/5\n",
      "12/12 [==============================] - 0s 4ms/step - loss: 0.0000e+00 - accuracy: 0.0000e+00\n",
      "Epoch 4/5\n",
      "12/12 [==============================] - 0s 4ms/step - loss: 0.0000e+00 - accuracy: 0.0000e+00\n",
      "Epoch 5/5\n",
      "12/12 [==============================] - 0s 3ms/step - loss: 0.0000e+00 - accuracy: 0.0000e+00\n",
      "1/1 [==============================] - 0s 130ms/step - loss: 0.0000e+00 - accuracy: 0.0000e+00\n",
      "1/1 [==============================] - 0s 68ms/step\n"
     ]
    }
   ],
   "source": [
    "import keras\n",
    "from keras.models import Sequential\n",
    "from keras.layers import Dense\n",
    "\n",
    "#Create Sequential model with Dense layers, using the add method\n",
    "model = Sequential()\n",
    "\n",
    "#Dense implements the operation:\n",
    "#        output = activation(dot(input, kernel) + bias)\n",
    "#Units are the dimensionality of the output space for the layer,\n",
    "#     which equals the number of hidden units\n",
    "#Activation and loss functions may be specified by strings or classes\n",
    "model.add(Dense(units=64, activation='relu', input_dim=8))\n",
    "model.add(Dense(units=1, activation='softmax'))\n",
    "\n",
    "#The compile method configures the model’s learning process\n",
    "model.compile(loss='categorical_crossentropy',\n",
    "              optimizer='sgd',\n",
    "              metrics=['accuracy'])\n",
    "\n",
    "#The fit method does the training in batches\n",
    "# x_train and y_train are Numpy arrays --just like in the Scikit-Learn API.\n",
    "model.fit(X_train, y_train, epochs=5, batch_size=32)\n",
    "\n",
    "#The evaluate method calculates the losses and metrics\n",
    "#     for the trained model\n",
    "loss_and_metrics = model.evaluate(X_test, y_test, batch_size=128)\n",
    "\n",
    "#The predict method applies the trained model to inputs\n",
    "#     to generate outputs\n",
    "classes = model.predict(X_test, batch_size=128)"
   ]
  },
  {
   "cell_type": "code",
   "execution_count": 53,
   "id": "da9aca37-e091-49a9-ba02-ed6175dc038c",
   "metadata": {},
   "outputs": [],
   "source": [
    "from keras.models import Sequential\n",
    "from keras.layers import Dense, Dropout\n",
    "\n",
    "def create_sequential(input_dim, hidden_layers, neurons, activation, dropout_rate, optimizer):\n",
    "    model = Sequential()\n",
    "    model.add(Dense(units=neurons, activation=activation, input_dim=input_dim))\n",
    "\n",
    "    for i in range(hidden_layers):\n",
    "        model.add(Dense(units=neurons, activation=activation))\n",
    "        model.add(Dropout(dropout_rate))\n",
    "\n",
    "    model.add(Dense(units=1, activation='sigmoid'))\n",
    "    model.compile(loss='binary_crossentropy', optimizer=optimizer, metrics=['accuracy'])\n",
    "    return model"
   ]
  },
  {
   "cell_type": "code",
   "execution_count": 54,
   "id": "098e0af9-bc4d-4f89-aeea-3a5efc0ccce0",
   "metadata": {},
   "outputs": [],
   "source": [
    "from sklearn.model_selection import GridSearchCV\n",
    "from scikeras.wrappers import KerasClassifier, KerasRegressor\n",
    "\n",
    "input_dim = X_train.shape[1]\n",
    "hidden_layers = [1, 2, 3]\n",
    "neurons = [32, 64, 128]\n",
    "activation = ['relu']#, 'sigmoid']\n",
    "dropout_rate = [0.1, 0.2, 0.3]\n",
    "optimizer = ['adam', 'sgd']\n",
    "\n",
    "param_grid = dict(hidden_layers=hidden_layers, neurons=neurons, activation=activation, dropout_rate=dropout_rate, optimizer=optimizer)\n"
   ]
  },
  {
   "cell_type": "code",
   "execution_count": 56,
   "id": "aa480a42-a23f-4338-9dff-4d834493bfba",
   "metadata": {},
   "outputs": [],
   "source": [
    "model = KerasClassifier(model=create_sequential, input_dim=input_dim)\n",
    "\n",
    "grid = GridSearchCV(model,param_grid, cv=3,scoring='acuracy')"
   ]
  },
  {
   "cell_type": "code",
   "execution_count": 57,
   "id": "02fe6ed9-b635-4a15-a912-01283e0146fe",
   "metadata": {
    "collapsed": true,
    "jupyter": {
     "outputs_hidden": true
    },
    "scrolled": true
   },
   "outputs": [
    {
     "ename": "InvalidParameterError",
     "evalue": "The 'scoring' parameter of GridSearchCV must be a str among {'roc_auc_ovr_weighted', 'precision_macro', 'recall', 'adjusted_rand_score', 'neg_negative_likelihood_ratio', 'neg_mean_gamma_deviance', 'average_precision', 'f1', 'normalized_mutual_info_score', 'neg_log_loss', 'rand_score', 'completeness_score', 'f1_micro', 'f1_samples', 'roc_auc_ovo', 'precision', 'top_k_accuracy', 'v_measure_score', 'precision_samples', 'neg_root_mean_squared_error', 'jaccard', 'r2', 'neg_brier_score', 'neg_mean_squared_error', 'explained_variance', 'fowlkes_mallows_score', 'accuracy', 'neg_mean_absolute_error', 'jaccard_macro', 'precision_weighted', 'recall_micro', 'roc_auc_ovo_weighted', 'neg_mean_absolute_percentage_error', 'neg_mean_squared_log_error', 'jaccard_weighted', 'homogeneity_score', 'mutual_info_score', 'jaccard_samples', 'neg_median_absolute_error', 'recall_samples', 'jaccard_micro', 'positive_likelihood_ratio', 'f1_macro', 'roc_auc_ovr', 'roc_auc', 'balanced_accuracy', 'adjusted_mutual_info_score', 'matthews_corrcoef', 'recall_macro', 'neg_mean_poisson_deviance', 'recall_weighted', 'f1_weighted', 'precision_micro', 'max_error'}, a callable, an instance of 'list', an instance of 'tuple', an instance of 'dict' or None. Got 'acuracy' instead.",
     "output_type": "error",
     "traceback": [
      "\u001b[0;31m---------------------------------------------------------------------------\u001b[0m",
      "\u001b[0;31mInvalidParameterError\u001b[0m                     Traceback (most recent call last)",
      "Cell \u001b[0;32mIn[57], line 1\u001b[0m\n\u001b[0;32m----> 1\u001b[0m grid_result \u001b[38;5;241m=\u001b[39m \u001b[43mgrid\u001b[49m\u001b[38;5;241;43m.\u001b[39;49m\u001b[43mfit\u001b[49m\u001b[43m(\u001b[49m\u001b[43mX_train\u001b[49m\u001b[43m,\u001b[49m\u001b[43m \u001b[49m\u001b[43my_train\u001b[49m\u001b[43m)\u001b[49m\n",
      "File \u001b[0;32m~/.local/lib/python3.10/site-packages/sklearn/base.py:1145\u001b[0m, in \u001b[0;36m_fit_context.<locals>.decorator.<locals>.wrapper\u001b[0;34m(estimator, *args, **kwargs)\u001b[0m\n\u001b[1;32m   1140\u001b[0m partial_fit_and_fitted \u001b[38;5;241m=\u001b[39m (\n\u001b[1;32m   1141\u001b[0m     fit_method\u001b[38;5;241m.\u001b[39m\u001b[38;5;18m__name__\u001b[39m \u001b[38;5;241m==\u001b[39m \u001b[38;5;124m\"\u001b[39m\u001b[38;5;124mpartial_fit\u001b[39m\u001b[38;5;124m\"\u001b[39m \u001b[38;5;129;01mand\u001b[39;00m _is_fitted(estimator)\n\u001b[1;32m   1142\u001b[0m )\n\u001b[1;32m   1144\u001b[0m \u001b[38;5;28;01mif\u001b[39;00m \u001b[38;5;129;01mnot\u001b[39;00m global_skip_validation \u001b[38;5;129;01mand\u001b[39;00m \u001b[38;5;129;01mnot\u001b[39;00m partial_fit_and_fitted:\n\u001b[0;32m-> 1145\u001b[0m     \u001b[43mestimator\u001b[49m\u001b[38;5;241;43m.\u001b[39;49m\u001b[43m_validate_params\u001b[49m\u001b[43m(\u001b[49m\u001b[43m)\u001b[49m\n\u001b[1;32m   1147\u001b[0m \u001b[38;5;28;01mwith\u001b[39;00m config_context(\n\u001b[1;32m   1148\u001b[0m     skip_parameter_validation\u001b[38;5;241m=\u001b[39m(\n\u001b[1;32m   1149\u001b[0m         prefer_skip_nested_validation \u001b[38;5;129;01mor\u001b[39;00m global_skip_validation\n\u001b[1;32m   1150\u001b[0m     )\n\u001b[1;32m   1151\u001b[0m ):\n\u001b[1;32m   1152\u001b[0m     \u001b[38;5;28;01mreturn\u001b[39;00m fit_method(estimator, \u001b[38;5;241m*\u001b[39margs, \u001b[38;5;241m*\u001b[39m\u001b[38;5;241m*\u001b[39mkwargs)\n",
      "File \u001b[0;32m~/.local/lib/python3.10/site-packages/sklearn/base.py:638\u001b[0m, in \u001b[0;36mBaseEstimator._validate_params\u001b[0;34m(self)\u001b[0m\n\u001b[1;32m    630\u001b[0m \u001b[38;5;28;01mdef\u001b[39;00m \u001b[38;5;21m_validate_params\u001b[39m(\u001b[38;5;28mself\u001b[39m):\n\u001b[1;32m    631\u001b[0m \u001b[38;5;250m    \u001b[39m\u001b[38;5;124;03m\"\"\"Validate types and values of constructor parameters\u001b[39;00m\n\u001b[1;32m    632\u001b[0m \n\u001b[1;32m    633\u001b[0m \u001b[38;5;124;03m    The expected type and values must be defined in the `_parameter_constraints`\u001b[39;00m\n\u001b[0;32m   (...)\u001b[0m\n\u001b[1;32m    636\u001b[0m \u001b[38;5;124;03m    accepted constraints.\u001b[39;00m\n\u001b[1;32m    637\u001b[0m \u001b[38;5;124;03m    \"\"\"\u001b[39;00m\n\u001b[0;32m--> 638\u001b[0m     \u001b[43mvalidate_parameter_constraints\u001b[49m\u001b[43m(\u001b[49m\n\u001b[1;32m    639\u001b[0m \u001b[43m        \u001b[49m\u001b[38;5;28;43mself\u001b[39;49m\u001b[38;5;241;43m.\u001b[39;49m\u001b[43m_parameter_constraints\u001b[49m\u001b[43m,\u001b[49m\n\u001b[1;32m    640\u001b[0m \u001b[43m        \u001b[49m\u001b[38;5;28;43mself\u001b[39;49m\u001b[38;5;241;43m.\u001b[39;49m\u001b[43mget_params\u001b[49m\u001b[43m(\u001b[49m\u001b[43mdeep\u001b[49m\u001b[38;5;241;43m=\u001b[39;49m\u001b[38;5;28;43;01mFalse\u001b[39;49;00m\u001b[43m)\u001b[49m\u001b[43m,\u001b[49m\n\u001b[1;32m    641\u001b[0m \u001b[43m        \u001b[49m\u001b[43mcaller_name\u001b[49m\u001b[38;5;241;43m=\u001b[39;49m\u001b[38;5;28;43mself\u001b[39;49m\u001b[38;5;241;43m.\u001b[39;49m\u001b[38;5;18;43m__class__\u001b[39;49m\u001b[38;5;241;43m.\u001b[39;49m\u001b[38;5;18;43m__name__\u001b[39;49m\u001b[43m,\u001b[49m\n\u001b[1;32m    642\u001b[0m \u001b[43m    \u001b[49m\u001b[43m)\u001b[49m\n",
      "File \u001b[0;32m~/.local/lib/python3.10/site-packages/sklearn/utils/_param_validation.py:95\u001b[0m, in \u001b[0;36mvalidate_parameter_constraints\u001b[0;34m(parameter_constraints, params, caller_name)\u001b[0m\n\u001b[1;32m     89\u001b[0m \u001b[38;5;28;01melse\u001b[39;00m:\n\u001b[1;32m     90\u001b[0m     constraints_str \u001b[38;5;241m=\u001b[39m (\n\u001b[1;32m     91\u001b[0m         \u001b[38;5;124mf\u001b[39m\u001b[38;5;124m\"\u001b[39m\u001b[38;5;132;01m{\u001b[39;00m\u001b[38;5;124m'\u001b[39m\u001b[38;5;124m, \u001b[39m\u001b[38;5;124m'\u001b[39m\u001b[38;5;241m.\u001b[39mjoin([\u001b[38;5;28mstr\u001b[39m(c)\u001b[38;5;250m \u001b[39m\u001b[38;5;28;01mfor\u001b[39;00m\u001b[38;5;250m \u001b[39mc\u001b[38;5;250m \u001b[39m\u001b[38;5;129;01min\u001b[39;00m\u001b[38;5;250m \u001b[39mconstraints[:\u001b[38;5;241m-\u001b[39m\u001b[38;5;241m1\u001b[39m]])\u001b[38;5;132;01m}\u001b[39;00m\u001b[38;5;124m or\u001b[39m\u001b[38;5;124m\"\u001b[39m\n\u001b[1;32m     92\u001b[0m         \u001b[38;5;124mf\u001b[39m\u001b[38;5;124m\"\u001b[39m\u001b[38;5;124m \u001b[39m\u001b[38;5;132;01m{\u001b[39;00mconstraints[\u001b[38;5;241m-\u001b[39m\u001b[38;5;241m1\u001b[39m]\u001b[38;5;132;01m}\u001b[39;00m\u001b[38;5;124m\"\u001b[39m\n\u001b[1;32m     93\u001b[0m     )\n\u001b[0;32m---> 95\u001b[0m \u001b[38;5;28;01mraise\u001b[39;00m InvalidParameterError(\n\u001b[1;32m     96\u001b[0m     \u001b[38;5;124mf\u001b[39m\u001b[38;5;124m\"\u001b[39m\u001b[38;5;124mThe \u001b[39m\u001b[38;5;132;01m{\u001b[39;00mparam_name\u001b[38;5;132;01m!r}\u001b[39;00m\u001b[38;5;124m parameter of \u001b[39m\u001b[38;5;132;01m{\u001b[39;00mcaller_name\u001b[38;5;132;01m}\u001b[39;00m\u001b[38;5;124m must be\u001b[39m\u001b[38;5;124m\"\u001b[39m\n\u001b[1;32m     97\u001b[0m     \u001b[38;5;124mf\u001b[39m\u001b[38;5;124m\"\u001b[39m\u001b[38;5;124m \u001b[39m\u001b[38;5;132;01m{\u001b[39;00mconstraints_str\u001b[38;5;132;01m}\u001b[39;00m\u001b[38;5;124m. Got \u001b[39m\u001b[38;5;132;01m{\u001b[39;00mparam_val\u001b[38;5;132;01m!r}\u001b[39;00m\u001b[38;5;124m instead.\u001b[39m\u001b[38;5;124m\"\u001b[39m\n\u001b[1;32m     98\u001b[0m )\n",
      "\u001b[0;31mInvalidParameterError\u001b[0m: The 'scoring' parameter of GridSearchCV must be a str among {'roc_auc_ovr_weighted', 'precision_macro', 'recall', 'adjusted_rand_score', 'neg_negative_likelihood_ratio', 'neg_mean_gamma_deviance', 'average_precision', 'f1', 'normalized_mutual_info_score', 'neg_log_loss', 'rand_score', 'completeness_score', 'f1_micro', 'f1_samples', 'roc_auc_ovo', 'precision', 'top_k_accuracy', 'v_measure_score', 'precision_samples', 'neg_root_mean_squared_error', 'jaccard', 'r2', 'neg_brier_score', 'neg_mean_squared_error', 'explained_variance', 'fowlkes_mallows_score', 'accuracy', 'neg_mean_absolute_error', 'jaccard_macro', 'precision_weighted', 'recall_micro', 'roc_auc_ovo_weighted', 'neg_mean_absolute_percentage_error', 'neg_mean_squared_log_error', 'jaccard_weighted', 'homogeneity_score', 'mutual_info_score', 'jaccard_samples', 'neg_median_absolute_error', 'recall_samples', 'jaccard_micro', 'positive_likelihood_ratio', 'f1_macro', 'roc_auc_ovr', 'roc_auc', 'balanced_accuracy', 'adjusted_mutual_info_score', 'matthews_corrcoef', 'recall_macro', 'neg_mean_poisson_deviance', 'recall_weighted', 'f1_weighted', 'precision_micro', 'max_error'}, a callable, an instance of 'list', an instance of 'tuple', an instance of 'dict' or None. Got 'acuracy' instead."
     ]
    }
   ],
   "source": [
    "grid_result = grid.fit(X_train, y_train)"
   ]
  },
  {
   "cell_type": "code",
   "execution_count": null,
   "id": "387b3eb7-b74e-4ef7-a0b8-851377004f6a",
   "metadata": {},
   "outputs": [],
   "source": [
    "def create_sequential(input_dim, hidden_layers, neurons, activation, dropout_rate, optimizer):\n",
    "    model = Sequential()\n",
    "    model.add(Dense(units=neurons, activation=activation, input_dim=input_dim))\n",
    "\n",
    "    for i in range(hidden_layers):\n",
    "        model.add(Dense(units=neurons, activation=activation))\n",
    "        model.add(Dropout(dropout_rate))\n",
    "\n",
    "    model.add(Dense(units=1, activation='sigmoid'))\n",
    "    model.compile(loss='binary_crossentropy', optimizer=optimizer, metrics=['accuracy'])\n",
    "    return model"
   ]
  },
  {
   "cell_type": "code",
   "execution_count": null,
   "id": "527f8b4d-eebd-4dbb-8ae6-c46e4feebc9b",
   "metadata": {},
   "outputs": [],
   "source": []
  },
  {
   "cell_type": "code",
   "execution_count": null,
   "id": "0196cde4-91b4-4bbc-9d5c-42f69ce0393a",
   "metadata": {},
   "outputs": [],
   "source": [
    "import tensorflow as tf\n",
    "\n",
    "# fix random seed for reproducibility\n",
    "tf.random.set_seed(0)"
   ]
  },
  {
   "cell_type": "code",
   "execution_count": 80,
   "id": "c6d6c1df-0bb2-44fb-8431-3ed5725cbcf1",
   "metadata": {},
   "outputs": [],
   "source": [
    "def get_clf(hidden_layers, neurons, dropout):\n",
    "    #n_features_in_ = meta[\"n_features_in_\"]\n",
    "    #n_classes_ = meta[\"n_classes_\"]\n",
    "    model = keras.models.Sequential()\n",
    "\n",
    "    # define an input layer with dim 8 (8 financial ratios)\n",
    "    model.add(keras.layers.Input(shape=(8,)))\n",
    "    \n",
    "    for i in range(hidden_layers):\n",
    "        model.add(keras.layers.Dense(units=neurons, activation=\"relu\"))\n",
    "        model.add(keras.layers.Dropout(dropout))\n",
    "        \n",
    "    model.add(keras.layers.Dense(1, activation=\"sigmoid\"))\n",
    "    model.compile(loss=\"binary_crossentropy\", optimizer='adam', metrics=['accuracy'])\n",
    "    return model\n"
   ]
  },
  {
   "cell_type": "code",
   "execution_count": 81,
   "id": "f356cc29-77ad-44d6-b4a8-a102219dbf53",
   "metadata": {},
   "outputs": [],
   "source": [
    "clf = KerasClassifier(\n",
    "    model=get_clf,\n",
    "    loss=\"binary_crossentropy\",\n",
    "    optimizer=\"adam\",\n",
    "    optimizer__learning_rate=0.1,\n",
    "    model__hidden_layers = 1,#[1, 2, 3],\n",
    "    model__neurons = 32,#[32, 64, 128],\n",
    "    model__dropout=0.5,\n",
    "    verbose=False,\n",
    ")"
   ]
  },
  {
   "cell_type": "code",
   "execution_count": 82,
   "id": "7e2f9c02-d479-4666-adac-b443bb0a71ed",
   "metadata": {
    "scrolled": true
   },
   "outputs": [
    {
     "name": "stdout",
     "output_type": "stream",
     "text": [
      "0.5631278538812785 {'model__dropout': 0.5, 'model__hidden_layers': 3, 'model__neurons': 128, 'optimizer__learning_rate': 0.05}\n"
     ]
    }
   ],
   "source": [
    "params = {\n",
    "    'optimizer__learning_rate': [0.05, 0.1],\n",
    "    'model__hidden_layers': [1, 2, 3],\n",
    "    'model__neurons': [32, 64, 128],\n",
    "    'model__dropout': [0, 0.5],\n",
    "}\n",
    "\n",
    "gs = GridSearchCV(clf, params, scoring='accuracy',cv=5, n_jobs=-1, verbose=False)\n",
    "\n",
    "gs.fit(Xclf_train, yclf_train)\n",
    "\n",
    "print(gs.best_score_, gs.best_params_)"
   ]
  },
  {
   "cell_type": "code",
   "execution_count": 83,
   "id": "3aad2f1f-0d23-4c9c-872c-9c7f72669e31",
   "metadata": {},
   "outputs": [
    {
     "data": {
      "text/plain": [
       "0.4945054945054945"
      ]
     },
     "execution_count": 83,
     "metadata": {},
     "output_type": "execute_result"
    }
   ],
   "source": [
    "gs.score(Xclf_test, yclf_test)"
   ]
  },
  {
   "cell_type": "code",
   "execution_count": 63,
   "id": "e0020fb5-97c2-40ec-825b-400baaf3f96f",
   "metadata": {},
   "outputs": [
    {
     "data": {
      "text/plain": [
       "0.532967032967033"
      ]
     },
     "execution_count": 63,
     "metadata": {},
     "output_type": "execute_result"
    }
   ],
   "source": [
    "gs.score(Xclf_train, yclf_train)"
   ]
  },
  {
   "cell_type": "code",
   "execution_count": null,
   "id": "eab79385-6f08-4942-9d72-ae2aea7ea4ef",
   "metadata": {},
   "outputs": [],
   "source": []
  },
  {
   "cell_type": "code",
   "execution_count": null,
   "id": "67bdd1e1-1b02-4a03-b810-8aa3ee82d941",
   "metadata": {},
   "outputs": [],
   "source": []
  },
  {
   "cell_type": "code",
   "execution_count": null,
   "id": "7f937707-5860-42e5-83d6-7d418dc70fb4",
   "metadata": {},
   "outputs": [],
   "source": []
  },
  {
   "cell_type": "markdown",
   "id": "08582ff5-af5c-4496-9bf6-2035fe9f3a71",
   "metadata": {},
   "source": [
    "## Functions to generate results"
   ]
  },
  {
   "cell_type": "code",
   "execution_count": 26,
   "id": "52034868-9936-4410-b713-f98018724ff7",
   "metadata": {},
   "outputs": [],
   "source": [
    "rg_models_dict = {\n",
    "    'LASSO Regression': test_lasso[1],\n",
    "    'SVM Regression': ml_svr[1],\n",
    "    'Decision Tree Regression': ml_dtr[1]\n",
    "}\n",
    "\n",
    "clf_models_dict = {\n",
    "    'Logistic Regression': test_logistic[1],\n",
    "    'SVM Classification': ml_svc[1],\n",
    "    'Decision Tree Classification': ml_dtc[1]\n",
    "}"
   ]
  },
  {
   "cell_type": "code",
   "execution_count": 28,
   "id": "126a06c4-b0c3-42ea-93ee-5632bf990694",
   "metadata": {},
   "outputs": [
    {
     "data": {
      "text/html": [
       "<div>\n",
       "<style scoped>\n",
       "    .dataframe tbody tr th:only-of-type {\n",
       "        vertical-align: middle;\n",
       "    }\n",
       "\n",
       "    .dataframe tbody tr th {\n",
       "        vertical-align: top;\n",
       "    }\n",
       "\n",
       "    .dataframe thead th {\n",
       "        text-align: right;\n",
       "    }\n",
       "</style>\n",
       "<table border=\"1\" class=\"dataframe\">\n",
       "  <thead>\n",
       "    <tr style=\"text-align: right;\">\n",
       "      <th></th>\n",
       "      <th>R^2 Score Train</th>\n",
       "      <th>R^2 Score Test</th>\n",
       "      <th>MAE</th>\n",
       "      <th>MSE</th>\n",
       "      <th>MAPE</th>\n",
       "    </tr>\n",
       "  </thead>\n",
       "  <tbody>\n",
       "    <tr>\n",
       "      <th>LASSO Regression</th>\n",
       "      <td>0.000000</td>\n",
       "      <td>-0.000008</td>\n",
       "      <td>0.607139</td>\n",
       "      <td>1.005501</td>\n",
       "      <td>0.997761</td>\n",
       "    </tr>\n",
       "    <tr>\n",
       "      <th>SVM Regression</th>\n",
       "      <td>-0.007707</td>\n",
       "      <td>-0.022358</td>\n",
       "      <td>0.570794</td>\n",
       "      <td>1.027974</td>\n",
       "      <td>1.932022</td>\n",
       "    </tr>\n",
       "    <tr>\n",
       "      <th>Decision Tree Regression</th>\n",
       "      <td>0.130010</td>\n",
       "      <td>-0.000469</td>\n",
       "      <td>0.600230</td>\n",
       "      <td>1.005965</td>\n",
       "      <td>1.049851</td>\n",
       "    </tr>\n",
       "  </tbody>\n",
       "</table>\n",
       "</div>"
      ],
      "text/plain": [
       "                          R^2 Score Train  R^2 Score Test       MAE       MSE  \\\n",
       "LASSO Regression                 0.000000       -0.000008  0.607139  1.005501   \n",
       "SVM Regression                  -0.007707       -0.022358  0.570794  1.027974   \n",
       "Decision Tree Regression         0.130010       -0.000469  0.600230  1.005965   \n",
       "\n",
       "                              MAPE  \n",
       "LASSO Regression          0.997761  \n",
       "SVM Regression            1.932022  \n",
       "Decision Tree Regression  1.049851  "
      ]
     },
     "execution_count": 28,
     "metadata": {},
     "output_type": "execute_result"
    }
   ],
   "source": [
    "ML_routines.from_models_return_metrics(rg_models_dict,regression=True)"
   ]
  },
  {
   "cell_type": "code",
   "execution_count": 29,
   "id": "f0794f97-651d-4e9f-aa4f-df3bc0310cc8",
   "metadata": {},
   "outputs": [
    {
     "data": {
      "text/html": [
       "<div>\n",
       "<style scoped>\n",
       "    .dataframe tbody tr th:only-of-type {\n",
       "        vertical-align: middle;\n",
       "    }\n",
       "\n",
       "    .dataframe tbody tr th {\n",
       "        vertical-align: top;\n",
       "    }\n",
       "\n",
       "    .dataframe thead th {\n",
       "        text-align: right;\n",
       "    }\n",
       "</style>\n",
       "<table border=\"1\" class=\"dataframe\">\n",
       "  <thead>\n",
       "    <tr style=\"text-align: right;\">\n",
       "      <th></th>\n",
       "      <th>Accuracy Train</th>\n",
       "      <th>Accuracy Test</th>\n",
       "      <th>F1 Score</th>\n",
       "      <th>Precision Score</th>\n",
       "      <th>ROC AUC</th>\n",
       "    </tr>\n",
       "  </thead>\n",
       "  <tbody>\n",
       "    <tr>\n",
       "      <th>Logistic Regression</th>\n",
       "      <td>0.546703</td>\n",
       "      <td>0.494505</td>\n",
       "      <td>0.661765</td>\n",
       "      <td>0.494505</td>\n",
       "      <td>0.500000</td>\n",
       "    </tr>\n",
       "    <tr>\n",
       "      <th>SVM Classification</th>\n",
       "      <td>0.491758</td>\n",
       "      <td>0.450549</td>\n",
       "      <td>0.479167</td>\n",
       "      <td>0.450980</td>\n",
       "      <td>0.451208</td>\n",
       "    </tr>\n",
       "    <tr>\n",
       "      <th>Decision Tree Classification</th>\n",
       "      <td>0.681319</td>\n",
       "      <td>0.626374</td>\n",
       "      <td>0.645833</td>\n",
       "      <td>0.607843</td>\n",
       "      <td>0.627053</td>\n",
       "    </tr>\n",
       "  </tbody>\n",
       "</table>\n",
       "</div>"
      ],
      "text/plain": [
       "                              Accuracy Train  Accuracy Test  F1 Score  \\\n",
       "Logistic Regression                 0.546703       0.494505  0.661765   \n",
       "SVM Classification                  0.491758       0.450549  0.479167   \n",
       "Decision Tree Classification        0.681319       0.626374  0.645833   \n",
       "\n",
       "                              Precision Score   ROC AUC  \n",
       "Logistic Regression                  0.494505  0.500000  \n",
       "SVM Classification                   0.450980  0.451208  \n",
       "Decision Tree Classification         0.607843  0.627053  "
      ]
     },
     "execution_count": 29,
     "metadata": {},
     "output_type": "execute_result"
    }
   ],
   "source": [
    "ML_routines.from_models_return_metrics(clf_models_dict,regression=False)"
   ]
  },
  {
   "cell_type": "code",
   "execution_count": null,
   "id": "46386b94-170e-4502-acea-079584012a8d",
   "metadata": {},
   "outputs": [],
   "source": []
  },
  {
   "cell_type": "code",
   "execution_count": 30,
   "id": "da270068-a896-4318-b8e0-199a3ce2e0c0",
   "metadata": {},
   "outputs": [],
   "source": [
    "rg_models_dm_dict = {\n",
    "    'LASSO Regression': test_lasso[2],\n",
    "    'SVM Regression': ml_svr[2],\n",
    "    'Decision Tree Regression': ml_dtr[2]\n",
    "}\n",
    "\n",
    "clf_models_dm_dict = {\n",
    "    'Logistic Regression': test_logistic[2],\n",
    "    'SVM Classification': ml_svc[2],\n",
    "    'Decision Tree Classification': ml_dtc[2]\n",
    "}"
   ]
  },
  {
   "cell_type": "code",
   "execution_count": 32,
   "id": "c3bd83ae-a194-4a5e-8dee-de2fc274ab23",
   "metadata": {},
   "outputs": [
    {
     "data": {
      "text/html": [
       "<div>\n",
       "<style scoped>\n",
       "    .dataframe tbody tr th:only-of-type {\n",
       "        vertical-align: middle;\n",
       "    }\n",
       "\n",
       "    .dataframe tbody tr th {\n",
       "        vertical-align: top;\n",
       "    }\n",
       "\n",
       "    .dataframe thead th {\n",
       "        text-align: right;\n",
       "    }\n",
       "</style>\n",
       "<table border=\"1\" class=\"dataframe\">\n",
       "  <thead>\n",
       "    <tr style=\"text-align: right;\">\n",
       "      <th></th>\n",
       "      <th>LASSO Regression</th>\n",
       "      <th>SVM Regression</th>\n",
       "      <th>Decision Tree Regression</th>\n",
       "    </tr>\n",
       "  </thead>\n",
       "  <tbody>\n",
       "    <tr>\n",
       "      <th>LASSO Regression</th>\n",
       "      <td>0.000000</td>\n",
       "      <td>0.443741</td>\n",
       "      <td>0.907901</td>\n",
       "    </tr>\n",
       "    <tr>\n",
       "      <th>SVM Regression</th>\n",
       "      <td>0.443741</td>\n",
       "      <td>0.000000</td>\n",
       "      <td>0.387380</td>\n",
       "    </tr>\n",
       "    <tr>\n",
       "      <th>Decision Tree Regression</th>\n",
       "      <td>0.907901</td>\n",
       "      <td>0.387380</td>\n",
       "      <td>0.000000</td>\n",
       "    </tr>\n",
       "  </tbody>\n",
       "</table>\n",
       "</div>"
      ],
      "text/plain": [
       "                          LASSO Regression  SVM Regression  \\\n",
       "LASSO Regression                  0.000000        0.443741   \n",
       "SVM Regression                    0.443741        0.000000   \n",
       "Decision Tree Regression          0.907901        0.387380   \n",
       "\n",
       "                          Decision Tree Regression  \n",
       "LASSO Regression                          0.907901  \n",
       "SVM Regression                            0.387380  \n",
       "Decision Tree Regression                  0.000000  "
      ]
     },
     "execution_count": 32,
     "metadata": {},
     "output_type": "execute_result"
    }
   ],
   "source": [
    "ML_routines.from_models_return_diebold_mariano(rg_models_dm_dict,y_test)"
   ]
  },
  {
   "cell_type": "code",
   "execution_count": null,
   "id": "66faf605-71d0-4b64-96a0-89f80e7721de",
   "metadata": {},
   "outputs": [],
   "source": []
  }
 ],
 "metadata": {
  "kernelspec": {
   "display_name": "Python 3 (ipykernel)",
   "language": "python",
   "name": "python3"
  },
  "language_info": {
   "codemirror_mode": {
    "name": "ipython",
    "version": 3
   },
   "file_extension": ".py",
   "mimetype": "text/x-python",
   "name": "python",
   "nbconvert_exporter": "python",
   "pygments_lexer": "ipython3",
   "version": "3.10.0"
  }
 },
 "nbformat": 4,
 "nbformat_minor": 5
}

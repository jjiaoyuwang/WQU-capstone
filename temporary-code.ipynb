{
 "cells": [
  {
   "cell_type": "code",
   "execution_count": 44,
   "id": "57c2088f-1d0b-4e67-9c5b-eb88dc32a0b3",
   "metadata": {
    "tags": []
   },
   "outputs": [],
   "source": [
    "import pandas as pd\n",
    "import numpy as np\n",
    "import statsmodels.api as sm\n",
    "import statsmodels.tsa.stattools as smt # for ccf \n",
    "from statsmodels.stats.diagnostic import compare_j # J-test\n",
    "from sklearn.preprocessing import StandardScaler\n",
    "\n",
    "import matplotlib.pyplot as plt"
   ]
  },
  {
   "cell_type": "markdown",
   "id": "6d3b574c-b30a-4ee1-9680-be6a552054e6",
   "metadata": {},
   "source": [
    "## Data imports"
   ]
  },
  {
   "cell_type": "markdown",
   "id": "bca7a9c5-20c1-49b7-97b8-2969ccd46609",
   "metadata": {},
   "source": [
    "# Macro study of the HK listed equities market"
   ]
  },
  {
   "cell_type": "markdown",
   "id": "2468cb87-daf6-469e-8eda-9c1a131364b0",
   "metadata": {},
   "source": [
    "### Macroeconomic indicators / exogenous variables"
   ]
  },
  {
   "cell_type": "markdown",
   "id": "05a8224b-ff22-48d5-932a-43b9ad19fa97",
   "metadata": {},
   "source": [
    "Data frequency is daily, monthly or quarterly. I will regress the daily indicators against daily returns of the HKEX / sectors and repeat similarly for other time frames. "
   ]
  },
  {
   "cell_type": "code",
   "execution_count": 3,
   "id": "f3dce9a4-707d-4f5c-af96-2112e0db1922",
   "metadata": {
    "tags": []
   },
   "outputs": [],
   "source": [
    "AUDUSD = pd.read_csv('data/AUD_USD.csv', index_col=0, parse_dates=True, infer_datetime_format=True)\n",
    "AUDCNY = pd.read_csv('data/AUD_CNY.csv', index_col=0, parse_dates=True, infer_datetime_format=True)\n",
    "\n",
    "CAIXIN = pd.read_csv('data/Caixin_PMI.csv', index_col=0, parse_dates=True, infer_datetime_format=True)\n",
    "CN10Y = pd.read_csv('data/CN_10Y.csv', index_col=0, parse_dates=True, infer_datetime_format=True)\n",
    "CN_GDP = pd.read_csv('data/CN_nominal_GDP.csv', index_col=0, parse_dates=True, infer_datetime_format=True)\n",
    "CN_CPI = pd.read_csv('data/CN_10Y.csv', index_col=0, parse_dates=True, infer_datetime_format=True)\n",
    "\n",
    "US10Y = pd.read_csv('data/US_10Y.csv', index_col=0, parse_dates=True, infer_datetime_format=True)\n",
    "DXY = pd.read_csv('data/DXY.csv', index_col=0, parse_dates=True, infer_datetime_format=True)"
   ]
  },
  {
   "cell_type": "markdown",
   "id": "eda6976c-18d0-42fd-a71c-1959aa8c112a",
   "metadata": {},
   "source": [
    "### Quarterly comparisons to do\n",
    "- CAIXIN, CN_GDP, US_GDP vs HK50 (indexed monthly)\n",
    "\n",
    "### Daily comparisons to do\n",
    "- AUDUSD, AUDCNY, DXY, CN10Y/US10Y differential (adjusted for inflation i.e. real rates) vs HK50 (indexed daily)\n",
    "- each of the individual HSC indices vs HK50 overall. "
   ]
  },
  {
   "cell_type": "code",
   "execution_count": 4,
   "id": "09c08902-edc0-4c0c-b933-870156491a40",
   "metadata": {
    "tags": []
   },
   "outputs": [
    {
     "data": {
      "text/html": [
       "<div>\n",
       "<style scoped>\n",
       "    .dataframe tbody tr th:only-of-type {\n",
       "        vertical-align: middle;\n",
       "    }\n",
       "\n",
       "    .dataframe tbody tr th {\n",
       "        vertical-align: top;\n",
       "    }\n",
       "\n",
       "    .dataframe thead th {\n",
       "        text-align: right;\n",
       "    }\n",
       "</style>\n",
       "<table border=\"1\" class=\"dataframe\">\n",
       "  <thead>\n",
       "    <tr style=\"text-align: right;\">\n",
       "      <th></th>\n",
       "      <th>Price</th>\n",
       "      <th>Open</th>\n",
       "      <th>High</th>\n",
       "      <th>Low</th>\n",
       "      <th>Vol.</th>\n",
       "      <th>Change %</th>\n",
       "    </tr>\n",
       "    <tr>\n",
       "      <th>Date</th>\n",
       "      <th></th>\n",
       "      <th></th>\n",
       "      <th></th>\n",
       "      <th></th>\n",
       "      <th></th>\n",
       "      <th></th>\n",
       "    </tr>\n",
       "  </thead>\n",
       "  <tbody>\n",
       "    <tr>\n",
       "      <th>2000-01-07</th>\n",
       "      <td>100.80</td>\n",
       "      <td>100.49</td>\n",
       "      <td>100.93</td>\n",
       "      <td>100.44</td>\n",
       "      <td>NaN</td>\n",
       "      <td>0.15%</td>\n",
       "    </tr>\n",
       "    <tr>\n",
       "      <th>2000-01-06</th>\n",
       "      <td>100.65</td>\n",
       "      <td>100.31</td>\n",
       "      <td>100.81</td>\n",
       "      <td>99.81</td>\n",
       "      <td>NaN</td>\n",
       "      <td>0.27%</td>\n",
       "    </tr>\n",
       "    <tr>\n",
       "      <th>2000-01-05</th>\n",
       "      <td>100.38</td>\n",
       "      <td>100.42</td>\n",
       "      <td>100.47</td>\n",
       "      <td>99.71</td>\n",
       "      <td>NaN</td>\n",
       "      <td>-0.03%</td>\n",
       "    </tr>\n",
       "    <tr>\n",
       "      <th>2000-01-04</th>\n",
       "      <td>100.41</td>\n",
       "      <td>100.55</td>\n",
       "      <td>100.86</td>\n",
       "      <td>100.01</td>\n",
       "      <td>NaN</td>\n",
       "      <td>0.19%</td>\n",
       "    </tr>\n",
       "    <tr>\n",
       "      <th>2000-01-03</th>\n",
       "      <td>100.22</td>\n",
       "      <td>101.67</td>\n",
       "      <td>101.83</td>\n",
       "      <td>100.19</td>\n",
       "      <td>NaN</td>\n",
       "      <td>-1.62%</td>\n",
       "    </tr>\n",
       "  </tbody>\n",
       "</table>\n",
       "</div>"
      ],
      "text/plain": [
       "             Price    Open    High     Low  Vol. Change %\n",
       "Date                                                     \n",
       "2000-01-07  100.80  100.49  100.93  100.44   NaN    0.15%\n",
       "2000-01-06  100.65  100.31  100.81   99.81   NaN    0.27%\n",
       "2000-01-05  100.38  100.42  100.47   99.71   NaN   -0.03%\n",
       "2000-01-04  100.41  100.55  100.86  100.01   NaN    0.19%\n",
       "2000-01-03  100.22  101.67  101.83  100.19   NaN   -1.62%"
      ]
     },
     "execution_count": 4,
     "metadata": {},
     "output_type": "execute_result"
    }
   ],
   "source": [
    "DXY.tail()"
   ]
  },
  {
   "cell_type": "markdown",
   "id": "27919af0-45e2-4d0e-b0a9-bb1acc882bc7",
   "metadata": {},
   "source": [
    "Import HKEX / sector indices"
   ]
  },
  {
   "cell_type": "code",
   "execution_count": 5,
   "id": "bd12c300-66a5-47ac-81d5-850819de9151",
   "metadata": {
    "tags": []
   },
   "outputs": [],
   "source": [
    "HK50 = pd.read_csv('data/HS/HK50.csv', index_col=0, parse_dates=True, infer_datetime_format=True, thousands=',')\n",
    "HSCC = pd.read_csv('data/HS/HSCC.csv', index_col=0, parse_dates=True, infer_datetime_format=True, thousands=',')\n",
    "HSCE = pd.read_csv('data/HS/HSCE.csv', index_col=0, parse_dates=True, infer_datetime_format=True, thousands=',')\n",
    "HSCIC = pd.read_csv('data/HS/HSCIC.csv', index_col=0, parse_dates=True, infer_datetime_format=True, thousands=',')\n",
    "HSCICD = pd.read_csv('data/HS/HSCICD.csv', index_col=0, parse_dates=True, infer_datetime_format=True, thousands=',')\n",
    "HSCICS = pd.read_csv('data/HS/HSCICS.csv', index_col=0, parse_dates=True, infer_datetime_format=True, thousands=',')\n",
    "HSCIE = pd.read_csv('data/HS/HSCIE.csv', index_col=0, parse_dates=True, infer_datetime_format=True, thousands=',')\n",
    "HSCIF = pd.read_csv('data/HS/HSCIF.csv', index_col=0, parse_dates=True, infer_datetime_format=True, thousands=',')\n",
    "HSCIH = pd.read_csv('data/HS/HSCIH.csv', index_col=0, parse_dates=True, infer_datetime_format=True, thousands=',')\n",
    "HSCIIG = pd.read_csv('data/HS/HSCIIG.csv', index_col=0, parse_dates=True, infer_datetime_format=True, thousands=',')\n",
    "HSCIIT = pd.read_csv('data/HS/HSCIIT.csv', index_col=0, parse_dates=True, infer_datetime_format=True, thousands=',')\n",
    "HSCIM = pd.read_csv('data/HS/HSCIM.csv', index_col=0, parse_dates=True, infer_datetime_format=True, thousands=',')\n",
    "HSCIPC = pd.read_csv('data/HS/HSCIPC.csv', index_col=0, parse_dates=True, infer_datetime_format=True, thousands=',')\n",
    "HSCIT = pd.read_csv('data/HS/HSCIT.csv', index_col=0, parse_dates=True, infer_datetime_format=True, thousands=',')\n",
    "HSCIU = pd.read_csv('data/HS/HSCIU.csv', index_col=0, parse_dates=True, infer_datetime_format=True, thousands=',')"
   ]
  },
  {
   "cell_type": "code",
   "execution_count": 6,
   "id": "ded6b383-625b-4206-9b6e-86d9beba243b",
   "metadata": {
    "tags": []
   },
   "outputs": [],
   "source": [
    "# create a dataframe containing HSI, first put the above into a dictionary for easy iteration\n",
    "\n",
    "HSI_dict = {\"HSCC\": HSCC,\n",
    "            \"HSCE\": HSCE,\n",
    "            \"HSCIC\": HSCIC,\n",
    "            \"HSCICD\": HSCICD,\n",
    "            \"HSCICS\": HSCICS,\n",
    "            \"HSCIE\": HSCIE,\n",
    "            \"HSCIE\": HSCIE,\n",
    "            \"HSCIF\": HSCIF,\n",
    "            \"HSCIH\": HSCIH,\n",
    "            \"HSCIIG\": HSCIIG,\n",
    "            \"HSCIIT\": HSCIIT,\n",
    "            \"HSCIM\": HSCIM,\n",
    "            \"HSCIPC\": HSCIPC,\n",
    "            \"HSCIT\": HSCIT,\n",
    "            \"HSCIU\": HSCIU}\n",
    "\n",
    "HSI_df = pd.DataFrame()\n",
    "\n",
    "for ind in HSI_dict.keys():\n",
    "    HSI_df = pd.concat([HSI_df, HSI_dict[ind]['Price']], axis=1)\n",
    "    \n",
    "HSI_df.columns = HSI_dict.keys()"
   ]
  },
  {
   "cell_type": "code",
   "execution_count": 7,
   "id": "1cdf3e7e-c6b3-41b6-b743-6c1467fdf988",
   "metadata": {
    "tags": []
   },
   "outputs": [],
   "source": [
    "# calculate sector index returns\n",
    "\n",
    "HSI_returns_df =  np.log(HSI_df.dropna()) - np.log(HSI_df.dropna().shift(-1))"
   ]
  },
  {
   "cell_type": "code",
   "execution_count": 8,
   "id": "063b41f7-51a0-42ac-8a0e-a218da0af338",
   "metadata": {
    "tags": []
   },
   "outputs": [
    {
     "data": {
      "text/html": [
       "<div>\n",
       "<style scoped>\n",
       "    .dataframe tbody tr th:only-of-type {\n",
       "        vertical-align: middle;\n",
       "    }\n",
       "\n",
       "    .dataframe tbody tr th {\n",
       "        vertical-align: top;\n",
       "    }\n",
       "\n",
       "    .dataframe thead th {\n",
       "        text-align: right;\n",
       "    }\n",
       "</style>\n",
       "<table border=\"1\" class=\"dataframe\">\n",
       "  <thead>\n",
       "    <tr style=\"text-align: right;\">\n",
       "      <th></th>\n",
       "      <th>HSCC</th>\n",
       "      <th>HSCE</th>\n",
       "      <th>HSCIC</th>\n",
       "      <th>HSCICD</th>\n",
       "      <th>HSCICS</th>\n",
       "      <th>HSCIE</th>\n",
       "      <th>HSCIF</th>\n",
       "      <th>HSCIH</th>\n",
       "      <th>HSCIIG</th>\n",
       "      <th>HSCIIT</th>\n",
       "      <th>HSCIM</th>\n",
       "      <th>HSCIPC</th>\n",
       "      <th>HSCIT</th>\n",
       "      <th>HSCIU</th>\n",
       "    </tr>\n",
       "  </thead>\n",
       "  <tbody>\n",
       "    <tr>\n",
       "      <th>2023-02-08</th>\n",
       "      <td>0.010649</td>\n",
       "      <td>-0.005958</td>\n",
       "      <td>0.014369</td>\n",
       "      <td>0.000062</td>\n",
       "      <td>-0.000140</td>\n",
       "      <td>0.007876</td>\n",
       "      <td>0.008265</td>\n",
       "      <td>-0.001266</td>\n",
       "      <td>0.001760</td>\n",
       "      <td>-0.014428</td>\n",
       "      <td>0.002442</td>\n",
       "      <td>0.006548</td>\n",
       "      <td>-0.003446</td>\n",
       "      <td>0.011128</td>\n",
       "    </tr>\n",
       "    <tr>\n",
       "      <th>2023-02-07</th>\n",
       "      <td>0.003958</td>\n",
       "      <td>0.005947</td>\n",
       "      <td>-0.003749</td>\n",
       "      <td>0.000337</td>\n",
       "      <td>-0.002919</td>\n",
       "      <td>0.012551</td>\n",
       "      <td>0.002230</td>\n",
       "      <td>0.007524</td>\n",
       "      <td>-0.001950</td>\n",
       "      <td>0.009034</td>\n",
       "      <td>0.007440</td>\n",
       "      <td>0.001699</td>\n",
       "      <td>-0.003116</td>\n",
       "      <td>0.001278</td>\n",
       "    </tr>\n",
       "    <tr>\n",
       "      <th>2023-02-06</th>\n",
       "      <td>-0.013832</td>\n",
       "      <td>-0.027121</td>\n",
       "      <td>-0.012363</td>\n",
       "      <td>-0.030311</td>\n",
       "      <td>-0.016533</td>\n",
       "      <td>-0.009576</td>\n",
       "      <td>-0.008704</td>\n",
       "      <td>-0.048956</td>\n",
       "      <td>-0.033097</td>\n",
       "      <td>-0.030508</td>\n",
       "      <td>-0.039940</td>\n",
       "      <td>-0.025736</td>\n",
       "      <td>-0.004875</td>\n",
       "      <td>-0.008257</td>\n",
       "    </tr>\n",
       "    <tr>\n",
       "      <th>2023-02-03</th>\n",
       "      <td>-0.013061</td>\n",
       "      <td>-0.015950</td>\n",
       "      <td>-0.017748</td>\n",
       "      <td>-0.010060</td>\n",
       "      <td>-0.013519</td>\n",
       "      <td>-0.023865</td>\n",
       "      <td>-0.016143</td>\n",
       "      <td>-0.015145</td>\n",
       "      <td>-0.013414</td>\n",
       "      <td>-0.009747</td>\n",
       "      <td>-0.021555</td>\n",
       "      <td>-0.008346</td>\n",
       "      <td>-0.000883</td>\n",
       "      <td>-0.007083</td>\n",
       "    </tr>\n",
       "    <tr>\n",
       "      <th>2023-02-02</th>\n",
       "      <td>-0.009237</td>\n",
       "      <td>-0.007249</td>\n",
       "      <td>-0.011150</td>\n",
       "      <td>-0.006160</td>\n",
       "      <td>0.001774</td>\n",
       "      <td>-0.002007</td>\n",
       "      <td>-0.006936</td>\n",
       "      <td>0.015662</td>\n",
       "      <td>-0.007124</td>\n",
       "      <td>-0.005774</td>\n",
       "      <td>-0.009322</td>\n",
       "      <td>-0.008289</td>\n",
       "      <td>0.000835</td>\n",
       "      <td>0.000679</td>\n",
       "    </tr>\n",
       "    <tr>\n",
       "      <th>...</th>\n",
       "      <td>...</td>\n",
       "      <td>...</td>\n",
       "      <td>...</td>\n",
       "      <td>...</td>\n",
       "      <td>...</td>\n",
       "      <td>...</td>\n",
       "      <td>...</td>\n",
       "      <td>...</td>\n",
       "      <td>...</td>\n",
       "      <td>...</td>\n",
       "      <td>...</td>\n",
       "      <td>...</td>\n",
       "      <td>...</td>\n",
       "      <td>...</td>\n",
       "    </tr>\n",
       "    <tr>\n",
       "      <th>2019-09-16</th>\n",
       "      <td>0.005239</td>\n",
       "      <td>-0.005583</td>\n",
       "      <td>-0.013457</td>\n",
       "      <td>-0.014020</td>\n",
       "      <td>-0.004171</td>\n",
       "      <td>0.036987</td>\n",
       "      <td>-0.010595</td>\n",
       "      <td>-0.005186</td>\n",
       "      <td>-0.004240</td>\n",
       "      <td>-0.008641</td>\n",
       "      <td>0.000300</td>\n",
       "      <td>-0.011050</td>\n",
       "      <td>-0.005887</td>\n",
       "      <td>-0.004659</td>\n",
       "    </tr>\n",
       "    <tr>\n",
       "      <th>2019-09-13</th>\n",
       "      <td>0.007474</td>\n",
       "      <td>0.008964</td>\n",
       "      <td>0.001008</td>\n",
       "      <td>0.019108</td>\n",
       "      <td>0.008152</td>\n",
       "      <td>0.006495</td>\n",
       "      <td>0.011142</td>\n",
       "      <td>0.007242</td>\n",
       "      <td>0.013390</td>\n",
       "      <td>0.004335</td>\n",
       "      <td>0.017621</td>\n",
       "      <td>0.013484</td>\n",
       "      <td>0.003505</td>\n",
       "      <td>0.008194</td>\n",
       "    </tr>\n",
       "    <tr>\n",
       "      <th>2019-09-12</th>\n",
       "      <td>0.000133</td>\n",
       "      <td>0.002586</td>\n",
       "      <td>-0.000803</td>\n",
       "      <td>0.007008</td>\n",
       "      <td>0.009571</td>\n",
       "      <td>-0.017801</td>\n",
       "      <td>-0.004690</td>\n",
       "      <td>0.010091</td>\n",
       "      <td>0.008404</td>\n",
       "      <td>0.011164</td>\n",
       "      <td>0.002103</td>\n",
       "      <td>0.000022</td>\n",
       "      <td>0.002105</td>\n",
       "      <td>0.004331</td>\n",
       "    </tr>\n",
       "    <tr>\n",
       "      <th>2019-09-11</th>\n",
       "      <td>0.008655</td>\n",
       "      <td>0.015421</td>\n",
       "      <td>0.016617</td>\n",
       "      <td>0.004320</td>\n",
       "      <td>0.004949</td>\n",
       "      <td>0.015119</td>\n",
       "      <td>0.021204</td>\n",
       "      <td>-0.017092</td>\n",
       "      <td>0.005237</td>\n",
       "      <td>0.013645</td>\n",
       "      <td>0.021033</td>\n",
       "      <td>0.016869</td>\n",
       "      <td>0.008893</td>\n",
       "      <td>0.008951</td>\n",
       "    </tr>\n",
       "    <tr>\n",
       "      <th>2019-09-10</th>\n",
       "      <td>NaN</td>\n",
       "      <td>NaN</td>\n",
       "      <td>NaN</td>\n",
       "      <td>NaN</td>\n",
       "      <td>NaN</td>\n",
       "      <td>NaN</td>\n",
       "      <td>NaN</td>\n",
       "      <td>NaN</td>\n",
       "      <td>NaN</td>\n",
       "      <td>NaN</td>\n",
       "      <td>NaN</td>\n",
       "      <td>NaN</td>\n",
       "      <td>NaN</td>\n",
       "      <td>NaN</td>\n",
       "    </tr>\n",
       "  </tbody>\n",
       "</table>\n",
       "<p>831 rows × 14 columns</p>\n",
       "</div>"
      ],
      "text/plain": [
       "                HSCC      HSCE     HSCIC    HSCICD    HSCICS     HSCIE  \\\n",
       "2023-02-08  0.010649 -0.005958  0.014369  0.000062 -0.000140  0.007876   \n",
       "2023-02-07  0.003958  0.005947 -0.003749  0.000337 -0.002919  0.012551   \n",
       "2023-02-06 -0.013832 -0.027121 -0.012363 -0.030311 -0.016533 -0.009576   \n",
       "2023-02-03 -0.013061 -0.015950 -0.017748 -0.010060 -0.013519 -0.023865   \n",
       "2023-02-02 -0.009237 -0.007249 -0.011150 -0.006160  0.001774 -0.002007   \n",
       "...              ...       ...       ...       ...       ...       ...   \n",
       "2019-09-16  0.005239 -0.005583 -0.013457 -0.014020 -0.004171  0.036987   \n",
       "2019-09-13  0.007474  0.008964  0.001008  0.019108  0.008152  0.006495   \n",
       "2019-09-12  0.000133  0.002586 -0.000803  0.007008  0.009571 -0.017801   \n",
       "2019-09-11  0.008655  0.015421  0.016617  0.004320  0.004949  0.015119   \n",
       "2019-09-10       NaN       NaN       NaN       NaN       NaN       NaN   \n",
       "\n",
       "               HSCIF     HSCIH    HSCIIG    HSCIIT     HSCIM    HSCIPC  \\\n",
       "2023-02-08  0.008265 -0.001266  0.001760 -0.014428  0.002442  0.006548   \n",
       "2023-02-07  0.002230  0.007524 -0.001950  0.009034  0.007440  0.001699   \n",
       "2023-02-06 -0.008704 -0.048956 -0.033097 -0.030508 -0.039940 -0.025736   \n",
       "2023-02-03 -0.016143 -0.015145 -0.013414 -0.009747 -0.021555 -0.008346   \n",
       "2023-02-02 -0.006936  0.015662 -0.007124 -0.005774 -0.009322 -0.008289   \n",
       "...              ...       ...       ...       ...       ...       ...   \n",
       "2019-09-16 -0.010595 -0.005186 -0.004240 -0.008641  0.000300 -0.011050   \n",
       "2019-09-13  0.011142  0.007242  0.013390  0.004335  0.017621  0.013484   \n",
       "2019-09-12 -0.004690  0.010091  0.008404  0.011164  0.002103  0.000022   \n",
       "2019-09-11  0.021204 -0.017092  0.005237  0.013645  0.021033  0.016869   \n",
       "2019-09-10       NaN       NaN       NaN       NaN       NaN       NaN   \n",
       "\n",
       "               HSCIT     HSCIU  \n",
       "2023-02-08 -0.003446  0.011128  \n",
       "2023-02-07 -0.003116  0.001278  \n",
       "2023-02-06 -0.004875 -0.008257  \n",
       "2023-02-03 -0.000883 -0.007083  \n",
       "2023-02-02  0.000835  0.000679  \n",
       "...              ...       ...  \n",
       "2019-09-16 -0.005887 -0.004659  \n",
       "2019-09-13  0.003505  0.008194  \n",
       "2019-09-12  0.002105  0.004331  \n",
       "2019-09-11  0.008893  0.008951  \n",
       "2019-09-10       NaN       NaN  \n",
       "\n",
       "[831 rows x 14 columns]"
      ]
     },
     "execution_count": 8,
     "metadata": {},
     "output_type": "execute_result"
    }
   ],
   "source": [
    "HSI_returns_df"
   ]
  },
  {
   "cell_type": "code",
   "execution_count": 9,
   "id": "d0ebf647-143e-43ca-97b4-e05154697a70",
   "metadata": {},
   "outputs": [
    {
     "data": {
      "text/plain": [
       "2023-02-08    0.010649\n",
       "2023-02-07    0.003958\n",
       "2023-02-06   -0.013832\n",
       "2023-02-03   -0.013061\n",
       "2023-02-02   -0.009237\n",
       "                ...   \n",
       "2019-09-16    0.005239\n",
       "2019-09-13    0.007474\n",
       "2019-09-12    0.000133\n",
       "2019-09-11    0.008655\n",
       "2019-09-10         NaN\n",
       "Name: HSCC, Length: 831, dtype: float64"
      ]
     },
     "execution_count": 9,
     "metadata": {},
     "output_type": "execute_result"
    }
   ],
   "source": [
    "# test code for ccf analysis on HSCC / HK50. Look at lag over entire dataset (shortest of exo/endo variable) and also different time periods. \n",
    "# looks like I'm indexing by day so 5 days, 20 days, 60 days\n",
    "\n",
    "HSI_returns_df['HSCC']"
   ]
  },
  {
   "cell_type": "code",
   "execution_count": 21,
   "id": "ddea51a5-5d05-47c9-9176-f75a166ac4d4",
   "metadata": {},
   "outputs": [],
   "source": [
    "HK50['Return'] = np.log(HK50['Price']) - np.log(HK50['Price'].shift(-1))\n",
    "HK50 = HK50.dropna()"
   ]
  },
  {
   "cell_type": "code",
   "execution_count": 34,
   "id": "197277f4-d5a3-41e3-bf5b-4e42713169e8",
   "metadata": {
    "tags": []
   },
   "outputs": [],
   "source": [
    "def get_shortest_array(a,b):\n",
    "    '''\n",
    "    input - a,b arrays (pandas.values) arrays\n",
    "    output - returns length of shortest array using first index of np.shape\n",
    "    '''\n",
    "    \n",
    "    len_a = np.shape(a)[0]\n",
    "    len_b = np.shape(b)[0]\n",
    "    \n",
    "    return min(len_a,len_b)"
   ]
  },
  {
   "cell_type": "code",
   "execution_count": 35,
   "id": "4d7026d1-19bd-4b18-8b67-28fe0896ab8b",
   "metadata": {
    "tags": []
   },
   "outputs": [
    {
     "data": {
      "text/plain": [
       "831"
      ]
     },
     "execution_count": 35,
     "metadata": {},
     "output_type": "execute_result"
    }
   ],
   "source": [
    "get_shortest_array(HK50['Return'],HSI_returns_df['HSCC'])"
   ]
  },
  {
   "cell_type": "code",
   "execution_count": 37,
   "id": "6c1187e8-6af7-4816-8a42-ce9cd096a140",
   "metadata": {
    "tags": []
   },
   "outputs": [
    {
     "data": {
      "text/plain": [
       "2829"
      ]
     },
     "execution_count": 37,
     "metadata": {},
     "output_type": "execute_result"
    }
   ],
   "source": [
    "len(HK50['Return'])"
   ]
  },
  {
   "cell_type": "code",
   "execution_count": 36,
   "id": "ddc6561d-dd0c-4f2f-9b56-25452d6cf0db",
   "metadata": {
    "tags": []
   },
   "outputs": [
    {
     "data": {
      "text/plain": [
       "831"
      ]
     },
     "execution_count": 36,
     "metadata": {},
     "output_type": "execute_result"
    }
   ],
   "source": [
    "len(HSI_returns_df['HSCC'])"
   ]
  },
  {
   "cell_type": "code",
   "execution_count": 40,
   "id": "70b56a5c-f347-4708-927f-67cfc83e2006",
   "metadata": {
    "tags": []
   },
   "outputs": [
    {
     "data": {
      "text/plain": [
       "Date\n",
       "2019-09-26    0.003716\n",
       "2019-09-25   -0.012854\n",
       "2019-09-24    0.002232\n",
       "2019-09-23   -0.008100\n",
       "2019-09-20   -0.001258\n",
       "Name: Return, dtype: float64"
      ]
     },
     "execution_count": 40,
     "metadata": {},
     "output_type": "execute_result"
    }
   ],
   "source": [
    "HK50['Return'].iloc[:831].tail()"
   ]
  },
  {
   "cell_type": "code",
   "execution_count": 39,
   "id": "a02b04f4-77be-412b-b15e-a05db5e3c168",
   "metadata": {},
   "outputs": [
    {
     "data": {
      "text/plain": [
       "2019-09-16 00:00:00    0.005239\n",
       "2019-09-13 00:00:00    0.007474\n",
       "2019-09-12 00:00:00    0.000133\n",
       "2019-09-11 00:00:00    0.008655\n",
       "2019-09-10 00:00:00         NaN\n",
       "Name: HSCC, dtype: float64"
      ]
     },
     "execution_count": 39,
     "metadata": {},
     "output_type": "execute_result"
    }
   ],
   "source": [
    "HSI_returns_df['HSCC'].tail()"
   ]
  },
  {
   "cell_type": "code",
   "execution_count": 58,
   "id": "3217ce94-e5fa-408c-ab55-38807000c4d5",
   "metadata": {
    "tags": []
   },
   "outputs": [],
   "source": [
    "# perform ccf on entire dataset\n",
    "\n",
    "def calc_ccf(a,b,title):\n",
    "    '''\n",
    "    For arrays a, b run statsmodesl ccf.\n",
    "    input - a,b as pandas df, not values\n",
    "    To do: extra argument for window which will then return another time series. Maybe only relevant for correlation / cointegration? \n",
    "    '''\n",
    "    \n",
    "    len_shortest_array = get_shortest_array(a,b)\n",
    "    \n",
    "    ccf_output = smt.ccf(a.iloc[:len_shortest_array],b.iloc[:len_shortest_array], adjusted=False)\n",
    "    \n",
    "    plt.stem(range(len(ccf_output)), ccf_output)\n",
    "    plt.title(title)\n",
    "    plt.xlabel('Lag')\n",
    "    plt.ylabel('CCF')\n",
    "    # 95% UCL / LCL\n",
    "    plt.axhline(-1.96/np.sqrt(len_shortest_array), color='k', ls='--') \n",
    "    plt.axhline(1.96/np.sqrt(len_shortest_array), color='k', ls='--')\n",
    "    \n",
    "    "
   ]
  },
  {
   "cell_type": "code",
   "execution_count": 59,
   "id": "f62a3742-6101-4d05-b6ad-f439bd55c5cb",
   "metadata": {
    "tags": []
   },
   "outputs": [
    {
     "data": {
      "image/png": "[encoded data removed]",
      "text/plain": [
       "<Figure size 640x480 with 1 Axes>"
      ]
     },
     "metadata": {},
     "output_type": "display_data"
    }
   ],
   "source": [
    "calc_ccf(HSI_returns_df['HSCC'].dropna(),HK50['Return'].dropna(), 'CCF of HSCC vs HK50')"
   ]
  },
  {
   "cell_type": "code",
   "execution_count": 49,
   "id": "a2352eed-f908-4893-9958-2bd956cfa4fb",
   "metadata": {
    "tags": []
   },
   "outputs": [
    {
     "data": {
      "text/plain": [
       "<matplotlib.lines.Line2D at 0x7fb35e620f10>"
      ]
     },
     "execution_count": 49,
     "metadata": {},
     "output_type": "execute_result"
    },
    {
     "data": {
      "image/png": "[encoded data removed]",
      "text/plain": [
       "<Figure size 640x480 with 1 Axes>"
      ]
     },
     "metadata": {},
     "output_type": "display_data"
    }
   ],
   "source": [
    "# test code from: https://stackoverflow.com/questions/63491991/how-to-use-the-ccf-method-in-the-statsmodels-library#63496864 \n",
    "# evaulate ccf with both positive and negative lags\n",
    "# ccf_output = smt.ccf(HSI_returns_df['HSCC'].dropna(),HK50['Return'].iloc[:831].dropna(), adjusted=False)\n",
    "backwards = smt.ccf(HSI_returns_df['HSCC'].dropna()[::-1], HK50['Return'].iloc[:831].dropna()[::-1], adjusted=False)[::-1]\n",
    "forwards = smt.ccf(HSI_returns_df['HSCC'].dropna(), HK50['Return'].iloc[:831].dropna(), adjusted=False)\n",
    "ccf_output = np.r_[backwards[:-1], forwards]\n",
    "\n",
    "\n",
    "plt.stem(range(-len(ccf_output)//2, len(ccf_output)//2), ccf_output)\n",
    "plt.xlabel('Lag')\n",
    "plt.ylabel('ACF')\n",
    "# 95% UCL / LCL\n",
    "plt.axhline(-1.96/np.sqrt(831), color='k', ls='--') \n",
    "plt.axhline(1.96/np.sqrt(831), color='k', ls='--') # replace 831 with length of shortest array"
   ]
  },
  {
   "cell_type": "code",
   "execution_count": 53,
   "id": "d46f0cc3-6db7-4e40-a4af-c0fe063940a6",
   "metadata": {
    "tags": []
   },
   "outputs": [
    {
     "data": {
      "text/plain": [
       "<matplotlib.lines.Line2D at 0x7fb359f62380>"
      ]
     },
     "execution_count": 53,
     "metadata": {},
     "output_type": "execute_result"
    },
    {
     "data": {
      "image/png": "[encoded data removed]",
      "text/plain": [
       "<Figure size 640x480 with 1 Axes>"
      ]
     },
     "metadata": {},
     "output_type": "display_data"
    }
   ],
   "source": [
    "ccf_output = smt.ccf(HSI_returns_df['HSCC'].dropna(),HK50['Return'].iloc[:831].dropna(), adjusted=False)\n",
    "plt.stem(range(len(ccf_output)), ccf_output)\n",
    "plt.xlabel('Lag')\n",
    "plt.ylabel('CCF')\n",
    "# 95% UCL / LCL\n",
    "plt.axhline(-1.96/np.sqrt(831), color='k', ls='--') \n",
    "plt.axhline(1.96/np.sqrt(831), color='k', ls='--') # replace 831 with length of shortest array"
   ]
  },
  {
   "cell_type": "code",
   "execution_count": 52,
   "id": "84481e63-d966-43f0-8c0a-33a72402a09e",
   "metadata": {
    "tags": []
   },
   "outputs": [
    {
     "data": {
      "text/plain": [
       "range(0, 831)"
      ]
     },
     "execution_count": 52,
     "metadata": {},
     "output_type": "execute_result"
    }
   ],
   "source": []
  },
  {
   "cell_type": "code",
   "execution_count": null,
   "id": "6e6babc8-84a4-402c-8478-1a8cf422f804",
   "metadata": {},
   "outputs": [],
   "source": []
  },
  {
   "cell_type": "code",
   "execution_count": null,
   "id": "79e4a4e5-396f-44fc-8f83-ce2b37db0469",
   "metadata": {},
   "outputs": [],
   "source": []
  },
  {
   "cell_type": "code",
   "execution_count": null,
   "id": "69285e81-a790-49bd-a932-081b1d7a512a",
   "metadata": {},
   "outputs": [],
   "source": []
  },
  {
   "cell_type": "code",
   "execution_count": null,
   "id": "778ef6c9-49c1-4887-a347-5771d98bc51e",
   "metadata": {},
   "outputs": [],
   "source": []
  },
  {
   "cell_type": "code",
   "execution_count": 46,
   "id": "03c0eed9-2283-4fc0-9f0f-b2169034f04e",
   "metadata": {
    "tags": []
   },
   "outputs": [],
   "source": [
    "HSI_df.dropna().to_csv('HSI_df.csv')"
   ]
  },
  {
   "cell_type": "code",
   "execution_count": 58,
   "id": "3b84525e-f5d0-4528-9f51-8496a39dbfd5",
   "metadata": {
    "tags": []
   },
   "outputs": [],
   "source": [
    "# Try reading in df hopefully it solves the string problem\n",
    "HSI_df_test = pd.read_csv('HSI_df.csv', index_col=0, parse_dates=True, infer_datetime_format=True,thousands=',')"
   ]
  },
  {
   "cell_type": "code",
   "execution_count": 60,
   "id": "826fd97a-af46-44ce-a3f1-1821f0b185c5",
   "metadata": {
    "tags": []
   },
   "outputs": [
    {
     "data": {
      "text/html": [
       "<div>\n",
       "<style scoped>\n",
       "    .dataframe tbody tr th:only-of-type {\n",
       "        vertical-align: middle;\n",
       "    }\n",
       "\n",
       "    .dataframe tbody tr th {\n",
       "        vertical-align: top;\n",
       "    }\n",
       "\n",
       "    .dataframe thead th {\n",
       "        text-align: right;\n",
       "    }\n",
       "</style>\n",
       "<table border=\"1\" class=\"dataframe\">\n",
       "  <thead>\n",
       "    <tr style=\"text-align: right;\">\n",
       "      <th></th>\n",
       "      <th>HSCC</th>\n",
       "      <th>HSCE</th>\n",
       "      <th>HSCIC</th>\n",
       "      <th>HSCICD</th>\n",
       "      <th>HSCICS</th>\n",
       "      <th>HSCIE</th>\n",
       "      <th>HSCIF</th>\n",
       "      <th>HSCIH</th>\n",
       "      <th>HSCIIG</th>\n",
       "      <th>HSCIIT</th>\n",
       "      <th>HSCIM</th>\n",
       "      <th>HSCIPC</th>\n",
       "      <th>HSCIT</th>\n",
       "      <th>HSCIU</th>\n",
       "    </tr>\n",
       "  </thead>\n",
       "  <tbody>\n",
       "    <tr>\n",
       "      <th>2023-02-08</th>\n",
       "      <td>3947.90</td>\n",
       "      <td>7189.29</td>\n",
       "      <td>1598.90</td>\n",
       "      <td>3055.36</td>\n",
       "      <td>20975.94</td>\n",
       "      <td>8342.66</td>\n",
       "      <td>3376.48</td>\n",
       "      <td>13641.62</td>\n",
       "      <td>1262.72</td>\n",
       "      <td>11841.00</td>\n",
       "      <td>6710.50</td>\n",
       "      <td>2442.35</td>\n",
       "      <td>1219.63</td>\n",
       "      <td>5844.62</td>\n",
       "    </tr>\n",
       "    <tr>\n",
       "      <th>2023-02-07</th>\n",
       "      <td>3906.08</td>\n",
       "      <td>7232.25</td>\n",
       "      <td>1576.09</td>\n",
       "      <td>3055.17</td>\n",
       "      <td>20978.88</td>\n",
       "      <td>8277.21</td>\n",
       "      <td>3348.69</td>\n",
       "      <td>13658.90</td>\n",
       "      <td>1260.50</td>\n",
       "      <td>12013.08</td>\n",
       "      <td>6694.13</td>\n",
       "      <td>2426.41</td>\n",
       "      <td>1223.84</td>\n",
       "      <td>5779.94</td>\n",
       "    </tr>\n",
       "    <tr>\n",
       "      <th>2023-02-06</th>\n",
       "      <td>3890.65</td>\n",
       "      <td>7189.37</td>\n",
       "      <td>1582.01</td>\n",
       "      <td>3054.14</td>\n",
       "      <td>21040.21</td>\n",
       "      <td>8173.97</td>\n",
       "      <td>3341.23</td>\n",
       "      <td>13556.51</td>\n",
       "      <td>1262.96</td>\n",
       "      <td>11905.04</td>\n",
       "      <td>6644.51</td>\n",
       "      <td>2422.29</td>\n",
       "      <td>1227.66</td>\n",
       "      <td>5772.56</td>\n",
       "    </tr>\n",
       "    <tr>\n",
       "      <th>2023-02-03</th>\n",
       "      <td>3944.84</td>\n",
       "      <td>7387.02</td>\n",
       "      <td>1601.69</td>\n",
       "      <td>3148.13</td>\n",
       "      <td>21390.96</td>\n",
       "      <td>8252.62</td>\n",
       "      <td>3370.44</td>\n",
       "      <td>14236.69</td>\n",
       "      <td>1305.46</td>\n",
       "      <td>12273.84</td>\n",
       "      <td>6915.26</td>\n",
       "      <td>2485.44</td>\n",
       "      <td>1233.66</td>\n",
       "      <td>5820.42</td>\n",
       "    </tr>\n",
       "    <tr>\n",
       "      <th>2023-02-02</th>\n",
       "      <td>3996.70</td>\n",
       "      <td>7505.79</td>\n",
       "      <td>1630.37</td>\n",
       "      <td>3179.96</td>\n",
       "      <td>21682.10</td>\n",
       "      <td>8451.94</td>\n",
       "      <td>3425.29</td>\n",
       "      <td>14453.95</td>\n",
       "      <td>1323.09</td>\n",
       "      <td>12394.06</td>\n",
       "      <td>7065.94</td>\n",
       "      <td>2506.27</td>\n",
       "      <td>1234.75</td>\n",
       "      <td>5861.79</td>\n",
       "    </tr>\n",
       "    <tr>\n",
       "      <th>...</th>\n",
       "      <td>...</td>\n",
       "      <td>...</td>\n",
       "      <td>...</td>\n",
       "      <td>...</td>\n",
       "      <td>...</td>\n",
       "      <td>...</td>\n",
       "      <td>...</td>\n",
       "      <td>...</td>\n",
       "      <td>...</td>\n",
       "      <td>...</td>\n",
       "      <td>...</td>\n",
       "      <td>...</td>\n",
       "      <td>...</td>\n",
       "      <td>...</td>\n",
       "    </tr>\n",
       "    <tr>\n",
       "      <th>2019-09-16</th>\n",
       "      <td>4334.71</td>\n",
       "      <td>10628.25</td>\n",
       "      <td>2164.11</td>\n",
       "      <td>2740.41</td>\n",
       "      <td>22708.88</td>\n",
       "      <td>8288.62</td>\n",
       "      <td>3764.96</td>\n",
       "      <td>14128.45</td>\n",
       "      <td>1313.19</td>\n",
       "      <td>11112.39</td>\n",
       "      <td>4599.73</td>\n",
       "      <td>4020.08</td>\n",
       "      <td>1551.41</td>\n",
       "      <td>7396.02</td>\n",
       "    </tr>\n",
       "    <tr>\n",
       "      <th>2019-09-13</th>\n",
       "      <td>4312.06</td>\n",
       "      <td>10687.75</td>\n",
       "      <td>2193.43</td>\n",
       "      <td>2779.10</td>\n",
       "      <td>22803.80</td>\n",
       "      <td>7987.65</td>\n",
       "      <td>3805.06</td>\n",
       "      <td>14201.91</td>\n",
       "      <td>1318.77</td>\n",
       "      <td>11208.83</td>\n",
       "      <td>4598.35</td>\n",
       "      <td>4064.75</td>\n",
       "      <td>1560.57</td>\n",
       "      <td>7430.56</td>\n",
       "    </tr>\n",
       "    <tr>\n",
       "      <th>2019-09-12</th>\n",
       "      <td>4279.95</td>\n",
       "      <td>10592.37</td>\n",
       "      <td>2191.22</td>\n",
       "      <td>2726.50</td>\n",
       "      <td>22618.65</td>\n",
       "      <td>7935.94</td>\n",
       "      <td>3762.90</td>\n",
       "      <td>14099.43</td>\n",
       "      <td>1301.23</td>\n",
       "      <td>11160.35</td>\n",
       "      <td>4518.03</td>\n",
       "      <td>4010.31</td>\n",
       "      <td>1555.11</td>\n",
       "      <td>7369.92</td>\n",
       "    </tr>\n",
       "    <tr>\n",
       "      <th>2019-09-11</th>\n",
       "      <td>4279.38</td>\n",
       "      <td>10565.01</td>\n",
       "      <td>2192.98</td>\n",
       "      <td>2707.46</td>\n",
       "      <td>22403.19</td>\n",
       "      <td>8078.47</td>\n",
       "      <td>3780.59</td>\n",
       "      <td>13957.87</td>\n",
       "      <td>1290.34</td>\n",
       "      <td>11036.45</td>\n",
       "      <td>4508.54</td>\n",
       "      <td>4010.22</td>\n",
       "      <td>1551.84</td>\n",
       "      <td>7338.07</td>\n",
       "    </tr>\n",
       "    <tr>\n",
       "      <th>2019-09-10</th>\n",
       "      <td>4242.50</td>\n",
       "      <td>10403.34</td>\n",
       "      <td>2156.84</td>\n",
       "      <td>2695.79</td>\n",
       "      <td>22292.60</td>\n",
       "      <td>7957.25</td>\n",
       "      <td>3701.27</td>\n",
       "      <td>14198.49</td>\n",
       "      <td>1283.60</td>\n",
       "      <td>10886.88</td>\n",
       "      <td>4414.70</td>\n",
       "      <td>3943.14</td>\n",
       "      <td>1538.10</td>\n",
       "      <td>7272.68</td>\n",
       "    </tr>\n",
       "  </tbody>\n",
       "</table>\n",
       "<p>831 rows × 14 columns</p>\n",
       "</div>"
      ],
      "text/plain": [
       "               HSCC      HSCE    HSCIC   HSCICD    HSCICS    HSCIE    HSCIF  \\\n",
       "2023-02-08  3947.90   7189.29  1598.90  3055.36  20975.94  8342.66  3376.48   \n",
       "2023-02-07  3906.08   7232.25  1576.09  3055.17  20978.88  8277.21  3348.69   \n",
       "2023-02-06  3890.65   7189.37  1582.01  3054.14  21040.21  8173.97  3341.23   \n",
       "2023-02-03  3944.84   7387.02  1601.69  3148.13  21390.96  8252.62  3370.44   \n",
       "2023-02-02  3996.70   7505.79  1630.37  3179.96  21682.10  8451.94  3425.29   \n",
       "...             ...       ...      ...      ...       ...      ...      ...   \n",
       "2019-09-16  4334.71  10628.25  2164.11  2740.41  22708.88  8288.62  3764.96   \n",
       "2019-09-13  4312.06  10687.75  2193.43  2779.10  22803.80  7987.65  3805.06   \n",
       "2019-09-12  4279.95  10592.37  2191.22  2726.50  22618.65  7935.94  3762.90   \n",
       "2019-09-11  4279.38  10565.01  2192.98  2707.46  22403.19  8078.47  3780.59   \n",
       "2019-09-10  4242.50  10403.34  2156.84  2695.79  22292.60  7957.25  3701.27   \n",
       "\n",
       "               HSCIH   HSCIIG    HSCIIT    HSCIM   HSCIPC    HSCIT    HSCIU  \n",
       "2023-02-08  13641.62  1262.72  11841.00  6710.50  2442.35  1219.63  5844.62  \n",
       "2023-02-07  13658.90  1260.50  12013.08  6694.13  2426.41  1223.84  5779.94  \n",
       "2023-02-06  13556.51  1262.96  11905.04  6644.51  2422.29  1227.66  5772.56  \n",
       "2023-02-03  14236.69  1305.46  12273.84  6915.26  2485.44  1233.66  5820.42  \n",
       "2023-02-02  14453.95  1323.09  12394.06  7065.94  2506.27  1234.75  5861.79  \n",
       "...              ...      ...       ...      ...      ...      ...      ...  \n",
       "2019-09-16  14128.45  1313.19  11112.39  4599.73  4020.08  1551.41  7396.02  \n",
       "2019-09-13  14201.91  1318.77  11208.83  4598.35  4064.75  1560.57  7430.56  \n",
       "2019-09-12  14099.43  1301.23  11160.35  4518.03  4010.31  1555.11  7369.92  \n",
       "2019-09-11  13957.87  1290.34  11036.45  4508.54  4010.22  1551.84  7338.07  \n",
       "2019-09-10  14198.49  1283.60  10886.88  4414.70  3943.14  1538.10  7272.68  \n",
       "\n",
       "[831 rows x 14 columns]"
      ]
     },
     "execution_count": 60,
     "metadata": {},
     "output_type": "execute_result"
    }
   ],
   "source": [
    "HSI_df_test.astype(float)"
   ]
  },
  {
   "cell_type": "code",
   "execution_count": 54,
   "id": "4091f225-a993-4ca5-8921-2bd4e653c090",
   "metadata": {
    "tags": []
   },
   "outputs": [
    {
     "ename": "ValueError",
     "evalue": "could not convert string to float: '3,055.36'",
     "output_type": "error",
     "traceback": [
      "\u001b[0;31m---------------------------------------------------------------------------\u001b[0m",
      "\u001b[0;31mValueError\u001b[0m                                Traceback (most recent call last)",
      "Cell \u001b[0;32mIn[54], line 2\u001b[0m\n\u001b[1;32m      1\u001b[0m HSI_df_test \u001b[38;5;241m=\u001b[39m HSI_df\u001b[38;5;241m.\u001b[39mdropna()\n\u001b[0;32m----> 2\u001b[0m HSI_df_test \u001b[38;5;241m=\u001b[39m \u001b[43mHSI_df_test\u001b[49m\u001b[38;5;241;43m.\u001b[39;49m\u001b[43mastype\u001b[49m\u001b[43m(\u001b[49m\u001b[38;5;28;43mfloat\u001b[39;49m\u001b[43m)\u001b[49m\n",
      "File \u001b[0;32m~/.local/lib/python3.10/site-packages/pandas/core/generic.py:6240\u001b[0m, in \u001b[0;36mNDFrame.astype\u001b[0;34m(self, dtype, copy, errors)\u001b[0m\n\u001b[1;32m   6233\u001b[0m     results \u001b[38;5;241m=\u001b[39m [\n\u001b[1;32m   6234\u001b[0m         \u001b[38;5;28mself\u001b[39m\u001b[38;5;241m.\u001b[39miloc[:, i]\u001b[38;5;241m.\u001b[39mastype(dtype, copy\u001b[38;5;241m=\u001b[39mcopy)\n\u001b[1;32m   6235\u001b[0m         \u001b[38;5;28;01mfor\u001b[39;00m i \u001b[38;5;129;01min\u001b[39;00m \u001b[38;5;28mrange\u001b[39m(\u001b[38;5;28mlen\u001b[39m(\u001b[38;5;28mself\u001b[39m\u001b[38;5;241m.\u001b[39mcolumns))\n\u001b[1;32m   6236\u001b[0m     ]\n\u001b[1;32m   6238\u001b[0m \u001b[38;5;28;01melse\u001b[39;00m:\n\u001b[1;32m   6239\u001b[0m     \u001b[38;5;66;03m# else, only a single dtype is given\u001b[39;00m\n\u001b[0;32m-> 6240\u001b[0m     new_data \u001b[38;5;241m=\u001b[39m \u001b[38;5;28;43mself\u001b[39;49m\u001b[38;5;241;43m.\u001b[39;49m\u001b[43m_mgr\u001b[49m\u001b[38;5;241;43m.\u001b[39;49m\u001b[43mastype\u001b[49m\u001b[43m(\u001b[49m\u001b[43mdtype\u001b[49m\u001b[38;5;241;43m=\u001b[39;49m\u001b[43mdtype\u001b[49m\u001b[43m,\u001b[49m\u001b[43m \u001b[49m\u001b[43mcopy\u001b[49m\u001b[38;5;241;43m=\u001b[39;49m\u001b[43mcopy\u001b[49m\u001b[43m,\u001b[49m\u001b[43m \u001b[49m\u001b[43merrors\u001b[49m\u001b[38;5;241;43m=\u001b[39;49m\u001b[43merrors\u001b[49m\u001b[43m)\u001b[49m\n\u001b[1;32m   6241\u001b[0m     \u001b[38;5;28;01mreturn\u001b[39;00m \u001b[38;5;28mself\u001b[39m\u001b[38;5;241m.\u001b[39m_constructor(new_data)\u001b[38;5;241m.\u001b[39m__finalize__(\u001b[38;5;28mself\u001b[39m, method\u001b[38;5;241m=\u001b[39m\u001b[38;5;124m\"\u001b[39m\u001b[38;5;124mastype\u001b[39m\u001b[38;5;124m\"\u001b[39m)\n\u001b[1;32m   6243\u001b[0m \u001b[38;5;66;03m# GH 33113: handle empty frame or series\u001b[39;00m\n",
      "File \u001b[0;32m~/.local/lib/python3.10/site-packages/pandas/core/internals/managers.py:448\u001b[0m, in \u001b[0;36mBaseBlockManager.astype\u001b[0;34m(self, dtype, copy, errors)\u001b[0m\n\u001b[1;32m    447\u001b[0m \u001b[38;5;28;01mdef\u001b[39;00m \u001b[38;5;21mastype\u001b[39m(\u001b[38;5;28mself\u001b[39m: T, dtype, copy: \u001b[38;5;28mbool\u001b[39m \u001b[38;5;241m=\u001b[39m \u001b[38;5;28;01mFalse\u001b[39;00m, errors: \u001b[38;5;28mstr\u001b[39m \u001b[38;5;241m=\u001b[39m \u001b[38;5;124m\"\u001b[39m\u001b[38;5;124mraise\u001b[39m\u001b[38;5;124m\"\u001b[39m) \u001b[38;5;241m-\u001b[39m\u001b[38;5;241m>\u001b[39m T:\n\u001b[0;32m--> 448\u001b[0m     \u001b[38;5;28;01mreturn\u001b[39;00m \u001b[38;5;28;43mself\u001b[39;49m\u001b[38;5;241;43m.\u001b[39;49m\u001b[43mapply\u001b[49m\u001b[43m(\u001b[49m\u001b[38;5;124;43m\"\u001b[39;49m\u001b[38;5;124;43mastype\u001b[39;49m\u001b[38;5;124;43m\"\u001b[39;49m\u001b[43m,\u001b[49m\u001b[43m \u001b[49m\u001b[43mdtype\u001b[49m\u001b[38;5;241;43m=\u001b[39;49m\u001b[43mdtype\u001b[49m\u001b[43m,\u001b[49m\u001b[43m \u001b[49m\u001b[43mcopy\u001b[49m\u001b[38;5;241;43m=\u001b[39;49m\u001b[43mcopy\u001b[49m\u001b[43m,\u001b[49m\u001b[43m \u001b[49m\u001b[43merrors\u001b[49m\u001b[38;5;241;43m=\u001b[39;49m\u001b[43merrors\u001b[49m\u001b[43m)\u001b[49m\n",
      "File \u001b[0;32m~/.local/lib/python3.10/site-packages/pandas/core/internals/managers.py:352\u001b[0m, in \u001b[0;36mBaseBlockManager.apply\u001b[0;34m(self, f, align_keys, ignore_failures, **kwargs)\u001b[0m\n\u001b[1;32m    350\u001b[0m         applied \u001b[38;5;241m=\u001b[39m b\u001b[38;5;241m.\u001b[39mapply(f, \u001b[38;5;241m*\u001b[39m\u001b[38;5;241m*\u001b[39mkwargs)\n\u001b[1;32m    351\u001b[0m     \u001b[38;5;28;01melse\u001b[39;00m:\n\u001b[0;32m--> 352\u001b[0m         applied \u001b[38;5;241m=\u001b[39m \u001b[38;5;28;43mgetattr\u001b[39;49m\u001b[43m(\u001b[49m\u001b[43mb\u001b[49m\u001b[43m,\u001b[49m\u001b[43m \u001b[49m\u001b[43mf\u001b[49m\u001b[43m)\u001b[49m\u001b[43m(\u001b[49m\u001b[38;5;241;43m*\u001b[39;49m\u001b[38;5;241;43m*\u001b[39;49m\u001b[43mkwargs\u001b[49m\u001b[43m)\u001b[49m\n\u001b[1;32m    353\u001b[0m \u001b[38;5;28;01mexcept\u001b[39;00m (\u001b[38;5;167;01mTypeError\u001b[39;00m, \u001b[38;5;167;01mNotImplementedError\u001b[39;00m):\n\u001b[1;32m    354\u001b[0m     \u001b[38;5;28;01mif\u001b[39;00m \u001b[38;5;129;01mnot\u001b[39;00m ignore_failures:\n",
      "File \u001b[0;32m~/.local/lib/python3.10/site-packages/pandas/core/internals/blocks.py:526\u001b[0m, in \u001b[0;36mBlock.astype\u001b[0;34m(self, dtype, copy, errors)\u001b[0m\n\u001b[1;32m    508\u001b[0m \u001b[38;5;250m\u001b[39m\u001b[38;5;124;03m\"\"\"\u001b[39;00m\n\u001b[1;32m    509\u001b[0m \u001b[38;5;124;03mCoerce to the new dtype.\u001b[39;00m\n\u001b[1;32m    510\u001b[0m \n\u001b[0;32m   (...)\u001b[0m\n\u001b[1;32m    522\u001b[0m \u001b[38;5;124;03mBlock\u001b[39;00m\n\u001b[1;32m    523\u001b[0m \u001b[38;5;124;03m\"\"\"\u001b[39;00m\n\u001b[1;32m    524\u001b[0m values \u001b[38;5;241m=\u001b[39m \u001b[38;5;28mself\u001b[39m\u001b[38;5;241m.\u001b[39mvalues\n\u001b[0;32m--> 526\u001b[0m new_values \u001b[38;5;241m=\u001b[39m \u001b[43mastype_array_safe\u001b[49m\u001b[43m(\u001b[49m\u001b[43mvalues\u001b[49m\u001b[43m,\u001b[49m\u001b[43m \u001b[49m\u001b[43mdtype\u001b[49m\u001b[43m,\u001b[49m\u001b[43m \u001b[49m\u001b[43mcopy\u001b[49m\u001b[38;5;241;43m=\u001b[39;49m\u001b[43mcopy\u001b[49m\u001b[43m,\u001b[49m\u001b[43m \u001b[49m\u001b[43merrors\u001b[49m\u001b[38;5;241;43m=\u001b[39;49m\u001b[43merrors\u001b[49m\u001b[43m)\u001b[49m\n\u001b[1;32m    528\u001b[0m new_values \u001b[38;5;241m=\u001b[39m maybe_coerce_values(new_values)\n\u001b[1;32m    529\u001b[0m newb \u001b[38;5;241m=\u001b[39m \u001b[38;5;28mself\u001b[39m\u001b[38;5;241m.\u001b[39mmake_block(new_values)\n",
      "File \u001b[0;32m~/.local/lib/python3.10/site-packages/pandas/core/dtypes/astype.py:299\u001b[0m, in \u001b[0;36mastype_array_safe\u001b[0;34m(values, dtype, copy, errors)\u001b[0m\n\u001b[1;32m    296\u001b[0m     \u001b[38;5;28;01mreturn\u001b[39;00m values\u001b[38;5;241m.\u001b[39mcopy()\n\u001b[1;32m    298\u001b[0m \u001b[38;5;28;01mtry\u001b[39;00m:\n\u001b[0;32m--> 299\u001b[0m     new_values \u001b[38;5;241m=\u001b[39m \u001b[43mastype_array\u001b[49m\u001b[43m(\u001b[49m\u001b[43mvalues\u001b[49m\u001b[43m,\u001b[49m\u001b[43m \u001b[49m\u001b[43mdtype\u001b[49m\u001b[43m,\u001b[49m\u001b[43m \u001b[49m\u001b[43mcopy\u001b[49m\u001b[38;5;241;43m=\u001b[39;49m\u001b[43mcopy\u001b[49m\u001b[43m)\u001b[49m\n\u001b[1;32m    300\u001b[0m \u001b[38;5;28;01mexcept\u001b[39;00m (\u001b[38;5;167;01mValueError\u001b[39;00m, \u001b[38;5;167;01mTypeError\u001b[39;00m):\n\u001b[1;32m    301\u001b[0m     \u001b[38;5;66;03m# e.g. astype_nansafe can fail on object-dtype of strings\u001b[39;00m\n\u001b[1;32m    302\u001b[0m     \u001b[38;5;66;03m#  trying to convert to float\u001b[39;00m\n\u001b[1;32m    303\u001b[0m     \u001b[38;5;28;01mif\u001b[39;00m errors \u001b[38;5;241m==\u001b[39m \u001b[38;5;124m\"\u001b[39m\u001b[38;5;124mignore\u001b[39m\u001b[38;5;124m\"\u001b[39m:\n",
      "File \u001b[0;32m~/.local/lib/python3.10/site-packages/pandas/core/dtypes/astype.py:230\u001b[0m, in \u001b[0;36mastype_array\u001b[0;34m(values, dtype, copy)\u001b[0m\n\u001b[1;32m    227\u001b[0m     values \u001b[38;5;241m=\u001b[39m values\u001b[38;5;241m.\u001b[39mastype(dtype, copy\u001b[38;5;241m=\u001b[39mcopy)\n\u001b[1;32m    229\u001b[0m \u001b[38;5;28;01melse\u001b[39;00m:\n\u001b[0;32m--> 230\u001b[0m     values \u001b[38;5;241m=\u001b[39m \u001b[43mastype_nansafe\u001b[49m\u001b[43m(\u001b[49m\u001b[43mvalues\u001b[49m\u001b[43m,\u001b[49m\u001b[43m \u001b[49m\u001b[43mdtype\u001b[49m\u001b[43m,\u001b[49m\u001b[43m \u001b[49m\u001b[43mcopy\u001b[49m\u001b[38;5;241;43m=\u001b[39;49m\u001b[43mcopy\u001b[49m\u001b[43m)\u001b[49m\n\u001b[1;32m    232\u001b[0m \u001b[38;5;66;03m# in pandas we don't store numpy str dtypes, so convert to object\u001b[39;00m\n\u001b[1;32m    233\u001b[0m \u001b[38;5;28;01mif\u001b[39;00m \u001b[38;5;28misinstance\u001b[39m(dtype, np\u001b[38;5;241m.\u001b[39mdtype) \u001b[38;5;129;01mand\u001b[39;00m \u001b[38;5;28missubclass\u001b[39m(values\u001b[38;5;241m.\u001b[39mdtype\u001b[38;5;241m.\u001b[39mtype, \u001b[38;5;28mstr\u001b[39m):\n",
      "File \u001b[0;32m~/.local/lib/python3.10/site-packages/pandas/core/dtypes/astype.py:170\u001b[0m, in \u001b[0;36mastype_nansafe\u001b[0;34m(arr, dtype, copy, skipna)\u001b[0m\n\u001b[1;32m    166\u001b[0m     \u001b[38;5;28;01mraise\u001b[39;00m \u001b[38;5;167;01mValueError\u001b[39;00m(msg)\n\u001b[1;32m    168\u001b[0m \u001b[38;5;28;01mif\u001b[39;00m copy \u001b[38;5;129;01mor\u001b[39;00m is_object_dtype(arr\u001b[38;5;241m.\u001b[39mdtype) \u001b[38;5;129;01mor\u001b[39;00m is_object_dtype(dtype):\n\u001b[1;32m    169\u001b[0m     \u001b[38;5;66;03m# Explicit copy, or required since NumPy can't view from / to object.\u001b[39;00m\n\u001b[0;32m--> 170\u001b[0m     \u001b[38;5;28;01mreturn\u001b[39;00m \u001b[43marr\u001b[49m\u001b[38;5;241;43m.\u001b[39;49m\u001b[43mastype\u001b[49m\u001b[43m(\u001b[49m\u001b[43mdtype\u001b[49m\u001b[43m,\u001b[49m\u001b[43m \u001b[49m\u001b[43mcopy\u001b[49m\u001b[38;5;241;43m=\u001b[39;49m\u001b[38;5;28;43;01mTrue\u001b[39;49;00m\u001b[43m)\u001b[49m\n\u001b[1;32m    172\u001b[0m \u001b[38;5;28;01mreturn\u001b[39;00m arr\u001b[38;5;241m.\u001b[39mastype(dtype, copy\u001b[38;5;241m=\u001b[39mcopy)\n",
      "\u001b[0;31mValueError\u001b[0m: could not convert string to float: '3,055.36'"
     ]
    }
   ],
   "source": [
    "HSI_df_test = HSI_df.dropna()\n",
    "HSI_df_test = HSI_df_test.astype(float)"
   ]
  },
  {
   "cell_type": "code",
   "execution_count": 52,
   "id": "1f5f6822-b722-48b2-8788-2e8379e61664",
   "metadata": {
    "tags": []
   },
   "outputs": [
    {
     "ename": "TypeError",
     "evalue": "unsupported operand type(s) for /: 'str' and 'str'",
     "output_type": "error",
     "traceback": [
      "\u001b[0;31m---------------------------------------------------------------------------\u001b[0m",
      "\u001b[0;31mTypeError\u001b[0m                                 Traceback (most recent call last)",
      "File \u001b[0;32m~/.local/lib/python3.10/site-packages/pandas/core/ops/array_ops.py:165\u001b[0m, in \u001b[0;36m_na_arithmetic_op\u001b[0;34m(left, right, op, is_cmp)\u001b[0m\n\u001b[1;32m    164\u001b[0m \u001b[38;5;28;01mtry\u001b[39;00m:\n\u001b[0;32m--> 165\u001b[0m     result \u001b[38;5;241m=\u001b[39m \u001b[43mfunc\u001b[49m\u001b[43m(\u001b[49m\u001b[43mleft\u001b[49m\u001b[43m,\u001b[49m\u001b[43m \u001b[49m\u001b[43mright\u001b[49m\u001b[43m)\u001b[49m\n\u001b[1;32m    166\u001b[0m \u001b[38;5;28;01mexcept\u001b[39;00m \u001b[38;5;167;01mTypeError\u001b[39;00m:\n",
      "File \u001b[0;32m~/.local/lib/python3.10/site-packages/pandas/core/computation/expressions.py:241\u001b[0m, in \u001b[0;36mevaluate\u001b[0;34m(op, a, b, use_numexpr)\u001b[0m\n\u001b[1;32m    239\u001b[0m     \u001b[38;5;28;01mif\u001b[39;00m use_numexpr:\n\u001b[1;32m    240\u001b[0m         \u001b[38;5;66;03m# error: \"None\" not callable\u001b[39;00m\n\u001b[0;32m--> 241\u001b[0m         \u001b[38;5;28;01mreturn\u001b[39;00m \u001b[43m_evaluate\u001b[49m\u001b[43m(\u001b[49m\u001b[43mop\u001b[49m\u001b[43m,\u001b[49m\u001b[43m \u001b[49m\u001b[43mop_str\u001b[49m\u001b[43m,\u001b[49m\u001b[43m \u001b[49m\u001b[43ma\u001b[49m\u001b[43m,\u001b[49m\u001b[43m \u001b[49m\u001b[43mb\u001b[49m\u001b[43m)\u001b[49m  \u001b[38;5;66;03m# type: ignore[misc]\u001b[39;00m\n\u001b[1;32m    242\u001b[0m \u001b[38;5;28;01mreturn\u001b[39;00m _evaluate_standard(op, op_str, a, b)\n",
      "File \u001b[0;32m~/.local/lib/python3.10/site-packages/pandas/core/computation/expressions.py:70\u001b[0m, in \u001b[0;36m_evaluate_standard\u001b[0;34m(op, op_str, a, b)\u001b[0m\n\u001b[1;32m     69\u001b[0m     _store_test_result(\u001b[38;5;28;01mFalse\u001b[39;00m)\n\u001b[0;32m---> 70\u001b[0m \u001b[38;5;28;01mreturn\u001b[39;00m \u001b[43mop\u001b[49m\u001b[43m(\u001b[49m\u001b[43ma\u001b[49m\u001b[43m,\u001b[49m\u001b[43m \u001b[49m\u001b[43mb\u001b[49m\u001b[43m)\u001b[49m\n",
      "\u001b[0;31mTypeError\u001b[0m: unsupported operand type(s) for /: 'str' and 'NoneType'",
      "\nDuring handling of the above exception, another exception occurred:\n",
      "\u001b[0;31mTypeError\u001b[0m                                 Traceback (most recent call last)",
      "Cell \u001b[0;32mIn[52], line 1\u001b[0m\n\u001b[0;32m----> 1\u001b[0m \u001b[43mHSI_df\u001b[49m\u001b[38;5;241;43m.\u001b[39;49m\u001b[43mdropna\u001b[49m\u001b[43m(\u001b[49m\u001b[43m)\u001b[49m\u001b[38;5;241;43m.\u001b[39;49m\u001b[43mhead\u001b[49m\u001b[43m(\u001b[49m\u001b[43m)\u001b[49m\u001b[38;5;241;43m.\u001b[39;49m\u001b[43mpct_change\u001b[49m\u001b[43m(\u001b[49m\u001b[43m)\u001b[49m\n",
      "File \u001b[0;32m~/.local/lib/python3.10/site-packages/pandas/core/generic.py:11081\u001b[0m, in \u001b[0;36mNDFrame.pct_change\u001b[0;34m(self, periods, fill_method, limit, freq, **kwargs)\u001b[0m\n\u001b[1;32m  11079\u001b[0m shifted \u001b[38;5;241m=\u001b[39m data\u001b[38;5;241m.\u001b[39mshift(periods\u001b[38;5;241m=\u001b[39mperiods, freq\u001b[38;5;241m=\u001b[39mfreq, axis\u001b[38;5;241m=\u001b[39maxis, \u001b[38;5;241m*\u001b[39m\u001b[38;5;241m*\u001b[39mkwargs)\n\u001b[1;32m  11080\u001b[0m \u001b[38;5;66;03m# Unsupported left operand type for / (\"NDFrameT\")\u001b[39;00m\n\u001b[0;32m> 11081\u001b[0m rs \u001b[38;5;241m=\u001b[39m \u001b[43mdata\u001b[49m\u001b[43m \u001b[49m\u001b[38;5;241;43m/\u001b[39;49m\u001b[43m \u001b[49m\u001b[43mshifted\u001b[49m \u001b[38;5;241m-\u001b[39m \u001b[38;5;241m1\u001b[39m  \u001b[38;5;66;03m# type: ignore[operator]\u001b[39;00m\n\u001b[1;32m  11082\u001b[0m \u001b[38;5;28;01mif\u001b[39;00m freq \u001b[38;5;129;01mis\u001b[39;00m \u001b[38;5;129;01mnot\u001b[39;00m \u001b[38;5;28;01mNone\u001b[39;00m:\n\u001b[1;32m  11083\u001b[0m     \u001b[38;5;66;03m# Shift method is implemented differently when freq is not None\u001b[39;00m\n\u001b[1;32m  11084\u001b[0m     \u001b[38;5;66;03m# We want to restore the original index\u001b[39;00m\n\u001b[1;32m  11085\u001b[0m     rs \u001b[38;5;241m=\u001b[39m rs\u001b[38;5;241m.\u001b[39mloc[\u001b[38;5;241m~\u001b[39mrs\u001b[38;5;241m.\u001b[39mindex\u001b[38;5;241m.\u001b[39mduplicated()]\n",
      "File \u001b[0;32m~/.local/lib/python3.10/site-packages/pandas/core/ops/common.py:72\u001b[0m, in \u001b[0;36m_unpack_zerodim_and_defer.<locals>.new_method\u001b[0;34m(self, other)\u001b[0m\n\u001b[1;32m     68\u001b[0m             \u001b[38;5;28;01mreturn\u001b[39;00m \u001b[38;5;28mNotImplemented\u001b[39m\n\u001b[1;32m     70\u001b[0m other \u001b[38;5;241m=\u001b[39m item_from_zerodim(other)\n\u001b[0;32m---> 72\u001b[0m \u001b[38;5;28;01mreturn\u001b[39;00m \u001b[43mmethod\u001b[49m\u001b[43m(\u001b[49m\u001b[38;5;28;43mself\u001b[39;49m\u001b[43m,\u001b[49m\u001b[43m \u001b[49m\u001b[43mother\u001b[49m\u001b[43m)\u001b[49m\n",
      "File \u001b[0;32m~/.local/lib/python3.10/site-packages/pandas/core/arraylike.py:126\u001b[0m, in \u001b[0;36mOpsMixin.__truediv__\u001b[0;34m(self, other)\u001b[0m\n\u001b[1;32m    124\u001b[0m \u001b[38;5;129m@unpack_zerodim_and_defer\u001b[39m(\u001b[38;5;124m\"\u001b[39m\u001b[38;5;124m__truediv__\u001b[39m\u001b[38;5;124m\"\u001b[39m)\n\u001b[1;32m    125\u001b[0m \u001b[38;5;28;01mdef\u001b[39;00m \u001b[38;5;21m__truediv__\u001b[39m(\u001b[38;5;28mself\u001b[39m, other):\n\u001b[0;32m--> 126\u001b[0m     \u001b[38;5;28;01mreturn\u001b[39;00m \u001b[38;5;28;43mself\u001b[39;49m\u001b[38;5;241;43m.\u001b[39;49m\u001b[43m_arith_method\u001b[49m\u001b[43m(\u001b[49m\u001b[43mother\u001b[49m\u001b[43m,\u001b[49m\u001b[43m \u001b[49m\u001b[43moperator\u001b[49m\u001b[38;5;241;43m.\u001b[39;49m\u001b[43mtruediv\u001b[49m\u001b[43m)\u001b[49m\n",
      "File \u001b[0;32m~/.local/lib/python3.10/site-packages/pandas/core/frame.py:7594\u001b[0m, in \u001b[0;36mDataFrame._arith_method\u001b[0;34m(self, other, op)\u001b[0m\n\u001b[1;32m   7590\u001b[0m other \u001b[38;5;241m=\u001b[39m ops\u001b[38;5;241m.\u001b[39mmaybe_prepare_scalar_for_op(other, (\u001b[38;5;28mself\u001b[39m\u001b[38;5;241m.\u001b[39mshape[axis],))\n\u001b[1;32m   7592\u001b[0m \u001b[38;5;28mself\u001b[39m, other \u001b[38;5;241m=\u001b[39m ops\u001b[38;5;241m.\u001b[39malign_method_FRAME(\u001b[38;5;28mself\u001b[39m, other, axis, flex\u001b[38;5;241m=\u001b[39m\u001b[38;5;28;01mTrue\u001b[39;00m, level\u001b[38;5;241m=\u001b[39m\u001b[38;5;28;01mNone\u001b[39;00m)\n\u001b[0;32m-> 7594\u001b[0m new_data \u001b[38;5;241m=\u001b[39m \u001b[38;5;28;43mself\u001b[39;49m\u001b[38;5;241;43m.\u001b[39;49m\u001b[43m_dispatch_frame_op\u001b[49m\u001b[43m(\u001b[49m\u001b[43mother\u001b[49m\u001b[43m,\u001b[49m\u001b[43m \u001b[49m\u001b[43mop\u001b[49m\u001b[43m,\u001b[49m\u001b[43m \u001b[49m\u001b[43maxis\u001b[49m\u001b[38;5;241;43m=\u001b[39;49m\u001b[43maxis\u001b[49m\u001b[43m)\u001b[49m\n\u001b[1;32m   7595\u001b[0m \u001b[38;5;28;01mreturn\u001b[39;00m \u001b[38;5;28mself\u001b[39m\u001b[38;5;241m.\u001b[39m_construct_result(new_data)\n",
      "File \u001b[0;32m~/.local/lib/python3.10/site-packages/pandas/core/frame.py:7633\u001b[0m, in \u001b[0;36mDataFrame._dispatch_frame_op\u001b[0;34m(self, right, func, axis)\u001b[0m\n\u001b[1;32m   7627\u001b[0m     \u001b[38;5;66;03m# TODO: The previous assertion `assert right._indexed_same(self)`\u001b[39;00m\n\u001b[1;32m   7628\u001b[0m     \u001b[38;5;66;03m#  fails in cases with empty columns reached via\u001b[39;00m\n\u001b[1;32m   7629\u001b[0m     \u001b[38;5;66;03m#  _frame_arith_method_with_reindex\u001b[39;00m\n\u001b[1;32m   7630\u001b[0m \n\u001b[1;32m   7631\u001b[0m     \u001b[38;5;66;03m# TODO operate_blockwise expects a manager of the same type\u001b[39;00m\n\u001b[1;32m   7632\u001b[0m     \u001b[38;5;28;01mwith\u001b[39;00m np\u001b[38;5;241m.\u001b[39merrstate(\u001b[38;5;28mall\u001b[39m\u001b[38;5;241m=\u001b[39m\u001b[38;5;124m\"\u001b[39m\u001b[38;5;124mignore\u001b[39m\u001b[38;5;124m\"\u001b[39m):\n\u001b[0;32m-> 7633\u001b[0m         bm \u001b[38;5;241m=\u001b[39m \u001b[38;5;28;43mself\u001b[39;49m\u001b[38;5;241;43m.\u001b[39;49m\u001b[43m_mgr\u001b[49m\u001b[38;5;241;43m.\u001b[39;49m\u001b[43moperate_blockwise\u001b[49m\u001b[43m(\u001b[49m\n\u001b[1;32m   7634\u001b[0m \u001b[43m            \u001b[49m\u001b[38;5;66;43;03m# error: Argument 1 to \"operate_blockwise\" of \"ArrayManager\" has\u001b[39;49;00m\n\u001b[1;32m   7635\u001b[0m \u001b[43m            \u001b[49m\u001b[38;5;66;43;03m# incompatible type \"Union[ArrayManager, BlockManager]\"; expected\u001b[39;49;00m\n\u001b[1;32m   7636\u001b[0m \u001b[43m            \u001b[49m\u001b[38;5;66;43;03m# \"ArrayManager\"\u001b[39;49;00m\n\u001b[1;32m   7637\u001b[0m \u001b[43m            \u001b[49m\u001b[38;5;66;43;03m# error: Argument 1 to \"operate_blockwise\" of \"BlockManager\" has\u001b[39;49;00m\n\u001b[1;32m   7638\u001b[0m \u001b[43m            \u001b[49m\u001b[38;5;66;43;03m# incompatible type \"Union[ArrayManager, BlockManager]\"; expected\u001b[39;49;00m\n\u001b[1;32m   7639\u001b[0m \u001b[43m            \u001b[49m\u001b[38;5;66;43;03m# \"BlockManager\"\u001b[39;49;00m\n\u001b[1;32m   7640\u001b[0m \u001b[43m            \u001b[49m\u001b[43mright\u001b[49m\u001b[38;5;241;43m.\u001b[39;49m\u001b[43m_mgr\u001b[49m\u001b[43m,\u001b[49m\u001b[43m  \u001b[49m\u001b[38;5;66;43;03m# type: ignore[arg-type]\u001b[39;49;00m\n\u001b[1;32m   7641\u001b[0m \u001b[43m            \u001b[49m\u001b[43marray_op\u001b[49m\u001b[43m,\u001b[49m\n\u001b[1;32m   7642\u001b[0m \u001b[43m        \u001b[49m\u001b[43m)\u001b[49m\n\u001b[1;32m   7643\u001b[0m     \u001b[38;5;28;01mreturn\u001b[39;00m \u001b[38;5;28mself\u001b[39m\u001b[38;5;241m.\u001b[39m_constructor(bm)\n\u001b[1;32m   7645\u001b[0m \u001b[38;5;28;01melif\u001b[39;00m \u001b[38;5;28misinstance\u001b[39m(right, Series) \u001b[38;5;129;01mand\u001b[39;00m axis \u001b[38;5;241m==\u001b[39m \u001b[38;5;241m1\u001b[39m:\n\u001b[1;32m   7646\u001b[0m     \u001b[38;5;66;03m# axis=1 means we want to operate row-by-row\u001b[39;00m\n",
      "File \u001b[0;32m~/.local/lib/python3.10/site-packages/pandas/core/internals/managers.py:1589\u001b[0m, in \u001b[0;36mBlockManager.operate_blockwise\u001b[0;34m(self, other, array_op)\u001b[0m\n\u001b[1;32m   1585\u001b[0m \u001b[38;5;28;01mdef\u001b[39;00m \u001b[38;5;21moperate_blockwise\u001b[39m(\u001b[38;5;28mself\u001b[39m, other: BlockManager, array_op) \u001b[38;5;241m-\u001b[39m\u001b[38;5;241m>\u001b[39m BlockManager:\n\u001b[1;32m   1586\u001b[0m \u001b[38;5;250m    \u001b[39m\u001b[38;5;124;03m\"\"\"\u001b[39;00m\n\u001b[1;32m   1587\u001b[0m \u001b[38;5;124;03m    Apply array_op blockwise with another (aligned) BlockManager.\u001b[39;00m\n\u001b[1;32m   1588\u001b[0m \u001b[38;5;124;03m    \"\"\"\u001b[39;00m\n\u001b[0;32m-> 1589\u001b[0m     \u001b[38;5;28;01mreturn\u001b[39;00m \u001b[43moperate_blockwise\u001b[49m\u001b[43m(\u001b[49m\u001b[38;5;28;43mself\u001b[39;49m\u001b[43m,\u001b[49m\u001b[43m \u001b[49m\u001b[43mother\u001b[49m\u001b[43m,\u001b[49m\u001b[43m \u001b[49m\u001b[43marray_op\u001b[49m\u001b[43m)\u001b[49m\n",
      "File \u001b[0;32m~/.local/lib/python3.10/site-packages/pandas/core/internals/ops.py:63\u001b[0m, in \u001b[0;36moperate_blockwise\u001b[0;34m(left, right, array_op)\u001b[0m\n\u001b[1;32m     61\u001b[0m res_blks: \u001b[38;5;28mlist\u001b[39m[Block] \u001b[38;5;241m=\u001b[39m []\n\u001b[1;32m     62\u001b[0m \u001b[38;5;28;01mfor\u001b[39;00m lvals, rvals, locs, left_ea, right_ea, rblk \u001b[38;5;129;01min\u001b[39;00m _iter_block_pairs(left, right):\n\u001b[0;32m---> 63\u001b[0m     res_values \u001b[38;5;241m=\u001b[39m \u001b[43marray_op\u001b[49m\u001b[43m(\u001b[49m\u001b[43mlvals\u001b[49m\u001b[43m,\u001b[49m\u001b[43m \u001b[49m\u001b[43mrvals\u001b[49m\u001b[43m)\u001b[49m\n\u001b[1;32m     64\u001b[0m     \u001b[38;5;28;01mif\u001b[39;00m left_ea \u001b[38;5;129;01mand\u001b[39;00m \u001b[38;5;129;01mnot\u001b[39;00m right_ea \u001b[38;5;129;01mand\u001b[39;00m \u001b[38;5;28mhasattr\u001b[39m(res_values, \u001b[38;5;124m\"\u001b[39m\u001b[38;5;124mreshape\u001b[39m\u001b[38;5;124m\"\u001b[39m):\n\u001b[1;32m     65\u001b[0m         res_values \u001b[38;5;241m=\u001b[39m res_values\u001b[38;5;241m.\u001b[39mreshape(\u001b[38;5;241m1\u001b[39m, \u001b[38;5;241m-\u001b[39m\u001b[38;5;241m1\u001b[39m)\n",
      "File \u001b[0;32m~/.local/lib/python3.10/site-packages/pandas/core/ops/array_ops.py:226\u001b[0m, in \u001b[0;36marithmetic_op\u001b[0;34m(left, right, op)\u001b[0m\n\u001b[1;32m    222\u001b[0m     _bool_arith_check(op, left, right)\n\u001b[1;32m    224\u001b[0m     \u001b[38;5;66;03m# error: Argument 1 to \"_na_arithmetic_op\" has incompatible type\u001b[39;00m\n\u001b[1;32m    225\u001b[0m     \u001b[38;5;66;03m# \"Union[ExtensionArray, ndarray[Any, Any]]\"; expected \"ndarray[Any, Any]\"\u001b[39;00m\n\u001b[0;32m--> 226\u001b[0m     res_values \u001b[38;5;241m=\u001b[39m \u001b[43m_na_arithmetic_op\u001b[49m\u001b[43m(\u001b[49m\u001b[43mleft\u001b[49m\u001b[43m,\u001b[49m\u001b[43m \u001b[49m\u001b[43mright\u001b[49m\u001b[43m,\u001b[49m\u001b[43m \u001b[49m\u001b[43mop\u001b[49m\u001b[43m)\u001b[49m  \u001b[38;5;66;03m# type: ignore[arg-type]\u001b[39;00m\n\u001b[1;32m    228\u001b[0m \u001b[38;5;28;01mreturn\u001b[39;00m res_values\n",
      "File \u001b[0;32m~/.local/lib/python3.10/site-packages/pandas/core/ops/array_ops.py:172\u001b[0m, in \u001b[0;36m_na_arithmetic_op\u001b[0;34m(left, right, op, is_cmp)\u001b[0m\n\u001b[1;32m    166\u001b[0m \u001b[38;5;28;01mexcept\u001b[39;00m \u001b[38;5;167;01mTypeError\u001b[39;00m:\n\u001b[1;32m    167\u001b[0m     \u001b[38;5;28;01mif\u001b[39;00m \u001b[38;5;129;01mnot\u001b[39;00m is_cmp \u001b[38;5;129;01mand\u001b[39;00m (is_object_dtype(left\u001b[38;5;241m.\u001b[39mdtype) \u001b[38;5;129;01mor\u001b[39;00m is_object_dtype(right)):\n\u001b[1;32m    168\u001b[0m         \u001b[38;5;66;03m# For object dtype, fallback to a masked operation (only operating\u001b[39;00m\n\u001b[1;32m    169\u001b[0m         \u001b[38;5;66;03m#  on the non-missing values)\u001b[39;00m\n\u001b[1;32m    170\u001b[0m         \u001b[38;5;66;03m# Don't do this for comparisons, as that will handle complex numbers\u001b[39;00m\n\u001b[1;32m    171\u001b[0m         \u001b[38;5;66;03m#  incorrectly, see GH#32047\u001b[39;00m\n\u001b[0;32m--> 172\u001b[0m         result \u001b[38;5;241m=\u001b[39m \u001b[43m_masked_arith_op\u001b[49m\u001b[43m(\u001b[49m\u001b[43mleft\u001b[49m\u001b[43m,\u001b[49m\u001b[43m \u001b[49m\u001b[43mright\u001b[49m\u001b[43m,\u001b[49m\u001b[43m \u001b[49m\u001b[43mop\u001b[49m\u001b[43m)\u001b[49m\n\u001b[1;32m    173\u001b[0m     \u001b[38;5;28;01melse\u001b[39;00m:\n\u001b[1;32m    174\u001b[0m         \u001b[38;5;28;01mraise\u001b[39;00m\n",
      "File \u001b[0;32m~/.local/lib/python3.10/site-packages/pandas/core/ops/array_ops.py:110\u001b[0m, in \u001b[0;36m_masked_arith_op\u001b[0;34m(x, y, op)\u001b[0m\n\u001b[1;32m    108\u001b[0m     \u001b[38;5;66;03m# See GH#5284, GH#5035, GH#19448 for historical reference\u001b[39;00m\n\u001b[1;32m    109\u001b[0m     \u001b[38;5;28;01mif\u001b[39;00m mask\u001b[38;5;241m.\u001b[39many():\n\u001b[0;32m--> 110\u001b[0m         result[mask] \u001b[38;5;241m=\u001b[39m \u001b[43mop\u001b[49m\u001b[43m(\u001b[49m\u001b[43mxrav\u001b[49m\u001b[43m[\u001b[49m\u001b[43mmask\u001b[49m\u001b[43m]\u001b[49m\u001b[43m,\u001b[49m\u001b[43m \u001b[49m\u001b[43myrav\u001b[49m\u001b[43m[\u001b[49m\u001b[43mmask\u001b[49m\u001b[43m]\u001b[49m\u001b[43m)\u001b[49m\n\u001b[1;32m    112\u001b[0m \u001b[38;5;28;01melse\u001b[39;00m:\n\u001b[1;32m    113\u001b[0m     \u001b[38;5;28;01mif\u001b[39;00m \u001b[38;5;129;01mnot\u001b[39;00m is_scalar(y):\n",
      "\u001b[0;31mTypeError\u001b[0m: unsupported operand type(s) for /: 'str' and 'str'"
     ]
    }
   ],
   "source": [
    "HSI_df.dropna().head().pct_change()"
   ]
  },
  {
   "cell_type": "code",
   "execution_count": 35,
   "id": "aa062203-6d9c-4b3d-a3c9-30626889060f",
   "metadata": {
    "tags": []
   },
   "outputs": [
    {
     "ename": "TypeError",
     "evalue": "loop of ufunc does not support argument 0 of type str which has no callable log method",
     "output_type": "error",
     "traceback": [
      "\u001b[0;31m---------------------------------------------------------------------------\u001b[0m",
      "\u001b[0;31mAttributeError\u001b[0m                            Traceback (most recent call last)",
      "\u001b[0;31mAttributeError\u001b[0m: 'str' object has no attribute 'log'",
      "\nThe above exception was the direct cause of the following exception:\n",
      "\u001b[0;31mTypeError\u001b[0m                                 Traceback (most recent call last)",
      "Cell \u001b[0;32mIn[35], line 1\u001b[0m\n\u001b[0;32m----> 1\u001b[0m HSI_returns_df \u001b[38;5;241m=\u001b[39m  \u001b[43mnp\u001b[49m\u001b[38;5;241;43m.\u001b[39;49m\u001b[43mlog\u001b[49m\u001b[43m(\u001b[49m\u001b[43mHSI_df\u001b[49m\u001b[38;5;241;43m.\u001b[39;49m\u001b[43mdropna\u001b[49m\u001b[43m(\u001b[49m\u001b[43m)\u001b[49m\u001b[43m)\u001b[49m \u001b[38;5;241m-\u001b[39m np\u001b[38;5;241m.\u001b[39mlog(HSI_df\u001b[38;5;241m.\u001b[39mdropna()\u001b[38;5;241m.\u001b[39mshift(\u001b[38;5;241m-\u001b[39m\u001b[38;5;241m1\u001b[39m))\n",
      "File \u001b[0;32m~/.local/lib/python3.10/site-packages/pandas/core/generic.py:2113\u001b[0m, in \u001b[0;36mNDFrame.__array_ufunc__\u001b[0;34m(self, ufunc, method, *inputs, **kwargs)\u001b[0m\n\u001b[1;32m   2109\u001b[0m \u001b[38;5;129m@final\u001b[39m\n\u001b[1;32m   2110\u001b[0m \u001b[38;5;28;01mdef\u001b[39;00m \u001b[38;5;21m__array_ufunc__\u001b[39m(\n\u001b[1;32m   2111\u001b[0m     \u001b[38;5;28mself\u001b[39m, ufunc: np\u001b[38;5;241m.\u001b[39mufunc, method: \u001b[38;5;28mstr\u001b[39m, \u001b[38;5;241m*\u001b[39minputs: Any, \u001b[38;5;241m*\u001b[39m\u001b[38;5;241m*\u001b[39mkwargs: Any\n\u001b[1;32m   2112\u001b[0m ):\n\u001b[0;32m-> 2113\u001b[0m     \u001b[38;5;28;01mreturn\u001b[39;00m \u001b[43marraylike\u001b[49m\u001b[38;5;241;43m.\u001b[39;49m\u001b[43marray_ufunc\u001b[49m\u001b[43m(\u001b[49m\u001b[38;5;28;43mself\u001b[39;49m\u001b[43m,\u001b[49m\u001b[43m \u001b[49m\u001b[43mufunc\u001b[49m\u001b[43m,\u001b[49m\u001b[43m \u001b[49m\u001b[43mmethod\u001b[49m\u001b[43m,\u001b[49m\u001b[43m \u001b[49m\u001b[38;5;241;43m*\u001b[39;49m\u001b[43minputs\u001b[49m\u001b[43m,\u001b[49m\u001b[43m \u001b[49m\u001b[38;5;241;43m*\u001b[39;49m\u001b[38;5;241;43m*\u001b[39;49m\u001b[43mkwargs\u001b[49m\u001b[43m)\u001b[49m\n",
      "File \u001b[0;32m~/.local/lib/python3.10/site-packages/pandas/core/arraylike.py:410\u001b[0m, in \u001b[0;36marray_ufunc\u001b[0;34m(self, ufunc, method, *inputs, **kwargs)\u001b[0m\n\u001b[1;32m    405\u001b[0m \u001b[38;5;28;01mif\u001b[39;00m method \u001b[38;5;241m==\u001b[39m \u001b[38;5;124m\"\u001b[39m\u001b[38;5;124m__call__\u001b[39m\u001b[38;5;124m\"\u001b[39m \u001b[38;5;129;01mand\u001b[39;00m \u001b[38;5;129;01mnot\u001b[39;00m kwargs:\n\u001b[1;32m    406\u001b[0m     \u001b[38;5;66;03m# for np.<ufunc>(..) calls\u001b[39;00m\n\u001b[1;32m    407\u001b[0m     \u001b[38;5;66;03m# kwargs cannot necessarily be handled block-by-block, so only\u001b[39;00m\n\u001b[1;32m    408\u001b[0m     \u001b[38;5;66;03m# take this path if there are no kwargs\u001b[39;00m\n\u001b[1;32m    409\u001b[0m     mgr \u001b[38;5;241m=\u001b[39m inputs[\u001b[38;5;241m0\u001b[39m]\u001b[38;5;241m.\u001b[39m_mgr\n\u001b[0;32m--> 410\u001b[0m     result \u001b[38;5;241m=\u001b[39m \u001b[43mmgr\u001b[49m\u001b[38;5;241;43m.\u001b[39;49m\u001b[43mapply\u001b[49m\u001b[43m(\u001b[49m\u001b[38;5;28;43mgetattr\u001b[39;49m\u001b[43m(\u001b[49m\u001b[43mufunc\u001b[49m\u001b[43m,\u001b[49m\u001b[43m \u001b[49m\u001b[43mmethod\u001b[49m\u001b[43m)\u001b[49m\u001b[43m)\u001b[49m\n\u001b[1;32m    411\u001b[0m \u001b[38;5;28;01melse\u001b[39;00m:\n\u001b[1;32m    412\u001b[0m     \u001b[38;5;66;03m# otherwise specific ufunc methods (eg np.<ufunc>.accumulate(..))\u001b[39;00m\n\u001b[1;32m    413\u001b[0m     \u001b[38;5;66;03m# Those can have an axis keyword and thus can't be called block-by-block\u001b[39;00m\n\u001b[1;32m    414\u001b[0m     result \u001b[38;5;241m=\u001b[39m default_array_ufunc(inputs[\u001b[38;5;241m0\u001b[39m], ufunc, method, \u001b[38;5;241m*\u001b[39minputs, \u001b[38;5;241m*\u001b[39m\u001b[38;5;241m*\u001b[39mkwargs)\n",
      "File \u001b[0;32m~/.local/lib/python3.10/site-packages/pandas/core/internals/managers.py:350\u001b[0m, in \u001b[0;36mBaseBlockManager.apply\u001b[0;34m(self, f, align_keys, ignore_failures, **kwargs)\u001b[0m\n\u001b[1;32m    348\u001b[0m \u001b[38;5;28;01mtry\u001b[39;00m:\n\u001b[1;32m    349\u001b[0m     \u001b[38;5;28;01mif\u001b[39;00m callable(f):\n\u001b[0;32m--> 350\u001b[0m         applied \u001b[38;5;241m=\u001b[39m \u001b[43mb\u001b[49m\u001b[38;5;241;43m.\u001b[39;49m\u001b[43mapply\u001b[49m\u001b[43m(\u001b[49m\u001b[43mf\u001b[49m\u001b[43m,\u001b[49m\u001b[43m \u001b[49m\u001b[38;5;241;43m*\u001b[39;49m\u001b[38;5;241;43m*\u001b[39;49m\u001b[43mkwargs\u001b[49m\u001b[43m)\u001b[49m\n\u001b[1;32m    351\u001b[0m     \u001b[38;5;28;01melse\u001b[39;00m:\n\u001b[1;32m    352\u001b[0m         applied \u001b[38;5;241m=\u001b[39m \u001b[38;5;28mgetattr\u001b[39m(b, f)(\u001b[38;5;241m*\u001b[39m\u001b[38;5;241m*\u001b[39mkwargs)\n",
      "File \u001b[0;32m~/.local/lib/python3.10/site-packages/pandas/core/internals/blocks.py:351\u001b[0m, in \u001b[0;36mBlock.apply\u001b[0;34m(self, func, **kwargs)\u001b[0m\n\u001b[1;32m    345\u001b[0m \u001b[38;5;129m@final\u001b[39m\n\u001b[1;32m    346\u001b[0m \u001b[38;5;28;01mdef\u001b[39;00m \u001b[38;5;21mapply\u001b[39m(\u001b[38;5;28mself\u001b[39m, func, \u001b[38;5;241m*\u001b[39m\u001b[38;5;241m*\u001b[39mkwargs) \u001b[38;5;241m-\u001b[39m\u001b[38;5;241m>\u001b[39m \u001b[38;5;28mlist\u001b[39m[Block]:\n\u001b[1;32m    347\u001b[0m \u001b[38;5;250m    \u001b[39m\u001b[38;5;124;03m\"\"\"\u001b[39;00m\n\u001b[1;32m    348\u001b[0m \u001b[38;5;124;03m    apply the function to my values; return a block if we are not\u001b[39;00m\n\u001b[1;32m    349\u001b[0m \u001b[38;5;124;03m    one\u001b[39;00m\n\u001b[1;32m    350\u001b[0m \u001b[38;5;124;03m    \"\"\"\u001b[39;00m\n\u001b[0;32m--> 351\u001b[0m     result \u001b[38;5;241m=\u001b[39m \u001b[43mfunc\u001b[49m\u001b[43m(\u001b[49m\u001b[38;5;28;43mself\u001b[39;49m\u001b[38;5;241;43m.\u001b[39;49m\u001b[43mvalues\u001b[49m\u001b[43m,\u001b[49m\u001b[43m \u001b[49m\u001b[38;5;241;43m*\u001b[39;49m\u001b[38;5;241;43m*\u001b[39;49m\u001b[43mkwargs\u001b[49m\u001b[43m)\u001b[49m\n\u001b[1;32m    353\u001b[0m     \u001b[38;5;28;01mreturn\u001b[39;00m \u001b[38;5;28mself\u001b[39m\u001b[38;5;241m.\u001b[39m_split_op_result(result)\n",
      "\u001b[0;31mTypeError\u001b[0m: loop of ufunc does not support argument 0 of type str which has no callable log method"
     ]
    }
   ],
   "source": [
    "HSI_returns_df =  np.log(HSI_df.dropna()) - np.log(HSI_df.dropna().shift(-1))"
   ]
  },
  {
   "cell_type": "code",
   "execution_count": 25,
   "id": "8d8bbe92-45ee-41de-9039-ac75ae9c5148",
   "metadata": {
    "tags": []
   },
   "outputs": [
    {
     "data": {
      "text/plain": [
       "dict_keys(['HSCC', 'HSCE', 'HSCIC', 'HSCICD', 'HSCICS', 'HSCIE', 'HSCIF', 'HSCIH', 'HSCIIG', 'HSCIIT', 'HSCIM', 'HSCIPC', 'HSCIT', 'HSCIU'])"
      ]
     },
     "execution_count": 25,
     "metadata": {},
     "output_type": "execute_result"
    }
   ],
   "source": [
    "HSI_dict.keys()"
   ]
  },
  {
   "cell_type": "code",
   "execution_count": 21,
   "id": "8c5d4de5-33f3-42de-afc3-b933de571d84",
   "metadata": {
    "tags": []
   },
   "outputs": [
    {
     "data": {
      "text/html": [
       "<div>\n",
       "<style scoped>\n",
       "    .dataframe tbody tr th:only-of-type {\n",
       "        vertical-align: middle;\n",
       "    }\n",
       "\n",
       "    .dataframe tbody tr th {\n",
       "        vertical-align: top;\n",
       "    }\n",
       "\n",
       "    .dataframe thead th {\n",
       "        text-align: right;\n",
       "    }\n",
       "</style>\n",
       "<table border=\"1\" class=\"dataframe\">\n",
       "  <thead>\n",
       "    <tr style=\"text-align: right;\">\n",
       "      <th></th>\n",
       "      <th>Price</th>\n",
       "      <th>Price</th>\n",
       "    </tr>\n",
       "    <tr>\n",
       "      <th>Date</th>\n",
       "      <th></th>\n",
       "      <th></th>\n",
       "    </tr>\n",
       "  </thead>\n",
       "  <tbody>\n",
       "    <tr>\n",
       "      <th>2000-12-05</th>\n",
       "      <td>14573.21</td>\n",
       "      <td>1669.56</td>\n",
       "    </tr>\n",
       "    <tr>\n",
       "      <th>2000-12-06</th>\n",
       "      <td>15098.95</td>\n",
       "      <td>1735.00</td>\n",
       "    </tr>\n",
       "    <tr>\n",
       "      <th>2000-12-07</th>\n",
       "      <td>15011.52</td>\n",
       "      <td>1723.16</td>\n",
       "    </tr>\n",
       "    <tr>\n",
       "      <th>2000-12-08</th>\n",
       "      <td>15189.33</td>\n",
       "      <td>1713.78</td>\n",
       "    </tr>\n",
       "    <tr>\n",
       "      <th>2000-12-11</th>\n",
       "      <td>15408.54</td>\n",
       "      <td>1702.95</td>\n",
       "    </tr>\n",
       "    <tr>\n",
       "      <th>...</th>\n",
       "      <td>...</td>\n",
       "      <td>...</td>\n",
       "    </tr>\n",
       "    <tr>\n",
       "      <th>2023-02-06</th>\n",
       "      <td>21222.16</td>\n",
       "      <td>3890.65</td>\n",
       "    </tr>\n",
       "    <tr>\n",
       "      <th>2023-02-07</th>\n",
       "      <td>21298.70</td>\n",
       "      <td>3906.08</td>\n",
       "    </tr>\n",
       "    <tr>\n",
       "      <th>2023-02-08</th>\n",
       "      <td>21283.52</td>\n",
       "      <td>3947.90</td>\n",
       "    </tr>\n",
       "    <tr>\n",
       "      <th>2023-02-09</th>\n",
       "      <td>21624.36</td>\n",
       "      <td>NaN</td>\n",
       "    </tr>\n",
       "    <tr>\n",
       "      <th>2023-02-10</th>\n",
       "      <td>21234.00</td>\n",
       "      <td>NaN</td>\n",
       "    </tr>\n",
       "  </tbody>\n",
       "</table>\n",
       "<p>5497 rows × 2 columns</p>\n",
       "</div>"
      ],
      "text/plain": [
       "               Price    Price\n",
       "Date                         \n",
       "2000-12-05  14573.21  1669.56\n",
       "2000-12-06  15098.95  1735.00\n",
       "2000-12-07  15011.52  1723.16\n",
       "2000-12-08  15189.33  1713.78\n",
       "2000-12-11  15408.54  1702.95\n",
       "...              ...      ...\n",
       "2023-02-06  21222.16  3890.65\n",
       "2023-02-07  21298.70  3906.08\n",
       "2023-02-08  21283.52  3947.90\n",
       "2023-02-09  21624.36      NaN\n",
       "2023-02-10  21234.00      NaN\n",
       "\n",
       "[5497 rows x 2 columns]"
      ]
     },
     "execution_count": 21,
     "metadata": {},
     "output_type": "execute_result"
    }
   ],
   "source": [
    "test_df"
   ]
  },
  {
   "cell_type": "code",
   "execution_count": 10,
   "id": "519d2744-99f6-4d9e-bcbf-c79012afb012",
   "metadata": {
    "tags": []
   },
   "outputs": [
    {
     "data": {
      "text/plain": [
       "Date\n",
       "2023-02-10    21234.00\n",
       "2023-02-09    21624.36\n",
       "2023-02-08    21283.52\n",
       "2023-02-07    21298.70\n",
       "2023-02-06    21222.16\n",
       "                ...   \n",
       "2000-12-11    15408.54\n",
       "2000-12-08    15189.33\n",
       "2000-12-07    15011.52\n",
       "2000-12-06    15098.95\n",
       "2000-12-05    14573.21\n",
       "Name: Price, Length: 5496, dtype: float64"
      ]
     },
     "execution_count": 10,
     "metadata": {},
     "output_type": "execute_result"
    }
   ],
   "source": [
    "HK50['Price']/HK50['Price'].shift(-1)\n"
   ]
  },
  {
   "cell_type": "code",
   "execution_count": null,
   "id": "de5f1e55-c907-4f93-b13c-fb8fa9c2b44e",
   "metadata": {},
   "outputs": [],
   "source": [
    "log_returns_ETFs = np.log(data) - np.log(data.shift(1))"
   ]
  },
  {
   "cell_type": "code",
   "execution_count": 12,
   "id": "e995a4d2-412e-4819-8f76-9e65473aa224",
   "metadata": {
    "tags": []
   },
   "outputs": [],
   "source": [
    "def log_returns(dataframe):\n",
    "    '''\n",
    "    input - dataframe obtained from investing.com containing a 'Price' column\n",
    "    output - log returns as dataframe using same datetime index\n",
    "    '''\n",
    "    \n",
    "    return np.log(dataframe['Price']/dataframe['Price'].shift(-1))"
   ]
  },
  {
   "cell_type": "markdown",
   "id": "cc55661c-7a8d-4808-8a57-ff46949ec0e1",
   "metadata": {},
   "source": [
    "If NaNs are present in the data, we should put a number to fix that. To prevent look-ahead bias, we used the fill-forward method and assume that it doesn't introduce extra issues associated with data granularity."
   ]
  },
  {
   "cell_type": "code",
   "execution_count": 15,
   "id": "d09fd5a7-6f27-4b50-899f-8955753b8db6",
   "metadata": {
    "tags": []
   },
   "outputs": [
    {
     "data": {
      "text/plain": [
       "Date\n",
       "2023-02-10   -0.018217\n",
       "2023-02-09    0.015887\n",
       "2023-02-08   -0.000713\n",
       "2023-02-07    0.003600\n",
       "2023-02-06   -0.020443\n",
       "                ...   \n",
       "2000-12-11    0.014329\n",
       "2000-12-08    0.011775\n",
       "2000-12-07   -0.005807\n",
       "2000-12-06    0.035440\n",
       "2000-12-05         NaN\n",
       "Name: Price, Length: 5496, dtype: float64"
      ]
     },
     "execution_count": 15,
     "metadata": {},
     "output_type": "execute_result"
    }
   ],
   "source": [
    "log_returns(HK50)"
   ]
  },
  {
   "cell_type": "code",
   "execution_count": null,
   "id": "33e725bc-1f10-4826-9ac3-fe18914c0236",
   "metadata": {},
   "outputs": [],
   "source": [
    "scaled_leading = StandardScaler().fit_transform(leading_monthly)\n",
    "\n",
    "for etf in _11_SPDR_ETFs:\n",
    "    # another modification to our original code with Sklearn, I've added a column of ones so a constant term\n",
    "    # is added to our regression model. This is done using the sm.add_constant keyword. \n",
    "    X = scaled_leading * np.array(LEI_weigths)\n",
    "    X = sm.add_constant(X)\n",
    "    y = np.array([log_returns_ETFs[etf].fillna(0).resample('1M').mean()]).reshape(-1,1)\n",
    "\n",
    "    # careful because sm.OLS reverses the order of endogenous/exogenous variables compared to sklearn.\n",
    "    regression_leading[etf] = sm.OLS(y, X).fit() "
   ]
  },
  {
   "cell_type": "code",
   "execution_count": null,
   "id": "68bde2bd-1d8d-46e9-8e93-2e0c4965e3da",
   "metadata": {},
   "outputs": [],
   "source": []
  },
  {
   "cell_type": "code",
   "execution_count": null,
   "id": "0e871733-c5fe-44ef-bcf5-453f94a068bb",
   "metadata": {},
   "outputs": [],
   "source": []
  },
  {
   "cell_type": "code",
   "execution_count": null,
   "id": "138d7864-e803-45fe-9847-40743e6e54b1",
   "metadata": {},
   "outputs": [],
   "source": []
  },
  {
   "cell_type": "markdown",
   "id": "8d958429-2764-448e-99ec-008fdf07647b",
   "metadata": {},
   "source": [
    "data processing: create a function that computes returns for relevant time series. How to deal with quarterly-indexed time series? Maybe to compare, I'll need code to reindex the daily time series."
   ]
  },
  {
   "cell_type": "code",
   "execution_count": null,
   "id": "1ebe627c-af3d-4211-9e04-25c3e85b8034",
   "metadata": {},
   "outputs": [],
   "source": []
  },
  {
   "cell_type": "code",
   "execution_count": null,
   "id": "e151a563-a47f-48bb-a96e-90daf5e98c85",
   "metadata": {},
   "outputs": [],
   "source": []
  },
  {
   "cell_type": "markdown",
   "id": "6a241795-958d-4392-add2-7515b61748a6",
   "metadata": {},
   "source": [
    "To obtain a better understand of the macroeconomic dependence of the HK market, we will perform linear regression on a variety of indicators. And for each HKEX sector. Regression window will be 1M, 3M and 6M to identify regime changes over time."
   ]
  },
  {
   "cell_type": "code",
   "execution_count": null,
   "id": "1670d773-c540-49cd-8370-c0d5e903c1c2",
   "metadata": {},
   "outputs": [],
   "source": []
  },
  {
   "cell_type": "code",
   "execution_count": null,
   "id": "36d2c2f0-61a8-4fd6-ae2b-0521ccb90712",
   "metadata": {},
   "outputs": [],
   "source": []
  }
 ],
 "metadata": {
  "kernelspec": {
   "display_name": "Python 3 (ipykernel)",
   "language": "python",
   "name": "python3"
  },
  "language_info": {
   "codemirror_mode": {
    "name": "ipython",
    "version": 3
   },
   "file_extension": ".py",
   "mimetype": "text/x-python",
   "name": "python",
   "nbconvert_exporter": "python",
   "pygments_lexer": "ipython3",
   "version": "3.10.0"
  }
 },
 "nbformat": 4,
 "nbformat_minor": 5
}

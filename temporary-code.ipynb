{
 "cells": [
  {
   "cell_type": "code",
   "execution_count": null,
   "id": "71e53969-8fe8-4856-ad4f-f5f226dc409c",
   "metadata": {},
   "outputs": [],
   "source": []
  },
  {
   "cell_type": "code",
   "execution_count": 2,
   "id": "57c2088f-1d0b-4e67-9c5b-eb88dc32a0b3",
   "metadata": {
    "tags": []
   },
   "outputs": [],
   "source": [
    "import pandas as pd"
   ]
  },
  {
   "cell_type": "markdown",
   "id": "6d3b574c-b30a-4ee1-9680-be6a552054e6",
   "metadata": {},
   "source": [
    "## Data imports"
   ]
  },
  {
   "cell_type": "markdown",
   "id": "bca7a9c5-20c1-49b7-97b8-2969ccd46609",
   "metadata": {},
   "source": [
    "# Macro study of the HK listed equities market"
   ]
  },
  {
   "cell_type": "markdown",
   "id": "2468cb87-daf6-469e-8eda-9c1a131364b0",
   "metadata": {},
   "source": [
    "### Macroeconomic indicators / exogenous variables"
   ]
  },
  {
   "cell_type": "markdown",
   "id": "05a8224b-ff22-48d5-932a-43b9ad19fa97",
   "metadata": {},
   "source": [
    "Data frequency is daily, monthly or quarterly. I will regress the daily indicators against daily returns of the HKEX / sectors and repeat similarly for other time frames. "
   ]
  },
  {
   "cell_type": "code",
   "execution_count": 3,
   "id": "f3dce9a4-707d-4f5c-af96-2112e0db1922",
   "metadata": {
    "tags": []
   },
   "outputs": [],
   "source": [
    "AUDUSD = pd.read_csv('data/AUD_USD.csv', index_col=0, parse_dates=True, infer_datetime_format=True)\n",
    "AUDCNY = pd.read_csv('data/AUD_CNY.csv', index_col=0, parse_dates=True, infer_datetime_format=True)\n",
    "\n",
    "CAIXIN = pd.read_csv('data/Caixin_PMI.csv', index_col=0, parse_dates=True, infer_datetime_format=True)\n",
    "CN10Y = pd.read_csv('data/CN_10Y.csv', index_col=0, parse_dates=True, infer_datetime_format=True)\n",
    "CN_GDP = pd.read_csv('data/CN_nominal_GDP.csv', index_col=0, parse_dates=True, infer_datetime_format=True)\n",
    "CN_CPI = pd.read_csv('data/CN_10Y.csv', index_col=0, parse_dates=True, infer_datetime_format=True)\n",
    "\n",
    "US10Y = pd.read_csv('data/US_10Y.csv', index_col=0, parse_dates=True, infer_datetime_format=True)\n",
    "DXY = pd.read_csv('data/DXY.csv', index_col=0, parse_dates=True, infer_datetime_format=True)"
   ]
  },
  {
   "cell_type": "markdown",
   "id": "eda6976c-18d0-42fd-a71c-1959aa8c112a",
   "metadata": {},
   "source": [
    "### Quarterly comparisons to do\n",
    "- CAIXIN, CN_GDP, US_GDP vs HK50 (indexed monthly)\n",
    "\n",
    "### Daily comparisons to do\n",
    "- AUDUSD, AUDCNY, DXY, CN10Y/US10Y differential (adjusted for inflation i.e. real rates) vs HK50 (indexed daily)\n",
    "- each of the individual HSC indices vs HK50 overall. "
   ]
  },
  {
   "cell_type": "code",
   "execution_count": 11,
   "id": "09c08902-edc0-4c0c-b933-870156491a40",
   "metadata": {
    "tags": []
   },
   "outputs": [
    {
     "data": {
      "text/html": [
       "<div>\n",
       "<style scoped>\n",
       "    .dataframe tbody tr th:only-of-type {\n",
       "        vertical-align: middle;\n",
       "    }\n",
       "\n",
       "    .dataframe tbody tr th {\n",
       "        vertical-align: top;\n",
       "    }\n",
       "\n",
       "    .dataframe thead th {\n",
       "        text-align: right;\n",
       "    }\n",
       "</style>\n",
       "<table border=\"1\" class=\"dataframe\">\n",
       "  <thead>\n",
       "    <tr style=\"text-align: right;\">\n",
       "      <th></th>\n",
       "      <th>Price</th>\n",
       "      <th>Open</th>\n",
       "      <th>High</th>\n",
       "      <th>Low</th>\n",
       "      <th>Vol.</th>\n",
       "      <th>Change %</th>\n",
       "    </tr>\n",
       "    <tr>\n",
       "      <th>Date</th>\n",
       "      <th></th>\n",
       "      <th></th>\n",
       "      <th></th>\n",
       "      <th></th>\n",
       "      <th></th>\n",
       "      <th></th>\n",
       "    </tr>\n",
       "  </thead>\n",
       "  <tbody>\n",
       "    <tr>\n",
       "      <th>2000-01-07</th>\n",
       "      <td>100.80</td>\n",
       "      <td>100.49</td>\n",
       "      <td>100.93</td>\n",
       "      <td>100.44</td>\n",
       "      <td>NaN</td>\n",
       "      <td>0.15%</td>\n",
       "    </tr>\n",
       "    <tr>\n",
       "      <th>2000-01-06</th>\n",
       "      <td>100.65</td>\n",
       "      <td>100.31</td>\n",
       "      <td>100.81</td>\n",
       "      <td>99.81</td>\n",
       "      <td>NaN</td>\n",
       "      <td>0.27%</td>\n",
       "    </tr>\n",
       "    <tr>\n",
       "      <th>2000-01-05</th>\n",
       "      <td>100.38</td>\n",
       "      <td>100.42</td>\n",
       "      <td>100.47</td>\n",
       "      <td>99.71</td>\n",
       "      <td>NaN</td>\n",
       "      <td>-0.03%</td>\n",
       "    </tr>\n",
       "    <tr>\n",
       "      <th>2000-01-04</th>\n",
       "      <td>100.41</td>\n",
       "      <td>100.55</td>\n",
       "      <td>100.86</td>\n",
       "      <td>100.01</td>\n",
       "      <td>NaN</td>\n",
       "      <td>0.19%</td>\n",
       "    </tr>\n",
       "    <tr>\n",
       "      <th>2000-01-03</th>\n",
       "      <td>100.22</td>\n",
       "      <td>101.67</td>\n",
       "      <td>101.83</td>\n",
       "      <td>100.19</td>\n",
       "      <td>NaN</td>\n",
       "      <td>-1.62%</td>\n",
       "    </tr>\n",
       "  </tbody>\n",
       "</table>\n",
       "</div>"
      ],
      "text/plain": [
       "             Price    Open    High     Low  Vol. Change %\n",
       "Date                                                     \n",
       "2000-01-07  100.80  100.49  100.93  100.44   NaN    0.15%\n",
       "2000-01-06  100.65  100.31  100.81   99.81   NaN    0.27%\n",
       "2000-01-05  100.38  100.42  100.47   99.71   NaN   -0.03%\n",
       "2000-01-04  100.41  100.55  100.86  100.01   NaN    0.19%\n",
       "2000-01-03  100.22  101.67  101.83  100.19   NaN   -1.62%"
      ]
     },
     "execution_count": 11,
     "metadata": {},
     "output_type": "execute_result"
    }
   ],
   "source": [
    "DXY.tail()"
   ]
  },
  {
   "cell_type": "markdown",
   "id": "27919af0-45e2-4d0e-b0a9-bb1acc882bc7",
   "metadata": {},
   "source": [
    "import HKEX / sector indices"
   ]
  },
  {
   "cell_type": "code",
   "execution_count": 4,
   "id": "bd12c300-66a5-47ac-81d5-850819de9151",
   "metadata": {},
   "outputs": [],
   "source": [
    "HK50 = pd.read_csv('data/HS/HK50.csv', index_col=0, parse_dates=True, infer_datetime_format=True)\n",
    "HSCC = pd.read_csv('data/HS/HSCC.csv', index_col=0, parse_dates=True, infer_datetime_format=True)\n",
    "HSCE = pd.read_csv('data/HS/HSCE.csv', index_col=0, parse_dates=True, infer_datetime_format=True)\n",
    "HSCIC = pd.read_csv('data/HS/HSCIC.csv', index_col=0, parse_dates=True, infer_datetime_format=True)\n",
    "HSCICD = pd.read_csv('data/HS/HSCICD.csv', index_col=0, parse_dates=True, infer_datetime_format=True)\n",
    "HSCICS = pd.read_csv('data/HS/HSCICS.csv', index_col=0, parse_dates=True, infer_datetime_format=True)\n",
    "HSCIE = pd.read_csv('data/HS/HSCIE.csv', index_col=0, parse_dates=True, infer_datetime_format=True)\n",
    "HSCIF = pd.read_csv('data/HS/HSCIF.csv', index_col=0, parse_dates=True, infer_datetime_format=True)\n",
    "HSCIH = pd.read_csv('data/HS/HSCIH.csv', index_col=0, parse_dates=True, infer_datetime_format=True)\n",
    "HSCIIG = pd.read_csv('data/HS/HSCIIG.csv', index_col=0, parse_dates=True, infer_datetime_format=True)\n",
    "HSCIIT = pd.read_csv('data/HS/HSCIIT.csv', index_col=0, parse_dates=True, infer_datetime_format=True)\n",
    "HSCIM = pd.read_csv('data/HS/HSCIM.csv', index_col=0, parse_dates=True, infer_datetime_format=True)\n",
    "HSCIPC = pd.read_csv('data/HS/HSCIPC.csv', index_col=0, parse_dates=True, infer_datetime_format=True)\n",
    "HSCIT = pd.read_csv('data/HS/HSCIT.csv', index_col=0, parse_dates=True, infer_datetime_format=True)\n",
    "HSCIU = pd.read_csv('data/HS/HSCIU.csv', index_col=0, parse_dates=True, infer_datetime_format=True)"
   ]
  },
  {
   "cell_type": "code",
   "execution_count": 5,
   "id": "519d2744-99f6-4d9e-bcbf-c79012afb012",
   "metadata": {
    "tags": []
   },
   "outputs": [
    {
     "data": {
      "text/html": [
       "<div>\n",
       "<style scoped>\n",
       "    .dataframe tbody tr th:only-of-type {\n",
       "        vertical-align: middle;\n",
       "    }\n",
       "\n",
       "    .dataframe tbody tr th {\n",
       "        vertical-align: top;\n",
       "    }\n",
       "\n",
       "    .dataframe thead th {\n",
       "        text-align: right;\n",
       "    }\n",
       "</style>\n",
       "<table border=\"1\" class=\"dataframe\">\n",
       "  <thead>\n",
       "    <tr style=\"text-align: right;\">\n",
       "      <th></th>\n",
       "      <th>Price</th>\n",
       "      <th>Open</th>\n",
       "      <th>High</th>\n",
       "      <th>Low</th>\n",
       "      <th>Vol.</th>\n",
       "      <th>Change %</th>\n",
       "    </tr>\n",
       "    <tr>\n",
       "      <th>Date</th>\n",
       "      <th></th>\n",
       "      <th></th>\n",
       "      <th></th>\n",
       "      <th></th>\n",
       "      <th></th>\n",
       "      <th></th>\n",
       "    </tr>\n",
       "  </thead>\n",
       "  <tbody>\n",
       "    <tr>\n",
       "      <th>2000-12-11</th>\n",
       "      <td>15408.54</td>\n",
       "      <td>15274.07</td>\n",
       "      <td>15438.89</td>\n",
       "      <td>15193.49</td>\n",
       "      <td>NaN</td>\n",
       "      <td>1.44%</td>\n",
       "    </tr>\n",
       "    <tr>\n",
       "      <th>2000-12-08</th>\n",
       "      <td>15189.33</td>\n",
       "      <td>15008.80</td>\n",
       "      <td>15281.81</td>\n",
       "      <td>14968.64</td>\n",
       "      <td>NaN</td>\n",
       "      <td>1.18%</td>\n",
       "    </tr>\n",
       "    <tr>\n",
       "      <th>2000-12-07</th>\n",
       "      <td>15011.52</td>\n",
       "      <td>14982.92</td>\n",
       "      <td>15032.27</td>\n",
       "      <td>14839.38</td>\n",
       "      <td>NaN</td>\n",
       "      <td>-0.58%</td>\n",
       "    </tr>\n",
       "    <tr>\n",
       "      <th>2000-12-06</th>\n",
       "      <td>15098.95</td>\n",
       "      <td>14914.54</td>\n",
       "      <td>15178.27</td>\n",
       "      <td>14914.54</td>\n",
       "      <td>NaN</td>\n",
       "      <td>3.61%</td>\n",
       "    </tr>\n",
       "    <tr>\n",
       "      <th>2000-12-05</th>\n",
       "      <td>14573.21</td>\n",
       "      <td>14602.25</td>\n",
       "      <td>14701.98</td>\n",
       "      <td>14507.50</td>\n",
       "      <td>NaN</td>\n",
       "      <td>0.10%</td>\n",
       "    </tr>\n",
       "  </tbody>\n",
       "</table>\n",
       "</div>"
      ],
      "text/plain": [
       "               Price      Open      High       Low Vol. Change %\n",
       "Date                                                            \n",
       "2000-12-11  15408.54  15274.07  15438.89  15193.49  NaN    1.44%\n",
       "2000-12-08  15189.33  15008.80  15281.81  14968.64  NaN    1.18%\n",
       "2000-12-07  15011.52  14982.92  15032.27  14839.38  NaN   -0.58%\n",
       "2000-12-06  15098.95  14914.54  15178.27  14914.54  NaN    3.61%\n",
       "2000-12-05  14573.21  14602.25  14701.98  14507.50  NaN    0.10%"
      ]
     },
     "execution_count": 5,
     "metadata": {},
     "output_type": "execute_result"
    }
   ],
   "source": [
    "HK50.tail()"
   ]
  },
  {
   "cell_type": "markdown",
   "id": "cc55661c-7a8d-4808-8a57-ff46949ec0e1",
   "metadata": {},
   "source": [
    "If NaNs are present in the data, we should put a number to fix that. To prevent look-ahead bias, we used the fill-forward method and assume that it doesn't introduce extra issues associated with data granularity."
   ]
  },
  {
   "cell_type": "code",
   "execution_count": null,
   "id": "d09fd5a7-6f27-4b50-899f-8955753b8db6",
   "metadata": {},
   "outputs": [],
   "source": []
  },
  {
   "cell_type": "code",
   "execution_count": null,
   "id": "138d7864-e803-45fe-9847-40743e6e54b1",
   "metadata": {},
   "outputs": [],
   "source": []
  },
  {
   "cell_type": "markdown",
   "id": "8d958429-2764-448e-99ec-008fdf07647b",
   "metadata": {},
   "source": [
    "data processing: create a function that computes returns for relevant time series. How to deal with quarterly-indexed time series? Maybe to compare, I'll need code to reindex the daily time series."
   ]
  },
  {
   "cell_type": "code",
   "execution_count": null,
   "id": "1ebe627c-af3d-4211-9e04-25c3e85b8034",
   "metadata": {},
   "outputs": [],
   "source": []
  },
  {
   "cell_type": "code",
   "execution_count": null,
   "id": "e151a563-a47f-48bb-a96e-90daf5e98c85",
   "metadata": {},
   "outputs": [],
   "source": []
  },
  {
   "cell_type": "markdown",
   "id": "6a241795-958d-4392-add2-7515b61748a6",
   "metadata": {},
   "source": [
    "To obtain a better understand of the macroeconomic dependence of the HK market, we will perform linear regression on a variety of indicators. And for each HKEX sector. Regression window will be 1M, 3M and 6M to identify regime changes over time."
   ]
  },
  {
   "cell_type": "code",
   "execution_count": null,
   "id": "1670d773-c540-49cd-8370-c0d5e903c1c2",
   "metadata": {},
   "outputs": [],
   "source": []
  },
  {
   "cell_type": "code",
   "execution_count": null,
   "id": "36d2c2f0-61a8-4fd6-ae2b-0521ccb90712",
   "metadata": {},
   "outputs": [],
   "source": []
  }
 ],
 "metadata": {
  "kernelspec": {
   "display_name": "Python 3 (ipykernel)",
   "language": "python",
   "name": "python3"
  },
  "language_info": {
   "codemirror_mode": {
    "name": "ipython",
    "version": 3
   },
   "file_extension": ".py",
   "mimetype": "text/x-python",
   "name": "python",
   "nbconvert_exporter": "python",
   "pygments_lexer": "ipython3",
   "version": "3.10.0"
  }
 },
 "nbformat": 4,
 "nbformat_minor": 5
}
